{
 "cells": [
  {
   "cell_type": "markdown",
   "metadata": {
    "id": "FgQ8PIGFAJih"
   },
   "source": [
    "# Đồ án: Lập Trình Phân Tích Dữ Liệu\n",
    "----\n",
    "***Bộ dữ liệu: Doanh số bán hàng của cữa hàng AVA SPORT 2/6/2022 - 4/6/2022***\n",
    "\n",
    "**Nhóm 3:**\n",
    "1. Đặng Quốc Toàn - 20051051\n",
    "2. Thạch Thị Thanh Thảo - 20101981\n",
    "3. Phạm Chánh Trực - 20122431\n",
    "4. Phạm Tiến Thành - 20048721\n",
    "5. Nguyễn Tòng - 20077921\n",
    "----"
   ]
  },
  {
   "cell_type": "markdown",
   "metadata": {
    "id": "sC1icd2xAJim"
   },
   "source": [
    "# 1) Thuyết minh dữ liệu\n",
    "---"
   ]
  },
  {
   "cell_type": "markdown",
   "metadata": {
    "id": "5n7Ir28_AaQI"
   },
   "source": [
    "**Giới thiệu về dữ liệu:**"
   ]
  },
  {
   "cell_type": "markdown",
   "metadata": {
    "id": "v0f77AHxAwO8"
   },
   "source": [
    "-\tNguồn dữ liệu từ đâu: Số bán ngày 02/06/2022 - 04/06/2022 của AVA SPORT thuộc tập đoàn Mobile World Investment Corporation (MWG)\n",
    "-\tAi là người thu thập dữ liệu: Thảo thu thập từ công ty MWG\n",
    "-\tThời gian thu nhập là lúc nào: 20/11/2022\n",
    "-\tTại sao thu nhập: vì bộ data trên là số lượng bán tăng giảm của một doanh nghiệp, từ đó chúng ta có cái nhìn sâu hơn về dữ liệu trong doanh nghiệp \n"
   ]
  },
  {
   "cell_type": "markdown",
   "metadata": {
    "id": "0eZ-QYOgA3cD"
   },
   "source": [
    "**Thông tin các thuộc tính của dữ liệu:**"
   ]
  },
  {
   "cell_type": "markdown",
   "metadata": {
    "id": "BpJlirfYBA9T"
   },
   "source": [
    "*1. Mã đơn hàng:* Mỗi đơn hàng là một mã số khác nhau (tránh trùng lặp thông tin khách hàng)\n",
    "\n",
    "*2. Hình thức xuất:*\n",
    "-\tXuất bán hàng Online qua Shopee (bán hàng qua Shopee)\n",
    "-\tXuất bán hàng Online tại siêu thị (đặt hàng online nhận tại siêu thị)\n",
    "-\tXuất bán hàng Online tiết kiệm (mua online giảm giá, giá thấp hơn khi mua tại siêu thị)\n",
    "-\tXuất bán hàng tại siêu thị \n",
    "-\tXuất bán hàng trả góp tại siệu thị\n",
    "-\tXuất bán Online Only tại siêu thị (đặt hàng online đối với sản phẩm chỉ bán online nhận hàng tại siêu thị)\n",
    "-\tXuất bán ưu đãi cho nhân viên (nhân viên của siêu thị sẽ nhận được ưu đãi giảm giá tùy thuộc vào thời gian làm việc)\n",
    "-\tXuất đổi bảo hành tại siêu thị\n",
    "*3. Ngày tạo: thời gian đặt hàng*\n",
    "\n",
    "*4. Tên khách hàng*\n",
    "\n",
    "*5. Phải thu:* tổng sổ tiền của sản phẩm (bao gồm cả phí giao hàng, VAT)\n",
    "\n",
    "*6. Đã thu:* Khách hàng trả trước hoặc cọc\n",
    "\n",
    "*7. Còn nợ:*\n",
    "\n",
    "-\tKhách hàng thanh toán toàn bộ số tiền: 0 \n",
    "-\tKhách hàng đặt cọc hoặc trả trước: phải thu - đã thu = còn nợ\n",
    "-\tKhách hàng chưa thanh toán: còn nợ = phải thu \n",
    "\n",
    "*8. Trạng thái:* đã xuất, chưa xuất\n",
    "\n",
    "*9. Trạng thái giao hàng:* đã giao, chưa giao\n",
    "\n",
    "*10. Trạng thái hủy:* đã hủy, chưa hủy\n",
    "\n",
    "*11. Hình thức thanh toán*\n",
    "\n",
    "*12. Hình thức giao hàng*\n",
    "\n",
    "*13. Khoảng cách giao hàng *\n",
    "\n",
    "*14. Tạo từ hệ thống: CRM, POS, ERP*\n",
    "\n",
    "*15. Thời gian hẹn giao: thời gian sẽ giao hàng cho khách hàng*\n",
    "\n",
    "*16. Ngày xuất hàng: thời gian sản phẩm xuất hàng (dự kiến từ hệ thống)*\n",
    "\n",
    "*17. Mã siêu thị xuất hàng: mã siêu thị đang tồn sản phẩm*\n",
    "\n",
    "*18. Siêu thị xuất:* Siêu thị xuất hàng \n",
    "\n",
    "*19. Mã sản phẩm*\n",
    "\n",
    "*20. Tên sản phẩm*\n",
    "\n",
    "*21. Số lượng*\n",
    "\n",
    "*22. Giá bán*\n",
    "\n",
    "*23. CTKM_1:* chương trình khuyến mãi \n",
    "\n",
    "*24. Nhóm hàng*\n",
    "\n",
    "*25. Nhà sản xuất*\n",
    "\n",
    "*26. Trạng thái hồ sơ*\n",
    "\n",
    "*27. Thời gian thu tiền*\n",
    "\n",
    "*28. Tình trạng nhập trả của sản phẩm đổi với sản phẩm chính*\n",
    "\n",
    "*29. STT_1*\n",
    "\n",
    "\n",
    "*30. Ngày*\n",
    "\n",
    "*31. Onlineline/Cửa Hàng*\n",
    "\n",
    "*32. Tỉnh*\n",
    "\n",
    "*33. Nguồn Đặt Hàng*\n",
    "\n",
    "*34. Giá gốc*\n"
   ]
  },
  {
   "cell_type": "markdown",
   "metadata": {
    "id": "w1V2zVvxAJio"
   },
   "source": [
    "# 2) Những vấn đề mà nhóm muốn tìm hiểu trên bộ dữ liệu này\n",
    "---"
   ]
  },
  {
   "cell_type": "markdown",
   "metadata": {
    "id": "vCYnHmm_ED52"
   },
   "source": [
    "1.\tNgười tiêu dùng thường sẽ mua hàng (giày, dép) qua hình thức nào?\n",
    "2.\tHãng (nhà sản xuất) được ưa chuộng nhất?\n",
    "3.\tNhóm hàng được bán ra nhiều nhất?\n",
    "4.\tSự phân phối của hình thức giao hàng?\n",
    "5.\tSự tương quan giữa giá gốc và giá bán?\n",
    "6.\tDoanh thu theo khu vực (tỉnh)?\n",
    "7.\tPhân tích độ ưa chuộng hãng giày/dép theo thành phố?\n",
    "8.\tTop 10 sản phẩm được chạy nhất hệ thống?\n",
    "9. Cho biết Doanh Thu của cữa hàng theo từng ngày dựa vào nhóm hàng đã được bán ra?\n",
    "10.\tSiêu thị có doanh thu cao nhất theo ngày?\n"
   ]
  },
  {
   "cell_type": "markdown",
   "metadata": {
    "id": "0JrNvI7QAJip"
   },
   "source": [
    "# 3) Các bước xử lý\n",
    "---"
   ]
  },
  {
   "cell_type": "code",
   "execution_count": 1,
   "metadata": {
    "id": "fzD6hv0qAJiq",
    "outputId": "2d152df2-c6e9-48b3-adc0-fc58a13fbe2b"
   },
   "outputs": [
    {
     "data": {
      "text/html": [
       "        <script type=\"text/javascript\">\n",
       "        window.PlotlyConfig = {MathJaxConfig: 'local'};\n",
       "        if (window.MathJax && window.MathJax.Hub && window.MathJax.Hub.Config) {window.MathJax.Hub.Config({SVG: {font: \"STIX-Web\"}});}\n",
       "        if (typeof require !== 'undefined') {\n",
       "        require.undef(\"plotly\");\n",
       "        requirejs.config({\n",
       "            paths: {\n",
       "                'plotly': ['https://cdn.plot.ly/plotly-2.12.1.min']\n",
       "            }\n",
       "        });\n",
       "        require(['plotly'], function(Plotly) {\n",
       "            window._Plotly = Plotly;\n",
       "        });\n",
       "        }\n",
       "        </script>\n",
       "        "
      ]
     },
     "metadata": {},
     "output_type": "display_data"
    }
   ],
   "source": [
    "import pandas as pd\n",
    "import numpy as np\n",
    "import matplotlib.pyplot as plt\n",
    "import seaborn as sns\n",
    "\n",
    "import plotly.offline as py\n",
    "py.init_notebook_mode(connected=True)\n",
    "import plotly.graph_objs as go\n",
    "from plotly import tools\n",
    "import plotly.figure_factory as ff\n",
    "from plotly.offline import init_notebook_mode,iplot\n",
    "import plotly.express as px\n",
    "import plotly.io as pio\n",
    "\n",
    "import warnings\n",
    "warnings.filterwarnings('ignore')\n",
    "\n",
    "%matplotlib inline\n",
    "sns.set(color_codes=True)"
   ]
  },
  {
   "cell_type": "markdown",
   "metadata": {
    "id": "yExwVQXnAJiv"
   },
   "source": [
    "## 3.1) Read Data"
   ]
  },
  {
   "cell_type": "code",
   "execution_count": 2,
   "metadata": {
    "id": "BoE2jBlMAJiw"
   },
   "outputs": [],
   "source": [
    "df =  pd.read_excel(r'D:\\Source Code\\Project Môn Học\\Lập Trình Phân Tích Dữ Liệu\\02-04_06 Giày Dép.xlsx')"
   ]
  },
  {
   "cell_type": "markdown",
   "metadata": {
    "id": "XZho7cleAJix"
   },
   "source": [
    "## 3.2) Data Overview"
   ]
  },
  {
   "cell_type": "code",
   "execution_count": 3,
   "metadata": {
    "id": "lX3F5_TOAJiy",
    "outputId": "e4b78531-1311-4c57-f8a9-55844e616622"
   },
   "outputs": [
    {
     "data": {
      "text/html": [
       "<div>\n",
       "<style scoped>\n",
       "    .dataframe tbody tr th:only-of-type {\n",
       "        vertical-align: middle;\n",
       "    }\n",
       "\n",
       "    .dataframe tbody tr th {\n",
       "        vertical-align: top;\n",
       "    }\n",
       "\n",
       "    .dataframe thead th {\n",
       "        text-align: right;\n",
       "    }\n",
       "</style>\n",
       "<table border=\"1\" class=\"dataframe\">\n",
       "  <thead>\n",
       "    <tr style=\"text-align: right;\">\n",
       "      <th></th>\n",
       "      <th>Mã đơn hàng</th>\n",
       "      <th>Hình thức xuất</th>\n",
       "      <th>Ngày tạo</th>\n",
       "      <th>Tên khách hàng</th>\n",
       "      <th>Phải thu</th>\n",
       "      <th>Đã thu</th>\n",
       "      <th>Còn nợ</th>\n",
       "      <th>Trạng thái xuất</th>\n",
       "      <th>Trạng thái giao hàng</th>\n",
       "      <th>Trạng thái hủy</th>\n",
       "      <th>...</th>\n",
       "      <th>Nhà sản xuất</th>\n",
       "      <th>Trạng thái hồ sơ</th>\n",
       "      <th>Thời gian thu tiền</th>\n",
       "      <th>Tình trạng nhập trả của sản phẩm đổi với sản phẩm chính</th>\n",
       "      <th>STT_1</th>\n",
       "      <th>Ngày</th>\n",
       "      <th>Onlineline/Cửa Hàng</th>\n",
       "      <th>Tỉnh</th>\n",
       "      <th>Nguồn Đặt Hàng</th>\n",
       "      <th>Giá gốc</th>\n",
       "    </tr>\n",
       "  </thead>\n",
       "  <tbody>\n",
       "    <tr>\n",
       "      <th>0</th>\n",
       "      <td>00014SO22068748119</td>\n",
       "      <td>Xuất bán hàng Online tại siêu thị</td>\n",
       "      <td>2022-06-02 23:26:17</td>\n",
       "      <td>Dương Nhựt Tân</td>\n",
       "      <td>796000</td>\n",
       "      <td>796000</td>\n",
       "      <td>0</td>\n",
       "      <td>Đã xuất</td>\n",
       "      <td>Đã giao</td>\n",
       "      <td>Chưa hủy</td>\n",
       "      <td>...</td>\n",
       "      <td>Reebok</td>\n",
       "      <td>1 - Mới</td>\n",
       "      <td>2022-06-05 11:17:25.253</td>\n",
       "      <td>Chưa trả</td>\n",
       "      <td>1</td>\n",
       "      <td>2</td>\n",
       "      <td>Online</td>\n",
       "      <td>Ho Chi Minh</td>\n",
       "      <td>Nhân Viên Tạo</td>\n",
       "      <td>796000</td>\n",
       "    </tr>\n",
       "    <tr>\n",
       "      <th>1</th>\n",
       "      <td>10112SO22060011058</td>\n",
       "      <td>Xuất bán hàng tại siêu thị</td>\n",
       "      <td>2022-06-02 14:13:41</td>\n",
       "      <td>Nguyễn Văn Hòa</td>\n",
       "      <td>2878000</td>\n",
       "      <td>2878000</td>\n",
       "      <td>0</td>\n",
       "      <td>Đã xuất</td>\n",
       "      <td>Đã giao</td>\n",
       "      <td>Chưa hủy</td>\n",
       "      <td>...</td>\n",
       "      <td>Nike</td>\n",
       "      <td>1 - Mới</td>\n",
       "      <td>2022-06-02 14:14:03.805</td>\n",
       "      <td>Chưa trả</td>\n",
       "      <td>2</td>\n",
       "      <td>2</td>\n",
       "      <td>Cửa Hàng</td>\n",
       "      <td>Ho Chi Minh</td>\n",
       "      <td>Nhân Viên Tạo</td>\n",
       "      <td>1903000</td>\n",
       "    </tr>\n",
       "    <tr>\n",
       "      <th>2</th>\n",
       "      <td>10112SO22060011058</td>\n",
       "      <td>Xuất bán hàng tại siêu thị</td>\n",
       "      <td>2022-06-02 14:13:41</td>\n",
       "      <td>Nguyễn Văn Hòa</td>\n",
       "      <td>2878000</td>\n",
       "      <td>2878000</td>\n",
       "      <td>0</td>\n",
       "      <td>Đã xuất</td>\n",
       "      <td>Đã giao</td>\n",
       "      <td>Chưa hủy</td>\n",
       "      <td>...</td>\n",
       "      <td>ADIDAS</td>\n",
       "      <td>1 - Mới</td>\n",
       "      <td>2022-06-02 14:14:03.805</td>\n",
       "      <td>Chưa trả</td>\n",
       "      <td>3</td>\n",
       "      <td>2</td>\n",
       "      <td>Cửa Hàng</td>\n",
       "      <td>Ho Chi Minh</td>\n",
       "      <td>Nhân Viên Tạo</td>\n",
       "      <td>975000</td>\n",
       "    </tr>\n",
       "  </tbody>\n",
       "</table>\n",
       "<p>3 rows × 34 columns</p>\n",
       "</div>"
      ],
      "text/plain": [
       "          Mã đơn hàng                     Hình thức xuất            Ngày tạo  \\\n",
       "0  00014SO22068748119  Xuất bán hàng Online tại siêu thị 2022-06-02 23:26:17   \n",
       "1  10112SO22060011058         Xuất bán hàng tại siêu thị 2022-06-02 14:13:41   \n",
       "2  10112SO22060011058         Xuất bán hàng tại siêu thị 2022-06-02 14:13:41   \n",
       "\n",
       "   Tên khách hàng  Phải thu   Đã thu  Còn nợ Trạng thái xuất  \\\n",
       "0  Dương Nhựt Tân    796000   796000       0         Đã xuất   \n",
       "1  Nguyễn Văn Hòa   2878000  2878000       0         Đã xuất   \n",
       "2  Nguyễn Văn Hòa   2878000  2878000       0         Đã xuất   \n",
       "\n",
       "  Trạng thái giao hàng Trạng thái hủy  ... Nhà sản xuất Trạng thái hồ sơ  \\\n",
       "0              Đã giao       Chưa hủy  ...       Reebok          1 - Mới   \n",
       "1              Đã giao       Chưa hủy  ...         Nike          1 - Mới   \n",
       "2              Đã giao       Chưa hủy  ...       ADIDAS          1 - Mới   \n",
       "\n",
       "       Thời gian thu tiền  \\\n",
       "0 2022-06-05 11:17:25.253   \n",
       "1 2022-06-02 14:14:03.805   \n",
       "2 2022-06-02 14:14:03.805   \n",
       "\n",
       "  Tình trạng nhập trả của sản phẩm đổi với sản phẩm chính STT_1 Ngày  \\\n",
       "0                                           Chưa trả          1    2   \n",
       "1                                           Chưa trả          2    2   \n",
       "2                                           Chưa trả          3    2   \n",
       "\n",
       "   Onlineline/Cửa Hàng         Tỉnh  Nguồn Đặt Hàng  Giá gốc  \n",
       "0               Online  Ho Chi Minh   Nhân Viên Tạo   796000  \n",
       "1             Cửa Hàng  Ho Chi Minh   Nhân Viên Tạo  1903000  \n",
       "2             Cửa Hàng  Ho Chi Minh   Nhân Viên Tạo   975000  \n",
       "\n",
       "[3 rows x 34 columns]"
      ]
     },
     "execution_count": 3,
     "metadata": {},
     "output_type": "execute_result"
    }
   ],
   "source": [
    "# in ra 3 rows đầu tiên\n",
    "df.head(3)"
   ]
  },
  {
   "cell_type": "code",
   "execution_count": 4,
   "metadata": {
    "id": "AO-0M575AJi0",
    "outputId": "0292bcc6-52d0-45ad-8f1a-ca23a34239e9"
   },
   "outputs": [
    {
     "data": {
      "text/html": [
       "<div>\n",
       "<style scoped>\n",
       "    .dataframe tbody tr th:only-of-type {\n",
       "        vertical-align: middle;\n",
       "    }\n",
       "\n",
       "    .dataframe tbody tr th {\n",
       "        vertical-align: top;\n",
       "    }\n",
       "\n",
       "    .dataframe thead th {\n",
       "        text-align: right;\n",
       "    }\n",
       "</style>\n",
       "<table border=\"1\" class=\"dataframe\">\n",
       "  <thead>\n",
       "    <tr style=\"text-align: right;\">\n",
       "      <th></th>\n",
       "      <th>Mã đơn hàng</th>\n",
       "      <th>Hình thức xuất</th>\n",
       "      <th>Ngày tạo</th>\n",
       "      <th>Tên khách hàng</th>\n",
       "      <th>Phải thu</th>\n",
       "      <th>Đã thu</th>\n",
       "      <th>Còn nợ</th>\n",
       "      <th>Trạng thái xuất</th>\n",
       "      <th>Trạng thái giao hàng</th>\n",
       "      <th>Trạng thái hủy</th>\n",
       "      <th>...</th>\n",
       "      <th>Nhà sản xuất</th>\n",
       "      <th>Trạng thái hồ sơ</th>\n",
       "      <th>Thời gian thu tiền</th>\n",
       "      <th>Tình trạng nhập trả của sản phẩm đổi với sản phẩm chính</th>\n",
       "      <th>STT_1</th>\n",
       "      <th>Ngày</th>\n",
       "      <th>Onlineline/Cửa Hàng</th>\n",
       "      <th>Tỉnh</th>\n",
       "      <th>Nguồn Đặt Hàng</th>\n",
       "      <th>Giá gốc</th>\n",
       "    </tr>\n",
       "  </thead>\n",
       "  <tbody>\n",
       "    <tr>\n",
       "      <th>936</th>\n",
       "      <td>10531SO22060000472</td>\n",
       "      <td>Xuất bán hàng tại siêu thị</td>\n",
       "      <td>2022-06-04 20:18:07</td>\n",
       "      <td>CÔNG TY TNHH MỘT THÀNH VIÊN NHIỆT ĐIỆN THỦ ĐỨC</td>\n",
       "      <td>1984000</td>\n",
       "      <td>1984000</td>\n",
       "      <td>0</td>\n",
       "      <td>Đã xuất</td>\n",
       "      <td>Đã giao</td>\n",
       "      <td>Chưa hủy</td>\n",
       "      <td>...</td>\n",
       "      <td>SKECHERS</td>\n",
       "      <td>1 - Mới</td>\n",
       "      <td>2022-06-04 20:18:32.591</td>\n",
       "      <td>Chưa trả</td>\n",
       "      <td>388</td>\n",
       "      <td>4</td>\n",
       "      <td>Cửa Hàng</td>\n",
       "      <td>Ho Chi Minh</td>\n",
       "      <td>Nhân Viên Tạo</td>\n",
       "      <td>1345000</td>\n",
       "    </tr>\n",
       "    <tr>\n",
       "      <th>937</th>\n",
       "      <td>10531SO22060000472</td>\n",
       "      <td>Xuất bán hàng tại siêu thị</td>\n",
       "      <td>2022-06-04 20:18:07</td>\n",
       "      <td>CÔNG TY TNHH MỘT THÀNH VIÊN NHIỆT ĐIỆN THỦ ĐỨC</td>\n",
       "      <td>1984000</td>\n",
       "      <td>1984000</td>\n",
       "      <td>0</td>\n",
       "      <td>Đã xuất</td>\n",
       "      <td>Đã giao</td>\n",
       "      <td>Chưa hủy</td>\n",
       "      <td>...</td>\n",
       "      <td>Anta</td>\n",
       "      <td>1 - Mới</td>\n",
       "      <td>2022-06-04 20:18:32.591</td>\n",
       "      <td>Chưa trả</td>\n",
       "      <td>389</td>\n",
       "      <td>4</td>\n",
       "      <td>Cửa Hàng</td>\n",
       "      <td>Ho Chi Minh</td>\n",
       "      <td>Nhân Viên Tạo</td>\n",
       "      <td>639000</td>\n",
       "    </tr>\n",
       "    <tr>\n",
       "      <th>938</th>\n",
       "      <td>10531SO22060000482</td>\n",
       "      <td>Xuất bán hàng tại siêu thị</td>\n",
       "      <td>2022-06-04 21:49:20</td>\n",
       "      <td>Chị Yến</td>\n",
       "      <td>3262000</td>\n",
       "      <td>3262000</td>\n",
       "      <td>0</td>\n",
       "      <td>Đã xuất</td>\n",
       "      <td>Đã giao</td>\n",
       "      <td>Chưa hủy</td>\n",
       "      <td>...</td>\n",
       "      <td>Puma</td>\n",
       "      <td>1 - Mới</td>\n",
       "      <td>2022-06-04 21:50:46.890</td>\n",
       "      <td>Chưa trả</td>\n",
       "      <td>390</td>\n",
       "      <td>4</td>\n",
       "      <td>Cửa Hàng</td>\n",
       "      <td>Ho Chi Minh</td>\n",
       "      <td>Nhân Viên Tạo</td>\n",
       "      <td>1439000</td>\n",
       "    </tr>\n",
       "    <tr>\n",
       "      <th>939</th>\n",
       "      <td>10531SO22060000482</td>\n",
       "      <td>Xuất bán hàng tại siêu thị</td>\n",
       "      <td>2022-06-04 21:49:20</td>\n",
       "      <td>Chị Yến</td>\n",
       "      <td>3262000</td>\n",
       "      <td>3262000</td>\n",
       "      <td>0</td>\n",
       "      <td>Đã xuất</td>\n",
       "      <td>Đã giao</td>\n",
       "      <td>Chưa hủy</td>\n",
       "      <td>...</td>\n",
       "      <td>Reebok</td>\n",
       "      <td>1 - Mới</td>\n",
       "      <td>2022-06-04 21:50:46.890</td>\n",
       "      <td>Chưa trả</td>\n",
       "      <td>391</td>\n",
       "      <td>4</td>\n",
       "      <td>Cửa Hàng</td>\n",
       "      <td>Ho Chi Minh</td>\n",
       "      <td>Nhân Viên Tạo</td>\n",
       "      <td>1272000</td>\n",
       "    </tr>\n",
       "    <tr>\n",
       "      <th>940</th>\n",
       "      <td>11230SO22060001102</td>\n",
       "      <td>Xuất bán hàng tại siêu thị</td>\n",
       "      <td>2022-06-04 16:08:53</td>\n",
       "      <td>LÊ TẤN NGỌC</td>\n",
       "      <td>3500000</td>\n",
       "      <td>3500000</td>\n",
       "      <td>0</td>\n",
       "      <td>Đã xuất</td>\n",
       "      <td>Đã giao</td>\n",
       "      <td>Chưa hủy</td>\n",
       "      <td>...</td>\n",
       "      <td>ADIDAS</td>\n",
       "      <td>1 - Mới</td>\n",
       "      <td>2022-06-04 16:13:00.981</td>\n",
       "      <td>Chưa trả</td>\n",
       "      <td>392</td>\n",
       "      <td>4</td>\n",
       "      <td>Cửa Hàng</td>\n",
       "      <td>Binh Phuoc</td>\n",
       "      <td>Nhân Viên Tạo</td>\n",
       "      <td>3500000</td>\n",
       "    </tr>\n",
       "  </tbody>\n",
       "</table>\n",
       "<p>5 rows × 34 columns</p>\n",
       "</div>"
      ],
      "text/plain": [
       "            Mã đơn hàng              Hình thức xuất            Ngày tạo  \\\n",
       "936  10531SO22060000472  Xuất bán hàng tại siêu thị 2022-06-04 20:18:07   \n",
       "937  10531SO22060000472  Xuất bán hàng tại siêu thị 2022-06-04 20:18:07   \n",
       "938  10531SO22060000482  Xuất bán hàng tại siêu thị 2022-06-04 21:49:20   \n",
       "939  10531SO22060000482  Xuất bán hàng tại siêu thị 2022-06-04 21:49:20   \n",
       "940  11230SO22060001102  Xuất bán hàng tại siêu thị 2022-06-04 16:08:53   \n",
       "\n",
       "                                     Tên khách hàng  Phải thu   Đã thu  \\\n",
       "936  CÔNG TY TNHH MỘT THÀNH VIÊN NHIỆT ĐIỆN THỦ ĐỨC   1984000  1984000   \n",
       "937  CÔNG TY TNHH MỘT THÀNH VIÊN NHIỆT ĐIỆN THỦ ĐỨC   1984000  1984000   \n",
       "938                                         Chị Yến   3262000  3262000   \n",
       "939                                         Chị Yến   3262000  3262000   \n",
       "940                                     LÊ TẤN NGỌC   3500000  3500000   \n",
       "\n",
       "     Còn nợ Trạng thái xuất Trạng thái giao hàng Trạng thái hủy  ...  \\\n",
       "936       0         Đã xuất              Đã giao       Chưa hủy  ...   \n",
       "937       0         Đã xuất              Đã giao       Chưa hủy  ...   \n",
       "938       0         Đã xuất              Đã giao       Chưa hủy  ...   \n",
       "939       0         Đã xuất              Đã giao       Chưa hủy  ...   \n",
       "940       0         Đã xuất              Đã giao       Chưa hủy  ...   \n",
       "\n",
       "    Nhà sản xuất Trạng thái hồ sơ      Thời gian thu tiền  \\\n",
       "936     SKECHERS          1 - Mới 2022-06-04 20:18:32.591   \n",
       "937         Anta          1 - Mới 2022-06-04 20:18:32.591   \n",
       "938         Puma          1 - Mới 2022-06-04 21:50:46.890   \n",
       "939       Reebok          1 - Mới 2022-06-04 21:50:46.890   \n",
       "940       ADIDAS          1 - Mới 2022-06-04 16:13:00.981   \n",
       "\n",
       "    Tình trạng nhập trả của sản phẩm đổi với sản phẩm chính STT_1 Ngày  \\\n",
       "936                                           Chưa trả        388    4   \n",
       "937                                           Chưa trả        389    4   \n",
       "938                                           Chưa trả        390    4   \n",
       "939                                           Chưa trả        391    4   \n",
       "940                                           Chưa trả        392    4   \n",
       "\n",
       "     Onlineline/Cửa Hàng         Tỉnh  Nguồn Đặt Hàng  Giá gốc  \n",
       "936             Cửa Hàng  Ho Chi Minh   Nhân Viên Tạo  1345000  \n",
       "937             Cửa Hàng  Ho Chi Minh   Nhân Viên Tạo   639000  \n",
       "938             Cửa Hàng  Ho Chi Minh   Nhân Viên Tạo  1439000  \n",
       "939             Cửa Hàng  Ho Chi Minh   Nhân Viên Tạo  1272000  \n",
       "940             Cửa Hàng   Binh Phuoc   Nhân Viên Tạo  3500000  \n",
       "\n",
       "[5 rows x 34 columns]"
      ]
     },
     "execution_count": 4,
     "metadata": {},
     "output_type": "execute_result"
    }
   ],
   "source": [
    "# in ra 3 rows cuối cùng\n",
    "df.tail(5)"
   ]
  },
  {
   "cell_type": "code",
   "execution_count": 5,
   "metadata": {
    "id": "My9Iq8kfAJi1",
    "outputId": "dcdf68cd-d3d3-4adb-fc98-2442235c1e78"
   },
   "outputs": [
    {
     "name": "stdout",
     "output_type": "stream",
     "text": [
      "Dữ liêu có 941 rows, 34 columns\n"
     ]
    }
   ],
   "source": [
    "print(f\"Dữ liêu có {df.shape[0]} rows, {df.shape[1]} columns\")"
   ]
  },
  {
   "cell_type": "code",
   "execution_count": 6,
   "metadata": {
    "id": "gCHUYsiCAJi2",
    "outputId": "238550b8-2d19-47af-e3ba-1190a8492582"
   },
   "outputs": [
    {
     "data": {
      "text/plain": [
       "Index(['Mã đơn hàng', 'Hình thức xuất', 'Ngày tạo', 'Tên khách hàng',\n",
       "       'Phải thu', 'Đã thu', 'Còn nợ', 'Trạng thái xuất',\n",
       "       'Trạng thái giao hàng', 'Trạng thái hủy', 'Hình thức thanh toán',\n",
       "       'Hình thức giao hàng', 'Khoảng cách giao hàng', 'Tạo từ',\n",
       "       'Thời gian hẹn giao', 'Ngày xuất hàng', 'Mã siêu thị xuất hàng',\n",
       "       'Siêu thị xuất', 'Mã sản phẩm', 'Tên sản phẩm', 'Số lượng', 'Giá bán',\n",
       "       'CTKM_1', 'Nhóm hàng', 'Nhà sản xuất', 'Trạng thái hồ sơ',\n",
       "       'Thời gian thu tiền',\n",
       "       'Tình trạng nhập trả của sản phẩm đổi với sản phẩm chính', 'STT_1',\n",
       "       'Ngày', 'Onlineline/Cửa Hàng', 'Tỉnh', 'Nguồn Đặt Hàng', 'Giá gốc'],\n",
       "      dtype='object')"
      ]
     },
     "execution_count": 6,
     "metadata": {},
     "output_type": "execute_result"
    }
   ],
   "source": [
    "# các columns trong datafrane\n",
    "df.columns"
   ]
  },
  {
   "cell_type": "code",
   "execution_count": 7,
   "metadata": {
    "id": "x2rgqkTeAJi4",
    "outputId": "fee7ae7c-bb2b-46fe-b562-a9559a915ed7"
   },
   "outputs": [
    {
     "name": "stdout",
     "output_type": "stream",
     "text": [
      "<class 'pandas.core.frame.DataFrame'>\n",
      "RangeIndex: 941 entries, 0 to 940\n",
      "Data columns (total 34 columns):\n",
      " #   Column                                                   Non-Null Count  Dtype         \n",
      "---  ------                                                   --------------  -----         \n",
      " 0   Mã đơn hàng                                              941 non-null    object        \n",
      " 1   Hình thức xuất                                           941 non-null    object        \n",
      " 2   Ngày tạo                                                 941 non-null    datetime64[ns]\n",
      " 3   Tên khách hàng                                           941 non-null    object        \n",
      " 4   Phải thu                                                 941 non-null    int64         \n",
      " 5   Đã thu                                                   941 non-null    int64         \n",
      " 6   Còn nợ                                                   941 non-null    int64         \n",
      " 7   Trạng thái xuất                                          941 non-null    object        \n",
      " 8   Trạng thái giao hàng                                     941 non-null    object        \n",
      " 9   Trạng thái hủy                                           941 non-null    object        \n",
      " 10  Hình thức thanh toán                                     941 non-null    object        \n",
      " 11  Hình thức giao hàng                                      941 non-null    object        \n",
      " 12  Khoảng cách giao hàng                                    941 non-null    float64       \n",
      " 13  Tạo từ                                                   941 non-null    object        \n",
      " 14  Thời gian hẹn giao                                       941 non-null    datetime64[ns]\n",
      " 15  Ngày xuất hàng                                           713 non-null    datetime64[ns]\n",
      " 16  Mã siêu thị xuất hàng                                    941 non-null    int64         \n",
      " 17  Siêu thị xuất                                            941 non-null    object        \n",
      " 18  Mã sản phẩm                                              941 non-null    int64         \n",
      " 19  Tên sản phẩm                                             941 non-null    object        \n",
      " 20  Số lượng                                                 941 non-null    int64         \n",
      " 21  Giá bán                                                  941 non-null    int64         \n",
      " 22  CTKM_1                                                   0 non-null      float64       \n",
      " 23  Nhóm hàng                                                941 non-null    object        \n",
      " 24  Nhà sản xuất                                             941 non-null    object        \n",
      " 25  Trạng thái hồ sơ                                         941 non-null    object        \n",
      " 26  Thời gian thu tiền                                       815 non-null    datetime64[ns]\n",
      " 27  Tình trạng nhập trả của sản phẩm đổi với sản phẩm chính  941 non-null    object        \n",
      " 28  STT_1                                                    941 non-null    int64         \n",
      " 29  Ngày                                                     941 non-null    int64         \n",
      " 30  Onlineline/Cửa Hàng                                      941 non-null    object        \n",
      " 31  Tỉnh                                                     941 non-null    object        \n",
      " 32  Nguồn Đặt Hàng                                           941 non-null    object        \n",
      " 33  Giá gốc                                                  941 non-null    int64         \n",
      "dtypes: datetime64[ns](4), float64(2), int64(10), object(18)\n",
      "memory usage: 250.1+ KB\n"
     ]
    }
   ],
   "source": [
    "# Tổng quan giá trị non-null(không null) và type của columns\n",
    "df.info()"
   ]
  },
  {
   "cell_type": "code",
   "execution_count": 8,
   "metadata": {
    "id": "fwif3WNGAJi4",
    "outputId": "0c97ffd7-26e5-4064-db08-6abfbd574070"
   },
   "outputs": [
    {
     "data": {
      "text/html": [
       "<div>\n",
       "<style scoped>\n",
       "    .dataframe tbody tr th:only-of-type {\n",
       "        vertical-align: middle;\n",
       "    }\n",
       "\n",
       "    .dataframe tbody tr th {\n",
       "        vertical-align: top;\n",
       "    }\n",
       "\n",
       "    .dataframe thead th {\n",
       "        text-align: right;\n",
       "    }\n",
       "</style>\n",
       "<table border=\"1\" class=\"dataframe\">\n",
       "  <thead>\n",
       "    <tr style=\"text-align: right;\">\n",
       "      <th></th>\n",
       "      <th>Phải thu</th>\n",
       "      <th>Đã thu</th>\n",
       "      <th>Còn nợ</th>\n",
       "      <th>Khoảng cách giao hàng</th>\n",
       "      <th>Mã siêu thị xuất hàng</th>\n",
       "      <th>Mã sản phẩm</th>\n",
       "      <th>Số lượng</th>\n",
       "      <th>Giá bán</th>\n",
       "      <th>CTKM_1</th>\n",
       "      <th>STT_1</th>\n",
       "      <th>Ngày</th>\n",
       "      <th>Giá gốc</th>\n",
       "    </tr>\n",
       "  </thead>\n",
       "  <tbody>\n",
       "    <tr>\n",
       "      <th>count</th>\n",
       "      <td>9.410000e+02</td>\n",
       "      <td>9.410000e+02</td>\n",
       "      <td>9.410000e+02</td>\n",
       "      <td>941.000000</td>\n",
       "      <td>941.000000</td>\n",
       "      <td>9.410000e+02</td>\n",
       "      <td>941.000000</td>\n",
       "      <td>9.410000e+02</td>\n",
       "      <td>0.0</td>\n",
       "      <td>941.000000</td>\n",
       "      <td>941.000000</td>\n",
       "      <td>9.410000e+02</td>\n",
       "    </tr>\n",
       "    <tr>\n",
       "      <th>mean</th>\n",
       "      <td>1.949960e+06</td>\n",
       "      <td>1.287079e+06</td>\n",
       "      <td>6.628810e+05</td>\n",
       "      <td>2.698980</td>\n",
       "      <td>10615.853348</td>\n",
       "      <td>1.414977e+12</td>\n",
       "      <td>1.013815</td>\n",
       "      <td>1.269100e+06</td>\n",
       "      <td>NaN</td>\n",
       "      <td>163.882040</td>\n",
       "      <td>3.166844</td>\n",
       "      <td>1.257371e+06</td>\n",
       "    </tr>\n",
       "    <tr>\n",
       "      <th>std</th>\n",
       "      <td>2.264407e+06</td>\n",
       "      <td>1.288735e+06</td>\n",
       "      <td>2.274836e+06</td>\n",
       "      <td>5.953326</td>\n",
       "      <td>696.419183</td>\n",
       "      <td>6.881783e+07</td>\n",
       "      <td>0.125564</td>\n",
       "      <td>6.639913e+05</td>\n",
       "      <td>NaN</td>\n",
       "      <td>101.087669</td>\n",
       "      <td>0.799472</td>\n",
       "      <td>6.594805e+05</td>\n",
       "    </tr>\n",
       "    <tr>\n",
       "      <th>min</th>\n",
       "      <td>2.950000e+05</td>\n",
       "      <td>0.000000e+00</td>\n",
       "      <td>0.000000e+00</td>\n",
       "      <td>0.000000</td>\n",
       "      <td>9764.000000</td>\n",
       "      <td>1.414964e+12</td>\n",
       "      <td>1.000000</td>\n",
       "      <td>2.950000e+05</td>\n",
       "      <td>NaN</td>\n",
       "      <td>1.000000</td>\n",
       "      <td>2.000000</td>\n",
       "      <td>2.950000e+05</td>\n",
       "    </tr>\n",
       "    <tr>\n",
       "      <th>25%</th>\n",
       "      <td>9.590000e+05</td>\n",
       "      <td>0.000000e+00</td>\n",
       "      <td>0.000000e+00</td>\n",
       "      <td>0.000000</td>\n",
       "      <td>10112.000000</td>\n",
       "      <td>1.414964e+12</td>\n",
       "      <td>1.000000</td>\n",
       "      <td>7.800000e+05</td>\n",
       "      <td>NaN</td>\n",
       "      <td>79.000000</td>\n",
       "      <td>3.000000</td>\n",
       "      <td>7.640000e+05</td>\n",
       "    </tr>\n",
       "    <tr>\n",
       "      <th>50%</th>\n",
       "      <td>1.314000e+06</td>\n",
       "      <td>1.094000e+06</td>\n",
       "      <td>0.000000e+00</td>\n",
       "      <td>0.000000</td>\n",
       "      <td>10145.000000</td>\n",
       "      <td>1.414965e+12</td>\n",
       "      <td>1.000000</td>\n",
       "      <td>1.134000e+06</td>\n",
       "      <td>NaN</td>\n",
       "      <td>157.000000</td>\n",
       "      <td>3.000000</td>\n",
       "      <td>1.119000e+06</td>\n",
       "    </tr>\n",
       "    <tr>\n",
       "      <th>75%</th>\n",
       "      <td>2.222000e+06</td>\n",
       "      <td>1.849000e+06</td>\n",
       "      <td>3.020000e+05</td>\n",
       "      <td>0.950000</td>\n",
       "      <td>11230.000000</td>\n",
       "      <td>1.414965e+12</td>\n",
       "      <td>1.000000</td>\n",
       "      <td>1.649000e+06</td>\n",
       "      <td>NaN</td>\n",
       "      <td>236.000000</td>\n",
       "      <td>4.000000</td>\n",
       "      <td>1.624000e+06</td>\n",
       "    </tr>\n",
       "    <tr>\n",
       "      <th>max</th>\n",
       "      <td>1.697300e+07</td>\n",
       "      <td>9.555000e+06</td>\n",
       "      <td>1.697300e+07</td>\n",
       "      <td>49.950001</td>\n",
       "      <td>11711.000000</td>\n",
       "      <td>1.415402e+12</td>\n",
       "      <td>3.000000</td>\n",
       "      <td>3.750000e+06</td>\n",
       "      <td>NaN</td>\n",
       "      <td>392.000000</td>\n",
       "      <td>4.000000</td>\n",
       "      <td>3.750000e+06</td>\n",
       "    </tr>\n",
       "  </tbody>\n",
       "</table>\n",
       "</div>"
      ],
      "text/plain": [
       "           Phải thu        Đã thu        Còn nợ  Khoảng cách giao hàng  \\\n",
       "count  9.410000e+02  9.410000e+02  9.410000e+02             941.000000   \n",
       "mean   1.949960e+06  1.287079e+06  6.628810e+05               2.698980   \n",
       "std    2.264407e+06  1.288735e+06  2.274836e+06               5.953326   \n",
       "min    2.950000e+05  0.000000e+00  0.000000e+00               0.000000   \n",
       "25%    9.590000e+05  0.000000e+00  0.000000e+00               0.000000   \n",
       "50%    1.314000e+06  1.094000e+06  0.000000e+00               0.000000   \n",
       "75%    2.222000e+06  1.849000e+06  3.020000e+05               0.950000   \n",
       "max    1.697300e+07  9.555000e+06  1.697300e+07              49.950001   \n",
       "\n",
       "       Mã siêu thị xuất hàng   Mã sản phẩm    Số lượng       Giá bán  CTKM_1  \\\n",
       "count             941.000000  9.410000e+02  941.000000  9.410000e+02     0.0   \n",
       "mean            10615.853348  1.414977e+12    1.013815  1.269100e+06     NaN   \n",
       "std               696.419183  6.881783e+07    0.125564  6.639913e+05     NaN   \n",
       "min              9764.000000  1.414964e+12    1.000000  2.950000e+05     NaN   \n",
       "25%             10112.000000  1.414964e+12    1.000000  7.800000e+05     NaN   \n",
       "50%             10145.000000  1.414965e+12    1.000000  1.134000e+06     NaN   \n",
       "75%             11230.000000  1.414965e+12    1.000000  1.649000e+06     NaN   \n",
       "max             11711.000000  1.415402e+12    3.000000  3.750000e+06     NaN   \n",
       "\n",
       "            STT_1        Ngày       Giá gốc  \n",
       "count  941.000000  941.000000  9.410000e+02  \n",
       "mean   163.882040    3.166844  1.257371e+06  \n",
       "std    101.087669    0.799472  6.594805e+05  \n",
       "min      1.000000    2.000000  2.950000e+05  \n",
       "25%     79.000000    3.000000  7.640000e+05  \n",
       "50%    157.000000    3.000000  1.119000e+06  \n",
       "75%    236.000000    4.000000  1.624000e+06  \n",
       "max    392.000000    4.000000  3.750000e+06  "
      ]
     },
     "execution_count": 8,
     "metadata": {},
     "output_type": "execute_result"
    }
   ],
   "source": [
    "#Statistical description (Mô tả thống kê của các biến số)\n",
    "df.describe()"
   ]
  },
  {
   "cell_type": "markdown",
   "metadata": {
    "id": "PGTesYKcAJi6"
   },
   "source": [
    "## 3.3) Dropping irrelevant columns"
   ]
  },
  {
   "cell_type": "code",
   "execution_count": 9,
   "metadata": {
    "id": "O-GROfSBAJi7"
   },
   "outputs": [],
   "source": [
    "# drop một số column không quan trọng\n",
    "df = df.drop(['Ngày','Tình trạng nhập trả của sản phẩm đổi với sản phẩm chính','Khoảng cách giao hàng','Mã siêu thị xuất hàng','Còn nợ'], axis=1)"
   ]
  },
  {
   "cell_type": "markdown",
   "metadata": {
    "id": "plKksvORAJi7"
   },
   "source": [
    "## 3.4) Xử Lý giá trị null và giá trị trùng lặp"
   ]
  },
  {
   "cell_type": "code",
   "execution_count": 10,
   "metadata": {
    "id": "R1HQ6PesAJi8",
    "outputId": "9518ff1c-f517-4323-adc8-6b4d1c03c3a5"
   },
   "outputs": [
    {
     "name": "stdout",
     "output_type": "stream",
     "text": [
      "False    941\n",
      "dtype: int64\n",
      "---> Không có rows trùng nhau.\n",
      "*******************************\n",
      "number of duplicate rows:  (0, 29)\n"
     ]
    }
   ],
   "source": [
    "# Kiểm tra Số lượng giá trị lặp trong rows\n",
    "check = df.duplicated().value_counts()\n",
    "print(check)\n",
    "if check.index == False:\n",
    "    print(\"---> Không có rows trùng nhau.\")\n",
    "# Hoặc là\n",
    "print(\"*******************************\")\n",
    "duplicate_rows_df = df[df.duplicated()]\n",
    "print(\"number of duplicate rows: \", duplicate_rows_df.shape)"
   ]
  },
  {
   "cell_type": "code",
   "execution_count": 11,
   "metadata": {
    "id": "9eg8yp9WAJi8",
    "outputId": "f2c82393-6b63-4278-85bb-cfaccbf6787c"
   },
   "outputs": [
    {
     "name": "stdout",
     "output_type": "stream",
     "text": [
      "Mã đơn hàng               0\n",
      "Hình thức xuất            0\n",
      "Ngày tạo                  0\n",
      "Tên khách hàng            0\n",
      "Phải thu                  0\n",
      "Đã thu                    0\n",
      "Trạng thái xuất           0\n",
      "Trạng thái giao hàng      0\n",
      "Trạng thái hủy            0\n",
      "Hình thức thanh toán      0\n",
      "Hình thức giao hàng       0\n",
      "Tạo từ                    0\n",
      "Thời gian hẹn giao        0\n",
      "Ngày xuất hàng          228\n",
      "Siêu thị xuất             0\n",
      "Mã sản phẩm               0\n",
      "Tên sản phẩm              0\n",
      "Số lượng                  0\n",
      "Giá bán                   0\n",
      "CTKM_1                  941\n",
      "Nhóm hàng                 0\n",
      "Nhà sản xuất              0\n",
      "Trạng thái hồ sơ          0\n",
      "Thời gian thu tiền      126\n",
      "STT_1                     0\n",
      "Onlineline/Cửa Hàng       0\n",
      "Tỉnh                      0\n",
      "Nguồn Đặt Hàng            0\n",
      "Giá gốc                   0\n",
      "dtype: int64\n"
     ]
    }
   ],
   "source": [
    "# Thống kê số lượng null theo cột\n",
    "print(df.isnull().sum())"
   ]
  },
  {
   "cell_type": "code",
   "execution_count": 12,
   "metadata": {
    "id": "P-xvWM0nAJi9",
    "outputId": "b5d8fb90-dd20-4198-bb41-6413881a47a5"
   },
   "outputs": [
    {
     "name": "stdout",
     "output_type": "stream",
     "text": [
      "File dữ liệu bao gồm có: 29 cột.\n",
      "--> Có 3 cột chứa missing values.\n"
     ]
    },
    {
     "data": {
      "text/html": [
       "<div>\n",
       "<style scoped>\n",
       "    .dataframe tbody tr th:only-of-type {\n",
       "        vertical-align: middle;\n",
       "    }\n",
       "\n",
       "    .dataframe tbody tr th {\n",
       "        vertical-align: top;\n",
       "    }\n",
       "\n",
       "    .dataframe thead th {\n",
       "        text-align: right;\n",
       "    }\n",
       "</style>\n",
       "<table border=\"1\" class=\"dataframe\">\n",
       "  <thead>\n",
       "    <tr style=\"text-align: right;\">\n",
       "      <th></th>\n",
       "      <th>Số giá trị Missing</th>\n",
       "      <th>Tỷ lệ % missing</th>\n",
       "    </tr>\n",
       "  </thead>\n",
       "  <tbody>\n",
       "    <tr>\n",
       "      <th>CTKM_1</th>\n",
       "      <td>941</td>\n",
       "      <td>100.0</td>\n",
       "    </tr>\n",
       "    <tr>\n",
       "      <th>Ngày xuất hàng</th>\n",
       "      <td>228</td>\n",
       "      <td>24.2</td>\n",
       "    </tr>\n",
       "    <tr>\n",
       "      <th>Thời gian thu tiền</th>\n",
       "      <td>126</td>\n",
       "      <td>13.4</td>\n",
       "    </tr>\n",
       "  </tbody>\n",
       "</table>\n",
       "</div>"
      ],
      "text/plain": [
       "                    Số giá trị Missing  Tỷ lệ % missing\n",
       "CTKM_1                             941            100.0\n",
       "Ngày xuất hàng                     228             24.2\n",
       "Thời gian thu tiền                 126             13.4"
      ]
     },
     "execution_count": 12,
     "metadata": {},
     "output_type": "execute_result"
    }
   ],
   "source": [
    "#check Tỷ lệ % dữ liệu missing trên tổng số dữ liệu của cột\n",
    "def missing_values(df):\n",
    "        mis_val = df.isnull().sum()\n",
    "        mis_val_percent = 100 * df.isnull().sum() / len(df)\n",
    "        mis_val_table = pd.concat([mis_val, mis_val_percent], axis=1)\n",
    "        mis_val_table_ren_columns = mis_val_table.rename(\n",
    "        columns = {0 : 'Số giá trị Missing', 1 : 'Tỷ lệ % missing'})\n",
    "        mis_val_table_ren_columns = mis_val_table_ren_columns[\n",
    "            mis_val_table_ren_columns.iloc[:,1] != 0].sort_values(\n",
    "        'Tỷ lệ % missing', ascending=False).round(1)\n",
    "        print (\"File dữ liệu bao gồm có: \" + str(df.shape[1]) + \" cột.\\n\"      \n",
    "            \"--> Có \" + str(mis_val_table_ren_columns.shape[0]) +\n",
    "              \" cột chứa missing values.\")\n",
    "        return mis_val_table_ren_columns\n",
    "\n",
    "#Check dữ liệu missing trong DataFrame: data_temp\n",
    "missing_values(df)"
   ]
  },
  {
   "cell_type": "code",
   "execution_count": 13,
   "metadata": {
    "id": "RXcq2etcAJi-",
    "outputId": "a95641be-fc56-410f-961d-e3136a2f5207"
   },
   "outputs": [
    {
     "name": "stdout",
     "output_type": "stream",
     "text": [
      "List of dropped columns: CTKM_1, \n",
      "\n"
     ]
    }
   ],
   "source": [
    "# drop 1 số columns có giá trị null > 30% (như ta thấy đó là columns CTKM_1)\n",
    "df2 = df[[column for column in df if df[column].count() / len(df) >= 0.3]]\n",
    "print(\"List of dropped columns:\", end=\" \")\n",
    "for c in df.columns:\n",
    "    if c not in df2.columns:\n",
    "        print(c, end=\", \")\n",
    "print('\\n')\n",
    "df = df2"
   ]
  },
  {
   "cell_type": "code",
   "execution_count": 14,
   "metadata": {
    "id": "mq8cOr_IAJi_"
   },
   "outputs": [],
   "source": [
    "# Đối với columns Ngày xuất hàng và thời gian thu tiền thì tỉ lệ % mising value không quá cao nên mình sẽ thay thể nó bằng str Unknown\n",
    "value = 'Unknown'\n",
    "df['Ngày xuất hàng'] = df['Ngày xuất hàng'].fillna(value=value)\n",
    "df['Thời gian thu tiền'] = df['Thời gian thu tiền'].fillna(value=value)"
   ]
  },
  {
   "cell_type": "code",
   "execution_count": 15,
   "metadata": {
    "id": "dKVZbH3qAJjA",
    "outputId": "731baaa6-b1e6-4b0f-cf9f-29df0492ba68"
   },
   "outputs": [
    {
     "name": "stdout",
     "output_type": "stream",
     "text": [
      "File dữ liệu bao gồm có: 28 cột.\n",
      "--> Có 0 cột chứa missing values.\n"
     ]
    },
    {
     "data": {
      "text/html": [
       "<div>\n",
       "<style scoped>\n",
       "    .dataframe tbody tr th:only-of-type {\n",
       "        vertical-align: middle;\n",
       "    }\n",
       "\n",
       "    .dataframe tbody tr th {\n",
       "        vertical-align: top;\n",
       "    }\n",
       "\n",
       "    .dataframe thead th {\n",
       "        text-align: right;\n",
       "    }\n",
       "</style>\n",
       "<table border=\"1\" class=\"dataframe\">\n",
       "  <thead>\n",
       "    <tr style=\"text-align: right;\">\n",
       "      <th></th>\n",
       "      <th>Số giá trị Missing</th>\n",
       "      <th>Tỷ lệ % missing</th>\n",
       "    </tr>\n",
       "  </thead>\n",
       "  <tbody>\n",
       "  </tbody>\n",
       "</table>\n",
       "</div>"
      ],
      "text/plain": [
       "Empty DataFrame\n",
       "Columns: [Số giá trị Missing, Tỷ lệ % missing]\n",
       "Index: []"
      ]
     },
     "execution_count": 15,
     "metadata": {},
     "output_type": "execute_result"
    }
   ],
   "source": [
    "# Kiểm tra lại xem còn giá trị nào null nữa không ?\n",
    "missing_values(df)"
   ]
  },
  {
   "cell_type": "markdown",
   "metadata": {
    "id": "3o0VTOM-AJjB"
   },
   "source": [
    "## 3.5) Xử lý giá trị Outliers"
   ]
  },
  {
   "cell_type": "code",
   "execution_count": 16,
   "metadata": {
    "id": "HPhy7USEAJjB",
    "outputId": "ad4c18d0-733f-4a52-f9c9-42d4f7569114"
   },
   "outputs": [
    {
     "data": {
      "text/html": [
       "<div>\n",
       "<style scoped>\n",
       "    .dataframe tbody tr th:only-of-type {\n",
       "        vertical-align: middle;\n",
       "    }\n",
       "\n",
       "    .dataframe tbody tr th {\n",
       "        vertical-align: top;\n",
       "    }\n",
       "\n",
       "    .dataframe thead th {\n",
       "        text-align: right;\n",
       "    }\n",
       "</style>\n",
       "<table border=\"1\" class=\"dataframe\">\n",
       "  <thead>\n",
       "    <tr style=\"text-align: right;\">\n",
       "      <th></th>\n",
       "      <th>Phải thu</th>\n",
       "      <th>Đã thu</th>\n",
       "      <th>Mã sản phẩm</th>\n",
       "      <th>Số lượng</th>\n",
       "      <th>Giá bán</th>\n",
       "      <th>STT_1</th>\n",
       "      <th>Giá gốc</th>\n",
       "    </tr>\n",
       "  </thead>\n",
       "  <tbody>\n",
       "    <tr>\n",
       "      <th>count</th>\n",
       "      <td>9.410000e+02</td>\n",
       "      <td>9.410000e+02</td>\n",
       "      <td>9.410000e+02</td>\n",
       "      <td>941.000000</td>\n",
       "      <td>9.410000e+02</td>\n",
       "      <td>941.000000</td>\n",
       "      <td>9.410000e+02</td>\n",
       "    </tr>\n",
       "    <tr>\n",
       "      <th>mean</th>\n",
       "      <td>1.949960e+06</td>\n",
       "      <td>1.287079e+06</td>\n",
       "      <td>1.414977e+12</td>\n",
       "      <td>1.013815</td>\n",
       "      <td>1.269100e+06</td>\n",
       "      <td>163.882040</td>\n",
       "      <td>1.257371e+06</td>\n",
       "    </tr>\n",
       "    <tr>\n",
       "      <th>std</th>\n",
       "      <td>2.264407e+06</td>\n",
       "      <td>1.288735e+06</td>\n",
       "      <td>6.881783e+07</td>\n",
       "      <td>0.125564</td>\n",
       "      <td>6.639913e+05</td>\n",
       "      <td>101.087669</td>\n",
       "      <td>6.594805e+05</td>\n",
       "    </tr>\n",
       "    <tr>\n",
       "      <th>min</th>\n",
       "      <td>2.950000e+05</td>\n",
       "      <td>0.000000e+00</td>\n",
       "      <td>1.414964e+12</td>\n",
       "      <td>1.000000</td>\n",
       "      <td>2.950000e+05</td>\n",
       "      <td>1.000000</td>\n",
       "      <td>2.950000e+05</td>\n",
       "    </tr>\n",
       "    <tr>\n",
       "      <th>25%</th>\n",
       "      <td>9.590000e+05</td>\n",
       "      <td>0.000000e+00</td>\n",
       "      <td>1.414964e+12</td>\n",
       "      <td>1.000000</td>\n",
       "      <td>7.800000e+05</td>\n",
       "      <td>79.000000</td>\n",
       "      <td>7.640000e+05</td>\n",
       "    </tr>\n",
       "    <tr>\n",
       "      <th>50%</th>\n",
       "      <td>1.314000e+06</td>\n",
       "      <td>1.094000e+06</td>\n",
       "      <td>1.414965e+12</td>\n",
       "      <td>1.000000</td>\n",
       "      <td>1.134000e+06</td>\n",
       "      <td>157.000000</td>\n",
       "      <td>1.119000e+06</td>\n",
       "    </tr>\n",
       "    <tr>\n",
       "      <th>75%</th>\n",
       "      <td>2.222000e+06</td>\n",
       "      <td>1.849000e+06</td>\n",
       "      <td>1.414965e+12</td>\n",
       "      <td>1.000000</td>\n",
       "      <td>1.649000e+06</td>\n",
       "      <td>236.000000</td>\n",
       "      <td>1.624000e+06</td>\n",
       "    </tr>\n",
       "    <tr>\n",
       "      <th>max</th>\n",
       "      <td>1.697300e+07</td>\n",
       "      <td>9.555000e+06</td>\n",
       "      <td>1.415402e+12</td>\n",
       "      <td>3.000000</td>\n",
       "      <td>3.750000e+06</td>\n",
       "      <td>392.000000</td>\n",
       "      <td>3.750000e+06</td>\n",
       "    </tr>\n",
       "  </tbody>\n",
       "</table>\n",
       "</div>"
      ],
      "text/plain": [
       "           Phải thu        Đã thu   Mã sản phẩm    Số lượng       Giá bán  \\\n",
       "count  9.410000e+02  9.410000e+02  9.410000e+02  941.000000  9.410000e+02   \n",
       "mean   1.949960e+06  1.287079e+06  1.414977e+12    1.013815  1.269100e+06   \n",
       "std    2.264407e+06  1.288735e+06  6.881783e+07    0.125564  6.639913e+05   \n",
       "min    2.950000e+05  0.000000e+00  1.414964e+12    1.000000  2.950000e+05   \n",
       "25%    9.590000e+05  0.000000e+00  1.414964e+12    1.000000  7.800000e+05   \n",
       "50%    1.314000e+06  1.094000e+06  1.414965e+12    1.000000  1.134000e+06   \n",
       "75%    2.222000e+06  1.849000e+06  1.414965e+12    1.000000  1.649000e+06   \n",
       "max    1.697300e+07  9.555000e+06  1.415402e+12    3.000000  3.750000e+06   \n",
       "\n",
       "            STT_1       Giá gốc  \n",
       "count  941.000000  9.410000e+02  \n",
       "mean   163.882040  1.257371e+06  \n",
       "std    101.087669  6.594805e+05  \n",
       "min      1.000000  2.950000e+05  \n",
       "25%     79.000000  7.640000e+05  \n",
       "50%    157.000000  1.119000e+06  \n",
       "75%    236.000000  1.624000e+06  \n",
       "max    392.000000  3.750000e+06  "
      ]
     },
     "execution_count": 16,
     "metadata": {},
     "output_type": "execute_result"
    }
   ],
   "source": [
    "# Xem phân phối chung của các biến số\n",
    "df.describe()"
   ]
  },
  {
   "cell_type": "code",
   "execution_count": 17,
   "metadata": {
    "id": "nmU2bk_eAJjB",
    "outputId": "1ddb23fd-7908-4287-d466-70d9aa66cd1e"
   },
   "outputs": [
    {
     "data": {
      "image/png": "[encoded data removed]",
      "text/plain": [
       "<Figure size 1800x900 with 1 Axes>"
      ]
     },
     "metadata": {},
     "output_type": "display_data"
    }
   ],
   "source": [
    "# Kiểm tra giá trị outliers bằng boxplot\n",
    "num_cols = ['Phải thu','Đã thu','Số lượng','Giá bán','Giá gốc']\n",
    "plt.figure(figsize=(18,9))\n",
    "df[num_cols].boxplot()\n",
    "plt.title(\"Values Outliers\", fontsize=20)\n",
    "plt.show()"
   ]
  },
  {
   "cell_type": "code",
   "execution_count": 18,
   "metadata": {
    "id": "N_bkxZ3ZAJjC",
    "outputId": "d58527c3-ca28-42ac-d339-ff825895fd4f"
   },
   "outputs": [
    {
     "name": "stdout",
     "output_type": "stream",
     "text": [
      "Phải thu       1263000.0\n",
      "Đã thu         1849000.0\n",
      "Mã sản phẩm    1000010.0\n",
      "Số lượng             0.0\n",
      "Giá bán         869000.0\n",
      "STT_1              157.0\n",
      "Giá gốc         860000.0\n",
      "dtype: float64\n"
     ]
    }
   ],
   "source": [
    "# Sử dụng phương pháp IQR\n",
    "Q1 = df.quantile(0.25)\n",
    "Q3 = df.quantile(0.75)\n",
    "IQR = Q3 - Q1\n",
    "print(IQR)"
   ]
  },
  {
   "cell_type": "code",
   "execution_count": 19,
   "metadata": {
    "id": "t9eOt8m2AJjC",
    "outputId": "0c473fbb-cad6-4db8-b5e2-886c894e1cd9"
   },
   "outputs": [
    {
     "name": "stdout",
     "output_type": "stream",
     "text": [
      "Ngày tạo\n",
      "Thời gian hẹn giao\n"
     ]
    }
   ],
   "source": [
    "# thay đổi type 1 số column để có thể dùng phương pháp IQR\n",
    "for column in df.columns:\n",
    "    if df[column].dtype == 'datetime64[ns]':\n",
    "        df[column] = df[column].astype('object')\n",
    "        print(column)"
   ]
  },
  {
   "cell_type": "code",
   "execution_count": 20,
   "metadata": {
    "id": "5oMpGF5sAJjD",
    "outputId": "4c7f4625-7db4-4925-e7d7-201733de4a91"
   },
   "outputs": [
    {
     "data": {
      "text/plain": [
       "(754, 28)"
      ]
     },
     "execution_count": 20,
     "metadata": {},
     "output_type": "execute_result"
    }
   ],
   "source": [
    "df = df[~((df < (Q1 - 1.5 * IQR)) |(df > (Q3 + 1.5 * IQR))).any(axis=1)]\n",
    "df.shape"
   ]
  },
  {
   "cell_type": "code",
   "execution_count": 21,
   "metadata": {
    "id": "O4eCVEryAJjD"
   },
   "outputs": [],
   "source": [
    "# Sữa lại type một số columns đã đổi trước đó và một số column cần thiết khác\n",
    "df['Mã sản phẩm'] = df['Mã sản phẩm'].astype('category').cat.as_ordered()\n",
    "df['STT_1'] = df['STT_1'].astype('category').cat.as_ordered()\n",
    "df['Ngày tạo'] = df['Ngày tạo'].astype('datetime64[ns]')\n",
    "df['Thời gian hẹn giao'] = df['Thời gian hẹn giao'].astype('datetime64[ns]')"
   ]
  },
  {
   "cell_type": "markdown",
   "metadata": {
    "id": "OegVDeRXAJjD"
   },
   "source": [
    "## 3.6) Visualize 1 số phân phối của biến số"
   ]
  },
  {
   "cell_type": "code",
   "execution_count": 22,
   "metadata": {
    "id": "CIIvlE6tAJjD",
    "outputId": "864d1ba7-0a37-4df7-b610-7811e2d71056"
   },
   "outputs": [
    {
     "data": {
      "image/png": "[encoded data removed]",
      "text/plain": [
       "<Figure size 1000x1000 with 6 Axes>"
      ]
     },
     "metadata": {},
     "output_type": "display_data"
    }
   ],
   "source": [
    "# Numerical data distribution (Phân phối dữ liệu số)\n",
    "list(set(df.dtypes.tolist()))\n",
    "df_num = df.select_dtypes(include = ['float64', 'int64'])\n",
    "df_num.hist(figsize=(10, 10), bins=50, xlabelsize=8, ylabelsize=8);"
   ]
  },
  {
   "cell_type": "code",
   "execution_count": 23,
   "metadata": {
    "id": "lbY1HiMpAJjE",
    "outputId": "12c5bcc8-1810-4872-adef-2072d52e4e6e"
   },
   "outputs": [
    {
     "data": {
      "image/png": "[encoded data removed]",
      "text/plain": [
       "<Figure size 1000x1000 with 2 Axes>"
      ]
     },
     "metadata": {},
     "output_type": "display_data"
    }
   ],
   "source": [
    "# Xem xét mối quan hệ giữa các biến số bằng biểu đồ HeatMap\n",
    "corr = df.corr() # We already examined SalePrice correlations\n",
    "plt.figure(figsize=(10, 10))\n",
    "\n",
    "sns.heatmap(corr[(corr >= 0.5) | (corr <= -0.4)], \n",
    "            cmap='viridis', vmax=1.0, vmin=-1.0, linewidths=0.1,\n",
    "            annot=True, annot_kws={\"size\": 8}, square=True);"
   ]
  },
  {
   "cell_type": "markdown",
   "metadata": {
    "id": "f5310qj3AJjE"
   },
   "source": [
    "## 3.7) Đặt ra một số câu hỏi tình huống để giải quyết vấn đề"
   ]
  },
  {
   "cell_type": "code",
   "execution_count": 24,
   "metadata": {
    "id": "9NQc7bqlAJjE",
    "outputId": "39953535-e33e-4f5b-cb8e-7f3f73834555"
   },
   "outputs": [
    {
     "data": {
      "text/html": [
       "<div>\n",
       "<style scoped>\n",
       "    .dataframe tbody tr th:only-of-type {\n",
       "        vertical-align: middle;\n",
       "    }\n",
       "\n",
       "    .dataframe tbody tr th {\n",
       "        vertical-align: top;\n",
       "    }\n",
       "\n",
       "    .dataframe thead th {\n",
       "        text-align: right;\n",
       "    }\n",
       "</style>\n",
       "<table border=\"1\" class=\"dataframe\">\n",
       "  <thead>\n",
       "    <tr style=\"text-align: right;\">\n",
       "      <th></th>\n",
       "      <th>Mã đơn hàng</th>\n",
       "      <th>Hình thức xuất</th>\n",
       "      <th>Ngày tạo</th>\n",
       "      <th>Tên khách hàng</th>\n",
       "      <th>Phải thu</th>\n",
       "      <th>Đã thu</th>\n",
       "      <th>Trạng thái xuất</th>\n",
       "      <th>Trạng thái giao hàng</th>\n",
       "      <th>Trạng thái hủy</th>\n",
       "      <th>Hình thức thanh toán</th>\n",
       "      <th>...</th>\n",
       "      <th>Giá bán</th>\n",
       "      <th>Nhóm hàng</th>\n",
       "      <th>Nhà sản xuất</th>\n",
       "      <th>Trạng thái hồ sơ</th>\n",
       "      <th>Thời gian thu tiền</th>\n",
       "      <th>STT_1</th>\n",
       "      <th>Onlineline/Cửa Hàng</th>\n",
       "      <th>Tỉnh</th>\n",
       "      <th>Nguồn Đặt Hàng</th>\n",
       "      <th>Giá gốc</th>\n",
       "    </tr>\n",
       "  </thead>\n",
       "  <tbody>\n",
       "    <tr>\n",
       "      <th>0</th>\n",
       "      <td>00014SO22068748119</td>\n",
       "      <td>Xuất bán hàng Online tại siêu thị</td>\n",
       "      <td>2022-06-02 23:26:17</td>\n",
       "      <td>Dương Nhựt Tân</td>\n",
       "      <td>796000</td>\n",
       "      <td>796000</td>\n",
       "      <td>Đã xuất</td>\n",
       "      <td>Đã giao</td>\n",
       "      <td>Chưa hủy</td>\n",
       "      <td>Tiền mặt siêu thị</td>\n",
       "      <td>...</td>\n",
       "      <td>796000</td>\n",
       "      <td>4965 - Giày nữ</td>\n",
       "      <td>Reebok</td>\n",
       "      <td>1 - Mới</td>\n",
       "      <td>2022-06-05 11:17:25.253000</td>\n",
       "      <td>1</td>\n",
       "      <td>Online</td>\n",
       "      <td>Ho Chi Minh</td>\n",
       "      <td>Nhân Viên Tạo</td>\n",
       "      <td>796000</td>\n",
       "    </tr>\n",
       "    <tr>\n",
       "      <th>1</th>\n",
       "      <td>10112SO22060011058</td>\n",
       "      <td>Xuất bán hàng tại siêu thị</td>\n",
       "      <td>2022-06-02 14:13:41</td>\n",
       "      <td>Nguyễn Văn Hòa</td>\n",
       "      <td>2878000</td>\n",
       "      <td>2878000</td>\n",
       "      <td>Đã xuất</td>\n",
       "      <td>Đã giao</td>\n",
       "      <td>Chưa hủy</td>\n",
       "      <td>Tiền mặt siêu thị</td>\n",
       "      <td>...</td>\n",
       "      <td>1903000</td>\n",
       "      <td>4965 - Giày nữ</td>\n",
       "      <td>Nike</td>\n",
       "      <td>1 - Mới</td>\n",
       "      <td>2022-06-02 14:14:03.805000</td>\n",
       "      <td>2</td>\n",
       "      <td>Cửa Hàng</td>\n",
       "      <td>Ho Chi Minh</td>\n",
       "      <td>Nhân Viên Tạo</td>\n",
       "      <td>1903000</td>\n",
       "    </tr>\n",
       "    <tr>\n",
       "      <th>2</th>\n",
       "      <td>10112SO22060011058</td>\n",
       "      <td>Xuất bán hàng tại siêu thị</td>\n",
       "      <td>2022-06-02 14:13:41</td>\n",
       "      <td>Nguyễn Văn Hòa</td>\n",
       "      <td>2878000</td>\n",
       "      <td>2878000</td>\n",
       "      <td>Đã xuất</td>\n",
       "      <td>Đã giao</td>\n",
       "      <td>Chưa hủy</td>\n",
       "      <td>Tiền mặt siêu thị</td>\n",
       "      <td>...</td>\n",
       "      <td>975000</td>\n",
       "      <td>4964 - Giày nam</td>\n",
       "      <td>ADIDAS</td>\n",
       "      <td>1 - Mới</td>\n",
       "      <td>2022-06-02 14:14:03.805000</td>\n",
       "      <td>3</td>\n",
       "      <td>Cửa Hàng</td>\n",
       "      <td>Ho Chi Minh</td>\n",
       "      <td>Nhân Viên Tạo</td>\n",
       "      <td>975000</td>\n",
       "    </tr>\n",
       "    <tr>\n",
       "      <th>3</th>\n",
       "      <td>10145SO22060012035</td>\n",
       "      <td>Xuất bán hàng tại siêu thị</td>\n",
       "      <td>2022-06-02 21:43:13</td>\n",
       "      <td>NGUYỄN TRƯỜNG HẢI</td>\n",
       "      <td>909000</td>\n",
       "      <td>909000</td>\n",
       "      <td>Đã xuất</td>\n",
       "      <td>Đã giao</td>\n",
       "      <td>Chưa hủy</td>\n",
       "      <td>Tiền mặt siêu thị</td>\n",
       "      <td>...</td>\n",
       "      <td>909000</td>\n",
       "      <td>4964 - Giày nam</td>\n",
       "      <td>Erke</td>\n",
       "      <td>1 - Mới</td>\n",
       "      <td>2022-06-02 21:45:19</td>\n",
       "      <td>4</td>\n",
       "      <td>Cửa Hàng</td>\n",
       "      <td>Ho Chi Minh</td>\n",
       "      <td>Nhân Viên Tạo</td>\n",
       "      <td>909000</td>\n",
       "    </tr>\n",
       "    <tr>\n",
       "      <th>4</th>\n",
       "      <td>10112SO22060011066</td>\n",
       "      <td>Xuất bán hàng tại siêu thị</td>\n",
       "      <td>2022-06-02 18:49:54</td>\n",
       "      <td>Nguyễn Chiến Thắng</td>\n",
       "      <td>1903000</td>\n",
       "      <td>1903000</td>\n",
       "      <td>Đã xuất</td>\n",
       "      <td>Đã giao</td>\n",
       "      <td>Chưa hủy</td>\n",
       "      <td>Tiền mặt siêu thị</td>\n",
       "      <td>...</td>\n",
       "      <td>1903000</td>\n",
       "      <td>4965 - Giày nữ</td>\n",
       "      <td>Nike</td>\n",
       "      <td>1 - Mới</td>\n",
       "      <td>2022-06-02 19:22:47.025000</td>\n",
       "      <td>5</td>\n",
       "      <td>Cửa Hàng</td>\n",
       "      <td>Ho Chi Minh</td>\n",
       "      <td>Nhân Viên Tạo</td>\n",
       "      <td>1903000</td>\n",
       "    </tr>\n",
       "  </tbody>\n",
       "</table>\n",
       "<p>5 rows × 28 columns</p>\n",
       "</div>"
      ],
      "text/plain": [
       "          Mã đơn hàng                     Hình thức xuất            Ngày tạo  \\\n",
       "0  00014SO22068748119  Xuất bán hàng Online tại siêu thị 2022-06-02 23:26:17   \n",
       "1  10112SO22060011058         Xuất bán hàng tại siêu thị 2022-06-02 14:13:41   \n",
       "2  10112SO22060011058         Xuất bán hàng tại siêu thị 2022-06-02 14:13:41   \n",
       "3  10145SO22060012035         Xuất bán hàng tại siêu thị 2022-06-02 21:43:13   \n",
       "4  10112SO22060011066         Xuất bán hàng tại siêu thị 2022-06-02 18:49:54   \n",
       "\n",
       "       Tên khách hàng  Phải thu   Đã thu Trạng thái xuất Trạng thái giao hàng  \\\n",
       "0      Dương Nhựt Tân    796000   796000         Đã xuất              Đã giao   \n",
       "1      Nguyễn Văn Hòa   2878000  2878000         Đã xuất              Đã giao   \n",
       "2      Nguyễn Văn Hòa   2878000  2878000         Đã xuất              Đã giao   \n",
       "3   NGUYỄN TRƯỜNG HẢI    909000   909000         Đã xuất              Đã giao   \n",
       "4  Nguyễn Chiến Thắng   1903000  1903000         Đã xuất              Đã giao   \n",
       "\n",
       "  Trạng thái hủy Hình thức thanh toán  ...  Giá bán        Nhóm hàng  \\\n",
       "0       Chưa hủy    Tiền mặt siêu thị  ...   796000   4965 - Giày nữ   \n",
       "1       Chưa hủy    Tiền mặt siêu thị  ...  1903000   4965 - Giày nữ   \n",
       "2       Chưa hủy    Tiền mặt siêu thị  ...   975000  4964 - Giày nam   \n",
       "3       Chưa hủy    Tiền mặt siêu thị  ...   909000  4964 - Giày nam   \n",
       "4       Chưa hủy    Tiền mặt siêu thị  ...  1903000   4965 - Giày nữ   \n",
       "\n",
       "  Nhà sản xuất Trạng thái hồ sơ          Thời gian thu tiền STT_1  \\\n",
       "0       Reebok          1 - Mới  2022-06-05 11:17:25.253000     1   \n",
       "1         Nike          1 - Mới  2022-06-02 14:14:03.805000     2   \n",
       "2       ADIDAS          1 - Mới  2022-06-02 14:14:03.805000     3   \n",
       "3         Erke          1 - Mới         2022-06-02 21:45:19     4   \n",
       "4         Nike          1 - Mới  2022-06-02 19:22:47.025000     5   \n",
       "\n",
       "  Onlineline/Cửa Hàng         Tỉnh  Nguồn Đặt Hàng  Giá gốc  \n",
       "0              Online  Ho Chi Minh   Nhân Viên Tạo   796000  \n",
       "1            Cửa Hàng  Ho Chi Minh   Nhân Viên Tạo  1903000  \n",
       "2            Cửa Hàng  Ho Chi Minh   Nhân Viên Tạo   975000  \n",
       "3            Cửa Hàng  Ho Chi Minh   Nhân Viên Tạo   909000  \n",
       "4            Cửa Hàng  Ho Chi Minh   Nhân Viên Tạo  1903000  \n",
       "\n",
       "[5 rows x 28 columns]"
      ]
     },
     "execution_count": 24,
     "metadata": {},
     "output_type": "execute_result"
    }
   ],
   "source": [
    "# Xem 5 dòng đầu tiên của data\n",
    "df.head(5)"
   ]
  },
  {
   "cell_type": "code",
   "execution_count": 25,
   "metadata": {
    "id": "8VPacaCSAJjF",
    "outputId": "9fa1345a-7479-4822-df09-bd6cdfbb7735"
   },
   "outputs": [
    {
     "name": "stdout",
     "output_type": "stream",
     "text": [
      "Cửa Hàng    463\n",
      "Online      291\n",
      "Name: Onlineline/Cửa Hàng, dtype: int64\n",
      "-----------------------------------------------------------------------------\n",
      "Số lượng người tiêu dùng mua hàng trực tiếp tại cửa hàng:  463\n",
      "Số lượng người tiêu dùng mua hàng bằng hình thức Online:  291\n",
      "-----------------------------------------------------------------------------\n"
     ]
    },
    {
     "data": {
      "application/vnd.plotly.v1+json": {
       "config": {
        "linkText": "Export to plot.ly",
        "plotlyServerURL": "https://plot.ly",
        "showLink": false
       },
       "data": [
        {
         "labels": [
          "Cửa Hàng",
          "Online"
         ],
         "marker": {
          "colors": [
           "aqua",
           "lightgreen"
          ]
         },
         "type": "pie",
         "values": [
          463,
          291
         ]
        }
       ],
       "layout": {
        "template": {
         "data": {
          "bar": [
           {
            "error_x": {
             "color": "#2a3f5f"
            },
            "error_y": {
             "color": "#2a3f5f"
            },
            "marker": {
             "line": {
              "color": "#E5ECF6",
              "width": 0.5
             },
             "pattern": {
              "fillmode": "overlay",
              "size": 10,
              "solidity": 0.2
             }
            },
            "type": "bar"
           }
          ],
          "barpolar": [
           {
            "marker": {
             "line": {
              "color": "#E5ECF6",
              "width": 0.5
             },
             "pattern": {
              "fillmode": "overlay",
              "size": 10,
              "solidity": 0.2
             }
            },
            "type": "barpolar"
           }
          ],
          "carpet": [
           {
            "aaxis": {
             "endlinecolor": "#2a3f5f",
             "gridcolor": "white",
             "linecolor": "white",
             "minorgridcolor": "white",
             "startlinecolor": "#2a3f5f"
            },
            "baxis": {
             "endlinecolor": "#2a3f5f",
             "gridcolor": "white",
             "linecolor": "white",
             "minorgridcolor": "white",
             "startlinecolor": "#2a3f5f"
            },
            "type": "carpet"
           }
          ],
          "choropleth": [
           {
            "colorbar": {
             "outlinewidth": 0,
             "ticks": ""
            },
            "type": "choropleth"
           }
          ],
          "contour": [
           {
            "colorbar": {
             "outlinewidth": 0,
             "ticks": ""
            },
            "colorscale": [
             [
              0,
              "#0d0887"
             ],
             [
              0.1111111111111111,
              "#46039f"
             ],
             [
              0.2222222222222222,
              "#7201a8"
             ],
             [
              0.3333333333333333,
              "#9c179e"
             ],
             [
              0.4444444444444444,
              "#bd3786"
             ],
             [
              0.5555555555555556,
              "#d8576b"
             ],
             [
              0.6666666666666666,
              "#ed7953"
             ],
             [
              0.7777777777777778,
              "#fb9f3a"
             ],
             [
              0.8888888888888888,
              "#fdca26"
             ],
             [
              1,
              "#f0f921"
             ]
            ],
            "type": "contour"
           }
          ],
          "contourcarpet": [
           {
            "colorbar": {
             "outlinewidth": 0,
             "ticks": ""
            },
            "type": "contourcarpet"
           }
          ],
          "heatmap": [
           {
            "colorbar": {
             "outlinewidth": 0,
             "ticks": ""
            },
            "colorscale": [
             [
              0,
              "#0d0887"
             ],
             [
              0.1111111111111111,
              "#46039f"
             ],
             [
              0.2222222222222222,
              "#7201a8"
             ],
             [
              0.3333333333333333,
              "#9c179e"
             ],
             [
              0.4444444444444444,
              "#bd3786"
             ],
             [
              0.5555555555555556,
              "#d8576b"
             ],
             [
              0.6666666666666666,
              "#ed7953"
             ],
             [
              0.7777777777777778,
              "#fb9f3a"
             ],
             [
              0.8888888888888888,
              "#fdca26"
             ],
             [
              1,
              "#f0f921"
             ]
            ],
            "type": "heatmap"
           }
          ],
          "heatmapgl": [
           {
            "colorbar": {
             "outlinewidth": 0,
             "ticks": ""
            },
            "colorscale": [
             [
              0,
              "#0d0887"
             ],
             [
              0.1111111111111111,
              "#46039f"
             ],
             [
              0.2222222222222222,
              "#7201a8"
             ],
             [
              0.3333333333333333,
              "#9c179e"
             ],
             [
              0.4444444444444444,
              "#bd3786"
             ],
             [
              0.5555555555555556,
              "#d8576b"
             ],
             [
              0.6666666666666666,
              "#ed7953"
             ],
             [
              0.7777777777777778,
              "#fb9f3a"
             ],
             [
              0.8888888888888888,
              "#fdca26"
             ],
             [
              1,
              "#f0f921"
             ]
            ],
            "type": "heatmapgl"
           }
          ],
          "histogram": [
           {
            "marker": {
             "pattern": {
              "fillmode": "overlay",
              "size": 10,
              "solidity": 0.2
             }
            },
            "type": "histogram"
           }
          ],
          "histogram2d": [
           {
            "colorbar": {
             "outlinewidth": 0,
             "ticks": ""
            },
            "colorscale": [
             [
              0,
              "#0d0887"
             ],
             [
              0.1111111111111111,
              "#46039f"
             ],
             [
              0.2222222222222222,
              "#7201a8"
             ],
             [
              0.3333333333333333,
              "#9c179e"
             ],
             [
              0.4444444444444444,
              "#bd3786"
             ],
             [
              0.5555555555555556,
              "#d8576b"
             ],
             [
              0.6666666666666666,
              "#ed7953"
             ],
             [
              0.7777777777777778,
              "#fb9f3a"
             ],
             [
              0.8888888888888888,
              "#fdca26"
             ],
             [
              1,
              "#f0f921"
             ]
            ],
            "type": "histogram2d"
           }
          ],
          "histogram2dcontour": [
           {
            "colorbar": {
             "outlinewidth": 0,
             "ticks": ""
            },
            "colorscale": [
             [
              0,
              "#0d0887"
             ],
             [
              0.1111111111111111,
              "#46039f"
             ],
             [
              0.2222222222222222,
              "#7201a8"
             ],
             [
              0.3333333333333333,
              "#9c179e"
             ],
             [
              0.4444444444444444,
              "#bd3786"
             ],
             [
              0.5555555555555556,
              "#d8576b"
             ],
             [
              0.6666666666666666,
              "#ed7953"
             ],
             [
              0.7777777777777778,
              "#fb9f3a"
             ],
             [
              0.8888888888888888,
              "#fdca26"
             ],
             [
              1,
              "#f0f921"
             ]
            ],
            "type": "histogram2dcontour"
           }
          ],
          "mesh3d": [
           {
            "colorbar": {
             "outlinewidth": 0,
             "ticks": ""
            },
            "type": "mesh3d"
           }
          ],
          "parcoords": [
           {
            "line": {
             "colorbar": {
              "outlinewidth": 0,
              "ticks": ""
             }
            },
            "type": "parcoords"
           }
          ],
          "pie": [
           {
            "automargin": true,
            "type": "pie"
           }
          ],
          "scatter": [
           {
            "fillpattern": {
             "fillmode": "overlay",
             "size": 10,
             "solidity": 0.2
            },
            "type": "scatter"
           }
          ],
          "scatter3d": [
           {
            "line": {
             "colorbar": {
              "outlinewidth": 0,
              "ticks": ""
             }
            },
            "marker": {
             "colorbar": {
              "outlinewidth": 0,
              "ticks": ""
             }
            },
            "type": "scatter3d"
           }
          ],
          "scattercarpet": [
           {
            "marker": {
             "colorbar": {
              "outlinewidth": 0,
              "ticks": ""
             }
            },
            "type": "scattercarpet"
           }
          ],
          "scattergeo": [
           {
            "marker": {
             "colorbar": {
              "outlinewidth": 0,
              "ticks": ""
             }
            },
            "type": "scattergeo"
           }
          ],
          "scattergl": [
           {
            "marker": {
             "colorbar": {
              "outlinewidth": 0,
              "ticks": ""
             }
            },
            "type": "scattergl"
           }
          ],
          "scattermapbox": [
           {
            "marker": {
             "colorbar": {
              "outlinewidth": 0,
              "ticks": ""
             }
            },
            "type": "scattermapbox"
           }
          ],
          "scatterpolar": [
           {
            "marker": {
             "colorbar": {
              "outlinewidth": 0,
              "ticks": ""
             }
            },
            "type": "scatterpolar"
           }
          ],
          "scatterpolargl": [
           {
            "marker": {
             "colorbar": {
              "outlinewidth": 0,
              "ticks": ""
             }
            },
            "type": "scatterpolargl"
           }
          ],
          "scatterternary": [
           {
            "marker": {
             "colorbar": {
              "outlinewidth": 0,
              "ticks": ""
             }
            },
            "type": "scatterternary"
           }
          ],
          "surface": [
           {
            "colorbar": {
             "outlinewidth": 0,
             "ticks": ""
            },
            "colorscale": [
             [
              0,
              "#0d0887"
             ],
             [
              0.1111111111111111,
              "#46039f"
             ],
             [
              0.2222222222222222,
              "#7201a8"
             ],
             [
              0.3333333333333333,
              "#9c179e"
             ],
             [
              0.4444444444444444,
              "#bd3786"
             ],
             [
              0.5555555555555556,
              "#d8576b"
             ],
             [
              0.6666666666666666,
              "#ed7953"
             ],
             [
              0.7777777777777778,
              "#fb9f3a"
             ],
             [
              0.8888888888888888,
              "#fdca26"
             ],
             [
              1,
              "#f0f921"
             ]
            ],
            "type": "surface"
           }
          ],
          "table": [
           {
            "cells": {
             "fill": {
              "color": "#EBF0F8"
             },
             "line": {
              "color": "white"
             }
            },
            "header": {
             "fill": {
              "color": "#C8D4E3"
             },
             "line": {
              "color": "white"
             }
            },
            "type": "table"
           }
          ]
         },
         "layout": {
          "annotationdefaults": {
           "arrowcolor": "#2a3f5f",
           "arrowhead": 0,
           "arrowwidth": 1
          },
          "autotypenumbers": "strict",
          "coloraxis": {
           "colorbar": {
            "outlinewidth": 0,
            "ticks": ""
           }
          },
          "colorscale": {
           "diverging": [
            [
             0,
             "#8e0152"
            ],
            [
             0.1,
             "#c51b7d"
            ],
            [
             0.2,
             "#de77ae"
            ],
            [
             0.3,
             "#f1b6da"
            ],
            [
             0.4,
             "#fde0ef"
            ],
            [
             0.5,
             "#f7f7f7"
            ],
            [
             0.6,
             "#e6f5d0"
            ],
            [
             0.7,
             "#b8e186"
            ],
            [
             0.8,
             "#7fbc41"
            ],
            [
             0.9,
             "#4d9221"
            ],
            [
             1,
             "#276419"
            ]
           ],
           "sequential": [
            [
             0,
             "#0d0887"
            ],
            [
             0.1111111111111111,
             "#46039f"
            ],
            [
             0.2222222222222222,
             "#7201a8"
            ],
            [
             0.3333333333333333,
             "#9c179e"
            ],
            [
             0.4444444444444444,
             "#bd3786"
            ],
            [
             0.5555555555555556,
             "#d8576b"
            ],
            [
             0.6666666666666666,
             "#ed7953"
            ],
            [
             0.7777777777777778,
             "#fb9f3a"
            ],
            [
             0.8888888888888888,
             "#fdca26"
            ],
            [
             1,
             "#f0f921"
            ]
           ],
           "sequentialminus": [
            [
             0,
             "#0d0887"
            ],
            [
             0.1111111111111111,
             "#46039f"
            ],
            [
             0.2222222222222222,
             "#7201a8"
            ],
            [
             0.3333333333333333,
             "#9c179e"
            ],
            [
             0.4444444444444444,
             "#bd3786"
            ],
            [
             0.5555555555555556,
             "#d8576b"
            ],
            [
             0.6666666666666666,
             "#ed7953"
            ],
            [
             0.7777777777777778,
             "#fb9f3a"
            ],
            [
             0.8888888888888888,
             "#fdca26"
            ],
            [
             1,
             "#f0f921"
            ]
           ]
          },
          "colorway": [
           "#636efa",
           "#EF553B",
           "#00cc96",
           "#ab63fa",
           "#FFA15A",
           "#19d3f3",
           "#FF6692",
           "#B6E880",
           "#FF97FF",
           "#FECB52"
          ],
          "font": {
           "color": "#2a3f5f"
          },
          "geo": {
           "bgcolor": "white",
           "lakecolor": "white",
           "landcolor": "#E5ECF6",
           "showlakes": true,
           "showland": true,
           "subunitcolor": "white"
          },
          "hoverlabel": {
           "align": "left"
          },
          "hovermode": "closest",
          "mapbox": {
           "style": "light"
          },
          "paper_bgcolor": "white",
          "plot_bgcolor": "#E5ECF6",
          "polar": {
           "angularaxis": {
            "gridcolor": "white",
            "linecolor": "white",
            "ticks": ""
           },
           "bgcolor": "#E5ECF6",
           "radialaxis": {
            "gridcolor": "white",
            "linecolor": "white",
            "ticks": ""
           }
          },
          "scene": {
           "xaxis": {
            "backgroundcolor": "#E5ECF6",
            "gridcolor": "white",
            "gridwidth": 2,
            "linecolor": "white",
            "showbackground": true,
            "ticks": "",
            "zerolinecolor": "white"
           },
           "yaxis": {
            "backgroundcolor": "#E5ECF6",
            "gridcolor": "white",
            "gridwidth": 2,
            "linecolor": "white",
            "showbackground": true,
            "ticks": "",
            "zerolinecolor": "white"
           },
           "zaxis": {
            "backgroundcolor": "#E5ECF6",
            "gridcolor": "white",
            "gridwidth": 2,
            "linecolor": "white",
            "showbackground": true,
            "ticks": "",
            "zerolinecolor": "white"
           }
          },
          "shapedefaults": {
           "line": {
            "color": "#2a3f5f"
           }
          },
          "ternary": {
           "aaxis": {
            "gridcolor": "white",
            "linecolor": "white",
            "ticks": ""
           },
           "baxis": {
            "gridcolor": "white",
            "linecolor": "white",
            "ticks": ""
           },
           "bgcolor": "#E5ECF6",
           "caxis": {
            "gridcolor": "white",
            "linecolor": "white",
            "ticks": ""
           }
          },
          "title": {
           "x": 0.05
          },
          "xaxis": {
           "automargin": true,
           "gridcolor": "white",
           "linecolor": "white",
           "ticks": "",
           "title": {
            "standoff": 15
           },
           "zerolinecolor": "white",
           "zerolinewidth": 2
          },
          "yaxis": {
           "automargin": true,
           "gridcolor": "white",
           "linecolor": "white",
           "ticks": "",
           "title": {
            "standoff": 15
           },
           "zerolinecolor": "white",
           "zerolinewidth": 2
          }
         }
        },
        "title": {
         "text": "Phân Phối Hình Thức Mua Hàng Của Người Tiêu Dùng"
        }
       }
      },
      "text/html": [
       "<div>                            <div id=\"1cf45c00-5a81-4db1-9b3d-918f2f6b3d57\" class=\"plotly-graph-div\" style=\"height:525px; width:100%;\"></div>            <script type=\"text/javascript\">                require([\"plotly\"], function(Plotly) {                    window.PLOTLYENV=window.PLOTLYENV || {};                                    if (document.getElementById(\"1cf45c00-5a81-4db1-9b3d-918f2f6b3d57\")) {                    Plotly.newPlot(                        \"1cf45c00-5a81-4db1-9b3d-918f2f6b3d57\",                        [{\"labels\":[\"C\\u1eeda H\\u00e0ng\",\"Online\"],\"marker\":{\"colors\":[\"aqua\",\"lightgreen\"]},\"values\":[463,291],\"type\":\"pie\"}],                        {\"template\":{\"data\":{\"barpolar\":[{\"marker\":{\"line\":{\"color\":\"#E5ECF6\",\"width\":0.5},\"pattern\":{\"fillmode\":\"overlay\",\"size\":10,\"solidity\":0.2}},\"type\":\"barpolar\"}],\"bar\":[{\"error_x\":{\"color\":\"#2a3f5f\"},\"error_y\":{\"color\":\"#2a3f5f\"},\"marker\":{\"line\":{\"color\":\"#E5ECF6\",\"width\":0.5},\"pattern\":{\"fillmode\":\"overlay\",\"size\":10,\"solidity\":0.2}},\"type\":\"bar\"}],\"carpet\":[{\"aaxis\":{\"endlinecolor\":\"#2a3f5f\",\"gridcolor\":\"white\",\"linecolor\":\"white\",\"minorgridcolor\":\"white\",\"startlinecolor\":\"#2a3f5f\"},\"baxis\":{\"endlinecolor\":\"#2a3f5f\",\"gridcolor\":\"white\",\"linecolor\":\"white\",\"minorgridcolor\":\"white\",\"startlinecolor\":\"#2a3f5f\"},\"type\":\"carpet\"}],\"choropleth\":[{\"colorbar\":{\"outlinewidth\":0,\"ticks\":\"\"},\"type\":\"choropleth\"}],\"contourcarpet\":[{\"colorbar\":{\"outlinewidth\":0,\"ticks\":\"\"},\"type\":\"contourcarpet\"}],\"contour\":[{\"colorbar\":{\"outlinewidth\":0,\"ticks\":\"\"},\"colorscale\":[[0.0,\"#0d0887\"],[0.1111111111111111,\"#46039f\"],[0.2222222222222222,\"#7201a8\"],[0.3333333333333333,\"#9c179e\"],[0.4444444444444444,\"#bd3786\"],[0.5555555555555556,\"#d8576b\"],[0.6666666666666666,\"#ed7953\"],[0.7777777777777778,\"#fb9f3a\"],[0.8888888888888888,\"#fdca26\"],[1.0,\"#f0f921\"]],\"type\":\"contour\"}],\"heatmapgl\":[{\"colorbar\":{\"outlinewidth\":0,\"ticks\":\"\"},\"colorscale\":[[0.0,\"#0d0887\"],[0.1111111111111111,\"#46039f\"],[0.2222222222222222,\"#7201a8\"],[0.3333333333333333,\"#9c179e\"],[0.4444444444444444,\"#bd3786\"],[0.5555555555555556,\"#d8576b\"],[0.6666666666666666,\"#ed7953\"],[0.7777777777777778,\"#fb9f3a\"],[0.8888888888888888,\"#fdca26\"],[1.0,\"#f0f921\"]],\"type\":\"heatmapgl\"}],\"heatmap\":[{\"colorbar\":{\"outlinewidth\":0,\"ticks\":\"\"},\"colorscale\":[[0.0,\"#0d0887\"],[0.1111111111111111,\"#46039f\"],[0.2222222222222222,\"#7201a8\"],[0.3333333333333333,\"#9c179e\"],[0.4444444444444444,\"#bd3786\"],[0.5555555555555556,\"#d8576b\"],[0.6666666666666666,\"#ed7953\"],[0.7777777777777778,\"#fb9f3a\"],[0.8888888888888888,\"#fdca26\"],[1.0,\"#f0f921\"]],\"type\":\"heatmap\"}],\"histogram2dcontour\":[{\"colorbar\":{\"outlinewidth\":0,\"ticks\":\"\"},\"colorscale\":[[0.0,\"#0d0887\"],[0.1111111111111111,\"#46039f\"],[0.2222222222222222,\"#7201a8\"],[0.3333333333333333,\"#9c179e\"],[0.4444444444444444,\"#bd3786\"],[0.5555555555555556,\"#d8576b\"],[0.6666666666666666,\"#ed7953\"],[0.7777777777777778,\"#fb9f3a\"],[0.8888888888888888,\"#fdca26\"],[1.0,\"#f0f921\"]],\"type\":\"histogram2dcontour\"}],\"histogram2d\":[{\"colorbar\":{\"outlinewidth\":0,\"ticks\":\"\"},\"colorscale\":[[0.0,\"#0d0887\"],[0.1111111111111111,\"#46039f\"],[0.2222222222222222,\"#7201a8\"],[0.3333333333333333,\"#9c179e\"],[0.4444444444444444,\"#bd3786\"],[0.5555555555555556,\"#d8576b\"],[0.6666666666666666,\"#ed7953\"],[0.7777777777777778,\"#fb9f3a\"],[0.8888888888888888,\"#fdca26\"],[1.0,\"#f0f921\"]],\"type\":\"histogram2d\"}],\"histogram\":[{\"marker\":{\"pattern\":{\"fillmode\":\"overlay\",\"size\":10,\"solidity\":0.2}},\"type\":\"histogram\"}],\"mesh3d\":[{\"colorbar\":{\"outlinewidth\":0,\"ticks\":\"\"},\"type\":\"mesh3d\"}],\"parcoords\":[{\"line\":{\"colorbar\":{\"outlinewidth\":0,\"ticks\":\"\"}},\"type\":\"parcoords\"}],\"pie\":[{\"automargin\":true,\"type\":\"pie\"}],\"scatter3d\":[{\"line\":{\"colorbar\":{\"outlinewidth\":0,\"ticks\":\"\"}},\"marker\":{\"colorbar\":{\"outlinewidth\":0,\"ticks\":\"\"}},\"type\":\"scatter3d\"}],\"scattercarpet\":[{\"marker\":{\"colorbar\":{\"outlinewidth\":0,\"ticks\":\"\"}},\"type\":\"scattercarpet\"}],\"scattergeo\":[{\"marker\":{\"colorbar\":{\"outlinewidth\":0,\"ticks\":\"\"}},\"type\":\"scattergeo\"}],\"scattergl\":[{\"marker\":{\"colorbar\":{\"outlinewidth\":0,\"ticks\":\"\"}},\"type\":\"scattergl\"}],\"scattermapbox\":[{\"marker\":{\"colorbar\":{\"outlinewidth\":0,\"ticks\":\"\"}},\"type\":\"scattermapbox\"}],\"scatterpolargl\":[{\"marker\":{\"colorbar\":{\"outlinewidth\":0,\"ticks\":\"\"}},\"type\":\"scatterpolargl\"}],\"scatterpolar\":[{\"marker\":{\"colorbar\":{\"outlinewidth\":0,\"ticks\":\"\"}},\"type\":\"scatterpolar\"}],\"scatter\":[{\"fillpattern\":{\"fillmode\":\"overlay\",\"size\":10,\"solidity\":0.2},\"type\":\"scatter\"}],\"scatterternary\":[{\"marker\":{\"colorbar\":{\"outlinewidth\":0,\"ticks\":\"\"}},\"type\":\"scatterternary\"}],\"surface\":[{\"colorbar\":{\"outlinewidth\":0,\"ticks\":\"\"},\"colorscale\":[[0.0,\"#0d0887\"],[0.1111111111111111,\"#46039f\"],[0.2222222222222222,\"#7201a8\"],[0.3333333333333333,\"#9c179e\"],[0.4444444444444444,\"#bd3786\"],[0.5555555555555556,\"#d8576b\"],[0.6666666666666666,\"#ed7953\"],[0.7777777777777778,\"#fb9f3a\"],[0.8888888888888888,\"#fdca26\"],[1.0,\"#f0f921\"]],\"type\":\"surface\"}],\"table\":[{\"cells\":{\"fill\":{\"color\":\"#EBF0F8\"},\"line\":{\"color\":\"white\"}},\"header\":{\"fill\":{\"color\":\"#C8D4E3\"},\"line\":{\"color\":\"white\"}},\"type\":\"table\"}]},\"layout\":{\"annotationdefaults\":{\"arrowcolor\":\"#2a3f5f\",\"arrowhead\":0,\"arrowwidth\":1},\"autotypenumbers\":\"strict\",\"coloraxis\":{\"colorbar\":{\"outlinewidth\":0,\"ticks\":\"\"}},\"colorscale\":{\"diverging\":[[0,\"#8e0152\"],[0.1,\"#c51b7d\"],[0.2,\"#de77ae\"],[0.3,\"#f1b6da\"],[0.4,\"#fde0ef\"],[0.5,\"#f7f7f7\"],[0.6,\"#e6f5d0\"],[0.7,\"#b8e186\"],[0.8,\"#7fbc41\"],[0.9,\"#4d9221\"],[1,\"#276419\"]],\"sequential\":[[0.0,\"#0d0887\"],[0.1111111111111111,\"#46039f\"],[0.2222222222222222,\"#7201a8\"],[0.3333333333333333,\"#9c179e\"],[0.4444444444444444,\"#bd3786\"],[0.5555555555555556,\"#d8576b\"],[0.6666666666666666,\"#ed7953\"],[0.7777777777777778,\"#fb9f3a\"],[0.8888888888888888,\"#fdca26\"],[1.0,\"#f0f921\"]],\"sequentialminus\":[[0.0,\"#0d0887\"],[0.1111111111111111,\"#46039f\"],[0.2222222222222222,\"#7201a8\"],[0.3333333333333333,\"#9c179e\"],[0.4444444444444444,\"#bd3786\"],[0.5555555555555556,\"#d8576b\"],[0.6666666666666666,\"#ed7953\"],[0.7777777777777778,\"#fb9f3a\"],[0.8888888888888888,\"#fdca26\"],[1.0,\"#f0f921\"]]},\"colorway\":[\"#636efa\",\"#EF553B\",\"#00cc96\",\"#ab63fa\",\"#FFA15A\",\"#19d3f3\",\"#FF6692\",\"#B6E880\",\"#FF97FF\",\"#FECB52\"],\"font\":{\"color\":\"#2a3f5f\"},\"geo\":{\"bgcolor\":\"white\",\"lakecolor\":\"white\",\"landcolor\":\"#E5ECF6\",\"showlakes\":true,\"showland\":true,\"subunitcolor\":\"white\"},\"hoverlabel\":{\"align\":\"left\"},\"hovermode\":\"closest\",\"mapbox\":{\"style\":\"light\"},\"paper_bgcolor\":\"white\",\"plot_bgcolor\":\"#E5ECF6\",\"polar\":{\"angularaxis\":{\"gridcolor\":\"white\",\"linecolor\":\"white\",\"ticks\":\"\"},\"bgcolor\":\"#E5ECF6\",\"radialaxis\":{\"gridcolor\":\"white\",\"linecolor\":\"white\",\"ticks\":\"\"}},\"scene\":{\"xaxis\":{\"backgroundcolor\":\"#E5ECF6\",\"gridcolor\":\"white\",\"gridwidth\":2,\"linecolor\":\"white\",\"showbackground\":true,\"ticks\":\"\",\"zerolinecolor\":\"white\"},\"yaxis\":{\"backgroundcolor\":\"#E5ECF6\",\"gridcolor\":\"white\",\"gridwidth\":2,\"linecolor\":\"white\",\"showbackground\":true,\"ticks\":\"\",\"zerolinecolor\":\"white\"},\"zaxis\":{\"backgroundcolor\":\"#E5ECF6\",\"gridcolor\":\"white\",\"gridwidth\":2,\"linecolor\":\"white\",\"showbackground\":true,\"ticks\":\"\",\"zerolinecolor\":\"white\"}},\"shapedefaults\":{\"line\":{\"color\":\"#2a3f5f\"}},\"ternary\":{\"aaxis\":{\"gridcolor\":\"white\",\"linecolor\":\"white\",\"ticks\":\"\"},\"baxis\":{\"gridcolor\":\"white\",\"linecolor\":\"white\",\"ticks\":\"\"},\"bgcolor\":\"#E5ECF6\",\"caxis\":{\"gridcolor\":\"white\",\"linecolor\":\"white\",\"ticks\":\"\"}},\"title\":{\"x\":0.05},\"xaxis\":{\"automargin\":true,\"gridcolor\":\"white\",\"linecolor\":\"white\",\"ticks\":\"\",\"title\":{\"standoff\":15},\"zerolinecolor\":\"white\",\"zerolinewidth\":2},\"yaxis\":{\"automargin\":true,\"gridcolor\":\"white\",\"linecolor\":\"white\",\"ticks\":\"\",\"title\":{\"standoff\":15},\"zerolinecolor\":\"white\",\"zerolinewidth\":2}}},\"title\":{\"text\":\"Ph\\u00e2n Ph\\u1ed1i H\\u00ecnh Th\\u1ee9c Mua H\\u00e0ng C\\u1ee7a Ng\\u01b0\\u1eddi Ti\\u00eau D\\u00f9ng\"}},                        {\"responsive\": true}                    ).then(function(){\n",
       "                            \n",
       "var gd = document.getElementById('1cf45c00-5a81-4db1-9b3d-918f2f6b3d57');\n",
       "var x = new MutationObserver(function (mutations, observer) {{\n",
       "        var display = window.getComputedStyle(gd).display;\n",
       "        if (!display || display === 'none') {{\n",
       "            console.log([gd, 'removed!']);\n",
       "            Plotly.purge(gd);\n",
       "            observer.disconnect();\n",
       "        }}\n",
       "}});\n",
       "\n",
       "// Listen for the removal of the full notebook cells\n",
       "var notebookContainer = gd.closest('#notebook-container');\n",
       "if (notebookContainer) {{\n",
       "    x.observe(notebookContainer, {childList: true});\n",
       "}}\n",
       "\n",
       "// Listen for the clearing of the current output cell\n",
       "var outputEl = gd.closest('.output');\n",
       "if (outputEl) {{\n",
       "    x.observe(outputEl, {childList: true});\n",
       "}}\n",
       "\n",
       "                        })                };                });            </script>        </div>"
      ]
     },
     "metadata": {},
     "output_type": "display_data"
    }
   ],
   "source": [
    "#Quetions 1: Người Tiêu dùng thích mua dày giép bằng hình thức online hay là đến tận cữa hàng ?\n",
    "\n",
    "Q1 = df['Onlineline/Cửa Hàng'].value_counts()\n",
    "print(Q1)\n",
    "print(\"-----------------------------------------------------------------------------\")\n",
    "print(\"Số lượng người tiêu dùng mua hàng trực tiếp tại cửa hàng: \", Q1.values[0])\n",
    "print(\"Số lượng người tiêu dùng mua hàng bằng hình thức Online: \", Q1.values[1])\n",
    "print(\"-----------------------------------------------------------------------------\")\n",
    "colors = ['aqua','lightgreen']\n",
    "label = Q1.index\n",
    "size = Q1.values\n",
    "trace = go.Pie(labels=label, \n",
    "               values=size, \n",
    "               marker=dict(colors=colors))\n",
    "data = [trace]\n",
    "layout = go.Layout(title='Phân Phối Hình Thức Mua Hàng Của Người Tiêu Dùng')\n",
    "\n",
    "fig = go.Figure(data=data, layout=layout)\n",
    "py.iplot(fig)  "
   ]
  },
  {
   "cell_type": "code",
   "execution_count": 26,
   "metadata": {
    "id": "7hC1exL7AJjG",
    "outputId": "e859cf56-39e9-4c82-c47a-f5b79e3442fd",
    "scrolled": true
   },
   "outputs": [
    {
     "name": "stdout",
     "output_type": "stream",
     "text": [
      "Nike        230\n",
      "ADIDAS      154\n",
      "Reebok       89\n",
      "SKECHERS     87\n",
      "Puma         67\n",
      "Erke         51\n",
      "Anta         46\n",
      "AKKA         21\n",
      "PEAK          9\n",
      "Name: Nhà sản xuất, dtype: int64\n",
      "-----------------------------------------------------------------------------\n",
      "Hãng sản xuất nào được ưu chuộng nhiều nhất:  Nike\n",
      "Hãng sản xuất nào được ưu chuộng thấp nhất:  PEAK\n",
      "-----------------------------------------------------------------------------\n"
     ]
    },
    {
     "data": {
      "image/png": "[encoded data removed]",
      "text/plain": [
       "<Figure size 1000x1000 with 1 Axes>"
      ]
     },
     "metadata": {},
     "output_type": "display_data"
    },
    {
     "data": {
      "application/vnd.plotly.v1+json": {
       "config": {
        "linkText": "Export to plot.ly",
        "plotlyServerURL": "https://plot.ly",
        "showLink": false
       },
       "data": [
        {
         "marker": {
          "color": [
           "aqua",
           "lightgrey",
           "lightgreen",
           "#D0F9B1",
           "khaki",
           "grey"
          ],
          "colorscale": [
           [
            0,
            "rgb(0,0,131)"
           ],
           [
            0.2,
            "rgb(0,60,170)"
           ],
           [
            0.4,
            "rgb(5,255,255)"
           ],
           [
            0.6,
            "rgb(255,255,0)"
           ],
           [
            0.8,
            "rgb(250,0,0)"
           ],
           [
            1,
            "rgb(128,0,0)"
           ]
          ]
         },
         "type": "bar",
         "x": [
          "Nike",
          "ADIDAS",
          "Reebok",
          "SKECHERS",
          "Puma"
         ],
         "y": [
          230,
          154,
          89,
          87,
          67
         ]
        }
       ],
       "layout": {
        "template": {
         "data": {
          "bar": [
           {
            "error_x": {
             "color": "#2a3f5f"
            },
            "error_y": {
             "color": "#2a3f5f"
            },
            "marker": {
             "line": {
              "color": "#E5ECF6",
              "width": 0.5
             },
             "pattern": {
              "fillmode": "overlay",
              "size": 10,
              "solidity": 0.2
             }
            },
            "type": "bar"
           }
          ],
          "barpolar": [
           {
            "marker": {
             "line": {
              "color": "#E5ECF6",
              "width": 0.5
             },
             "pattern": {
              "fillmode": "overlay",
              "size": 10,
              "solidity": 0.2
             }
            },
            "type": "barpolar"
           }
          ],
          "carpet": [
           {
            "aaxis": {
             "endlinecolor": "#2a3f5f",
             "gridcolor": "white",
             "linecolor": "white",
             "minorgridcolor": "white",
             "startlinecolor": "#2a3f5f"
            },
            "baxis": {
             "endlinecolor": "#2a3f5f",
             "gridcolor": "white",
             "linecolor": "white",
             "minorgridcolor": "white",
             "startlinecolor": "#2a3f5f"
            },
            "type": "carpet"
           }
          ],
          "choropleth": [
           {
            "colorbar": {
             "outlinewidth": 0,
             "ticks": ""
            },
            "type": "choropleth"
           }
          ],
          "contour": [
           {
            "colorbar": {
             "outlinewidth": 0,
             "ticks": ""
            },
            "colorscale": [
             [
              0,
              "#0d0887"
             ],
             [
              0.1111111111111111,
              "#46039f"
             ],
             [
              0.2222222222222222,
              "#7201a8"
             ],
             [
              0.3333333333333333,
              "#9c179e"
             ],
             [
              0.4444444444444444,
              "#bd3786"
             ],
             [
              0.5555555555555556,
              "#d8576b"
             ],
             [
              0.6666666666666666,
              "#ed7953"
             ],
             [
              0.7777777777777778,
              "#fb9f3a"
             ],
             [
              0.8888888888888888,
              "#fdca26"
             ],
             [
              1,
              "#f0f921"
             ]
            ],
            "type": "contour"
           }
          ],
          "contourcarpet": [
           {
            "colorbar": {
             "outlinewidth": 0,
             "ticks": ""
            },
            "type": "contourcarpet"
           }
          ],
          "heatmap": [
           {
            "colorbar": {
             "outlinewidth": 0,
             "ticks": ""
            },
            "colorscale": [
             [
              0,
              "#0d0887"
             ],
             [
              0.1111111111111111,
              "#46039f"
             ],
             [
              0.2222222222222222,
              "#7201a8"
             ],
             [
              0.3333333333333333,
              "#9c179e"
             ],
             [
              0.4444444444444444,
              "#bd3786"
             ],
             [
              0.5555555555555556,
              "#d8576b"
             ],
             [
              0.6666666666666666,
              "#ed7953"
             ],
             [
              0.7777777777777778,
              "#fb9f3a"
             ],
             [
              0.8888888888888888,
              "#fdca26"
             ],
             [
              1,
              "#f0f921"
             ]
            ],
            "type": "heatmap"
           }
          ],
          "heatmapgl": [
           {
            "colorbar": {
             "outlinewidth": 0,
             "ticks": ""
            },
            "colorscale": [
             [
              0,
              "#0d0887"
             ],
             [
              0.1111111111111111,
              "#46039f"
             ],
             [
              0.2222222222222222,
              "#7201a8"
             ],
             [
              0.3333333333333333,
              "#9c179e"
             ],
             [
              0.4444444444444444,
              "#bd3786"
             ],
             [
              0.5555555555555556,
              "#d8576b"
             ],
             [
              0.6666666666666666,
              "#ed7953"
             ],
             [
              0.7777777777777778,
              "#fb9f3a"
             ],
             [
              0.8888888888888888,
              "#fdca26"
             ],
             [
              1,
              "#f0f921"
             ]
            ],
            "type": "heatmapgl"
           }
          ],
          "histogram": [
           {
            "marker": {
             "pattern": {
              "fillmode": "overlay",
              "size": 10,
              "solidity": 0.2
             }
            },
            "type": "histogram"
           }
          ],
          "histogram2d": [
           {
            "colorbar": {
             "outlinewidth": 0,
             "ticks": ""
            },
            "colorscale": [
             [
              0,
              "#0d0887"
             ],
             [
              0.1111111111111111,
              "#46039f"
             ],
             [
              0.2222222222222222,
              "#7201a8"
             ],
             [
              0.3333333333333333,
              "#9c179e"
             ],
             [
              0.4444444444444444,
              "#bd3786"
             ],
             [
              0.5555555555555556,
              "#d8576b"
             ],
             [
              0.6666666666666666,
              "#ed7953"
             ],
             [
              0.7777777777777778,
              "#fb9f3a"
             ],
             [
              0.8888888888888888,
              "#fdca26"
             ],
             [
              1,
              "#f0f921"
             ]
            ],
            "type": "histogram2d"
           }
          ],
          "histogram2dcontour": [
           {
            "colorbar": {
             "outlinewidth": 0,
             "ticks": ""
            },
            "colorscale": [
             [
              0,
              "#0d0887"
             ],
             [
              0.1111111111111111,
              "#46039f"
             ],
             [
              0.2222222222222222,
              "#7201a8"
             ],
             [
              0.3333333333333333,
              "#9c179e"
             ],
             [
              0.4444444444444444,
              "#bd3786"
             ],
             [
              0.5555555555555556,
              "#d8576b"
             ],
             [
              0.6666666666666666,
              "#ed7953"
             ],
             [
              0.7777777777777778,
              "#fb9f3a"
             ],
             [
              0.8888888888888888,
              "#fdca26"
             ],
             [
              1,
              "#f0f921"
             ]
            ],
            "type": "histogram2dcontour"
           }
          ],
          "mesh3d": [
           {
            "colorbar": {
             "outlinewidth": 0,
             "ticks": ""
            },
            "type": "mesh3d"
           }
          ],
          "parcoords": [
           {
            "line": {
             "colorbar": {
              "outlinewidth": 0,
              "ticks": ""
             }
            },
            "type": "parcoords"
           }
          ],
          "pie": [
           {
            "automargin": true,
            "type": "pie"
           }
          ],
          "scatter": [
           {
            "fillpattern": {
             "fillmode": "overlay",
             "size": 10,
             "solidity": 0.2
            },
            "type": "scatter"
           }
          ],
          "scatter3d": [
           {
            "line": {
             "colorbar": {
              "outlinewidth": 0,
              "ticks": ""
             }
            },
            "marker": {
             "colorbar": {
              "outlinewidth": 0,
              "ticks": ""
             }
            },
            "type": "scatter3d"
           }
          ],
          "scattercarpet": [
           {
            "marker": {
             "colorbar": {
              "outlinewidth": 0,
              "ticks": ""
             }
            },
            "type": "scattercarpet"
           }
          ],
          "scattergeo": [
           {
            "marker": {
             "colorbar": {
              "outlinewidth": 0,
              "ticks": ""
             }
            },
            "type": "scattergeo"
           }
          ],
          "scattergl": [
           {
            "marker": {
             "colorbar": {
              "outlinewidth": 0,
              "ticks": ""
             }
            },
            "type": "scattergl"
           }
          ],
          "scattermapbox": [
           {
            "marker": {
             "colorbar": {
              "outlinewidth": 0,
              "ticks": ""
             }
            },
            "type": "scattermapbox"
           }
          ],
          "scatterpolar": [
           {
            "marker": {
             "colorbar": {
              "outlinewidth": 0,
              "ticks": ""
             }
            },
            "type": "scatterpolar"
           }
          ],
          "scatterpolargl": [
           {
            "marker": {
             "colorbar": {
              "outlinewidth": 0,
              "ticks": ""
             }
            },
            "type": "scatterpolargl"
           }
          ],
          "scatterternary": [
           {
            "marker": {
             "colorbar": {
              "outlinewidth": 0,
              "ticks": ""
             }
            },
            "type": "scatterternary"
           }
          ],
          "surface": [
           {
            "colorbar": {
             "outlinewidth": 0,
             "ticks": ""
            },
            "colorscale": [
             [
              0,
              "#0d0887"
             ],
             [
              0.1111111111111111,
              "#46039f"
             ],
             [
              0.2222222222222222,
              "#7201a8"
             ],
             [
              0.3333333333333333,
              "#9c179e"
             ],
             [
              0.4444444444444444,
              "#bd3786"
             ],
             [
              0.5555555555555556,
              "#d8576b"
             ],
             [
              0.6666666666666666,
              "#ed7953"
             ],
             [
              0.7777777777777778,
              "#fb9f3a"
             ],
             [
              0.8888888888888888,
              "#fdca26"
             ],
             [
              1,
              "#f0f921"
             ]
            ],
            "type": "surface"
           }
          ],
          "table": [
           {
            "cells": {
             "fill": {
              "color": "#EBF0F8"
             },
             "line": {
              "color": "white"
             }
            },
            "header": {
             "fill": {
              "color": "#C8D4E3"
             },
             "line": {
              "color": "white"
             }
            },
            "type": "table"
           }
          ]
         },
         "layout": {
          "annotationdefaults": {
           "arrowcolor": "#2a3f5f",
           "arrowhead": 0,
           "arrowwidth": 1
          },
          "autotypenumbers": "strict",
          "coloraxis": {
           "colorbar": {
            "outlinewidth": 0,
            "ticks": ""
           }
          },
          "colorscale": {
           "diverging": [
            [
             0,
             "#8e0152"
            ],
            [
             0.1,
             "#c51b7d"
            ],
            [
             0.2,
             "#de77ae"
            ],
            [
             0.3,
             "#f1b6da"
            ],
            [
             0.4,
             "#fde0ef"
            ],
            [
             0.5,
             "#f7f7f7"
            ],
            [
             0.6,
             "#e6f5d0"
            ],
            [
             0.7,
             "#b8e186"
            ],
            [
             0.8,
             "#7fbc41"
            ],
            [
             0.9,
             "#4d9221"
            ],
            [
             1,
             "#276419"
            ]
           ],
           "sequential": [
            [
             0,
             "#0d0887"
            ],
            [
             0.1111111111111111,
             "#46039f"
            ],
            [
             0.2222222222222222,
             "#7201a8"
            ],
            [
             0.3333333333333333,
             "#9c179e"
            ],
            [
             0.4444444444444444,
             "#bd3786"
            ],
            [
             0.5555555555555556,
             "#d8576b"
            ],
            [
             0.6666666666666666,
             "#ed7953"
            ],
            [
             0.7777777777777778,
             "#fb9f3a"
            ],
            [
             0.8888888888888888,
             "#fdca26"
            ],
            [
             1,
             "#f0f921"
            ]
           ],
           "sequentialminus": [
            [
             0,
             "#0d0887"
            ],
            [
             0.1111111111111111,
             "#46039f"
            ],
            [
             0.2222222222222222,
             "#7201a8"
            ],
            [
             0.3333333333333333,
             "#9c179e"
            ],
            [
             0.4444444444444444,
             "#bd3786"
            ],
            [
             0.5555555555555556,
             "#d8576b"
            ],
            [
             0.6666666666666666,
             "#ed7953"
            ],
            [
             0.7777777777777778,
             "#fb9f3a"
            ],
            [
             0.8888888888888888,
             "#fdca26"
            ],
            [
             1,
             "#f0f921"
            ]
           ]
          },
          "colorway": [
           "#636efa",
           "#EF553B",
           "#00cc96",
           "#ab63fa",
           "#FFA15A",
           "#19d3f3",
           "#FF6692",
           "#B6E880",
           "#FF97FF",
           "#FECB52"
          ],
          "font": {
           "color": "#2a3f5f"
          },
          "geo": {
           "bgcolor": "white",
           "lakecolor": "white",
           "landcolor": "#E5ECF6",
           "showlakes": true,
           "showland": true,
           "subunitcolor": "white"
          },
          "hoverlabel": {
           "align": "left"
          },
          "hovermode": "closest",
          "mapbox": {
           "style": "light"
          },
          "paper_bgcolor": "white",
          "plot_bgcolor": "#E5ECF6",
          "polar": {
           "angularaxis": {
            "gridcolor": "white",
            "linecolor": "white",
            "ticks": ""
           },
           "bgcolor": "#E5ECF6",
           "radialaxis": {
            "gridcolor": "white",
            "linecolor": "white",
            "ticks": ""
           }
          },
          "scene": {
           "xaxis": {
            "backgroundcolor": "#E5ECF6",
            "gridcolor": "white",
            "gridwidth": 2,
            "linecolor": "white",
            "showbackground": true,
            "ticks": "",
            "zerolinecolor": "white"
           },
           "yaxis": {
            "backgroundcolor": "#E5ECF6",
            "gridcolor": "white",
            "gridwidth": 2,
            "linecolor": "white",
            "showbackground": true,
            "ticks": "",
            "zerolinecolor": "white"
           },
           "zaxis": {
            "backgroundcolor": "#E5ECF6",
            "gridcolor": "white",
            "gridwidth": 2,
            "linecolor": "white",
            "showbackground": true,
            "ticks": "",
            "zerolinecolor": "white"
           }
          },
          "shapedefaults": {
           "line": {
            "color": "#2a3f5f"
           }
          },
          "ternary": {
           "aaxis": {
            "gridcolor": "white",
            "linecolor": "white",
            "ticks": ""
           },
           "baxis": {
            "gridcolor": "white",
            "linecolor": "white",
            "ticks": ""
           },
           "bgcolor": "#E5ECF6",
           "caxis": {
            "gridcolor": "white",
            "linecolor": "white",
            "ticks": ""
           }
          },
          "title": {
           "x": 0.05
          },
          "xaxis": {
           "automargin": true,
           "gridcolor": "white",
           "linecolor": "white",
           "ticks": "",
           "title": {
            "standoff": 15
           },
           "zerolinecolor": "white",
           "zerolinewidth": 2
          },
          "yaxis": {
           "automargin": true,
           "gridcolor": "white",
           "linecolor": "white",
           "ticks": "",
           "title": {
            "standoff": 15
           },
           "zerolinecolor": "white",
           "zerolinewidth": 2
          }
         }
        },
        "title": {
         "text": "Top 5 nhà sản xuất được ưu chuộng nhất tại cữa hàng"
        }
       }
      },
      "text/html": [
       "<div>                            <div id=\"ef4c0609-1c53-4b80-bddd-ff3a4558d912\" class=\"plotly-graph-div\" style=\"height:525px; width:100%;\"></div>            <script type=\"text/javascript\">                require([\"plotly\"], function(Plotly) {                    window.PLOTLYENV=window.PLOTLYENV || {};                                    if (document.getElementById(\"ef4c0609-1c53-4b80-bddd-ff3a4558d912\")) {                    Plotly.newPlot(                        \"ef4c0609-1c53-4b80-bddd-ff3a4558d912\",                        [{\"marker\":{\"color\":[\"aqua\",\"lightgrey\",\"lightgreen\",\"#D0F9B1\",\"khaki\",\"grey\"],\"colorscale\":[[0.0,\"rgb(0,0,131)\"],[0.2,\"rgb(0,60,170)\"],[0.4,\"rgb(5,255,255)\"],[0.6,\"rgb(255,255,0)\"],[0.8,\"rgb(250,0,0)\"],[1.0,\"rgb(128,0,0)\"]]},\"x\":[\"Nike\",\"ADIDAS\",\"Reebok\",\"SKECHERS\",\"Puma\"],\"y\":[230,154,89,87,67],\"type\":\"bar\"}],                        {\"template\":{\"data\":{\"barpolar\":[{\"marker\":{\"line\":{\"color\":\"#E5ECF6\",\"width\":0.5},\"pattern\":{\"fillmode\":\"overlay\",\"size\":10,\"solidity\":0.2}},\"type\":\"barpolar\"}],\"bar\":[{\"error_x\":{\"color\":\"#2a3f5f\"},\"error_y\":{\"color\":\"#2a3f5f\"},\"marker\":{\"line\":{\"color\":\"#E5ECF6\",\"width\":0.5},\"pattern\":{\"fillmode\":\"overlay\",\"size\":10,\"solidity\":0.2}},\"type\":\"bar\"}],\"carpet\":[{\"aaxis\":{\"endlinecolor\":\"#2a3f5f\",\"gridcolor\":\"white\",\"linecolor\":\"white\",\"minorgridcolor\":\"white\",\"startlinecolor\":\"#2a3f5f\"},\"baxis\":{\"endlinecolor\":\"#2a3f5f\",\"gridcolor\":\"white\",\"linecolor\":\"white\",\"minorgridcolor\":\"white\",\"startlinecolor\":\"#2a3f5f\"},\"type\":\"carpet\"}],\"choropleth\":[{\"colorbar\":{\"outlinewidth\":0,\"ticks\":\"\"},\"type\":\"choropleth\"}],\"contourcarpet\":[{\"colorbar\":{\"outlinewidth\":0,\"ticks\":\"\"},\"type\":\"contourcarpet\"}],\"contour\":[{\"colorbar\":{\"outlinewidth\":0,\"ticks\":\"\"},\"colorscale\":[[0.0,\"#0d0887\"],[0.1111111111111111,\"#46039f\"],[0.2222222222222222,\"#7201a8\"],[0.3333333333333333,\"#9c179e\"],[0.4444444444444444,\"#bd3786\"],[0.5555555555555556,\"#d8576b\"],[0.6666666666666666,\"#ed7953\"],[0.7777777777777778,\"#fb9f3a\"],[0.8888888888888888,\"#fdca26\"],[1.0,\"#f0f921\"]],\"type\":\"contour\"}],\"heatmapgl\":[{\"colorbar\":{\"outlinewidth\":0,\"ticks\":\"\"},\"colorscale\":[[0.0,\"#0d0887\"],[0.1111111111111111,\"#46039f\"],[0.2222222222222222,\"#7201a8\"],[0.3333333333333333,\"#9c179e\"],[0.4444444444444444,\"#bd3786\"],[0.5555555555555556,\"#d8576b\"],[0.6666666666666666,\"#ed7953\"],[0.7777777777777778,\"#fb9f3a\"],[0.8888888888888888,\"#fdca26\"],[1.0,\"#f0f921\"]],\"type\":\"heatmapgl\"}],\"heatmap\":[{\"colorbar\":{\"outlinewidth\":0,\"ticks\":\"\"},\"colorscale\":[[0.0,\"#0d0887\"],[0.1111111111111111,\"#46039f\"],[0.2222222222222222,\"#7201a8\"],[0.3333333333333333,\"#9c179e\"],[0.4444444444444444,\"#bd3786\"],[0.5555555555555556,\"#d8576b\"],[0.6666666666666666,\"#ed7953\"],[0.7777777777777778,\"#fb9f3a\"],[0.8888888888888888,\"#fdca26\"],[1.0,\"#f0f921\"]],\"type\":\"heatmap\"}],\"histogram2dcontour\":[{\"colorbar\":{\"outlinewidth\":0,\"ticks\":\"\"},\"colorscale\":[[0.0,\"#0d0887\"],[0.1111111111111111,\"#46039f\"],[0.2222222222222222,\"#7201a8\"],[0.3333333333333333,\"#9c179e\"],[0.4444444444444444,\"#bd3786\"],[0.5555555555555556,\"#d8576b\"],[0.6666666666666666,\"#ed7953\"],[0.7777777777777778,\"#fb9f3a\"],[0.8888888888888888,\"#fdca26\"],[1.0,\"#f0f921\"]],\"type\":\"histogram2dcontour\"}],\"histogram2d\":[{\"colorbar\":{\"outlinewidth\":0,\"ticks\":\"\"},\"colorscale\":[[0.0,\"#0d0887\"],[0.1111111111111111,\"#46039f\"],[0.2222222222222222,\"#7201a8\"],[0.3333333333333333,\"#9c179e\"],[0.4444444444444444,\"#bd3786\"],[0.5555555555555556,\"#d8576b\"],[0.6666666666666666,\"#ed7953\"],[0.7777777777777778,\"#fb9f3a\"],[0.8888888888888888,\"#fdca26\"],[1.0,\"#f0f921\"]],\"type\":\"histogram2d\"}],\"histogram\":[{\"marker\":{\"pattern\":{\"fillmode\":\"overlay\",\"size\":10,\"solidity\":0.2}},\"type\":\"histogram\"}],\"mesh3d\":[{\"colorbar\":{\"outlinewidth\":0,\"ticks\":\"\"},\"type\":\"mesh3d\"}],\"parcoords\":[{\"line\":{\"colorbar\":{\"outlinewidth\":0,\"ticks\":\"\"}},\"type\":\"parcoords\"}],\"pie\":[{\"automargin\":true,\"type\":\"pie\"}],\"scatter3d\":[{\"line\":{\"colorbar\":{\"outlinewidth\":0,\"ticks\":\"\"}},\"marker\":{\"colorbar\":{\"outlinewidth\":0,\"ticks\":\"\"}},\"type\":\"scatter3d\"}],\"scattercarpet\":[{\"marker\":{\"colorbar\":{\"outlinewidth\":0,\"ticks\":\"\"}},\"type\":\"scattercarpet\"}],\"scattergeo\":[{\"marker\":{\"colorbar\":{\"outlinewidth\":0,\"ticks\":\"\"}},\"type\":\"scattergeo\"}],\"scattergl\":[{\"marker\":{\"colorbar\":{\"outlinewidth\":0,\"ticks\":\"\"}},\"type\":\"scattergl\"}],\"scattermapbox\":[{\"marker\":{\"colorbar\":{\"outlinewidth\":0,\"ticks\":\"\"}},\"type\":\"scattermapbox\"}],\"scatterpolargl\":[{\"marker\":{\"colorbar\":{\"outlinewidth\":0,\"ticks\":\"\"}},\"type\":\"scatterpolargl\"}],\"scatterpolar\":[{\"marker\":{\"colorbar\":{\"outlinewidth\":0,\"ticks\":\"\"}},\"type\":\"scatterpolar\"}],\"scatter\":[{\"fillpattern\":{\"fillmode\":\"overlay\",\"size\":10,\"solidity\":0.2},\"type\":\"scatter\"}],\"scatterternary\":[{\"marker\":{\"colorbar\":{\"outlinewidth\":0,\"ticks\":\"\"}},\"type\":\"scatterternary\"}],\"surface\":[{\"colorbar\":{\"outlinewidth\":0,\"ticks\":\"\"},\"colorscale\":[[0.0,\"#0d0887\"],[0.1111111111111111,\"#46039f\"],[0.2222222222222222,\"#7201a8\"],[0.3333333333333333,\"#9c179e\"],[0.4444444444444444,\"#bd3786\"],[0.5555555555555556,\"#d8576b\"],[0.6666666666666666,\"#ed7953\"],[0.7777777777777778,\"#fb9f3a\"],[0.8888888888888888,\"#fdca26\"],[1.0,\"#f0f921\"]],\"type\":\"surface\"}],\"table\":[{\"cells\":{\"fill\":{\"color\":\"#EBF0F8\"},\"line\":{\"color\":\"white\"}},\"header\":{\"fill\":{\"color\":\"#C8D4E3\"},\"line\":{\"color\":\"white\"}},\"type\":\"table\"}]},\"layout\":{\"annotationdefaults\":{\"arrowcolor\":\"#2a3f5f\",\"arrowhead\":0,\"arrowwidth\":1},\"autotypenumbers\":\"strict\",\"coloraxis\":{\"colorbar\":{\"outlinewidth\":0,\"ticks\":\"\"}},\"colorscale\":{\"diverging\":[[0,\"#8e0152\"],[0.1,\"#c51b7d\"],[0.2,\"#de77ae\"],[0.3,\"#f1b6da\"],[0.4,\"#fde0ef\"],[0.5,\"#f7f7f7\"],[0.6,\"#e6f5d0\"],[0.7,\"#b8e186\"],[0.8,\"#7fbc41\"],[0.9,\"#4d9221\"],[1,\"#276419\"]],\"sequential\":[[0.0,\"#0d0887\"],[0.1111111111111111,\"#46039f\"],[0.2222222222222222,\"#7201a8\"],[0.3333333333333333,\"#9c179e\"],[0.4444444444444444,\"#bd3786\"],[0.5555555555555556,\"#d8576b\"],[0.6666666666666666,\"#ed7953\"],[0.7777777777777778,\"#fb9f3a\"],[0.8888888888888888,\"#fdca26\"],[1.0,\"#f0f921\"]],\"sequentialminus\":[[0.0,\"#0d0887\"],[0.1111111111111111,\"#46039f\"],[0.2222222222222222,\"#7201a8\"],[0.3333333333333333,\"#9c179e\"],[0.4444444444444444,\"#bd3786\"],[0.5555555555555556,\"#d8576b\"],[0.6666666666666666,\"#ed7953\"],[0.7777777777777778,\"#fb9f3a\"],[0.8888888888888888,\"#fdca26\"],[1.0,\"#f0f921\"]]},\"colorway\":[\"#636efa\",\"#EF553B\",\"#00cc96\",\"#ab63fa\",\"#FFA15A\",\"#19d3f3\",\"#FF6692\",\"#B6E880\",\"#FF97FF\",\"#FECB52\"],\"font\":{\"color\":\"#2a3f5f\"},\"geo\":{\"bgcolor\":\"white\",\"lakecolor\":\"white\",\"landcolor\":\"#E5ECF6\",\"showlakes\":true,\"showland\":true,\"subunitcolor\":\"white\"},\"hoverlabel\":{\"align\":\"left\"},\"hovermode\":\"closest\",\"mapbox\":{\"style\":\"light\"},\"paper_bgcolor\":\"white\",\"plot_bgcolor\":\"#E5ECF6\",\"polar\":{\"angularaxis\":{\"gridcolor\":\"white\",\"linecolor\":\"white\",\"ticks\":\"\"},\"bgcolor\":\"#E5ECF6\",\"radialaxis\":{\"gridcolor\":\"white\",\"linecolor\":\"white\",\"ticks\":\"\"}},\"scene\":{\"xaxis\":{\"backgroundcolor\":\"#E5ECF6\",\"gridcolor\":\"white\",\"gridwidth\":2,\"linecolor\":\"white\",\"showbackground\":true,\"ticks\":\"\",\"zerolinecolor\":\"white\"},\"yaxis\":{\"backgroundcolor\":\"#E5ECF6\",\"gridcolor\":\"white\",\"gridwidth\":2,\"linecolor\":\"white\",\"showbackground\":true,\"ticks\":\"\",\"zerolinecolor\":\"white\"},\"zaxis\":{\"backgroundcolor\":\"#E5ECF6\",\"gridcolor\":\"white\",\"gridwidth\":2,\"linecolor\":\"white\",\"showbackground\":true,\"ticks\":\"\",\"zerolinecolor\":\"white\"}},\"shapedefaults\":{\"line\":{\"color\":\"#2a3f5f\"}},\"ternary\":{\"aaxis\":{\"gridcolor\":\"white\",\"linecolor\":\"white\",\"ticks\":\"\"},\"baxis\":{\"gridcolor\":\"white\",\"linecolor\":\"white\",\"ticks\":\"\"},\"bgcolor\":\"#E5ECF6\",\"caxis\":{\"gridcolor\":\"white\",\"linecolor\":\"white\",\"ticks\":\"\"}},\"title\":{\"x\":0.05},\"xaxis\":{\"automargin\":true,\"gridcolor\":\"white\",\"linecolor\":\"white\",\"ticks\":\"\",\"title\":{\"standoff\":15},\"zerolinecolor\":\"white\",\"zerolinewidth\":2},\"yaxis\":{\"automargin\":true,\"gridcolor\":\"white\",\"linecolor\":\"white\",\"ticks\":\"\",\"title\":{\"standoff\":15},\"zerolinecolor\":\"white\",\"zerolinewidth\":2}}},\"title\":{\"text\":\"Top 5 nh\\u00e0 s\\u1ea3n xu\\u1ea5t \\u0111\\u01b0\\u1ee3c \\u01b0u chu\\u1ed9ng nh\\u1ea5t t\\u1ea1i c\\u1eefa h\\u00e0ng\"}},                        {\"responsive\": true}                    ).then(function(){\n",
       "                            \n",
       "var gd = document.getElementById('ef4c0609-1c53-4b80-bddd-ff3a4558d912');\n",
       "var x = new MutationObserver(function (mutations, observer) {{\n",
       "        var display = window.getComputedStyle(gd).display;\n",
       "        if (!display || display === 'none') {{\n",
       "            console.log([gd, 'removed!']);\n",
       "            Plotly.purge(gd);\n",
       "            observer.disconnect();\n",
       "        }}\n",
       "}});\n",
       "\n",
       "// Listen for the removal of the full notebook cells\n",
       "var notebookContainer = gd.closest('#notebook-container');\n",
       "if (notebookContainer) {{\n",
       "    x.observe(notebookContainer, {childList: true});\n",
       "}}\n",
       "\n",
       "// Listen for the clearing of the current output cell\n",
       "var outputEl = gd.closest('.output');\n",
       "if (outputEl) {{\n",
       "    x.observe(outputEl, {childList: true});\n",
       "}}\n",
       "\n",
       "                        })                };                });            </script>        </div>"
      ]
     },
     "metadata": {},
     "output_type": "display_data"
    }
   ],
   "source": [
    "#Quetions 2: Những nhà sản xuất nào được khách hàng ưa chuộng nhất ?\n",
    "Q2 = df['Nhà sản xuất'].value_counts()\n",
    "print(Q2)\n",
    "print(\"-----------------------------------------------------------------------------\")\n",
    "print(\"Hãng sản xuất nào được ưu chuộng nhiều nhất: \", Q2.index[0])\n",
    "print(\"Hãng sản xuất nào được ưu chuộng thấp nhất: \", Q2.index[8])\n",
    "print(\"-----------------------------------------------------------------------------\")\n",
    "plt.figure(figsize=(10,10))\n",
    "sns.countplot(x='Nhà sản xuất', data=df)\n",
    "plt.title(\"Số Lượng sản phẩm được bán ra trong cữa hàng của từng nhà sản xuất\")\n",
    "plt.show()\n",
    "\n",
    "colors = ['aqua', 'lightgrey', 'lightgreen', '#D0F9B1', 'khaki', 'grey']\n",
    "label = Q2.index[:5]\n",
    "size = Q2.values[:5]\n",
    "trace1 = go.Bar(x=label, \n",
    "               y=size, \n",
    "              marker=dict(\n",
    "        color=colors,\n",
    "        colorscale = \"Jet\"))\n",
    "data = [trace1]\n",
    "layout = go.Layout(title='Top 5 nhà sản xuất được ưu chuộng nhất tại cữa hàng')\n",
    "\n",
    "fig = go.Figure(data=data, layout=layout)\n",
    "py.iplot(fig)"
   ]
  },
  {
   "cell_type": "code",
   "execution_count": 27,
   "metadata": {
    "id": "z7bemA6-AJjH",
    "outputId": "d5d1068a-82c0-4bc5-9fd6-b05601a647cf"
   },
   "outputs": [
    {
     "name": "stdout",
     "output_type": "stream",
     "text": [
      "4964 - Giày nam       413\n",
      "4965 - Giày nữ        236\n",
      "4966 - Giày unisex    102\n",
      "4981 - Dép Unisex       3\n",
      "Name: Nhóm hàng, dtype: int64\n",
      "-----------------------------------------------------------------------------\n",
      "Nhóm hàng bán ra nhiều nhất:  4964 - Giày nam\n",
      "Nhóm hàng bán ra ít nhất: 4981 - Dép Unisex\n",
      "-----------------------------------------------------------------------------\n"
     ]
    },
    {
     "data": {
      "application/vnd.plotly.v1+json": {
       "config": {
        "linkText": "Export to plot.ly",
        "plotlyServerURL": "https://plot.ly",
        "showLink": false
       },
       "data": [
        {
         "labels": [
          "4964 - Giày nam",
          "4965 - Giày nữ",
          "4966 - Giày unisex",
          "4981 - Dép Unisex"
         ],
         "marker": {
          "colors": [
           "aqua",
           "lightgreen"
          ]
         },
         "type": "pie",
         "values": [
          413,
          236,
          102,
          3
         ]
        }
       ],
       "layout": {
        "template": {
         "data": {
          "bar": [
           {
            "error_x": {
             "color": "#2a3f5f"
            },
            "error_y": {
             "color": "#2a3f5f"
            },
            "marker": {
             "line": {
              "color": "#E5ECF6",
              "width": 0.5
             },
             "pattern": {
              "fillmode": "overlay",
              "size": 10,
              "solidity": 0.2
             }
            },
            "type": "bar"
           }
          ],
          "barpolar": [
           {
            "marker": {
             "line": {
              "color": "#E5ECF6",
              "width": 0.5
             },
             "pattern": {
              "fillmode": "overlay",
              "size": 10,
              "solidity": 0.2
             }
            },
            "type": "barpolar"
           }
          ],
          "carpet": [
           {
            "aaxis": {
             "endlinecolor": "#2a3f5f",
             "gridcolor": "white",
             "linecolor": "white",
             "minorgridcolor": "white",
             "startlinecolor": "#2a3f5f"
            },
            "baxis": {
             "endlinecolor": "#2a3f5f",
             "gridcolor": "white",
             "linecolor": "white",
             "minorgridcolor": "white",
             "startlinecolor": "#2a3f5f"
            },
            "type": "carpet"
           }
          ],
          "choropleth": [
           {
            "colorbar": {
             "outlinewidth": 0,
             "ticks": ""
            },
            "type": "choropleth"
           }
          ],
          "contour": [
           {
            "colorbar": {
             "outlinewidth": 0,
             "ticks": ""
            },
            "colorscale": [
             [
              0,
              "#0d0887"
             ],
             [
              0.1111111111111111,
              "#46039f"
             ],
             [
              0.2222222222222222,
              "#7201a8"
             ],
             [
              0.3333333333333333,
              "#9c179e"
             ],
             [
              0.4444444444444444,
              "#bd3786"
             ],
             [
              0.5555555555555556,
              "#d8576b"
             ],
             [
              0.6666666666666666,
              "#ed7953"
             ],
             [
              0.7777777777777778,
              "#fb9f3a"
             ],
             [
              0.8888888888888888,
              "#fdca26"
             ],
             [
              1,
              "#f0f921"
             ]
            ],
            "type": "contour"
           }
          ],
          "contourcarpet": [
           {
            "colorbar": {
             "outlinewidth": 0,
             "ticks": ""
            },
            "type": "contourcarpet"
           }
          ],
          "heatmap": [
           {
            "colorbar": {
             "outlinewidth": 0,
             "ticks": ""
            },
            "colorscale": [
             [
              0,
              "#0d0887"
             ],
             [
              0.1111111111111111,
              "#46039f"
             ],
             [
              0.2222222222222222,
              "#7201a8"
             ],
             [
              0.3333333333333333,
              "#9c179e"
             ],
             [
              0.4444444444444444,
              "#bd3786"
             ],
             [
              0.5555555555555556,
              "#d8576b"
             ],
             [
              0.6666666666666666,
              "#ed7953"
             ],
             [
              0.7777777777777778,
              "#fb9f3a"
             ],
             [
              0.8888888888888888,
              "#fdca26"
             ],
             [
              1,
              "#f0f921"
             ]
            ],
            "type": "heatmap"
           }
          ],
          "heatmapgl": [
           {
            "colorbar": {
             "outlinewidth": 0,
             "ticks": ""
            },
            "colorscale": [
             [
              0,
              "#0d0887"
             ],
             [
              0.1111111111111111,
              "#46039f"
             ],
             [
              0.2222222222222222,
              "#7201a8"
             ],
             [
              0.3333333333333333,
              "#9c179e"
             ],
             [
              0.4444444444444444,
              "#bd3786"
             ],
             [
              0.5555555555555556,
              "#d8576b"
             ],
             [
              0.6666666666666666,
              "#ed7953"
             ],
             [
              0.7777777777777778,
              "#fb9f3a"
             ],
             [
              0.8888888888888888,
              "#fdca26"
             ],
             [
              1,
              "#f0f921"
             ]
            ],
            "type": "heatmapgl"
           }
          ],
          "histogram": [
           {
            "marker": {
             "pattern": {
              "fillmode": "overlay",
              "size": 10,
              "solidity": 0.2
             }
            },
            "type": "histogram"
           }
          ],
          "histogram2d": [
           {
            "colorbar": {
             "outlinewidth": 0,
             "ticks": ""
            },
            "colorscale": [
             [
              0,
              "#0d0887"
             ],
             [
              0.1111111111111111,
              "#46039f"
             ],
             [
              0.2222222222222222,
              "#7201a8"
             ],
             [
              0.3333333333333333,
              "#9c179e"
             ],
             [
              0.4444444444444444,
              "#bd3786"
             ],
             [
              0.5555555555555556,
              "#d8576b"
             ],
             [
              0.6666666666666666,
              "#ed7953"
             ],
             [
              0.7777777777777778,
              "#fb9f3a"
             ],
             [
              0.8888888888888888,
              "#fdca26"
             ],
             [
              1,
              "#f0f921"
             ]
            ],
            "type": "histogram2d"
           }
          ],
          "histogram2dcontour": [
           {
            "colorbar": {
             "outlinewidth": 0,
             "ticks": ""
            },
            "colorscale": [
             [
              0,
              "#0d0887"
             ],
             [
              0.1111111111111111,
              "#46039f"
             ],
             [
              0.2222222222222222,
              "#7201a8"
             ],
             [
              0.3333333333333333,
              "#9c179e"
             ],
             [
              0.4444444444444444,
              "#bd3786"
             ],
             [
              0.5555555555555556,
              "#d8576b"
             ],
             [
              0.6666666666666666,
              "#ed7953"
             ],
             [
              0.7777777777777778,
              "#fb9f3a"
             ],
             [
              0.8888888888888888,
              "#fdca26"
             ],
             [
              1,
              "#f0f921"
             ]
            ],
            "type": "histogram2dcontour"
           }
          ],
          "mesh3d": [
           {
            "colorbar": {
             "outlinewidth": 0,
             "ticks": ""
            },
            "type": "mesh3d"
           }
          ],
          "parcoords": [
           {
            "line": {
             "colorbar": {
              "outlinewidth": 0,
              "ticks": ""
             }
            },
            "type": "parcoords"
           }
          ],
          "pie": [
           {
            "automargin": true,
            "type": "pie"
           }
          ],
          "scatter": [
           {
            "fillpattern": {
             "fillmode": "overlay",
             "size": 10,
             "solidity": 0.2
            },
            "type": "scatter"
           }
          ],
          "scatter3d": [
           {
            "line": {
             "colorbar": {
              "outlinewidth": 0,
              "ticks": ""
             }
            },
            "marker": {
             "colorbar": {
              "outlinewidth": 0,
              "ticks": ""
             }
            },
            "type": "scatter3d"
           }
          ],
          "scattercarpet": [
           {
            "marker": {
             "colorbar": {
              "outlinewidth": 0,
              "ticks": ""
             }
            },
            "type": "scattercarpet"
           }
          ],
          "scattergeo": [
           {
            "marker": {
             "colorbar": {
              "outlinewidth": 0,
              "ticks": ""
             }
            },
            "type": "scattergeo"
           }
          ],
          "scattergl": [
           {
            "marker": {
             "colorbar": {
              "outlinewidth": 0,
              "ticks": ""
             }
            },
            "type": "scattergl"
           }
          ],
          "scattermapbox": [
           {
            "marker": {
             "colorbar": {
              "outlinewidth": 0,
              "ticks": ""
             }
            },
            "type": "scattermapbox"
           }
          ],
          "scatterpolar": [
           {
            "marker": {
             "colorbar": {
              "outlinewidth": 0,
              "ticks": ""
             }
            },
            "type": "scatterpolar"
           }
          ],
          "scatterpolargl": [
           {
            "marker": {
             "colorbar": {
              "outlinewidth": 0,
              "ticks": ""
             }
            },
            "type": "scatterpolargl"
           }
          ],
          "scatterternary": [
           {
            "marker": {
             "colorbar": {
              "outlinewidth": 0,
              "ticks": ""
             }
            },
            "type": "scatterternary"
           }
          ],
          "surface": [
           {
            "colorbar": {
             "outlinewidth": 0,
             "ticks": ""
            },
            "colorscale": [
             [
              0,
              "#0d0887"
             ],
             [
              0.1111111111111111,
              "#46039f"
             ],
             [
              0.2222222222222222,
              "#7201a8"
             ],
             [
              0.3333333333333333,
              "#9c179e"
             ],
             [
              0.4444444444444444,
              "#bd3786"
             ],
             [
              0.5555555555555556,
              "#d8576b"
             ],
             [
              0.6666666666666666,
              "#ed7953"
             ],
             [
              0.7777777777777778,
              "#fb9f3a"
             ],
             [
              0.8888888888888888,
              "#fdca26"
             ],
             [
              1,
              "#f0f921"
             ]
            ],
            "type": "surface"
           }
          ],
          "table": [
           {
            "cells": {
             "fill": {
              "color": "#EBF0F8"
             },
             "line": {
              "color": "white"
             }
            },
            "header": {
             "fill": {
              "color": "#C8D4E3"
             },
             "line": {
              "color": "white"
             }
            },
            "type": "table"
           }
          ]
         },
         "layout": {
          "annotationdefaults": {
           "arrowcolor": "#2a3f5f",
           "arrowhead": 0,
           "arrowwidth": 1
          },
          "autotypenumbers": "strict",
          "coloraxis": {
           "colorbar": {
            "outlinewidth": 0,
            "ticks": ""
           }
          },
          "colorscale": {
           "diverging": [
            [
             0,
             "#8e0152"
            ],
            [
             0.1,
             "#c51b7d"
            ],
            [
             0.2,
             "#de77ae"
            ],
            [
             0.3,
             "#f1b6da"
            ],
            [
             0.4,
             "#fde0ef"
            ],
            [
             0.5,
             "#f7f7f7"
            ],
            [
             0.6,
             "#e6f5d0"
            ],
            [
             0.7,
             "#b8e186"
            ],
            [
             0.8,
             "#7fbc41"
            ],
            [
             0.9,
             "#4d9221"
            ],
            [
             1,
             "#276419"
            ]
           ],
           "sequential": [
            [
             0,
             "#0d0887"
            ],
            [
             0.1111111111111111,
             "#46039f"
            ],
            [
             0.2222222222222222,
             "#7201a8"
            ],
            [
             0.3333333333333333,
             "#9c179e"
            ],
            [
             0.4444444444444444,
             "#bd3786"
            ],
            [
             0.5555555555555556,
             "#d8576b"
            ],
            [
             0.6666666666666666,
             "#ed7953"
            ],
            [
             0.7777777777777778,
             "#fb9f3a"
            ],
            [
             0.8888888888888888,
             "#fdca26"
            ],
            [
             1,
             "#f0f921"
            ]
           ],
           "sequentialminus": [
            [
             0,
             "#0d0887"
            ],
            [
             0.1111111111111111,
             "#46039f"
            ],
            [
             0.2222222222222222,
             "#7201a8"
            ],
            [
             0.3333333333333333,
             "#9c179e"
            ],
            [
             0.4444444444444444,
             "#bd3786"
            ],
            [
             0.5555555555555556,
             "#d8576b"
            ],
            [
             0.6666666666666666,
             "#ed7953"
            ],
            [
             0.7777777777777778,
             "#fb9f3a"
            ],
            [
             0.8888888888888888,
             "#fdca26"
            ],
            [
             1,
             "#f0f921"
            ]
           ]
          },
          "colorway": [
           "#636efa",
           "#EF553B",
           "#00cc96",
           "#ab63fa",
           "#FFA15A",
           "#19d3f3",
           "#FF6692",
           "#B6E880",
           "#FF97FF",
           "#FECB52"
          ],
          "font": {
           "color": "#2a3f5f"
          },
          "geo": {
           "bgcolor": "white",
           "lakecolor": "white",
           "landcolor": "#E5ECF6",
           "showlakes": true,
           "showland": true,
           "subunitcolor": "white"
          },
          "hoverlabel": {
           "align": "left"
          },
          "hovermode": "closest",
          "mapbox": {
           "style": "light"
          },
          "paper_bgcolor": "white",
          "plot_bgcolor": "#E5ECF6",
          "polar": {
           "angularaxis": {
            "gridcolor": "white",
            "linecolor": "white",
            "ticks": ""
           },
           "bgcolor": "#E5ECF6",
           "radialaxis": {
            "gridcolor": "white",
            "linecolor": "white",
            "ticks": ""
           }
          },
          "scene": {
           "xaxis": {
            "backgroundcolor": "#E5ECF6",
            "gridcolor": "white",
            "gridwidth": 2,
            "linecolor": "white",
            "showbackground": true,
            "ticks": "",
            "zerolinecolor": "white"
           },
           "yaxis": {
            "backgroundcolor": "#E5ECF6",
            "gridcolor": "white",
            "gridwidth": 2,
            "linecolor": "white",
            "showbackground": true,
            "ticks": "",
            "zerolinecolor": "white"
           },
           "zaxis": {
            "backgroundcolor": "#E5ECF6",
            "gridcolor": "white",
            "gridwidth": 2,
            "linecolor": "white",
            "showbackground": true,
            "ticks": "",
            "zerolinecolor": "white"
           }
          },
          "shapedefaults": {
           "line": {
            "color": "#2a3f5f"
           }
          },
          "ternary": {
           "aaxis": {
            "gridcolor": "white",
            "linecolor": "white",
            "ticks": ""
           },
           "baxis": {
            "gridcolor": "white",
            "linecolor": "white",
            "ticks": ""
           },
           "bgcolor": "#E5ECF6",
           "caxis": {
            "gridcolor": "white",
            "linecolor": "white",
            "ticks": ""
           }
          },
          "title": {
           "x": 0.05
          },
          "xaxis": {
           "automargin": true,
           "gridcolor": "white",
           "linecolor": "white",
           "ticks": "",
           "title": {
            "standoff": 15
           },
           "zerolinecolor": "white",
           "zerolinewidth": 2
          },
          "yaxis": {
           "automargin": true,
           "gridcolor": "white",
           "linecolor": "white",
           "ticks": "",
           "title": {
            "standoff": 15
           },
           "zerolinecolor": "white",
           "zerolinewidth": 2
          }
         }
        },
        "title": {
         "text": "Phân phối nhóm hàng"
        }
       }
      },
      "text/html": [
       "<div>                            <div id=\"fcf1e093-685f-4d23-8c4d-6b192f806c3e\" class=\"plotly-graph-div\" style=\"height:525px; width:100%;\"></div>            <script type=\"text/javascript\">                require([\"plotly\"], function(Plotly) {                    window.PLOTLYENV=window.PLOTLYENV || {};                                    if (document.getElementById(\"fcf1e093-685f-4d23-8c4d-6b192f806c3e\")) {                    Plotly.newPlot(                        \"fcf1e093-685f-4d23-8c4d-6b192f806c3e\",                        [{\"labels\":[\"4964 - Gi\\u00e0y nam\",\"4965 - Gi\\u00e0y n\\u1eef\",\"4966 - Gi\\u00e0y unisex\",\"4981 - D\\u00e9p Unisex\"],\"marker\":{\"colors\":[\"aqua\",\"lightgreen\"]},\"values\":[413,236,102,3],\"type\":\"pie\"}],                        {\"template\":{\"data\":{\"barpolar\":[{\"marker\":{\"line\":{\"color\":\"#E5ECF6\",\"width\":0.5},\"pattern\":{\"fillmode\":\"overlay\",\"size\":10,\"solidity\":0.2}},\"type\":\"barpolar\"}],\"bar\":[{\"error_x\":{\"color\":\"#2a3f5f\"},\"error_y\":{\"color\":\"#2a3f5f\"},\"marker\":{\"line\":{\"color\":\"#E5ECF6\",\"width\":0.5},\"pattern\":{\"fillmode\":\"overlay\",\"size\":10,\"solidity\":0.2}},\"type\":\"bar\"}],\"carpet\":[{\"aaxis\":{\"endlinecolor\":\"#2a3f5f\",\"gridcolor\":\"white\",\"linecolor\":\"white\",\"minorgridcolor\":\"white\",\"startlinecolor\":\"#2a3f5f\"},\"baxis\":{\"endlinecolor\":\"#2a3f5f\",\"gridcolor\":\"white\",\"linecolor\":\"white\",\"minorgridcolor\":\"white\",\"startlinecolor\":\"#2a3f5f\"},\"type\":\"carpet\"}],\"choropleth\":[{\"colorbar\":{\"outlinewidth\":0,\"ticks\":\"\"},\"type\":\"choropleth\"}],\"contourcarpet\":[{\"colorbar\":{\"outlinewidth\":0,\"ticks\":\"\"},\"type\":\"contourcarpet\"}],\"contour\":[{\"colorbar\":{\"outlinewidth\":0,\"ticks\":\"\"},\"colorscale\":[[0.0,\"#0d0887\"],[0.1111111111111111,\"#46039f\"],[0.2222222222222222,\"#7201a8\"],[0.3333333333333333,\"#9c179e\"],[0.4444444444444444,\"#bd3786\"],[0.5555555555555556,\"#d8576b\"],[0.6666666666666666,\"#ed7953\"],[0.7777777777777778,\"#fb9f3a\"],[0.8888888888888888,\"#fdca26\"],[1.0,\"#f0f921\"]],\"type\":\"contour\"}],\"heatmapgl\":[{\"colorbar\":{\"outlinewidth\":0,\"ticks\":\"\"},\"colorscale\":[[0.0,\"#0d0887\"],[0.1111111111111111,\"#46039f\"],[0.2222222222222222,\"#7201a8\"],[0.3333333333333333,\"#9c179e\"],[0.4444444444444444,\"#bd3786\"],[0.5555555555555556,\"#d8576b\"],[0.6666666666666666,\"#ed7953\"],[0.7777777777777778,\"#fb9f3a\"],[0.8888888888888888,\"#fdca26\"],[1.0,\"#f0f921\"]],\"type\":\"heatmapgl\"}],\"heatmap\":[{\"colorbar\":{\"outlinewidth\":0,\"ticks\":\"\"},\"colorscale\":[[0.0,\"#0d0887\"],[0.1111111111111111,\"#46039f\"],[0.2222222222222222,\"#7201a8\"],[0.3333333333333333,\"#9c179e\"],[0.4444444444444444,\"#bd3786\"],[0.5555555555555556,\"#d8576b\"],[0.6666666666666666,\"#ed7953\"],[0.7777777777777778,\"#fb9f3a\"],[0.8888888888888888,\"#fdca26\"],[1.0,\"#f0f921\"]],\"type\":\"heatmap\"}],\"histogram2dcontour\":[{\"colorbar\":{\"outlinewidth\":0,\"ticks\":\"\"},\"colorscale\":[[0.0,\"#0d0887\"],[0.1111111111111111,\"#46039f\"],[0.2222222222222222,\"#7201a8\"],[0.3333333333333333,\"#9c179e\"],[0.4444444444444444,\"#bd3786\"],[0.5555555555555556,\"#d8576b\"],[0.6666666666666666,\"#ed7953\"],[0.7777777777777778,\"#fb9f3a\"],[0.8888888888888888,\"#fdca26\"],[1.0,\"#f0f921\"]],\"type\":\"histogram2dcontour\"}],\"histogram2d\":[{\"colorbar\":{\"outlinewidth\":0,\"ticks\":\"\"},\"colorscale\":[[0.0,\"#0d0887\"],[0.1111111111111111,\"#46039f\"],[0.2222222222222222,\"#7201a8\"],[0.3333333333333333,\"#9c179e\"],[0.4444444444444444,\"#bd3786\"],[0.5555555555555556,\"#d8576b\"],[0.6666666666666666,\"#ed7953\"],[0.7777777777777778,\"#fb9f3a\"],[0.8888888888888888,\"#fdca26\"],[1.0,\"#f0f921\"]],\"type\":\"histogram2d\"}],\"histogram\":[{\"marker\":{\"pattern\":{\"fillmode\":\"overlay\",\"size\":10,\"solidity\":0.2}},\"type\":\"histogram\"}],\"mesh3d\":[{\"colorbar\":{\"outlinewidth\":0,\"ticks\":\"\"},\"type\":\"mesh3d\"}],\"parcoords\":[{\"line\":{\"colorbar\":{\"outlinewidth\":0,\"ticks\":\"\"}},\"type\":\"parcoords\"}],\"pie\":[{\"automargin\":true,\"type\":\"pie\"}],\"scatter3d\":[{\"line\":{\"colorbar\":{\"outlinewidth\":0,\"ticks\":\"\"}},\"marker\":{\"colorbar\":{\"outlinewidth\":0,\"ticks\":\"\"}},\"type\":\"scatter3d\"}],\"scattercarpet\":[{\"marker\":{\"colorbar\":{\"outlinewidth\":0,\"ticks\":\"\"}},\"type\":\"scattercarpet\"}],\"scattergeo\":[{\"marker\":{\"colorbar\":{\"outlinewidth\":0,\"ticks\":\"\"}},\"type\":\"scattergeo\"}],\"scattergl\":[{\"marker\":{\"colorbar\":{\"outlinewidth\":0,\"ticks\":\"\"}},\"type\":\"scattergl\"}],\"scattermapbox\":[{\"marker\":{\"colorbar\":{\"outlinewidth\":0,\"ticks\":\"\"}},\"type\":\"scattermapbox\"}],\"scatterpolargl\":[{\"marker\":{\"colorbar\":{\"outlinewidth\":0,\"ticks\":\"\"}},\"type\":\"scatterpolargl\"}],\"scatterpolar\":[{\"marker\":{\"colorbar\":{\"outlinewidth\":0,\"ticks\":\"\"}},\"type\":\"scatterpolar\"}],\"scatter\":[{\"fillpattern\":{\"fillmode\":\"overlay\",\"size\":10,\"solidity\":0.2},\"type\":\"scatter\"}],\"scatterternary\":[{\"marker\":{\"colorbar\":{\"outlinewidth\":0,\"ticks\":\"\"}},\"type\":\"scatterternary\"}],\"surface\":[{\"colorbar\":{\"outlinewidth\":0,\"ticks\":\"\"},\"colorscale\":[[0.0,\"#0d0887\"],[0.1111111111111111,\"#46039f\"],[0.2222222222222222,\"#7201a8\"],[0.3333333333333333,\"#9c179e\"],[0.4444444444444444,\"#bd3786\"],[0.5555555555555556,\"#d8576b\"],[0.6666666666666666,\"#ed7953\"],[0.7777777777777778,\"#fb9f3a\"],[0.8888888888888888,\"#fdca26\"],[1.0,\"#f0f921\"]],\"type\":\"surface\"}],\"table\":[{\"cells\":{\"fill\":{\"color\":\"#EBF0F8\"},\"line\":{\"color\":\"white\"}},\"header\":{\"fill\":{\"color\":\"#C8D4E3\"},\"line\":{\"color\":\"white\"}},\"type\":\"table\"}]},\"layout\":{\"annotationdefaults\":{\"arrowcolor\":\"#2a3f5f\",\"arrowhead\":0,\"arrowwidth\":1},\"autotypenumbers\":\"strict\",\"coloraxis\":{\"colorbar\":{\"outlinewidth\":0,\"ticks\":\"\"}},\"colorscale\":{\"diverging\":[[0,\"#8e0152\"],[0.1,\"#c51b7d\"],[0.2,\"#de77ae\"],[0.3,\"#f1b6da\"],[0.4,\"#fde0ef\"],[0.5,\"#f7f7f7\"],[0.6,\"#e6f5d0\"],[0.7,\"#b8e186\"],[0.8,\"#7fbc41\"],[0.9,\"#4d9221\"],[1,\"#276419\"]],\"sequential\":[[0.0,\"#0d0887\"],[0.1111111111111111,\"#46039f\"],[0.2222222222222222,\"#7201a8\"],[0.3333333333333333,\"#9c179e\"],[0.4444444444444444,\"#bd3786\"],[0.5555555555555556,\"#d8576b\"],[0.6666666666666666,\"#ed7953\"],[0.7777777777777778,\"#fb9f3a\"],[0.8888888888888888,\"#fdca26\"],[1.0,\"#f0f921\"]],\"sequentialminus\":[[0.0,\"#0d0887\"],[0.1111111111111111,\"#46039f\"],[0.2222222222222222,\"#7201a8\"],[0.3333333333333333,\"#9c179e\"],[0.4444444444444444,\"#bd3786\"],[0.5555555555555556,\"#d8576b\"],[0.6666666666666666,\"#ed7953\"],[0.7777777777777778,\"#fb9f3a\"],[0.8888888888888888,\"#fdca26\"],[1.0,\"#f0f921\"]]},\"colorway\":[\"#636efa\",\"#EF553B\",\"#00cc96\",\"#ab63fa\",\"#FFA15A\",\"#19d3f3\",\"#FF6692\",\"#B6E880\",\"#FF97FF\",\"#FECB52\"],\"font\":{\"color\":\"#2a3f5f\"},\"geo\":{\"bgcolor\":\"white\",\"lakecolor\":\"white\",\"landcolor\":\"#E5ECF6\",\"showlakes\":true,\"showland\":true,\"subunitcolor\":\"white\"},\"hoverlabel\":{\"align\":\"left\"},\"hovermode\":\"closest\",\"mapbox\":{\"style\":\"light\"},\"paper_bgcolor\":\"white\",\"plot_bgcolor\":\"#E5ECF6\",\"polar\":{\"angularaxis\":{\"gridcolor\":\"white\",\"linecolor\":\"white\",\"ticks\":\"\"},\"bgcolor\":\"#E5ECF6\",\"radialaxis\":{\"gridcolor\":\"white\",\"linecolor\":\"white\",\"ticks\":\"\"}},\"scene\":{\"xaxis\":{\"backgroundcolor\":\"#E5ECF6\",\"gridcolor\":\"white\",\"gridwidth\":2,\"linecolor\":\"white\",\"showbackground\":true,\"ticks\":\"\",\"zerolinecolor\":\"white\"},\"yaxis\":{\"backgroundcolor\":\"#E5ECF6\",\"gridcolor\":\"white\",\"gridwidth\":2,\"linecolor\":\"white\",\"showbackground\":true,\"ticks\":\"\",\"zerolinecolor\":\"white\"},\"zaxis\":{\"backgroundcolor\":\"#E5ECF6\",\"gridcolor\":\"white\",\"gridwidth\":2,\"linecolor\":\"white\",\"showbackground\":true,\"ticks\":\"\",\"zerolinecolor\":\"white\"}},\"shapedefaults\":{\"line\":{\"color\":\"#2a3f5f\"}},\"ternary\":{\"aaxis\":{\"gridcolor\":\"white\",\"linecolor\":\"white\",\"ticks\":\"\"},\"baxis\":{\"gridcolor\":\"white\",\"linecolor\":\"white\",\"ticks\":\"\"},\"bgcolor\":\"#E5ECF6\",\"caxis\":{\"gridcolor\":\"white\",\"linecolor\":\"white\",\"ticks\":\"\"}},\"title\":{\"x\":0.05},\"xaxis\":{\"automargin\":true,\"gridcolor\":\"white\",\"linecolor\":\"white\",\"ticks\":\"\",\"title\":{\"standoff\":15},\"zerolinecolor\":\"white\",\"zerolinewidth\":2},\"yaxis\":{\"automargin\":true,\"gridcolor\":\"white\",\"linecolor\":\"white\",\"ticks\":\"\",\"title\":{\"standoff\":15},\"zerolinecolor\":\"white\",\"zerolinewidth\":2}}},\"title\":{\"text\":\"Ph\\u00e2n ph\\u1ed1i nh\\u00f3m h\\u00e0ng\"}},                        {\"responsive\": true}                    ).then(function(){\n",
       "                            \n",
       "var gd = document.getElementById('fcf1e093-685f-4d23-8c4d-6b192f806c3e');\n",
       "var x = new MutationObserver(function (mutations, observer) {{\n",
       "        var display = window.getComputedStyle(gd).display;\n",
       "        if (!display || display === 'none') {{\n",
       "            console.log([gd, 'removed!']);\n",
       "            Plotly.purge(gd);\n",
       "            observer.disconnect();\n",
       "        }}\n",
       "}});\n",
       "\n",
       "// Listen for the removal of the full notebook cells\n",
       "var notebookContainer = gd.closest('#notebook-container');\n",
       "if (notebookContainer) {{\n",
       "    x.observe(notebookContainer, {childList: true});\n",
       "}}\n",
       "\n",
       "// Listen for the clearing of the current output cell\n",
       "var outputEl = gd.closest('.output');\n",
       "if (outputEl) {{\n",
       "    x.observe(outputEl, {childList: true});\n",
       "}}\n",
       "\n",
       "                        })                };                });            </script>        </div>"
      ]
     },
     "metadata": {},
     "output_type": "display_data"
    }
   ],
   "source": [
    "#Quetions 3: Nhóm hàng nào tại cửa hàng được bán ra nhiều nhất (Giày nam , Giày nữ , Giày Unisex, Dép Unisex)?\n",
    "Q3 = df['Nhóm hàng'].value_counts()\n",
    "print(Q3)\n",
    "print(\"-----------------------------------------------------------------------------\")\n",
    "print(\"Nhóm hàng bán ra nhiều nhất: \", Q3.index[0])\n",
    "print(\"Nhóm hàng bán ra ít nhất:\", Q3.index[3])\n",
    "print(\"-----------------------------------------------------------------------------\")\n",
    "colors = ['aqua','lightgreen']\n",
    "label = Q3.index\n",
    "size = Q3.values\n",
    "trace = go.Pie(labels=label, \n",
    "               values=size, \n",
    "               marker=dict(colors=colors))\n",
    "data = [trace]\n",
    "layout = go.Layout(title='Phân phối nhóm hàng')\n",
    "\n",
    "fig = go.Figure(data=data, layout=layout)\n",
    "py.iplot(fig)"
   ]
  },
  {
   "cell_type": "code",
   "execution_count": 28,
   "metadata": {
    "id": "MIhig-LNAJjI",
    "outputId": "61a996cd-3104-4ff5-ca1a-86a225d43a21"
   },
   "outputs": [
    {
     "data": {
      "application/vnd.plotly.v1+json": {
       "config": {
        "linkText": "Export to plot.ly",
        "plotlyServerURL": "https://plot.ly",
        "showLink": false
       },
       "data": [
        {
         "hoverinfo": "value",
         "labels": [
          "Giao tại siêu thị",
          "Giao hàng qua bộ phận shipper - Tận Tâm",
          "Giao hàng qua Nhất Tín",
          "Siêu thị đi giao",
          "Giao hàng qua sàn TMĐT"
         ],
         "marker": {
          "colors": [
           "red"
          ]
         },
         "type": "pie",
         "values": [
          508,
          173,
          39,
          31,
          3
         ]
        }
       ],
       "layout": {
        "template": {
         "data": {
          "bar": [
           {
            "error_x": {
             "color": "#2a3f5f"
            },
            "error_y": {
             "color": "#2a3f5f"
            },
            "marker": {
             "line": {
              "color": "#E5ECF6",
              "width": 0.5
             },
             "pattern": {
              "fillmode": "overlay",
              "size": 10,
              "solidity": 0.2
             }
            },
            "type": "bar"
           }
          ],
          "barpolar": [
           {
            "marker": {
             "line": {
              "color": "#E5ECF6",
              "width": 0.5
             },
             "pattern": {
              "fillmode": "overlay",
              "size": 10,
              "solidity": 0.2
             }
            },
            "type": "barpolar"
           }
          ],
          "carpet": [
           {
            "aaxis": {
             "endlinecolor": "#2a3f5f",
             "gridcolor": "white",
             "linecolor": "white",
             "minorgridcolor": "white",
             "startlinecolor": "#2a3f5f"
            },
            "baxis": {
             "endlinecolor": "#2a3f5f",
             "gridcolor": "white",
             "linecolor": "white",
             "minorgridcolor": "white",
             "startlinecolor": "#2a3f5f"
            },
            "type": "carpet"
           }
          ],
          "choropleth": [
           {
            "colorbar": {
             "outlinewidth": 0,
             "ticks": ""
            },
            "type": "choropleth"
           }
          ],
          "contour": [
           {
            "colorbar": {
             "outlinewidth": 0,
             "ticks": ""
            },
            "colorscale": [
             [
              0,
              "#0d0887"
             ],
             [
              0.1111111111111111,
              "#46039f"
             ],
             [
              0.2222222222222222,
              "#7201a8"
             ],
             [
              0.3333333333333333,
              "#9c179e"
             ],
             [
              0.4444444444444444,
              "#bd3786"
             ],
             [
              0.5555555555555556,
              "#d8576b"
             ],
             [
              0.6666666666666666,
              "#ed7953"
             ],
             [
              0.7777777777777778,
              "#fb9f3a"
             ],
             [
              0.8888888888888888,
              "#fdca26"
             ],
             [
              1,
              "#f0f921"
             ]
            ],
            "type": "contour"
           }
          ],
          "contourcarpet": [
           {
            "colorbar": {
             "outlinewidth": 0,
             "ticks": ""
            },
            "type": "contourcarpet"
           }
          ],
          "heatmap": [
           {
            "colorbar": {
             "outlinewidth": 0,
             "ticks": ""
            },
            "colorscale": [
             [
              0,
              "#0d0887"
             ],
             [
              0.1111111111111111,
              "#46039f"
             ],
             [
              0.2222222222222222,
              "#7201a8"
             ],
             [
              0.3333333333333333,
              "#9c179e"
             ],
             [
              0.4444444444444444,
              "#bd3786"
             ],
             [
              0.5555555555555556,
              "#d8576b"
             ],
             [
              0.6666666666666666,
              "#ed7953"
             ],
             [
              0.7777777777777778,
              "#fb9f3a"
             ],
             [
              0.8888888888888888,
              "#fdca26"
             ],
             [
              1,
              "#f0f921"
             ]
            ],
            "type": "heatmap"
           }
          ],
          "heatmapgl": [
           {
            "colorbar": {
             "outlinewidth": 0,
             "ticks": ""
            },
            "colorscale": [
             [
              0,
              "#0d0887"
             ],
             [
              0.1111111111111111,
              "#46039f"
             ],
             [
              0.2222222222222222,
              "#7201a8"
             ],
             [
              0.3333333333333333,
              "#9c179e"
             ],
             [
              0.4444444444444444,
              "#bd3786"
             ],
             [
              0.5555555555555556,
              "#d8576b"
             ],
             [
              0.6666666666666666,
              "#ed7953"
             ],
             [
              0.7777777777777778,
              "#fb9f3a"
             ],
             [
              0.8888888888888888,
              "#fdca26"
             ],
             [
              1,
              "#f0f921"
             ]
            ],
            "type": "heatmapgl"
           }
          ],
          "histogram": [
           {
            "marker": {
             "pattern": {
              "fillmode": "overlay",
              "size": 10,
              "solidity": 0.2
             }
            },
            "type": "histogram"
           }
          ],
          "histogram2d": [
           {
            "colorbar": {
             "outlinewidth": 0,
             "ticks": ""
            },
            "colorscale": [
             [
              0,
              "#0d0887"
             ],
             [
              0.1111111111111111,
              "#46039f"
             ],
             [
              0.2222222222222222,
              "#7201a8"
             ],
             [
              0.3333333333333333,
              "#9c179e"
             ],
             [
              0.4444444444444444,
              "#bd3786"
             ],
             [
              0.5555555555555556,
              "#d8576b"
             ],
             [
              0.6666666666666666,
              "#ed7953"
             ],
             [
              0.7777777777777778,
              "#fb9f3a"
             ],
             [
              0.8888888888888888,
              "#fdca26"
             ],
             [
              1,
              "#f0f921"
             ]
            ],
            "type": "histogram2d"
           }
          ],
          "histogram2dcontour": [
           {
            "colorbar": {
             "outlinewidth": 0,
             "ticks": ""
            },
            "colorscale": [
             [
              0,
              "#0d0887"
             ],
             [
              0.1111111111111111,
              "#46039f"
             ],
             [
              0.2222222222222222,
              "#7201a8"
             ],
             [
              0.3333333333333333,
              "#9c179e"
             ],
             [
              0.4444444444444444,
              "#bd3786"
             ],
             [
              0.5555555555555556,
              "#d8576b"
             ],
             [
              0.6666666666666666,
              "#ed7953"
             ],
             [
              0.7777777777777778,
              "#fb9f3a"
             ],
             [
              0.8888888888888888,
              "#fdca26"
             ],
             [
              1,
              "#f0f921"
             ]
            ],
            "type": "histogram2dcontour"
           }
          ],
          "mesh3d": [
           {
            "colorbar": {
             "outlinewidth": 0,
             "ticks": ""
            },
            "type": "mesh3d"
           }
          ],
          "parcoords": [
           {
            "line": {
             "colorbar": {
              "outlinewidth": 0,
              "ticks": ""
             }
            },
            "type": "parcoords"
           }
          ],
          "pie": [
           {
            "automargin": true,
            "type": "pie"
           }
          ],
          "scatter": [
           {
            "fillpattern": {
             "fillmode": "overlay",
             "size": 10,
             "solidity": 0.2
            },
            "type": "scatter"
           }
          ],
          "scatter3d": [
           {
            "line": {
             "colorbar": {
              "outlinewidth": 0,
              "ticks": ""
             }
            },
            "marker": {
             "colorbar": {
              "outlinewidth": 0,
              "ticks": ""
             }
            },
            "type": "scatter3d"
           }
          ],
          "scattercarpet": [
           {
            "marker": {
             "colorbar": {
              "outlinewidth": 0,
              "ticks": ""
             }
            },
            "type": "scattercarpet"
           }
          ],
          "scattergeo": [
           {
            "marker": {
             "colorbar": {
              "outlinewidth": 0,
              "ticks": ""
             }
            },
            "type": "scattergeo"
           }
          ],
          "scattergl": [
           {
            "marker": {
             "colorbar": {
              "outlinewidth": 0,
              "ticks": ""
             }
            },
            "type": "scattergl"
           }
          ],
          "scattermapbox": [
           {
            "marker": {
             "colorbar": {
              "outlinewidth": 0,
              "ticks": ""
             }
            },
            "type": "scattermapbox"
           }
          ],
          "scatterpolar": [
           {
            "marker": {
             "colorbar": {
              "outlinewidth": 0,
              "ticks": ""
             }
            },
            "type": "scatterpolar"
           }
          ],
          "scatterpolargl": [
           {
            "marker": {
             "colorbar": {
              "outlinewidth": 0,
              "ticks": ""
             }
            },
            "type": "scatterpolargl"
           }
          ],
          "scatterternary": [
           {
            "marker": {
             "colorbar": {
              "outlinewidth": 0,
              "ticks": ""
             }
            },
            "type": "scatterternary"
           }
          ],
          "surface": [
           {
            "colorbar": {
             "outlinewidth": 0,
             "ticks": ""
            },
            "colorscale": [
             [
              0,
              "#0d0887"
             ],
             [
              0.1111111111111111,
              "#46039f"
             ],
             [
              0.2222222222222222,
              "#7201a8"
             ],
             [
              0.3333333333333333,
              "#9c179e"
             ],
             [
              0.4444444444444444,
              "#bd3786"
             ],
             [
              0.5555555555555556,
              "#d8576b"
             ],
             [
              0.6666666666666666,
              "#ed7953"
             ],
             [
              0.7777777777777778,
              "#fb9f3a"
             ],
             [
              0.8888888888888888,
              "#fdca26"
             ],
             [
              1,
              "#f0f921"
             ]
            ],
            "type": "surface"
           }
          ],
          "table": [
           {
            "cells": {
             "fill": {
              "color": "#EBF0F8"
             },
             "line": {
              "color": "white"
             }
            },
            "header": {
             "fill": {
              "color": "#C8D4E3"
             },
             "line": {
              "color": "white"
             }
            },
            "type": "table"
           }
          ]
         },
         "layout": {
          "annotationdefaults": {
           "arrowcolor": "#2a3f5f",
           "arrowhead": 0,
           "arrowwidth": 1
          },
          "autotypenumbers": "strict",
          "coloraxis": {
           "colorbar": {
            "outlinewidth": 0,
            "ticks": ""
           }
          },
          "colorscale": {
           "diverging": [
            [
             0,
             "#8e0152"
            ],
            [
             0.1,
             "#c51b7d"
            ],
            [
             0.2,
             "#de77ae"
            ],
            [
             0.3,
             "#f1b6da"
            ],
            [
             0.4,
             "#fde0ef"
            ],
            [
             0.5,
             "#f7f7f7"
            ],
            [
             0.6,
             "#e6f5d0"
            ],
            [
             0.7,
             "#b8e186"
            ],
            [
             0.8,
             "#7fbc41"
            ],
            [
             0.9,
             "#4d9221"
            ],
            [
             1,
             "#276419"
            ]
           ],
           "sequential": [
            [
             0,
             "#0d0887"
            ],
            [
             0.1111111111111111,
             "#46039f"
            ],
            [
             0.2222222222222222,
             "#7201a8"
            ],
            [
             0.3333333333333333,
             "#9c179e"
            ],
            [
             0.4444444444444444,
             "#bd3786"
            ],
            [
             0.5555555555555556,
             "#d8576b"
            ],
            [
             0.6666666666666666,
             "#ed7953"
            ],
            [
             0.7777777777777778,
             "#fb9f3a"
            ],
            [
             0.8888888888888888,
             "#fdca26"
            ],
            [
             1,
             "#f0f921"
            ]
           ],
           "sequentialminus": [
            [
             0,
             "#0d0887"
            ],
            [
             0.1111111111111111,
             "#46039f"
            ],
            [
             0.2222222222222222,
             "#7201a8"
            ],
            [
             0.3333333333333333,
             "#9c179e"
            ],
            [
             0.4444444444444444,
             "#bd3786"
            ],
            [
             0.5555555555555556,
             "#d8576b"
            ],
            [
             0.6666666666666666,
             "#ed7953"
            ],
            [
             0.7777777777777778,
             "#fb9f3a"
            ],
            [
             0.8888888888888888,
             "#fdca26"
            ],
            [
             1,
             "#f0f921"
            ]
           ]
          },
          "colorway": [
           "#636efa",
           "#EF553B",
           "#00cc96",
           "#ab63fa",
           "#FFA15A",
           "#19d3f3",
           "#FF6692",
           "#B6E880",
           "#FF97FF",
           "#FECB52"
          ],
          "font": {
           "color": "#2a3f5f"
          },
          "geo": {
           "bgcolor": "white",
           "lakecolor": "white",
           "landcolor": "#E5ECF6",
           "showlakes": true,
           "showland": true,
           "subunitcolor": "white"
          },
          "hoverlabel": {
           "align": "left"
          },
          "hovermode": "closest",
          "mapbox": {
           "style": "light"
          },
          "paper_bgcolor": "white",
          "plot_bgcolor": "#E5ECF6",
          "polar": {
           "angularaxis": {
            "gridcolor": "white",
            "linecolor": "white",
            "ticks": ""
           },
           "bgcolor": "#E5ECF6",
           "radialaxis": {
            "gridcolor": "white",
            "linecolor": "white",
            "ticks": ""
           }
          },
          "scene": {
           "xaxis": {
            "backgroundcolor": "#E5ECF6",
            "gridcolor": "white",
            "gridwidth": 2,
            "linecolor": "white",
            "showbackground": true,
            "ticks": "",
            "zerolinecolor": "white"
           },
           "yaxis": {
            "backgroundcolor": "#E5ECF6",
            "gridcolor": "white",
            "gridwidth": 2,
            "linecolor": "white",
            "showbackground": true,
            "ticks": "",
            "zerolinecolor": "white"
           },
           "zaxis": {
            "backgroundcolor": "#E5ECF6",
            "gridcolor": "white",
            "gridwidth": 2,
            "linecolor": "white",
            "showbackground": true,
            "ticks": "",
            "zerolinecolor": "white"
           }
          },
          "shapedefaults": {
           "line": {
            "color": "#2a3f5f"
           }
          },
          "ternary": {
           "aaxis": {
            "gridcolor": "white",
            "linecolor": "white",
            "ticks": ""
           },
           "baxis": {
            "gridcolor": "white",
            "linecolor": "white",
            "ticks": ""
           },
           "bgcolor": "#E5ECF6",
           "caxis": {
            "gridcolor": "white",
            "linecolor": "white",
            "ticks": ""
           }
          },
          "title": {
           "x": 0.05
          },
          "xaxis": {
           "automargin": true,
           "gridcolor": "white",
           "linecolor": "white",
           "ticks": "",
           "title": {
            "standoff": 15
           },
           "zerolinecolor": "white",
           "zerolinewidth": 2
          },
          "yaxis": {
           "automargin": true,
           "gridcolor": "white",
           "linecolor": "white",
           "ticks": "",
           "title": {
            "standoff": 15
           },
           "zerolinecolor": "white",
           "zerolinewidth": 2
          }
         }
        },
        "title": {
         "text": "Phân Phối các hình thức giao hàng"
        }
       }
      },
      "text/html": [
       "<div>                            <div id=\"cf3dd8d4-742f-49f3-b855-2df0d93975fa\" class=\"plotly-graph-div\" style=\"height:525px; width:100%;\"></div>            <script type=\"text/javascript\">                require([\"plotly\"], function(Plotly) {                    window.PLOTLYENV=window.PLOTLYENV || {};                                    if (document.getElementById(\"cf3dd8d4-742f-49f3-b855-2df0d93975fa\")) {                    Plotly.newPlot(                        \"cf3dd8d4-742f-49f3-b855-2df0d93975fa\",                        [{\"hoverinfo\":\"value\",\"labels\":[\"Giao t\\u1ea1i si\\u00eau th\\u1ecb\",\"Giao h\\u00e0ng qua b\\u1ed9 ph\\u1eadn shipper - T\\u1eadn T\\u00e2m\",\"Giao h\\u00e0ng qua Nh\\u1ea5t T\\u00edn\",\"Si\\u00eau th\\u1ecb \\u0111i giao\",\"Giao h\\u00e0ng qua s\\u00e0n TM\\u0110T\"],\"marker\":{\"colors\":[\"red\"]},\"values\":[508,173,39,31,3],\"type\":\"pie\"}],                        {\"template\":{\"data\":{\"barpolar\":[{\"marker\":{\"line\":{\"color\":\"#E5ECF6\",\"width\":0.5},\"pattern\":{\"fillmode\":\"overlay\",\"size\":10,\"solidity\":0.2}},\"type\":\"barpolar\"}],\"bar\":[{\"error_x\":{\"color\":\"#2a3f5f\"},\"error_y\":{\"color\":\"#2a3f5f\"},\"marker\":{\"line\":{\"color\":\"#E5ECF6\",\"width\":0.5},\"pattern\":{\"fillmode\":\"overlay\",\"size\":10,\"solidity\":0.2}},\"type\":\"bar\"}],\"carpet\":[{\"aaxis\":{\"endlinecolor\":\"#2a3f5f\",\"gridcolor\":\"white\",\"linecolor\":\"white\",\"minorgridcolor\":\"white\",\"startlinecolor\":\"#2a3f5f\"},\"baxis\":{\"endlinecolor\":\"#2a3f5f\",\"gridcolor\":\"white\",\"linecolor\":\"white\",\"minorgridcolor\":\"white\",\"startlinecolor\":\"#2a3f5f\"},\"type\":\"carpet\"}],\"choropleth\":[{\"colorbar\":{\"outlinewidth\":0,\"ticks\":\"\"},\"type\":\"choropleth\"}],\"contourcarpet\":[{\"colorbar\":{\"outlinewidth\":0,\"ticks\":\"\"},\"type\":\"contourcarpet\"}],\"contour\":[{\"colorbar\":{\"outlinewidth\":0,\"ticks\":\"\"},\"colorscale\":[[0.0,\"#0d0887\"],[0.1111111111111111,\"#46039f\"],[0.2222222222222222,\"#7201a8\"],[0.3333333333333333,\"#9c179e\"],[0.4444444444444444,\"#bd3786\"],[0.5555555555555556,\"#d8576b\"],[0.6666666666666666,\"#ed7953\"],[0.7777777777777778,\"#fb9f3a\"],[0.8888888888888888,\"#fdca26\"],[1.0,\"#f0f921\"]],\"type\":\"contour\"}],\"heatmapgl\":[{\"colorbar\":{\"outlinewidth\":0,\"ticks\":\"\"},\"colorscale\":[[0.0,\"#0d0887\"],[0.1111111111111111,\"#46039f\"],[0.2222222222222222,\"#7201a8\"],[0.3333333333333333,\"#9c179e\"],[0.4444444444444444,\"#bd3786\"],[0.5555555555555556,\"#d8576b\"],[0.6666666666666666,\"#ed7953\"],[0.7777777777777778,\"#fb9f3a\"],[0.8888888888888888,\"#fdca26\"],[1.0,\"#f0f921\"]],\"type\":\"heatmapgl\"}],\"heatmap\":[{\"colorbar\":{\"outlinewidth\":0,\"ticks\":\"\"},\"colorscale\":[[0.0,\"#0d0887\"],[0.1111111111111111,\"#46039f\"],[0.2222222222222222,\"#7201a8\"],[0.3333333333333333,\"#9c179e\"],[0.4444444444444444,\"#bd3786\"],[0.5555555555555556,\"#d8576b\"],[0.6666666666666666,\"#ed7953\"],[0.7777777777777778,\"#fb9f3a\"],[0.8888888888888888,\"#fdca26\"],[1.0,\"#f0f921\"]],\"type\":\"heatmap\"}],\"histogram2dcontour\":[{\"colorbar\":{\"outlinewidth\":0,\"ticks\":\"\"},\"colorscale\":[[0.0,\"#0d0887\"],[0.1111111111111111,\"#46039f\"],[0.2222222222222222,\"#7201a8\"],[0.3333333333333333,\"#9c179e\"],[0.4444444444444444,\"#bd3786\"],[0.5555555555555556,\"#d8576b\"],[0.6666666666666666,\"#ed7953\"],[0.7777777777777778,\"#fb9f3a\"],[0.8888888888888888,\"#fdca26\"],[1.0,\"#f0f921\"]],\"type\":\"histogram2dcontour\"}],\"histogram2d\":[{\"colorbar\":{\"outlinewidth\":0,\"ticks\":\"\"},\"colorscale\":[[0.0,\"#0d0887\"],[0.1111111111111111,\"#46039f\"],[0.2222222222222222,\"#7201a8\"],[0.3333333333333333,\"#9c179e\"],[0.4444444444444444,\"#bd3786\"],[0.5555555555555556,\"#d8576b\"],[0.6666666666666666,\"#ed7953\"],[0.7777777777777778,\"#fb9f3a\"],[0.8888888888888888,\"#fdca26\"],[1.0,\"#f0f921\"]],\"type\":\"histogram2d\"}],\"histogram\":[{\"marker\":{\"pattern\":{\"fillmode\":\"overlay\",\"size\":10,\"solidity\":0.2}},\"type\":\"histogram\"}],\"mesh3d\":[{\"colorbar\":{\"outlinewidth\":0,\"ticks\":\"\"},\"type\":\"mesh3d\"}],\"parcoords\":[{\"line\":{\"colorbar\":{\"outlinewidth\":0,\"ticks\":\"\"}},\"type\":\"parcoords\"}],\"pie\":[{\"automargin\":true,\"type\":\"pie\"}],\"scatter3d\":[{\"line\":{\"colorbar\":{\"outlinewidth\":0,\"ticks\":\"\"}},\"marker\":{\"colorbar\":{\"outlinewidth\":0,\"ticks\":\"\"}},\"type\":\"scatter3d\"}],\"scattercarpet\":[{\"marker\":{\"colorbar\":{\"outlinewidth\":0,\"ticks\":\"\"}},\"type\":\"scattercarpet\"}],\"scattergeo\":[{\"marker\":{\"colorbar\":{\"outlinewidth\":0,\"ticks\":\"\"}},\"type\":\"scattergeo\"}],\"scattergl\":[{\"marker\":{\"colorbar\":{\"outlinewidth\":0,\"ticks\":\"\"}},\"type\":\"scattergl\"}],\"scattermapbox\":[{\"marker\":{\"colorbar\":{\"outlinewidth\":0,\"ticks\":\"\"}},\"type\":\"scattermapbox\"}],\"scatterpolargl\":[{\"marker\":{\"colorbar\":{\"outlinewidth\":0,\"ticks\":\"\"}},\"type\":\"scatterpolargl\"}],\"scatterpolar\":[{\"marker\":{\"colorbar\":{\"outlinewidth\":0,\"ticks\":\"\"}},\"type\":\"scatterpolar\"}],\"scatter\":[{\"fillpattern\":{\"fillmode\":\"overlay\",\"size\":10,\"solidity\":0.2},\"type\":\"scatter\"}],\"scatterternary\":[{\"marker\":{\"colorbar\":{\"outlinewidth\":0,\"ticks\":\"\"}},\"type\":\"scatterternary\"}],\"surface\":[{\"colorbar\":{\"outlinewidth\":0,\"ticks\":\"\"},\"colorscale\":[[0.0,\"#0d0887\"],[0.1111111111111111,\"#46039f\"],[0.2222222222222222,\"#7201a8\"],[0.3333333333333333,\"#9c179e\"],[0.4444444444444444,\"#bd3786\"],[0.5555555555555556,\"#d8576b\"],[0.6666666666666666,\"#ed7953\"],[0.7777777777777778,\"#fb9f3a\"],[0.8888888888888888,\"#fdca26\"],[1.0,\"#f0f921\"]],\"type\":\"surface\"}],\"table\":[{\"cells\":{\"fill\":{\"color\":\"#EBF0F8\"},\"line\":{\"color\":\"white\"}},\"header\":{\"fill\":{\"color\":\"#C8D4E3\"},\"line\":{\"color\":\"white\"}},\"type\":\"table\"}]},\"layout\":{\"annotationdefaults\":{\"arrowcolor\":\"#2a3f5f\",\"arrowhead\":0,\"arrowwidth\":1},\"autotypenumbers\":\"strict\",\"coloraxis\":{\"colorbar\":{\"outlinewidth\":0,\"ticks\":\"\"}},\"colorscale\":{\"diverging\":[[0,\"#8e0152\"],[0.1,\"#c51b7d\"],[0.2,\"#de77ae\"],[0.3,\"#f1b6da\"],[0.4,\"#fde0ef\"],[0.5,\"#f7f7f7\"],[0.6,\"#e6f5d0\"],[0.7,\"#b8e186\"],[0.8,\"#7fbc41\"],[0.9,\"#4d9221\"],[1,\"#276419\"]],\"sequential\":[[0.0,\"#0d0887\"],[0.1111111111111111,\"#46039f\"],[0.2222222222222222,\"#7201a8\"],[0.3333333333333333,\"#9c179e\"],[0.4444444444444444,\"#bd3786\"],[0.5555555555555556,\"#d8576b\"],[0.6666666666666666,\"#ed7953\"],[0.7777777777777778,\"#fb9f3a\"],[0.8888888888888888,\"#fdca26\"],[1.0,\"#f0f921\"]],\"sequentialminus\":[[0.0,\"#0d0887\"],[0.1111111111111111,\"#46039f\"],[0.2222222222222222,\"#7201a8\"],[0.3333333333333333,\"#9c179e\"],[0.4444444444444444,\"#bd3786\"],[0.5555555555555556,\"#d8576b\"],[0.6666666666666666,\"#ed7953\"],[0.7777777777777778,\"#fb9f3a\"],[0.8888888888888888,\"#fdca26\"],[1.0,\"#f0f921\"]]},\"colorway\":[\"#636efa\",\"#EF553B\",\"#00cc96\",\"#ab63fa\",\"#FFA15A\",\"#19d3f3\",\"#FF6692\",\"#B6E880\",\"#FF97FF\",\"#FECB52\"],\"font\":{\"color\":\"#2a3f5f\"},\"geo\":{\"bgcolor\":\"white\",\"lakecolor\":\"white\",\"landcolor\":\"#E5ECF6\",\"showlakes\":true,\"showland\":true,\"subunitcolor\":\"white\"},\"hoverlabel\":{\"align\":\"left\"},\"hovermode\":\"closest\",\"mapbox\":{\"style\":\"light\"},\"paper_bgcolor\":\"white\",\"plot_bgcolor\":\"#E5ECF6\",\"polar\":{\"angularaxis\":{\"gridcolor\":\"white\",\"linecolor\":\"white\",\"ticks\":\"\"},\"bgcolor\":\"#E5ECF6\",\"radialaxis\":{\"gridcolor\":\"white\",\"linecolor\":\"white\",\"ticks\":\"\"}},\"scene\":{\"xaxis\":{\"backgroundcolor\":\"#E5ECF6\",\"gridcolor\":\"white\",\"gridwidth\":2,\"linecolor\":\"white\",\"showbackground\":true,\"ticks\":\"\",\"zerolinecolor\":\"white\"},\"yaxis\":{\"backgroundcolor\":\"#E5ECF6\",\"gridcolor\":\"white\",\"gridwidth\":2,\"linecolor\":\"white\",\"showbackground\":true,\"ticks\":\"\",\"zerolinecolor\":\"white\"},\"zaxis\":{\"backgroundcolor\":\"#E5ECF6\",\"gridcolor\":\"white\",\"gridwidth\":2,\"linecolor\":\"white\",\"showbackground\":true,\"ticks\":\"\",\"zerolinecolor\":\"white\"}},\"shapedefaults\":{\"line\":{\"color\":\"#2a3f5f\"}},\"ternary\":{\"aaxis\":{\"gridcolor\":\"white\",\"linecolor\":\"white\",\"ticks\":\"\"},\"baxis\":{\"gridcolor\":\"white\",\"linecolor\":\"white\",\"ticks\":\"\"},\"bgcolor\":\"#E5ECF6\",\"caxis\":{\"gridcolor\":\"white\",\"linecolor\":\"white\",\"ticks\":\"\"}},\"title\":{\"x\":0.05},\"xaxis\":{\"automargin\":true,\"gridcolor\":\"white\",\"linecolor\":\"white\",\"ticks\":\"\",\"title\":{\"standoff\":15},\"zerolinecolor\":\"white\",\"zerolinewidth\":2},\"yaxis\":{\"automargin\":true,\"gridcolor\":\"white\",\"linecolor\":\"white\",\"ticks\":\"\",\"title\":{\"standoff\":15},\"zerolinecolor\":\"white\",\"zerolinewidth\":2}}},\"title\":{\"text\":\"Ph\\u00e2n Ph\\u1ed1i c\\u00e1c h\\u00ecnh th\\u1ee9c giao h\\u00e0ng\"}},                        {\"responsive\": true}                    ).then(function(){\n",
       "                            \n",
       "var gd = document.getElementById('cf3dd8d4-742f-49f3-b855-2df0d93975fa');\n",
       "var x = new MutationObserver(function (mutations, observer) {{\n",
       "        var display = window.getComputedStyle(gd).display;\n",
       "        if (!display || display === 'none') {{\n",
       "            console.log([gd, 'removed!']);\n",
       "            Plotly.purge(gd);\n",
       "            observer.disconnect();\n",
       "        }}\n",
       "}});\n",
       "\n",
       "// Listen for the removal of the full notebook cells\n",
       "var notebookContainer = gd.closest('#notebook-container');\n",
       "if (notebookContainer) {{\n",
       "    x.observe(notebookContainer, {childList: true});\n",
       "}}\n",
       "\n",
       "// Listen for the clearing of the current output cell\n",
       "var outputEl = gd.closest('.output');\n",
       "if (outputEl) {{\n",
       "    x.observe(outputEl, {childList: true});\n",
       "}}\n",
       "\n",
       "                        })                };                });            </script>        </div>"
      ]
     },
     "metadata": {},
     "output_type": "display_data"
    }
   ],
   "source": [
    "#Quetions 4: Thể hiện sự phân phối của Hình Thức Giao Hàng ?\n",
    "lab1 = df[\"Hình thức giao hàng\"].value_counts().keys().tolist()\n",
    "val1 = df[\"Hình thức giao hàng\"].value_counts().values.tolist()\n",
    "trace = go.Pie(labels=lab1, \n",
    "                values=val1, \n",
    "                marker=dict(colors=['red']), \n",
    "                # Seting values to \n",
    "                hoverinfo=\"value\"\n",
    "              )\n",
    "data = [trace]\n",
    "layout = go.Layout(title=\"Phân Phối các hình thức giao hàng\")\n",
    "fig = go.Figure(data = data,layout = layout)\n",
    "iplot(fig)"
   ]
  },
  {
   "cell_type": "code",
   "execution_count": 29,
   "metadata": {
    "id": "0RxvmYmpAJjJ",
    "outputId": "094332a2-5da3-4f5e-df9e-6d403a0dac79"
   },
   "outputs": [
    {
     "data": {
      "application/vnd.plotly.v1+json": {
       "config": {
        "plotlyServerURL": "https://plot.ly"
       },
       "data": [
        {
         "hovertemplate": "Onlineline/Cửa Hàng=Online<br>Giá bán=%{x}<br>Giá gốc=%{marker.size}<extra></extra>",
         "legendgroup": "Online",
         "marker": {
          "color": "#636efa",
          "size": [
           796000,
           1589000,
           1757000,
           615000,
           615000,
           615000,
           615000,
           1499000,
           680000,
           2051000,
           664000,
           1059000,
           636000,
           1170000,
           1499000,
           636000,
           636000,
           716000,
           1852000,
           785000,
           391000,
           689000,
           689000,
           1349000,
           503000,
           999000,
           1145000,
           763000,
           1019000,
           1313000,
           796000,
           1019000,
           1195000,
           2297000,
           1757000,
           2297000,
           1691000,
           843000,
           796000,
           1181000,
           1119000,
           1757000,
           2051000,
           796000,
           1119000,
           1253000,
           1754000,
           1852000,
           1119000,
           1195000,
           1059000,
           1589000,
           1241000,
           2819000,
           1145000,
           2051000,
           796000,
           785000,
           1407000,
           1852000,
           904000,
           1749000,
           391000,
           1149000,
           965000,
           1145000,
           1757000,
           875000,
           796000,
           1253000,
           881000,
           1170000,
           1170000,
           796000,
           2051000,
           875000,
           523000,
           709000,
           1434000,
           1391000,
           1434000,
           1434000,
           459000,
           1055000,
           1055000,
           1145000,
           1852000,
           1859000,
           2093000,
           664000,
           636000,
           636000,
           796000,
           1757000,
           1211000,
           796000,
           1430000,
           2819000,
           796000,
           796000,
           763000,
           1241000,
           2231000,
           1852000,
           763000,
           1204000,
           1055000,
           1145000,
           1059000,
           2111000,
           2552000,
           1171000,
           2465000,
           363000,
           1879000,
           1195000,
           975000,
           1199000,
           1055000,
           1055000,
           975000,
           1757000,
           975000,
           975000,
           1145000,
           716000,
           1145000,
           643000,
           1313000,
           363000,
           954000,
           2645000,
           737000,
           695000,
           1059000,
           1145000,
           1313000,
           843000,
           2423000,
           1145000,
           796000,
           1241000,
           391000,
           1145000,
           1211000,
           954000,
           975000,
           737000,
           1757000,
           1170000,
           643000,
           1094000,
           636000,
           1055000,
           1763000,
           1171000,
           1763000,
           2465000,
           920000,
           875000,
           1313000,
           1195000,
           1313000,
           774000,
           1407000,
           1757000,
           920000,
           2111000,
           2051000,
           1171000,
           2423000,
           2819000,
           2111000,
           2111000,
           737000,
           763000,
           1119000,
           523000,
           2819000,
           1170000,
           1170000,
           2111000,
           1055000,
           2876000,
           2465000,
           505000,
           1149000,
           567000,
           967000,
           876000,
           1119000,
           763000,
           1649000,
           1149000,
           2259000,
           850000,
           1049000,
           2584000,
           1276000,
           1781000,
           576000,
           984000,
           1935000,
           2500000,
           1867000,
           1049000,
           2584000,
           2500000,
           967000,
           2500000,
           1094000,
           1094000,
           2500000,
           1094000,
           1049000,
           1935000,
           1935000,
           2500000,
           1049000,
           984000,
           984000,
           1425000,
           1935000,
           1610000,
           1879000,
           1879000,
           1879000,
           1171000,
           2584000,
           1314000,
           1314000,
           716000,
           2584000,
           2903000,
           875000,
           1264000,
           391000,
           1425000,
           1059000,
           559000,
           1264000,
           1198000,
           1456000,
           1314000,
           1039000,
           1935000,
           1935000,
           2500000,
           1049000,
           643000,
           1935000,
           1137000,
           576000,
           2500000,
           929000,
           1094000,
           934000,
           1625000,
           1456000,
           1456000,
           1781000,
           1314000,
           1259000,
           1649000,
           875000,
           2500000,
           1049000,
           692000,
           1935000,
           967000,
           796000,
           875000,
           1049000,
           850000,
           875000,
           984000,
           1094000,
           959000,
           920000,
           780000,
           2500000,
           1149000,
           1149000,
           1049000,
           2045000,
           1198000,
           551000,
           709000,
           1094000,
           716000,
           2111000
          ],
          "sizemode": "area",
          "sizeref": 7257.5,
          "symbol": "circle"
         },
         "mode": "markers",
         "name": "Online",
         "orientation": "v",
         "showlegend": true,
         "type": "scatter",
         "x": [
          796000,
          1589000,
          1757000,
          615000,
          615000,
          615000,
          615000,
          1499000,
          680000,
          2051000,
          664000,
          1059000,
          636000,
          1170000,
          1499000,
          636000,
          636000,
          716000,
          1852000,
          785000,
          391000,
          689000,
          689000,
          1349000,
          503000,
          999000,
          1145000,
          763000,
          1019000,
          1313000,
          796000,
          1019000,
          1195000,
          2297000,
          1757000,
          2297000,
          1691000,
          843000,
          796000,
          1181000,
          1119000,
          1757000,
          2051000,
          796000,
          1119000,
          1253000,
          1754000,
          1852000,
          1119000,
          1195000,
          1059000,
          1589000,
          1241000,
          2819000,
          1145000,
          2051000,
          796000,
          785000,
          1407000,
          1852000,
          904000,
          1749000,
          391000,
          1149000,
          965000,
          1145000,
          1757000,
          875000,
          796000,
          1253000,
          881000,
          1170000,
          1170000,
          796000,
          2051000,
          875000,
          523000,
          709000,
          1434000,
          1391000,
          1434000,
          1434000,
          459000,
          1055000,
          1055000,
          1145000,
          1852000,
          1859000,
          2093000,
          664000,
          636000,
          636000,
          796000,
          1757000,
          1211000,
          796000,
          1430000,
          2819000,
          796000,
          796000,
          763000,
          1241000,
          2231000,
          1852000,
          763000,
          1204000,
          1055000,
          1145000,
          1059000,
          2111000,
          2552000,
          1171000,
          2465000,
          363000,
          1879000,
          1195000,
          975000,
          1199000,
          1055000,
          1055000,
          975000,
          1757000,
          975000,
          975000,
          1145000,
          716000,
          1145000,
          643000,
          1313000,
          363000,
          954000,
          2645000,
          737000,
          695000,
          1059000,
          1145000,
          1313000,
          843000,
          2423000,
          1145000,
          796000,
          1241000,
          391000,
          1145000,
          1211000,
          954000,
          975000,
          737000,
          1757000,
          1170000,
          643000,
          1094000,
          636000,
          1055000,
          1763000,
          1171000,
          1763000,
          2465000,
          920000,
          875000,
          1313000,
          1195000,
          1313000,
          774000,
          1407000,
          1757000,
          920000,
          2111000,
          2051000,
          1171000,
          2423000,
          2819000,
          2111000,
          2111000,
          737000,
          763000,
          1119000,
          523000,
          2819000,
          1170000,
          1170000,
          2111000,
          1055000,
          2876000,
          2465000,
          505000,
          1149000,
          567000,
          967000,
          876000,
          1119000,
          763000,
          1649000,
          1149000,
          2259000,
          850000,
          1049000,
          2584000,
          1276000,
          1781000,
          576000,
          984000,
          1935000,
          2500000,
          1867000,
          1049000,
          2584000,
          2500000,
          967000,
          2500000,
          1094000,
          1094000,
          2500000,
          1094000,
          1049000,
          1935000,
          1935000,
          2500000,
          1049000,
          984000,
          984000,
          1425000,
          1935000,
          1610000,
          1879000,
          1879000,
          1879000,
          1171000,
          2584000,
          1314000,
          1314000,
          716000,
          2584000,
          2903000,
          875000,
          1264000,
          391000,
          1425000,
          1059000,
          559000,
          1264000,
          1198000,
          1456000,
          1314000,
          1039000,
          1935000,
          1935000,
          2500000,
          1049000,
          643000,
          1935000,
          1137000,
          576000,
          2500000,
          929000,
          1094000,
          934000,
          1625000,
          1456000,
          1456000,
          1781000,
          1314000,
          1259000,
          1649000,
          875000,
          2500000,
          1049000,
          692000,
          1935000,
          967000,
          796000,
          875000,
          1049000,
          850000,
          875000,
          984000,
          1094000,
          959000,
          920000,
          780000,
          2500000,
          1149000,
          1149000,
          1049000,
          2045000,
          1198000,
          551000,
          709000,
          1094000,
          716000,
          2111000
         ],
         "xaxis": "x",
         "y": [
          796000,
          1589000,
          1757000,
          615000,
          615000,
          615000,
          615000,
          1499000,
          680000,
          2051000,
          664000,
          1059000,
          636000,
          1170000,
          1499000,
          636000,
          636000,
          716000,
          1852000,
          785000,
          391000,
          689000,
          689000,
          1349000,
          503000,
          999000,
          1145000,
          763000,
          1019000,
          1313000,
          796000,
          1019000,
          1195000,
          2297000,
          1757000,
          2297000,
          1691000,
          843000,
          796000,
          1181000,
          1119000,
          1757000,
          2051000,
          796000,
          1119000,
          1253000,
          1754000,
          1852000,
          1119000,
          1195000,
          1059000,
          1589000,
          1241000,
          2819000,
          1145000,
          2051000,
          796000,
          785000,
          1407000,
          1852000,
          904000,
          1749000,
          391000,
          1149000,
          965000,
          1145000,
          1757000,
          875000,
          796000,
          1253000,
          881000,
          1170000,
          1170000,
          796000,
          2051000,
          875000,
          523000,
          709000,
          1434000,
          1391000,
          1434000,
          1434000,
          459000,
          1055000,
          1055000,
          1145000,
          1852000,
          1859000,
          2093000,
          664000,
          636000,
          636000,
          796000,
          1757000,
          1211000,
          796000,
          1430000,
          2819000,
          796000,
          796000,
          763000,
          1241000,
          2231000,
          1852000,
          763000,
          1204000,
          1055000,
          1145000,
          1059000,
          2111000,
          2552000,
          1171000,
          2465000,
          363000,
          1879000,
          1195000,
          975000,
          1199000,
          1055000,
          1055000,
          975000,
          1757000,
          975000,
          975000,
          1145000,
          716000,
          1145000,
          643000,
          1313000,
          363000,
          954000,
          2645000,
          737000,
          695000,
          1059000,
          1145000,
          1313000,
          843000,
          2423000,
          1145000,
          796000,
          1241000,
          391000,
          1145000,
          1211000,
          954000,
          975000,
          737000,
          1757000,
          1170000,
          643000,
          1094000,
          636000,
          1055000,
          1763000,
          1171000,
          1763000,
          2465000,
          920000,
          875000,
          1313000,
          1195000,
          1313000,
          774000,
          1407000,
          1757000,
          920000,
          2111000,
          2051000,
          1171000,
          2423000,
          2819000,
          2111000,
          2111000,
          737000,
          763000,
          1119000,
          523000,
          2819000,
          1170000,
          1170000,
          2111000,
          1055000,
          2876000,
          2465000,
          505000,
          1149000,
          567000,
          967000,
          876000,
          1119000,
          763000,
          1649000,
          1149000,
          2259000,
          850000,
          1049000,
          2584000,
          1276000,
          1781000,
          576000,
          984000,
          1935000,
          2500000,
          1867000,
          1049000,
          2584000,
          2500000,
          967000,
          2500000,
          1094000,
          1094000,
          2500000,
          1094000,
          1049000,
          1935000,
          1935000,
          2500000,
          1049000,
          984000,
          984000,
          1425000,
          1935000,
          1610000,
          1879000,
          1879000,
          1879000,
          1171000,
          2584000,
          1314000,
          1314000,
          716000,
          2584000,
          2903000,
          875000,
          1264000,
          391000,
          1425000,
          1059000,
          559000,
          1264000,
          1198000,
          1456000,
          1314000,
          1039000,
          1935000,
          1935000,
          2500000,
          1049000,
          643000,
          1935000,
          1137000,
          576000,
          2500000,
          929000,
          1094000,
          934000,
          1625000,
          1456000,
          1456000,
          1781000,
          1314000,
          1259000,
          1649000,
          875000,
          2500000,
          1049000,
          692000,
          1935000,
          967000,
          796000,
          875000,
          1049000,
          850000,
          875000,
          984000,
          1094000,
          959000,
          920000,
          780000,
          2500000,
          1149000,
          1149000,
          1049000,
          2045000,
          1198000,
          551000,
          709000,
          1094000,
          716000,
          2111000
         ],
         "yaxis": "y"
        },
        {
         "alignmentgroup": "True",
         "bingroup": "x",
         "hovertemplate": "Onlineline/Cửa Hàng=Online<br>Giá bán=%{x}<br>count=%{y}<extra></extra>",
         "legendgroup": "Online",
         "marker": {
          "color": "#636efa"
         },
         "name": "Online",
         "offsetgroup": "Online",
         "opacity": 0.5,
         "showlegend": false,
         "type": "histogram",
         "x": [
          796000,
          1589000,
          1757000,
          615000,
          615000,
          615000,
          615000,
          1499000,
          680000,
          2051000,
          664000,
          1059000,
          636000,
          1170000,
          1499000,
          636000,
          636000,
          716000,
          1852000,
          785000,
          391000,
          689000,
          689000,
          1349000,
          503000,
          999000,
          1145000,
          763000,
          1019000,
          1313000,
          796000,
          1019000,
          1195000,
          2297000,
          1757000,
          2297000,
          1691000,
          843000,
          796000,
          1181000,
          1119000,
          1757000,
          2051000,
          796000,
          1119000,
          1253000,
          1754000,
          1852000,
          1119000,
          1195000,
          1059000,
          1589000,
          1241000,
          2819000,
          1145000,
          2051000,
          796000,
          785000,
          1407000,
          1852000,
          904000,
          1749000,
          391000,
          1149000,
          965000,
          1145000,
          1757000,
          875000,
          796000,
          1253000,
          881000,
          1170000,
          1170000,
          796000,
          2051000,
          875000,
          523000,
          709000,
          1434000,
          1391000,
          1434000,
          1434000,
          459000,
          1055000,
          1055000,
          1145000,
          1852000,
          1859000,
          2093000,
          664000,
          636000,
          636000,
          796000,
          1757000,
          1211000,
          796000,
          1430000,
          2819000,
          796000,
          796000,
          763000,
          1241000,
          2231000,
          1852000,
          763000,
          1204000,
          1055000,
          1145000,
          1059000,
          2111000,
          2552000,
          1171000,
          2465000,
          363000,
          1879000,
          1195000,
          975000,
          1199000,
          1055000,
          1055000,
          975000,
          1757000,
          975000,
          975000,
          1145000,
          716000,
          1145000,
          643000,
          1313000,
          363000,
          954000,
          2645000,
          737000,
          695000,
          1059000,
          1145000,
          1313000,
          843000,
          2423000,
          1145000,
          796000,
          1241000,
          391000,
          1145000,
          1211000,
          954000,
          975000,
          737000,
          1757000,
          1170000,
          643000,
          1094000,
          636000,
          1055000,
          1763000,
          1171000,
          1763000,
          2465000,
          920000,
          875000,
          1313000,
          1195000,
          1313000,
          774000,
          1407000,
          1757000,
          920000,
          2111000,
          2051000,
          1171000,
          2423000,
          2819000,
          2111000,
          2111000,
          737000,
          763000,
          1119000,
          523000,
          2819000,
          1170000,
          1170000,
          2111000,
          1055000,
          2876000,
          2465000,
          505000,
          1149000,
          567000,
          967000,
          876000,
          1119000,
          763000,
          1649000,
          1149000,
          2259000,
          850000,
          1049000,
          2584000,
          1276000,
          1781000,
          576000,
          984000,
          1935000,
          2500000,
          1867000,
          1049000,
          2584000,
          2500000,
          967000,
          2500000,
          1094000,
          1094000,
          2500000,
          1094000,
          1049000,
          1935000,
          1935000,
          2500000,
          1049000,
          984000,
          984000,
          1425000,
          1935000,
          1610000,
          1879000,
          1879000,
          1879000,
          1171000,
          2584000,
          1314000,
          1314000,
          716000,
          2584000,
          2903000,
          875000,
          1264000,
          391000,
          1425000,
          1059000,
          559000,
          1264000,
          1198000,
          1456000,
          1314000,
          1039000,
          1935000,
          1935000,
          2500000,
          1049000,
          643000,
          1935000,
          1137000,
          576000,
          2500000,
          929000,
          1094000,
          934000,
          1625000,
          1456000,
          1456000,
          1781000,
          1314000,
          1259000,
          1649000,
          875000,
          2500000,
          1049000,
          692000,
          1935000,
          967000,
          796000,
          875000,
          1049000,
          850000,
          875000,
          984000,
          1094000,
          959000,
          920000,
          780000,
          2500000,
          1149000,
          1149000,
          1049000,
          2045000,
          1198000,
          551000,
          709000,
          1094000,
          716000,
          2111000
         ],
         "xaxis": "x3",
         "yaxis": "y3"
        },
        {
         "alignmentgroup": "True",
         "bingroup": "y",
         "hovertemplate": "Onlineline/Cửa Hàng=Online<br>Giá gốc=%{y}<br>count=%{x}<extra></extra>",
         "legendgroup": "Online",
         "marker": {
          "color": "#636efa"
         },
         "name": "Online",
         "offsetgroup": "Online",
         "opacity": 0.5,
         "showlegend": false,
         "type": "histogram",
         "xaxis": "x2",
         "y": [
          796000,
          1589000,
          1757000,
          615000,
          615000,
          615000,
          615000,
          1499000,
          680000,
          2051000,
          664000,
          1059000,
          636000,
          1170000,
          1499000,
          636000,
          636000,
          716000,
          1852000,
          785000,
          391000,
          689000,
          689000,
          1349000,
          503000,
          999000,
          1145000,
          763000,
          1019000,
          1313000,
          796000,
          1019000,
          1195000,
          2297000,
          1757000,
          2297000,
          1691000,
          843000,
          796000,
          1181000,
          1119000,
          1757000,
          2051000,
          796000,
          1119000,
          1253000,
          1754000,
          1852000,
          1119000,
          1195000,
          1059000,
          1589000,
          1241000,
          2819000,
          1145000,
          2051000,
          796000,
          785000,
          1407000,
          1852000,
          904000,
          1749000,
          391000,
          1149000,
          965000,
          1145000,
          1757000,
          875000,
          796000,
          1253000,
          881000,
          1170000,
          1170000,
          796000,
          2051000,
          875000,
          523000,
          709000,
          1434000,
          1391000,
          1434000,
          1434000,
          459000,
          1055000,
          1055000,
          1145000,
          1852000,
          1859000,
          2093000,
          664000,
          636000,
          636000,
          796000,
          1757000,
          1211000,
          796000,
          1430000,
          2819000,
          796000,
          796000,
          763000,
          1241000,
          2231000,
          1852000,
          763000,
          1204000,
          1055000,
          1145000,
          1059000,
          2111000,
          2552000,
          1171000,
          2465000,
          363000,
          1879000,
          1195000,
          975000,
          1199000,
          1055000,
          1055000,
          975000,
          1757000,
          975000,
          975000,
          1145000,
          716000,
          1145000,
          643000,
          1313000,
          363000,
          954000,
          2645000,
          737000,
          695000,
          1059000,
          1145000,
          1313000,
          843000,
          2423000,
          1145000,
          796000,
          1241000,
          391000,
          1145000,
          1211000,
          954000,
          975000,
          737000,
          1757000,
          1170000,
          643000,
          1094000,
          636000,
          1055000,
          1763000,
          1171000,
          1763000,
          2465000,
          920000,
          875000,
          1313000,
          1195000,
          1313000,
          774000,
          1407000,
          1757000,
          920000,
          2111000,
          2051000,
          1171000,
          2423000,
          2819000,
          2111000,
          2111000,
          737000,
          763000,
          1119000,
          523000,
          2819000,
          1170000,
          1170000,
          2111000,
          1055000,
          2876000,
          2465000,
          505000,
          1149000,
          567000,
          967000,
          876000,
          1119000,
          763000,
          1649000,
          1149000,
          2259000,
          850000,
          1049000,
          2584000,
          1276000,
          1781000,
          576000,
          984000,
          1935000,
          2500000,
          1867000,
          1049000,
          2584000,
          2500000,
          967000,
          2500000,
          1094000,
          1094000,
          2500000,
          1094000,
          1049000,
          1935000,
          1935000,
          2500000,
          1049000,
          984000,
          984000,
          1425000,
          1935000,
          1610000,
          1879000,
          1879000,
          1879000,
          1171000,
          2584000,
          1314000,
          1314000,
          716000,
          2584000,
          2903000,
          875000,
          1264000,
          391000,
          1425000,
          1059000,
          559000,
          1264000,
          1198000,
          1456000,
          1314000,
          1039000,
          1935000,
          1935000,
          2500000,
          1049000,
          643000,
          1935000,
          1137000,
          576000,
          2500000,
          929000,
          1094000,
          934000,
          1625000,
          1456000,
          1456000,
          1781000,
          1314000,
          1259000,
          1649000,
          875000,
          2500000,
          1049000,
          692000,
          1935000,
          967000,
          796000,
          875000,
          1049000,
          850000,
          875000,
          984000,
          1094000,
          959000,
          920000,
          780000,
          2500000,
          1149000,
          1149000,
          1049000,
          2045000,
          1198000,
          551000,
          709000,
          1094000,
          716000,
          2111000
         ],
         "yaxis": "y2"
        },
        {
         "hovertemplate": "Onlineline/Cửa Hàng=Cửa Hàng<br>Giá bán=%{x}<br>Giá gốc=%{marker.size}<extra></extra>",
         "legendgroup": "Cửa Hàng",
         "marker": {
          "color": "#EF553B",
          "size": [
           1903000,
           975000,
           909000,
           1903000,
           716000,
           796000,
           1852000,
           559000,
           796000,
           716000,
           567000,
           392000,
           392000,
           1903000,
           1903000,
           999000,
           999000,
           1170000,
           1170000,
           600000,
           1170000,
           1430000,
           1422000,
           975000,
           945000,
           796000,
           1125000,
           1125000,
           1125000,
           1759000,
           1194000,
           1624000,
           1104000,
           1045000,
           1045000,
           1374000,
           1045000,
           1045000,
           1329000,
           945000,
           1763000,
           1763000,
           1399000,
           1349000,
           1240000,
           1240000,
           1342000,
           1852000,
           1254000,
           1914000,
           1149000,
           1199000,
           956000,
           1507000,
           756000,
           709000,
           392000,
           999000,
           1350000,
           392000,
           876000,
           1000000,
           923000,
           689000,
           959000,
           1434000,
           920000,
           1254000,
           999000,
           1200000,
           851000,
           851000,
           1134000,
           1183000,
           639000,
           1260000,
           639000,
           1259000,
           1254000,
           639000,
           1014000,
           1259000,
           639000,
           1059000,
           1195000,
           1059000,
           850000,
           836000,
           2819000,
           1852000,
           1759000,
           1170000,
           680000,
           1235000,
           490000,
           1852000,
           996000,
           1852000,
           2799000,
           1849000,
           1192000,
           1134000,
           1254000,
           1254000,
           1045000,
           1819000,
           1235000,
           904000,
           1549000,
           1125000,
           1299000,
           904000,
           1399000,
           1492000,
           1759000,
           392000,
           1492000,
           1045000,
           879000,
           1125000,
           1464000,
           1125000,
           2111000,
           2111000,
           1274000,
           1274000,
           2111000,
           1609000,
           600000,
           1749000,
           1749000,
           999000,
           999000,
           999000,
           999000,
           1649000,
           1045000,
           1171000,
           851000,
           785000,
           1125000,
           1350000,
           1319000,
           2087000,
           1903000,
           1743000,
           1743000,
           1170000,
           1553000,
           1195000,
           975000,
           2204000,
           1995000,
           2204000,
           1374000,
           1134000,
           1759000,
           1240000,
           746000,
           709000,
           746000,
           1045000,
           1512000,
           1074000,
           1080000,
           879000,
           1464000,
           1260000,
           636000,
           2470000,
           392000,
           1914000,
           1171000,
           1045000,
           945000,
           594000,
           945000,
           594000,
           904000,
           1624000,
           1903000,
           1358000,
           1104000,
           796000,
           1358000,
           975000,
           716000,
           975000,
           1143000,
           2287000,
           1240000,
           1240000,
           2222000,
           1249000,
           2196000,
           799000,
           599000,
           2349000,
           1033000,
           1500000,
           1149000,
           716000,
           1499000,
           639000,
           1499000,
           639000,
           899000,
           392000,
           392000,
           392000,
           1649000,
           1995000,
           1407000,
           1183000,
           920000,
           895000,
           392000,
           600000,
           539000,
           1425000,
           600000,
           2819000,
           1260000,
           600000,
           392000,
           1254000,
           392000,
           1349000,
           2625000,
           1199000,
           1679000,
           954000,
           539000,
           1995000,
           995000,
           600000,
           1045000,
           1045000,
           1995000,
           392000,
           1759000,
           2349000,
           1374000,
           1272000,
           1614000,
           1614000,
           1272000,
           689000,
           1055000,
           1272000,
           689000,
           1254000,
           1045000,
           600000,
           1545000,
           879000,
           1134000,
           2196000,
           1488000,
           796000,
           363000,
           2500000,
           2500000,
           1852000,
           2111000,
           2111000,
           2500000,
           1085000,
           894000,
           699000,
           1992000,
           1859000,
           1434000,
           2500000,
           623000,
           1076000,
           636000,
           1943000,
           1553000,
           1425000,
           1000000,
           1800000,
           392000,
           1434000,
           1000000,
           392000,
           1260000,
           895000,
           1074000,
           999000,
           392000,
           999000,
           1254000,
           1254000,
           2500000,
           2111000,
           1194000,
           855000,
           600000,
           600000,
           1599000,
           1527000,
           1260000,
           2500000,
           2500000,
           2500000,
           392000,
           1050000,
           1171000,
           1759000,
           1759000,
           1649000,
           1171000,
           1757000,
           2500000,
           1757000,
           851000,
           916000,
           2500000,
           2500000,
           1592000,
           1799000,
           2500000,
           2500000,
           2500000,
           1592000,
           1800000,
           1943000,
           1425000,
           1254000,
           1254000,
           2819000,
           2500000,
           2500000,
           2500000,
           1500000,
           2500000,
           1272000,
           2019000,
           1134000,
           600000,
           1200000,
           1464000,
           1425000,
           1813000,
           1425000,
           1145000,
           1145000,
           1757000,
           1391000,
           756000,
           1425000,
           1085000,
           1409000,
           699000,
           2500000,
           851000,
           2111000,
           2111000,
           2500000,
           836000,
           1464000,
           1094000,
           2111000,
           1464000,
           797000,
           1759000,
           2349000,
           599000,
           1399000,
           1195000,
           797000,
           755000,
           2349000,
           599000,
           2500000,
           1254000,
           716000,
           875000,
           392000,
           1349000,
           1349000,
           1349000,
           539000,
           1254000,
           1425000,
           1434000,
           1434000,
           1254000,
           763000,
           1374000,
           850000,
           1374000,
           2500000,
           1145000,
           1800000,
           2297000,
           1852000,
           750000,
           2500000,
           1995000,
           1995000,
           1313000,
           689000,
           851000,
           1995000,
           1540000,
           2500000,
           716000,
           1194000,
           1434000,
           2500000,
           503000,
           1992000,
           2500000,
           1759000,
           1199000,
           600000,
           523000,
           1272000,
           1000000,
           1000000,
           1000000,
           855000,
           1000000,
           1000000,
           1007000,
           699000,
           1590000,
           594000,
           1434000,
           600000,
           1199000,
           2499000,
           2111000,
           1749000,
           1094000,
           920000,
           2500000,
           774000,
           1759000,
           1759000,
           1045000,
           1590000,
           654000,
           945000,
           999000,
           900000,
           1914000,
           1171000,
           1667000,
           392000,
           1014000,
           1914000,
           1094000,
           2500000,
           1649000,
           392000,
           1134000,
           1345000,
           639000,
           1439000,
           1272000
          ],
          "sizemode": "area",
          "sizeref": 7257.5,
          "symbol": "circle"
         },
         "mode": "markers",
         "name": "Cửa Hàng",
         "orientation": "v",
         "showlegend": true,
         "type": "scatter",
         "x": [
          1903000,
          975000,
          909000,
          1903000,
          716000,
          796000,
          1852000,
          559000,
          796000,
          716000,
          567000,
          392000,
          392000,
          1903000,
          1903000,
          999000,
          999000,
          1170000,
          1170000,
          600000,
          1170000,
          1430000,
          1422000,
          975000,
          945000,
          796000,
          1125000,
          1125000,
          1125000,
          1759000,
          1194000,
          1624000,
          1104000,
          1045000,
          1045000,
          1374000,
          1045000,
          1045000,
          1329000,
          945000,
          1763000,
          1763000,
          1399000,
          1349000,
          1240000,
          1240000,
          1342000,
          1852000,
          1254000,
          1914000,
          1149000,
          1199000,
          956000,
          1507000,
          756000,
          709000,
          392000,
          999000,
          1350000,
          392000,
          876000,
          1000000,
          923000,
          689000,
          959000,
          1434000,
          920000,
          1254000,
          999000,
          1200000,
          851000,
          851000,
          1134000,
          1183000,
          639000,
          1260000,
          639000,
          1259000,
          1254000,
          639000,
          1014000,
          1259000,
          639000,
          1059000,
          1195000,
          1059000,
          850000,
          836000,
          2819000,
          1852000,
          1759000,
          1170000,
          680000,
          1235000,
          490000,
          1852000,
          996000,
          1852000,
          2799000,
          1849000,
          1192000,
          1134000,
          1254000,
          1254000,
          1045000,
          1819000,
          1235000,
          904000,
          1549000,
          1125000,
          1299000,
          904000,
          1399000,
          1492000,
          1759000,
          392000,
          1492000,
          1045000,
          879000,
          1125000,
          1464000,
          1125000,
          2111000,
          2111000,
          1274000,
          1274000,
          2111000,
          1609000,
          600000,
          1749000,
          1749000,
          999000,
          999000,
          999000,
          999000,
          1649000,
          1045000,
          1171000,
          851000,
          785000,
          1125000,
          1350000,
          1319000,
          2087000,
          1903000,
          1743000,
          1743000,
          1170000,
          1553000,
          1195000,
          975000,
          2204000,
          1995000,
          2204000,
          1374000,
          1134000,
          1759000,
          1240000,
          746000,
          709000,
          746000,
          1045000,
          1512000,
          1074000,
          1080000,
          879000,
          1464000,
          1260000,
          636000,
          2470000,
          392000,
          1914000,
          1171000,
          1045000,
          945000,
          594000,
          945000,
          594000,
          904000,
          1624000,
          1903000,
          1358000,
          1104000,
          796000,
          1358000,
          975000,
          716000,
          975000,
          1143000,
          2287000,
          1240000,
          1240000,
          2222000,
          1249000,
          2196000,
          799000,
          599000,
          2349000,
          1033000,
          1500000,
          1149000,
          716000,
          1499000,
          639000,
          1499000,
          639000,
          899000,
          392000,
          392000,
          392000,
          1649000,
          1995000,
          1407000,
          1183000,
          920000,
          895000,
          392000,
          600000,
          539000,
          1425000,
          600000,
          2819000,
          1260000,
          600000,
          392000,
          1254000,
          392000,
          1349000,
          2625000,
          1199000,
          1679000,
          954000,
          539000,
          1995000,
          995000,
          600000,
          1045000,
          1045000,
          1995000,
          392000,
          1759000,
          2349000,
          1374000,
          1272000,
          1614000,
          1614000,
          1272000,
          689000,
          1055000,
          1272000,
          689000,
          1254000,
          1045000,
          600000,
          1545000,
          879000,
          1134000,
          2196000,
          1488000,
          796000,
          363000,
          2500000,
          2500000,
          1852000,
          2111000,
          2111000,
          2500000,
          1085000,
          894000,
          699000,
          1992000,
          1859000,
          1434000,
          2500000,
          623000,
          1076000,
          636000,
          1943000,
          1553000,
          1425000,
          1000000,
          1800000,
          392000,
          1434000,
          1000000,
          392000,
          1260000,
          895000,
          1074000,
          999000,
          392000,
          999000,
          1254000,
          1254000,
          2500000,
          2111000,
          1194000,
          855000,
          600000,
          600000,
          1599000,
          1527000,
          1260000,
          2500000,
          2500000,
          2500000,
          392000,
          1050000,
          1171000,
          1759000,
          1759000,
          1649000,
          1171000,
          1757000,
          2500000,
          1757000,
          851000,
          916000,
          2500000,
          2500000,
          1592000,
          1799000,
          2500000,
          2500000,
          2500000,
          1592000,
          1800000,
          1943000,
          1425000,
          1254000,
          1254000,
          2819000,
          2500000,
          2500000,
          2500000,
          1500000,
          2500000,
          1272000,
          2019000,
          1134000,
          600000,
          1200000,
          1464000,
          1425000,
          1813000,
          1425000,
          1145000,
          1145000,
          1757000,
          1391000,
          756000,
          1425000,
          1085000,
          1409000,
          699000,
          2500000,
          851000,
          2111000,
          2111000,
          2500000,
          836000,
          1464000,
          1094000,
          2111000,
          1464000,
          797000,
          1759000,
          2349000,
          599000,
          1399000,
          1195000,
          797000,
          755000,
          2349000,
          599000,
          2500000,
          1254000,
          716000,
          875000,
          392000,
          1349000,
          1349000,
          1349000,
          539000,
          1254000,
          1425000,
          1434000,
          1434000,
          1254000,
          763000,
          1374000,
          850000,
          1374000,
          2500000,
          1145000,
          1800000,
          2297000,
          1852000,
          750000,
          2500000,
          1995000,
          1995000,
          1313000,
          689000,
          851000,
          1995000,
          1540000,
          2500000,
          716000,
          1194000,
          1434000,
          2500000,
          503000,
          1992000,
          2500000,
          1759000,
          1199000,
          600000,
          523000,
          1272000,
          1000000,
          1000000,
          1000000,
          855000,
          1000000,
          1000000,
          1007000,
          699000,
          1590000,
          594000,
          1434000,
          600000,
          1199000,
          2499000,
          2111000,
          1749000,
          1094000,
          920000,
          2500000,
          774000,
          1759000,
          1759000,
          1045000,
          1590000,
          654000,
          945000,
          999000,
          900000,
          1914000,
          1171000,
          1667000,
          392000,
          1014000,
          1914000,
          1094000,
          2500000,
          1649000,
          392000,
          1134000,
          1345000,
          639000,
          1439000,
          1272000
         ],
         "xaxis": "x",
         "y": [
          1903000,
          975000,
          909000,
          1903000,
          716000,
          796000,
          1852000,
          559000,
          796000,
          716000,
          567000,
          392000,
          392000,
          1903000,
          1903000,
          999000,
          999000,
          1170000,
          1170000,
          600000,
          1170000,
          1430000,
          1422000,
          975000,
          945000,
          796000,
          1125000,
          1125000,
          1125000,
          1759000,
          1194000,
          1624000,
          1104000,
          1045000,
          1045000,
          1374000,
          1045000,
          1045000,
          1329000,
          945000,
          1763000,
          1763000,
          1399000,
          1349000,
          1240000,
          1240000,
          1342000,
          1852000,
          1254000,
          1914000,
          1149000,
          1199000,
          956000,
          1507000,
          756000,
          709000,
          392000,
          999000,
          1350000,
          392000,
          876000,
          1000000,
          923000,
          689000,
          959000,
          1434000,
          920000,
          1254000,
          999000,
          1200000,
          851000,
          851000,
          1134000,
          1183000,
          639000,
          1260000,
          639000,
          1259000,
          1254000,
          639000,
          1014000,
          1259000,
          639000,
          1059000,
          1195000,
          1059000,
          850000,
          836000,
          2819000,
          1852000,
          1759000,
          1170000,
          680000,
          1235000,
          490000,
          1852000,
          996000,
          1852000,
          2799000,
          1849000,
          1192000,
          1134000,
          1254000,
          1254000,
          1045000,
          1819000,
          1235000,
          904000,
          1549000,
          1125000,
          1299000,
          904000,
          1399000,
          1492000,
          1759000,
          392000,
          1492000,
          1045000,
          879000,
          1125000,
          1464000,
          1125000,
          2111000,
          2111000,
          1274000,
          1274000,
          2111000,
          1609000,
          600000,
          1749000,
          1749000,
          999000,
          999000,
          999000,
          999000,
          1649000,
          1045000,
          1171000,
          851000,
          785000,
          1125000,
          1350000,
          1319000,
          2087000,
          1903000,
          1743000,
          1743000,
          1170000,
          1553000,
          1195000,
          975000,
          2204000,
          1995000,
          2204000,
          1374000,
          1134000,
          1759000,
          1240000,
          746000,
          709000,
          746000,
          1045000,
          1512000,
          1074000,
          1080000,
          879000,
          1464000,
          1260000,
          636000,
          2470000,
          392000,
          1914000,
          1171000,
          1045000,
          945000,
          594000,
          945000,
          594000,
          904000,
          1624000,
          1903000,
          1358000,
          1104000,
          796000,
          1358000,
          975000,
          716000,
          975000,
          1143000,
          2287000,
          1240000,
          1240000,
          2222000,
          1249000,
          2196000,
          799000,
          599000,
          2349000,
          1033000,
          1500000,
          1149000,
          716000,
          1499000,
          639000,
          1499000,
          639000,
          899000,
          392000,
          392000,
          392000,
          1649000,
          1995000,
          1407000,
          1183000,
          920000,
          895000,
          392000,
          600000,
          539000,
          1425000,
          600000,
          2819000,
          1260000,
          600000,
          392000,
          1254000,
          392000,
          1349000,
          2625000,
          1199000,
          1679000,
          954000,
          539000,
          1995000,
          995000,
          600000,
          1045000,
          1045000,
          1995000,
          392000,
          1759000,
          2349000,
          1374000,
          1272000,
          1614000,
          1614000,
          1272000,
          689000,
          1055000,
          1272000,
          689000,
          1254000,
          1045000,
          600000,
          1545000,
          879000,
          1134000,
          2196000,
          1488000,
          796000,
          363000,
          2500000,
          2500000,
          1852000,
          2111000,
          2111000,
          2500000,
          1085000,
          894000,
          699000,
          1992000,
          1859000,
          1434000,
          2500000,
          623000,
          1076000,
          636000,
          1943000,
          1553000,
          1425000,
          1000000,
          1800000,
          392000,
          1434000,
          1000000,
          392000,
          1260000,
          895000,
          1074000,
          999000,
          392000,
          999000,
          1254000,
          1254000,
          2500000,
          2111000,
          1194000,
          855000,
          600000,
          600000,
          1599000,
          1527000,
          1260000,
          2500000,
          2500000,
          2500000,
          392000,
          1050000,
          1171000,
          1759000,
          1759000,
          1649000,
          1171000,
          1757000,
          2500000,
          1757000,
          851000,
          916000,
          2500000,
          2500000,
          1592000,
          1799000,
          2500000,
          2500000,
          2500000,
          1592000,
          1800000,
          1943000,
          1425000,
          1254000,
          1254000,
          2819000,
          2500000,
          2500000,
          2500000,
          1500000,
          2500000,
          1272000,
          2019000,
          1134000,
          600000,
          1200000,
          1464000,
          1425000,
          1813000,
          1425000,
          1145000,
          1145000,
          1757000,
          1391000,
          756000,
          1425000,
          1085000,
          1409000,
          699000,
          2500000,
          851000,
          2111000,
          2111000,
          2500000,
          836000,
          1464000,
          1094000,
          2111000,
          1464000,
          797000,
          1759000,
          2349000,
          599000,
          1399000,
          1195000,
          797000,
          755000,
          2349000,
          599000,
          2500000,
          1254000,
          716000,
          875000,
          392000,
          1349000,
          1349000,
          1349000,
          539000,
          1254000,
          1425000,
          1434000,
          1434000,
          1254000,
          763000,
          1374000,
          850000,
          1374000,
          2500000,
          1145000,
          1800000,
          2297000,
          1852000,
          750000,
          2500000,
          1995000,
          1995000,
          1313000,
          689000,
          851000,
          1995000,
          1540000,
          2500000,
          716000,
          1194000,
          1434000,
          2500000,
          503000,
          1992000,
          2500000,
          1759000,
          1199000,
          600000,
          523000,
          1272000,
          1000000,
          1000000,
          1000000,
          855000,
          1000000,
          1000000,
          1007000,
          699000,
          1590000,
          594000,
          1434000,
          600000,
          1199000,
          2499000,
          2111000,
          1749000,
          1094000,
          920000,
          2500000,
          774000,
          1759000,
          1759000,
          1045000,
          1590000,
          654000,
          945000,
          999000,
          900000,
          1914000,
          1171000,
          1667000,
          392000,
          1014000,
          1914000,
          1094000,
          2500000,
          1649000,
          392000,
          1134000,
          1345000,
          639000,
          1439000,
          1272000
         ],
         "yaxis": "y"
        },
        {
         "alignmentgroup": "True",
         "bingroup": "x",
         "hovertemplate": "Onlineline/Cửa Hàng=Cửa Hàng<br>Giá bán=%{x}<br>count=%{y}<extra></extra>",
         "legendgroup": "Cửa Hàng",
         "marker": {
          "color": "#EF553B"
         },
         "name": "Cửa Hàng",
         "offsetgroup": "Cửa Hàng",
         "opacity": 0.5,
         "showlegend": false,
         "type": "histogram",
         "x": [
          1903000,
          975000,
          909000,
          1903000,
          716000,
          796000,
          1852000,
          559000,
          796000,
          716000,
          567000,
          392000,
          392000,
          1903000,
          1903000,
          999000,
          999000,
          1170000,
          1170000,
          600000,
          1170000,
          1430000,
          1422000,
          975000,
          945000,
          796000,
          1125000,
          1125000,
          1125000,
          1759000,
          1194000,
          1624000,
          1104000,
          1045000,
          1045000,
          1374000,
          1045000,
          1045000,
          1329000,
          945000,
          1763000,
          1763000,
          1399000,
          1349000,
          1240000,
          1240000,
          1342000,
          1852000,
          1254000,
          1914000,
          1149000,
          1199000,
          956000,
          1507000,
          756000,
          709000,
          392000,
          999000,
          1350000,
          392000,
          876000,
          1000000,
          923000,
          689000,
          959000,
          1434000,
          920000,
          1254000,
          999000,
          1200000,
          851000,
          851000,
          1134000,
          1183000,
          639000,
          1260000,
          639000,
          1259000,
          1254000,
          639000,
          1014000,
          1259000,
          639000,
          1059000,
          1195000,
          1059000,
          850000,
          836000,
          2819000,
          1852000,
          1759000,
          1170000,
          680000,
          1235000,
          490000,
          1852000,
          996000,
          1852000,
          2799000,
          1849000,
          1192000,
          1134000,
          1254000,
          1254000,
          1045000,
          1819000,
          1235000,
          904000,
          1549000,
          1125000,
          1299000,
          904000,
          1399000,
          1492000,
          1759000,
          392000,
          1492000,
          1045000,
          879000,
          1125000,
          1464000,
          1125000,
          2111000,
          2111000,
          1274000,
          1274000,
          2111000,
          1609000,
          600000,
          1749000,
          1749000,
          999000,
          999000,
          999000,
          999000,
          1649000,
          1045000,
          1171000,
          851000,
          785000,
          1125000,
          1350000,
          1319000,
          2087000,
          1903000,
          1743000,
          1743000,
          1170000,
          1553000,
          1195000,
          975000,
          2204000,
          1995000,
          2204000,
          1374000,
          1134000,
          1759000,
          1240000,
          746000,
          709000,
          746000,
          1045000,
          1512000,
          1074000,
          1080000,
          879000,
          1464000,
          1260000,
          636000,
          2470000,
          392000,
          1914000,
          1171000,
          1045000,
          945000,
          594000,
          945000,
          594000,
          904000,
          1624000,
          1903000,
          1358000,
          1104000,
          796000,
          1358000,
          975000,
          716000,
          975000,
          1143000,
          2287000,
          1240000,
          1240000,
          2222000,
          1249000,
          2196000,
          799000,
          599000,
          2349000,
          1033000,
          1500000,
          1149000,
          716000,
          1499000,
          639000,
          1499000,
          639000,
          899000,
          392000,
          392000,
          392000,
          1649000,
          1995000,
          1407000,
          1183000,
          920000,
          895000,
          392000,
          600000,
          539000,
          1425000,
          600000,
          2819000,
          1260000,
          600000,
          392000,
          1254000,
          392000,
          1349000,
          2625000,
          1199000,
          1679000,
          954000,
          539000,
          1995000,
          995000,
          600000,
          1045000,
          1045000,
          1995000,
          392000,
          1759000,
          2349000,
          1374000,
          1272000,
          1614000,
          1614000,
          1272000,
          689000,
          1055000,
          1272000,
          689000,
          1254000,
          1045000,
          600000,
          1545000,
          879000,
          1134000,
          2196000,
          1488000,
          796000,
          363000,
          2500000,
          2500000,
          1852000,
          2111000,
          2111000,
          2500000,
          1085000,
          894000,
          699000,
          1992000,
          1859000,
          1434000,
          2500000,
          623000,
          1076000,
          636000,
          1943000,
          1553000,
          1425000,
          1000000,
          1800000,
          392000,
          1434000,
          1000000,
          392000,
          1260000,
          895000,
          1074000,
          999000,
          392000,
          999000,
          1254000,
          1254000,
          2500000,
          2111000,
          1194000,
          855000,
          600000,
          600000,
          1599000,
          1527000,
          1260000,
          2500000,
          2500000,
          2500000,
          392000,
          1050000,
          1171000,
          1759000,
          1759000,
          1649000,
          1171000,
          1757000,
          2500000,
          1757000,
          851000,
          916000,
          2500000,
          2500000,
          1592000,
          1799000,
          2500000,
          2500000,
          2500000,
          1592000,
          1800000,
          1943000,
          1425000,
          1254000,
          1254000,
          2819000,
          2500000,
          2500000,
          2500000,
          1500000,
          2500000,
          1272000,
          2019000,
          1134000,
          600000,
          1200000,
          1464000,
          1425000,
          1813000,
          1425000,
          1145000,
          1145000,
          1757000,
          1391000,
          756000,
          1425000,
          1085000,
          1409000,
          699000,
          2500000,
          851000,
          2111000,
          2111000,
          2500000,
          836000,
          1464000,
          1094000,
          2111000,
          1464000,
          797000,
          1759000,
          2349000,
          599000,
          1399000,
          1195000,
          797000,
          755000,
          2349000,
          599000,
          2500000,
          1254000,
          716000,
          875000,
          392000,
          1349000,
          1349000,
          1349000,
          539000,
          1254000,
          1425000,
          1434000,
          1434000,
          1254000,
          763000,
          1374000,
          850000,
          1374000,
          2500000,
          1145000,
          1800000,
          2297000,
          1852000,
          750000,
          2500000,
          1995000,
          1995000,
          1313000,
          689000,
          851000,
          1995000,
          1540000,
          2500000,
          716000,
          1194000,
          1434000,
          2500000,
          503000,
          1992000,
          2500000,
          1759000,
          1199000,
          600000,
          523000,
          1272000,
          1000000,
          1000000,
          1000000,
          855000,
          1000000,
          1000000,
          1007000,
          699000,
          1590000,
          594000,
          1434000,
          600000,
          1199000,
          2499000,
          2111000,
          1749000,
          1094000,
          920000,
          2500000,
          774000,
          1759000,
          1759000,
          1045000,
          1590000,
          654000,
          945000,
          999000,
          900000,
          1914000,
          1171000,
          1667000,
          392000,
          1014000,
          1914000,
          1094000,
          2500000,
          1649000,
          392000,
          1134000,
          1345000,
          639000,
          1439000,
          1272000
         ],
         "xaxis": "x3",
         "yaxis": "y3"
        },
        {
         "alignmentgroup": "True",
         "bingroup": "y",
         "hovertemplate": "Onlineline/Cửa Hàng=Cửa Hàng<br>Giá gốc=%{y}<br>count=%{x}<extra></extra>",
         "legendgroup": "Cửa Hàng",
         "marker": {
          "color": "#EF553B"
         },
         "name": "Cửa Hàng",
         "offsetgroup": "Cửa Hàng",
         "opacity": 0.5,
         "showlegend": false,
         "type": "histogram",
         "xaxis": "x2",
         "y": [
          1903000,
          975000,
          909000,
          1903000,
          716000,
          796000,
          1852000,
          559000,
          796000,
          716000,
          567000,
          392000,
          392000,
          1903000,
          1903000,
          999000,
          999000,
          1170000,
          1170000,
          600000,
          1170000,
          1430000,
          1422000,
          975000,
          945000,
          796000,
          1125000,
          1125000,
          1125000,
          1759000,
          1194000,
          1624000,
          1104000,
          1045000,
          1045000,
          1374000,
          1045000,
          1045000,
          1329000,
          945000,
          1763000,
          1763000,
          1399000,
          1349000,
          1240000,
          1240000,
          1342000,
          1852000,
          1254000,
          1914000,
          1149000,
          1199000,
          956000,
          1507000,
          756000,
          709000,
          392000,
          999000,
          1350000,
          392000,
          876000,
          1000000,
          923000,
          689000,
          959000,
          1434000,
          920000,
          1254000,
          999000,
          1200000,
          851000,
          851000,
          1134000,
          1183000,
          639000,
          1260000,
          639000,
          1259000,
          1254000,
          639000,
          1014000,
          1259000,
          639000,
          1059000,
          1195000,
          1059000,
          850000,
          836000,
          2819000,
          1852000,
          1759000,
          1170000,
          680000,
          1235000,
          490000,
          1852000,
          996000,
          1852000,
          2799000,
          1849000,
          1192000,
          1134000,
          1254000,
          1254000,
          1045000,
          1819000,
          1235000,
          904000,
          1549000,
          1125000,
          1299000,
          904000,
          1399000,
          1492000,
          1759000,
          392000,
          1492000,
          1045000,
          879000,
          1125000,
          1464000,
          1125000,
          2111000,
          2111000,
          1274000,
          1274000,
          2111000,
          1609000,
          600000,
          1749000,
          1749000,
          999000,
          999000,
          999000,
          999000,
          1649000,
          1045000,
          1171000,
          851000,
          785000,
          1125000,
          1350000,
          1319000,
          2087000,
          1903000,
          1743000,
          1743000,
          1170000,
          1553000,
          1195000,
          975000,
          2204000,
          1995000,
          2204000,
          1374000,
          1134000,
          1759000,
          1240000,
          746000,
          709000,
          746000,
          1045000,
          1512000,
          1074000,
          1080000,
          879000,
          1464000,
          1260000,
          636000,
          2470000,
          392000,
          1914000,
          1171000,
          1045000,
          945000,
          594000,
          945000,
          594000,
          904000,
          1624000,
          1903000,
          1358000,
          1104000,
          796000,
          1358000,
          975000,
          716000,
          975000,
          1143000,
          2287000,
          1240000,
          1240000,
          2222000,
          1249000,
          2196000,
          799000,
          599000,
          2349000,
          1033000,
          1500000,
          1149000,
          716000,
          1499000,
          639000,
          1499000,
          639000,
          899000,
          392000,
          392000,
          392000,
          1649000,
          1995000,
          1407000,
          1183000,
          920000,
          895000,
          392000,
          600000,
          539000,
          1425000,
          600000,
          2819000,
          1260000,
          600000,
          392000,
          1254000,
          392000,
          1349000,
          2625000,
          1199000,
          1679000,
          954000,
          539000,
          1995000,
          995000,
          600000,
          1045000,
          1045000,
          1995000,
          392000,
          1759000,
          2349000,
          1374000,
          1272000,
          1614000,
          1614000,
          1272000,
          689000,
          1055000,
          1272000,
          689000,
          1254000,
          1045000,
          600000,
          1545000,
          879000,
          1134000,
          2196000,
          1488000,
          796000,
          363000,
          2500000,
          2500000,
          1852000,
          2111000,
          2111000,
          2500000,
          1085000,
          894000,
          699000,
          1992000,
          1859000,
          1434000,
          2500000,
          623000,
          1076000,
          636000,
          1943000,
          1553000,
          1425000,
          1000000,
          1800000,
          392000,
          1434000,
          1000000,
          392000,
          1260000,
          895000,
          1074000,
          999000,
          392000,
          999000,
          1254000,
          1254000,
          2500000,
          2111000,
          1194000,
          855000,
          600000,
          600000,
          1599000,
          1527000,
          1260000,
          2500000,
          2500000,
          2500000,
          392000,
          1050000,
          1171000,
          1759000,
          1759000,
          1649000,
          1171000,
          1757000,
          2500000,
          1757000,
          851000,
          916000,
          2500000,
          2500000,
          1592000,
          1799000,
          2500000,
          2500000,
          2500000,
          1592000,
          1800000,
          1943000,
          1425000,
          1254000,
          1254000,
          2819000,
          2500000,
          2500000,
          2500000,
          1500000,
          2500000,
          1272000,
          2019000,
          1134000,
          600000,
          1200000,
          1464000,
          1425000,
          1813000,
          1425000,
          1145000,
          1145000,
          1757000,
          1391000,
          756000,
          1425000,
          1085000,
          1409000,
          699000,
          2500000,
          851000,
          2111000,
          2111000,
          2500000,
          836000,
          1464000,
          1094000,
          2111000,
          1464000,
          797000,
          1759000,
          2349000,
          599000,
          1399000,
          1195000,
          797000,
          755000,
          2349000,
          599000,
          2500000,
          1254000,
          716000,
          875000,
          392000,
          1349000,
          1349000,
          1349000,
          539000,
          1254000,
          1425000,
          1434000,
          1434000,
          1254000,
          763000,
          1374000,
          850000,
          1374000,
          2500000,
          1145000,
          1800000,
          2297000,
          1852000,
          750000,
          2500000,
          1995000,
          1995000,
          1313000,
          689000,
          851000,
          1995000,
          1540000,
          2500000,
          716000,
          1194000,
          1434000,
          2500000,
          503000,
          1992000,
          2500000,
          1759000,
          1199000,
          600000,
          523000,
          1272000,
          1000000,
          1000000,
          1000000,
          855000,
          1000000,
          1000000,
          1007000,
          699000,
          1590000,
          594000,
          1434000,
          600000,
          1199000,
          2499000,
          2111000,
          1749000,
          1094000,
          920000,
          2500000,
          774000,
          1759000,
          1759000,
          1045000,
          1590000,
          654000,
          945000,
          999000,
          900000,
          1914000,
          1171000,
          1667000,
          392000,
          1014000,
          1914000,
          1094000,
          2500000,
          1649000,
          392000,
          1134000,
          1345000,
          639000,
          1439000,
          1272000
         ],
         "yaxis": "y2"
        }
       ],
       "layout": {
        "barmode": "overlay",
        "legend": {
         "itemsizing": "constant",
         "title": {
          "text": "Onlineline/Cửa Hàng"
         },
         "tracegroupgap": 0
        },
        "template": {
         "data": {
          "bar": [
           {
            "error_x": {
             "color": "#2a3f5f"
            },
            "error_y": {
             "color": "#2a3f5f"
            },
            "marker": {
             "line": {
              "color": "#E5ECF6",
              "width": 0.5
             },
             "pattern": {
              "fillmode": "overlay",
              "size": 10,
              "solidity": 0.2
             }
            },
            "type": "bar"
           }
          ],
          "barpolar": [
           {
            "marker": {
             "line": {
              "color": "#E5ECF6",
              "width": 0.5
             },
             "pattern": {
              "fillmode": "overlay",
              "size": 10,
              "solidity": 0.2
             }
            },
            "type": "barpolar"
           }
          ],
          "carpet": [
           {
            "aaxis": {
             "endlinecolor": "#2a3f5f",
             "gridcolor": "white",
             "linecolor": "white",
             "minorgridcolor": "white",
             "startlinecolor": "#2a3f5f"
            },
            "baxis": {
             "endlinecolor": "#2a3f5f",
             "gridcolor": "white",
             "linecolor": "white",
             "minorgridcolor": "white",
             "startlinecolor": "#2a3f5f"
            },
            "type": "carpet"
           }
          ],
          "choropleth": [
           {
            "colorbar": {
             "outlinewidth": 0,
             "ticks": ""
            },
            "type": "choropleth"
           }
          ],
          "contour": [
           {
            "colorbar": {
             "outlinewidth": 0,
             "ticks": ""
            },
            "colorscale": [
             [
              0,
              "#0d0887"
             ],
             [
              0.1111111111111111,
              "#46039f"
             ],
             [
              0.2222222222222222,
              "#7201a8"
             ],
             [
              0.3333333333333333,
              "#9c179e"
             ],
             [
              0.4444444444444444,
              "#bd3786"
             ],
             [
              0.5555555555555556,
              "#d8576b"
             ],
             [
              0.6666666666666666,
              "#ed7953"
             ],
             [
              0.7777777777777778,
              "#fb9f3a"
             ],
             [
              0.8888888888888888,
              "#fdca26"
             ],
             [
              1,
              "#f0f921"
             ]
            ],
            "type": "contour"
           }
          ],
          "contourcarpet": [
           {
            "colorbar": {
             "outlinewidth": 0,
             "ticks": ""
            },
            "type": "contourcarpet"
           }
          ],
          "heatmap": [
           {
            "colorbar": {
             "outlinewidth": 0,
             "ticks": ""
            },
            "colorscale": [
             [
              0,
              "#0d0887"
             ],
             [
              0.1111111111111111,
              "#46039f"
             ],
             [
              0.2222222222222222,
              "#7201a8"
             ],
             [
              0.3333333333333333,
              "#9c179e"
             ],
             [
              0.4444444444444444,
              "#bd3786"
             ],
             [
              0.5555555555555556,
              "#d8576b"
             ],
             [
              0.6666666666666666,
              "#ed7953"
             ],
             [
              0.7777777777777778,
              "#fb9f3a"
             ],
             [
              0.8888888888888888,
              "#fdca26"
             ],
             [
              1,
              "#f0f921"
             ]
            ],
            "type": "heatmap"
           }
          ],
          "heatmapgl": [
           {
            "colorbar": {
             "outlinewidth": 0,
             "ticks": ""
            },
            "colorscale": [
             [
              0,
              "#0d0887"
             ],
             [
              0.1111111111111111,
              "#46039f"
             ],
             [
              0.2222222222222222,
              "#7201a8"
             ],
             [
              0.3333333333333333,
              "#9c179e"
             ],
             [
              0.4444444444444444,
              "#bd3786"
             ],
             [
              0.5555555555555556,
              "#d8576b"
             ],
             [
              0.6666666666666666,
              "#ed7953"
             ],
             [
              0.7777777777777778,
              "#fb9f3a"
             ],
             [
              0.8888888888888888,
              "#fdca26"
             ],
             [
              1,
              "#f0f921"
             ]
            ],
            "type": "heatmapgl"
           }
          ],
          "histogram": [
           {
            "marker": {
             "pattern": {
              "fillmode": "overlay",
              "size": 10,
              "solidity": 0.2
             }
            },
            "type": "histogram"
           }
          ],
          "histogram2d": [
           {
            "colorbar": {
             "outlinewidth": 0,
             "ticks": ""
            },
            "colorscale": [
             [
              0,
              "#0d0887"
             ],
             [
              0.1111111111111111,
              "#46039f"
             ],
             [
              0.2222222222222222,
              "#7201a8"
             ],
             [
              0.3333333333333333,
              "#9c179e"
             ],
             [
              0.4444444444444444,
              "#bd3786"
             ],
             [
              0.5555555555555556,
              "#d8576b"
             ],
             [
              0.6666666666666666,
              "#ed7953"
             ],
             [
              0.7777777777777778,
              "#fb9f3a"
             ],
             [
              0.8888888888888888,
              "#fdca26"
             ],
             [
              1,
              "#f0f921"
             ]
            ],
            "type": "histogram2d"
           }
          ],
          "histogram2dcontour": [
           {
            "colorbar": {
             "outlinewidth": 0,
             "ticks": ""
            },
            "colorscale": [
             [
              0,
              "#0d0887"
             ],
             [
              0.1111111111111111,
              "#46039f"
             ],
             [
              0.2222222222222222,
              "#7201a8"
             ],
             [
              0.3333333333333333,
              "#9c179e"
             ],
             [
              0.4444444444444444,
              "#bd3786"
             ],
             [
              0.5555555555555556,
              "#d8576b"
             ],
             [
              0.6666666666666666,
              "#ed7953"
             ],
             [
              0.7777777777777778,
              "#fb9f3a"
             ],
             [
              0.8888888888888888,
              "#fdca26"
             ],
             [
              1,
              "#f0f921"
             ]
            ],
            "type": "histogram2dcontour"
           }
          ],
          "mesh3d": [
           {
            "colorbar": {
             "outlinewidth": 0,
             "ticks": ""
            },
            "type": "mesh3d"
           }
          ],
          "parcoords": [
           {
            "line": {
             "colorbar": {
              "outlinewidth": 0,
              "ticks": ""
             }
            },
            "type": "parcoords"
           }
          ],
          "pie": [
           {
            "automargin": true,
            "type": "pie"
           }
          ],
          "scatter": [
           {
            "fillpattern": {
             "fillmode": "overlay",
             "size": 10,
             "solidity": 0.2
            },
            "type": "scatter"
           }
          ],
          "scatter3d": [
           {
            "line": {
             "colorbar": {
              "outlinewidth": 0,
              "ticks": ""
             }
            },
            "marker": {
             "colorbar": {
              "outlinewidth": 0,
              "ticks": ""
             }
            },
            "type": "scatter3d"
           }
          ],
          "scattercarpet": [
           {
            "marker": {
             "colorbar": {
              "outlinewidth": 0,
              "ticks": ""
             }
            },
            "type": "scattercarpet"
           }
          ],
          "scattergeo": [
           {
            "marker": {
             "colorbar": {
              "outlinewidth": 0,
              "ticks": ""
             }
            },
            "type": "scattergeo"
           }
          ],
          "scattergl": [
           {
            "marker": {
             "colorbar": {
              "outlinewidth": 0,
              "ticks": ""
             }
            },
            "type": "scattergl"
           }
          ],
          "scattermapbox": [
           {
            "marker": {
             "colorbar": {
              "outlinewidth": 0,
              "ticks": ""
             }
            },
            "type": "scattermapbox"
           }
          ],
          "scatterpolar": [
           {
            "marker": {
             "colorbar": {
              "outlinewidth": 0,
              "ticks": ""
             }
            },
            "type": "scatterpolar"
           }
          ],
          "scatterpolargl": [
           {
            "marker": {
             "colorbar": {
              "outlinewidth": 0,
              "ticks": ""
             }
            },
            "type": "scatterpolargl"
           }
          ],
          "scatterternary": [
           {
            "marker": {
             "colorbar": {
              "outlinewidth": 0,
              "ticks": ""
             }
            },
            "type": "scatterternary"
           }
          ],
          "surface": [
           {
            "colorbar": {
             "outlinewidth": 0,
             "ticks": ""
            },
            "colorscale": [
             [
              0,
              "#0d0887"
             ],
             [
              0.1111111111111111,
              "#46039f"
             ],
             [
              0.2222222222222222,
              "#7201a8"
             ],
             [
              0.3333333333333333,
              "#9c179e"
             ],
             [
              0.4444444444444444,
              "#bd3786"
             ],
             [
              0.5555555555555556,
              "#d8576b"
             ],
             [
              0.6666666666666666,
              "#ed7953"
             ],
             [
              0.7777777777777778,
              "#fb9f3a"
             ],
             [
              0.8888888888888888,
              "#fdca26"
             ],
             [
              1,
              "#f0f921"
             ]
            ],
            "type": "surface"
           }
          ],
          "table": [
           {
            "cells": {
             "fill": {
              "color": "#EBF0F8"
             },
             "line": {
              "color": "white"
             }
            },
            "header": {
             "fill": {
              "color": "#C8D4E3"
             },
             "line": {
              "color": "white"
             }
            },
            "type": "table"
           }
          ]
         },
         "layout": {
          "annotationdefaults": {
           "arrowcolor": "#2a3f5f",
           "arrowhead": 0,
           "arrowwidth": 1
          },
          "autotypenumbers": "strict",
          "coloraxis": {
           "colorbar": {
            "outlinewidth": 0,
            "ticks": ""
           }
          },
          "colorscale": {
           "diverging": [
            [
             0,
             "#8e0152"
            ],
            [
             0.1,
             "#c51b7d"
            ],
            [
             0.2,
             "#de77ae"
            ],
            [
             0.3,
             "#f1b6da"
            ],
            [
             0.4,
             "#fde0ef"
            ],
            [
             0.5,
             "#f7f7f7"
            ],
            [
             0.6,
             "#e6f5d0"
            ],
            [
             0.7,
             "#b8e186"
            ],
            [
             0.8,
             "#7fbc41"
            ],
            [
             0.9,
             "#4d9221"
            ],
            [
             1,
             "#276419"
            ]
           ],
           "sequential": [
            [
             0,
             "#0d0887"
            ],
            [
             0.1111111111111111,
             "#46039f"
            ],
            [
             0.2222222222222222,
             "#7201a8"
            ],
            [
             0.3333333333333333,
             "#9c179e"
            ],
            [
             0.4444444444444444,
             "#bd3786"
            ],
            [
             0.5555555555555556,
             "#d8576b"
            ],
            [
             0.6666666666666666,
             "#ed7953"
            ],
            [
             0.7777777777777778,
             "#fb9f3a"
            ],
            [
             0.8888888888888888,
             "#fdca26"
            ],
            [
             1,
             "#f0f921"
            ]
           ],
           "sequentialminus": [
            [
             0,
             "#0d0887"
            ],
            [
             0.1111111111111111,
             "#46039f"
            ],
            [
             0.2222222222222222,
             "#7201a8"
            ],
            [
             0.3333333333333333,
             "#9c179e"
            ],
            [
             0.4444444444444444,
             "#bd3786"
            ],
            [
             0.5555555555555556,
             "#d8576b"
            ],
            [
             0.6666666666666666,
             "#ed7953"
            ],
            [
             0.7777777777777778,
             "#fb9f3a"
            ],
            [
             0.8888888888888888,
             "#fdca26"
            ],
            [
             1,
             "#f0f921"
            ]
           ]
          },
          "colorway": [
           "#636efa",
           "#EF553B",
           "#00cc96",
           "#ab63fa",
           "#FFA15A",
           "#19d3f3",
           "#FF6692",
           "#B6E880",
           "#FF97FF",
           "#FECB52"
          ],
          "font": {
           "color": "#2a3f5f"
          },
          "geo": {
           "bgcolor": "white",
           "lakecolor": "white",
           "landcolor": "#E5ECF6",
           "showlakes": true,
           "showland": true,
           "subunitcolor": "white"
          },
          "hoverlabel": {
           "align": "left"
          },
          "hovermode": "closest",
          "mapbox": {
           "style": "light"
          },
          "paper_bgcolor": "white",
          "plot_bgcolor": "#E5ECF6",
          "polar": {
           "angularaxis": {
            "gridcolor": "white",
            "linecolor": "white",
            "ticks": ""
           },
           "bgcolor": "#E5ECF6",
           "radialaxis": {
            "gridcolor": "white",
            "linecolor": "white",
            "ticks": ""
           }
          },
          "scene": {
           "xaxis": {
            "backgroundcolor": "#E5ECF6",
            "gridcolor": "white",
            "gridwidth": 2,
            "linecolor": "white",
            "showbackground": true,
            "ticks": "",
            "zerolinecolor": "white"
           },
           "yaxis": {
            "backgroundcolor": "#E5ECF6",
            "gridcolor": "white",
            "gridwidth": 2,
            "linecolor": "white",
            "showbackground": true,
            "ticks": "",
            "zerolinecolor": "white"
           },
           "zaxis": {
            "backgroundcolor": "#E5ECF6",
            "gridcolor": "white",
            "gridwidth": 2,
            "linecolor": "white",
            "showbackground": true,
            "ticks": "",
            "zerolinecolor": "white"
           }
          },
          "shapedefaults": {
           "line": {
            "color": "#2a3f5f"
           }
          },
          "ternary": {
           "aaxis": {
            "gridcolor": "white",
            "linecolor": "white",
            "ticks": ""
           },
           "baxis": {
            "gridcolor": "white",
            "linecolor": "white",
            "ticks": ""
           },
           "bgcolor": "#E5ECF6",
           "caxis": {
            "gridcolor": "white",
            "linecolor": "white",
            "ticks": ""
           }
          },
          "title": {
           "x": 0.05
          },
          "xaxis": {
           "automargin": true,
           "gridcolor": "white",
           "linecolor": "white",
           "ticks": "",
           "title": {
            "standoff": 15
           },
           "zerolinecolor": "white",
           "zerolinewidth": 2
          },
          "yaxis": {
           "automargin": true,
           "gridcolor": "white",
           "linecolor": "white",
           "ticks": "",
           "title": {
            "standoff": 15
           },
           "zerolinecolor": "white",
           "zerolinewidth": 2
          }
         }
        },
        "title": {
         "text": "Tương quan giữa giá gốc và giá bán"
        },
        "xaxis": {
         "anchor": "y",
         "domain": [
          0,
          0.7363
         ],
         "title": {
          "text": "Giá bán"
         }
        },
        "xaxis2": {
         "anchor": "y2",
         "domain": [
          0.7413,
          1
         ],
         "matches": "x2",
         "showgrid": true,
         "showline": false,
         "showticklabels": false,
         "ticks": ""
        },
        "xaxis3": {
         "anchor": "y3",
         "domain": [
          0,
          0.7363
         ],
         "matches": "x",
         "showgrid": true,
         "showticklabels": false
        },
        "xaxis4": {
         "anchor": "y4",
         "domain": [
          0.7413,
          1
         ],
         "matches": "x2",
         "showgrid": true,
         "showline": false,
         "showticklabels": false,
         "ticks": ""
        },
        "yaxis": {
         "anchor": "x",
         "domain": [
          0,
          0.7326
         ],
         "title": {
          "text": "Giá gốc"
         }
        },
        "yaxis2": {
         "anchor": "x2",
         "domain": [
          0,
          0.7326
         ],
         "matches": "y",
         "showgrid": true,
         "showticklabels": false
        },
        "yaxis3": {
         "anchor": "x3",
         "domain": [
          0.7426,
          1
         ],
         "matches": "y3",
         "showgrid": true,
         "showline": false,
         "showticklabels": false,
         "ticks": ""
        },
        "yaxis4": {
         "anchor": "x4",
         "domain": [
          0.7426,
          1
         ],
         "matches": "y3",
         "showgrid": true,
         "showline": false,
         "showticklabels": false,
         "ticks": ""
        }
       }
      },
      "text/html": [
       "<div>                            <div id=\"2048a91c-8610-4a5f-95bc-afeaa40cec5d\" class=\"plotly-graph-div\" style=\"height:525px; width:100%;\"></div>            <script type=\"text/javascript\">                require([\"plotly\"], function(Plotly) {                    window.PLOTLYENV=window.PLOTLYENV || {};                                    if (document.getElementById(\"2048a91c-8610-4a5f-95bc-afeaa40cec5d\")) {                    Plotly.newPlot(                        \"2048a91c-8610-4a5f-95bc-afeaa40cec5d\",                        [{\"hovertemplate\":\"Onlineline/C\\u1eeda H\\u00e0ng=Online<br>Gi\\u00e1 b\\u00e1n=%{x}<br>Gi\\u00e1 g\\u1ed1c=%{marker.size}<extra></extra>\",\"legendgroup\":\"Online\",\"marker\":{\"color\":\"#636efa\",\"size\":[796000,1589000,1757000,615000,615000,615000,615000,1499000,680000,2051000,664000,1059000,636000,1170000,1499000,636000,636000,716000,1852000,785000,391000,689000,689000,1349000,503000,999000,1145000,763000,1019000,1313000,796000,1019000,1195000,2297000,1757000,2297000,1691000,843000,796000,1181000,1119000,1757000,2051000,796000,1119000,1253000,1754000,1852000,1119000,1195000,1059000,1589000,1241000,2819000,1145000,2051000,796000,785000,1407000,1852000,904000,1749000,391000,1149000,965000,1145000,1757000,875000,796000,1253000,881000,1170000,1170000,796000,2051000,875000,523000,709000,1434000,1391000,1434000,1434000,459000,1055000,1055000,1145000,1852000,1859000,2093000,664000,636000,636000,796000,1757000,1211000,796000,1430000,2819000,796000,796000,763000,1241000,2231000,1852000,763000,1204000,1055000,1145000,1059000,2111000,2552000,1171000,2465000,363000,1879000,1195000,975000,1199000,1055000,1055000,975000,1757000,975000,975000,1145000,716000,1145000,643000,1313000,363000,954000,2645000,737000,695000,1059000,1145000,1313000,843000,2423000,1145000,796000,1241000,391000,1145000,1211000,954000,975000,737000,1757000,1170000,643000,1094000,636000,1055000,1763000,1171000,1763000,2465000,920000,875000,1313000,1195000,1313000,774000,1407000,1757000,920000,2111000,2051000,1171000,2423000,2819000,2111000,2111000,737000,763000,1119000,523000,2819000,1170000,1170000,2111000,1055000,2876000,2465000,505000,1149000,567000,967000,876000,1119000,763000,1649000,1149000,2259000,850000,1049000,2584000,1276000,1781000,576000,984000,1935000,2500000,1867000,1049000,2584000,2500000,967000,2500000,1094000,1094000,2500000,1094000,1049000,1935000,1935000,2500000,1049000,984000,984000,1425000,1935000,1610000,1879000,1879000,1879000,1171000,2584000,1314000,1314000,716000,2584000,2903000,875000,1264000,391000,1425000,1059000,559000,1264000,1198000,1456000,1314000,1039000,1935000,1935000,2500000,1049000,643000,1935000,1137000,576000,2500000,929000,1094000,934000,1625000,1456000,1456000,1781000,1314000,1259000,1649000,875000,2500000,1049000,692000,1935000,967000,796000,875000,1049000,850000,875000,984000,1094000,959000,920000,780000,2500000,1149000,1149000,1049000,2045000,1198000,551000,709000,1094000,716000,2111000],\"sizemode\":\"area\",\"sizeref\":7257.5,\"symbol\":\"circle\"},\"mode\":\"markers\",\"name\":\"Online\",\"orientation\":\"v\",\"showlegend\":true,\"x\":[796000,1589000,1757000,615000,615000,615000,615000,1499000,680000,2051000,664000,1059000,636000,1170000,1499000,636000,636000,716000,1852000,785000,391000,689000,689000,1349000,503000,999000,1145000,763000,1019000,1313000,796000,1019000,1195000,2297000,1757000,2297000,1691000,843000,796000,1181000,1119000,1757000,2051000,796000,1119000,1253000,1754000,1852000,1119000,1195000,1059000,1589000,1241000,2819000,1145000,2051000,796000,785000,1407000,1852000,904000,1749000,391000,1149000,965000,1145000,1757000,875000,796000,1253000,881000,1170000,1170000,796000,2051000,875000,523000,709000,1434000,1391000,1434000,1434000,459000,1055000,1055000,1145000,1852000,1859000,2093000,664000,636000,636000,796000,1757000,1211000,796000,1430000,2819000,796000,796000,763000,1241000,2231000,1852000,763000,1204000,1055000,1145000,1059000,2111000,2552000,1171000,2465000,363000,1879000,1195000,975000,1199000,1055000,1055000,975000,1757000,975000,975000,1145000,716000,1145000,643000,1313000,363000,954000,2645000,737000,695000,1059000,1145000,1313000,843000,2423000,1145000,796000,1241000,391000,1145000,1211000,954000,975000,737000,1757000,1170000,643000,1094000,636000,1055000,1763000,1171000,1763000,2465000,920000,875000,1313000,1195000,1313000,774000,1407000,1757000,920000,2111000,2051000,1171000,2423000,2819000,2111000,2111000,737000,763000,1119000,523000,2819000,1170000,1170000,2111000,1055000,2876000,2465000,505000,1149000,567000,967000,876000,1119000,763000,1649000,1149000,2259000,850000,1049000,2584000,1276000,1781000,576000,984000,1935000,2500000,1867000,1049000,2584000,2500000,967000,2500000,1094000,1094000,2500000,1094000,1049000,1935000,1935000,2500000,1049000,984000,984000,1425000,1935000,1610000,1879000,1879000,1879000,1171000,2584000,1314000,1314000,716000,2584000,2903000,875000,1264000,391000,1425000,1059000,559000,1264000,1198000,1456000,1314000,1039000,1935000,1935000,2500000,1049000,643000,1935000,1137000,576000,2500000,929000,1094000,934000,1625000,1456000,1456000,1781000,1314000,1259000,1649000,875000,2500000,1049000,692000,1935000,967000,796000,875000,1049000,850000,875000,984000,1094000,959000,920000,780000,2500000,1149000,1149000,1049000,2045000,1198000,551000,709000,1094000,716000,2111000],\"xaxis\":\"x\",\"y\":[796000,1589000,1757000,615000,615000,615000,615000,1499000,680000,2051000,664000,1059000,636000,1170000,1499000,636000,636000,716000,1852000,785000,391000,689000,689000,1349000,503000,999000,1145000,763000,1019000,1313000,796000,1019000,1195000,2297000,1757000,2297000,1691000,843000,796000,1181000,1119000,1757000,2051000,796000,1119000,1253000,1754000,1852000,1119000,1195000,1059000,1589000,1241000,2819000,1145000,2051000,796000,785000,1407000,1852000,904000,1749000,391000,1149000,965000,1145000,1757000,875000,796000,1253000,881000,1170000,1170000,796000,2051000,875000,523000,709000,1434000,1391000,1434000,1434000,459000,1055000,1055000,1145000,1852000,1859000,2093000,664000,636000,636000,796000,1757000,1211000,796000,1430000,2819000,796000,796000,763000,1241000,2231000,1852000,763000,1204000,1055000,1145000,1059000,2111000,2552000,1171000,2465000,363000,1879000,1195000,975000,1199000,1055000,1055000,975000,1757000,975000,975000,1145000,716000,1145000,643000,1313000,363000,954000,2645000,737000,695000,1059000,1145000,1313000,843000,2423000,1145000,796000,1241000,391000,1145000,1211000,954000,975000,737000,1757000,1170000,643000,1094000,636000,1055000,1763000,1171000,1763000,2465000,920000,875000,1313000,1195000,1313000,774000,1407000,1757000,920000,2111000,2051000,1171000,2423000,2819000,2111000,2111000,737000,763000,1119000,523000,2819000,1170000,1170000,2111000,1055000,2876000,2465000,505000,1149000,567000,967000,876000,1119000,763000,1649000,1149000,2259000,850000,1049000,2584000,1276000,1781000,576000,984000,1935000,2500000,1867000,1049000,2584000,2500000,967000,2500000,1094000,1094000,2500000,1094000,1049000,1935000,1935000,2500000,1049000,984000,984000,1425000,1935000,1610000,1879000,1879000,1879000,1171000,2584000,1314000,1314000,716000,2584000,2903000,875000,1264000,391000,1425000,1059000,559000,1264000,1198000,1456000,1314000,1039000,1935000,1935000,2500000,1049000,643000,1935000,1137000,576000,2500000,929000,1094000,934000,1625000,1456000,1456000,1781000,1314000,1259000,1649000,875000,2500000,1049000,692000,1935000,967000,796000,875000,1049000,850000,875000,984000,1094000,959000,920000,780000,2500000,1149000,1149000,1049000,2045000,1198000,551000,709000,1094000,716000,2111000],\"yaxis\":\"y\",\"type\":\"scatter\"},{\"alignmentgroup\":\"True\",\"bingroup\":\"x\",\"hovertemplate\":\"Onlineline/C\\u1eeda H\\u00e0ng=Online<br>Gi\\u00e1 b\\u00e1n=%{x}<br>count=%{y}<extra></extra>\",\"legendgroup\":\"Online\",\"marker\":{\"color\":\"#636efa\"},\"name\":\"Online\",\"offsetgroup\":\"Online\",\"opacity\":0.5,\"showlegend\":false,\"x\":[796000,1589000,1757000,615000,615000,615000,615000,1499000,680000,2051000,664000,1059000,636000,1170000,1499000,636000,636000,716000,1852000,785000,391000,689000,689000,1349000,503000,999000,1145000,763000,1019000,1313000,796000,1019000,1195000,2297000,1757000,2297000,1691000,843000,796000,1181000,1119000,1757000,2051000,796000,1119000,1253000,1754000,1852000,1119000,1195000,1059000,1589000,1241000,2819000,1145000,2051000,796000,785000,1407000,1852000,904000,1749000,391000,1149000,965000,1145000,1757000,875000,796000,1253000,881000,1170000,1170000,796000,2051000,875000,523000,709000,1434000,1391000,1434000,1434000,459000,1055000,1055000,1145000,1852000,1859000,2093000,664000,636000,636000,796000,1757000,1211000,796000,1430000,2819000,796000,796000,763000,1241000,2231000,1852000,763000,1204000,1055000,1145000,1059000,2111000,2552000,1171000,2465000,363000,1879000,1195000,975000,1199000,1055000,1055000,975000,1757000,975000,975000,1145000,716000,1145000,643000,1313000,363000,954000,2645000,737000,695000,1059000,1145000,1313000,843000,2423000,1145000,796000,1241000,391000,1145000,1211000,954000,975000,737000,1757000,1170000,643000,1094000,636000,1055000,1763000,1171000,1763000,2465000,920000,875000,1313000,1195000,1313000,774000,1407000,1757000,920000,2111000,2051000,1171000,2423000,2819000,2111000,2111000,737000,763000,1119000,523000,2819000,1170000,1170000,2111000,1055000,2876000,2465000,505000,1149000,567000,967000,876000,1119000,763000,1649000,1149000,2259000,850000,1049000,2584000,1276000,1781000,576000,984000,1935000,2500000,1867000,1049000,2584000,2500000,967000,2500000,1094000,1094000,2500000,1094000,1049000,1935000,1935000,2500000,1049000,984000,984000,1425000,1935000,1610000,1879000,1879000,1879000,1171000,2584000,1314000,1314000,716000,2584000,2903000,875000,1264000,391000,1425000,1059000,559000,1264000,1198000,1456000,1314000,1039000,1935000,1935000,2500000,1049000,643000,1935000,1137000,576000,2500000,929000,1094000,934000,1625000,1456000,1456000,1781000,1314000,1259000,1649000,875000,2500000,1049000,692000,1935000,967000,796000,875000,1049000,850000,875000,984000,1094000,959000,920000,780000,2500000,1149000,1149000,1049000,2045000,1198000,551000,709000,1094000,716000,2111000],\"xaxis\":\"x3\",\"yaxis\":\"y3\",\"type\":\"histogram\"},{\"alignmentgroup\":\"True\",\"bingroup\":\"y\",\"hovertemplate\":\"Onlineline/C\\u1eeda H\\u00e0ng=Online<br>Gi\\u00e1 g\\u1ed1c=%{y}<br>count=%{x}<extra></extra>\",\"legendgroup\":\"Online\",\"marker\":{\"color\":\"#636efa\"},\"name\":\"Online\",\"offsetgroup\":\"Online\",\"opacity\":0.5,\"showlegend\":false,\"xaxis\":\"x2\",\"y\":[796000,1589000,1757000,615000,615000,615000,615000,1499000,680000,2051000,664000,1059000,636000,1170000,1499000,636000,636000,716000,1852000,785000,391000,689000,689000,1349000,503000,999000,1145000,763000,1019000,1313000,796000,1019000,1195000,2297000,1757000,2297000,1691000,843000,796000,1181000,1119000,1757000,2051000,796000,1119000,1253000,1754000,1852000,1119000,1195000,1059000,1589000,1241000,2819000,1145000,2051000,796000,785000,1407000,1852000,904000,1749000,391000,1149000,965000,1145000,1757000,875000,796000,1253000,881000,1170000,1170000,796000,2051000,875000,523000,709000,1434000,1391000,1434000,1434000,459000,1055000,1055000,1145000,1852000,1859000,2093000,664000,636000,636000,796000,1757000,1211000,796000,1430000,2819000,796000,796000,763000,1241000,2231000,1852000,763000,1204000,1055000,1145000,1059000,2111000,2552000,1171000,2465000,363000,1879000,1195000,975000,1199000,1055000,1055000,975000,1757000,975000,975000,1145000,716000,1145000,643000,1313000,363000,954000,2645000,737000,695000,1059000,1145000,1313000,843000,2423000,1145000,796000,1241000,391000,1145000,1211000,954000,975000,737000,1757000,1170000,643000,1094000,636000,1055000,1763000,1171000,1763000,2465000,920000,875000,1313000,1195000,1313000,774000,1407000,1757000,920000,2111000,2051000,1171000,2423000,2819000,2111000,2111000,737000,763000,1119000,523000,2819000,1170000,1170000,2111000,1055000,2876000,2465000,505000,1149000,567000,967000,876000,1119000,763000,1649000,1149000,2259000,850000,1049000,2584000,1276000,1781000,576000,984000,1935000,2500000,1867000,1049000,2584000,2500000,967000,2500000,1094000,1094000,2500000,1094000,1049000,1935000,1935000,2500000,1049000,984000,984000,1425000,1935000,1610000,1879000,1879000,1879000,1171000,2584000,1314000,1314000,716000,2584000,2903000,875000,1264000,391000,1425000,1059000,559000,1264000,1198000,1456000,1314000,1039000,1935000,1935000,2500000,1049000,643000,1935000,1137000,576000,2500000,929000,1094000,934000,1625000,1456000,1456000,1781000,1314000,1259000,1649000,875000,2500000,1049000,692000,1935000,967000,796000,875000,1049000,850000,875000,984000,1094000,959000,920000,780000,2500000,1149000,1149000,1049000,2045000,1198000,551000,709000,1094000,716000,2111000],\"yaxis\":\"y2\",\"type\":\"histogram\"},{\"hovertemplate\":\"Onlineline/C\\u1eeda H\\u00e0ng=C\\u1eeda H\\u00e0ng<br>Gi\\u00e1 b\\u00e1n=%{x}<br>Gi\\u00e1 g\\u1ed1c=%{marker.size}<extra></extra>\",\"legendgroup\":\"C\\u1eeda H\\u00e0ng\",\"marker\":{\"color\":\"#EF553B\",\"size\":[1903000,975000,909000,1903000,716000,796000,1852000,559000,796000,716000,567000,392000,392000,1903000,1903000,999000,999000,1170000,1170000,600000,1170000,1430000,1422000,975000,945000,796000,1125000,1125000,1125000,1759000,1194000,1624000,1104000,1045000,1045000,1374000,1045000,1045000,1329000,945000,1763000,1763000,1399000,1349000,1240000,1240000,1342000,1852000,1254000,1914000,1149000,1199000,956000,1507000,756000,709000,392000,999000,1350000,392000,876000,1000000,923000,689000,959000,1434000,920000,1254000,999000,1200000,851000,851000,1134000,1183000,639000,1260000,639000,1259000,1254000,639000,1014000,1259000,639000,1059000,1195000,1059000,850000,836000,2819000,1852000,1759000,1170000,680000,1235000,490000,1852000,996000,1852000,2799000,1849000,1192000,1134000,1254000,1254000,1045000,1819000,1235000,904000,1549000,1125000,1299000,904000,1399000,1492000,1759000,392000,1492000,1045000,879000,1125000,1464000,1125000,2111000,2111000,1274000,1274000,2111000,1609000,600000,1749000,1749000,999000,999000,999000,999000,1649000,1045000,1171000,851000,785000,1125000,1350000,1319000,2087000,1903000,1743000,1743000,1170000,1553000,1195000,975000,2204000,1995000,2204000,1374000,1134000,1759000,1240000,746000,709000,746000,1045000,1512000,1074000,1080000,879000,1464000,1260000,636000,2470000,392000,1914000,1171000,1045000,945000,594000,945000,594000,904000,1624000,1903000,1358000,1104000,796000,1358000,975000,716000,975000,1143000,2287000,1240000,1240000,2222000,1249000,2196000,799000,599000,2349000,1033000,1500000,1149000,716000,1499000,639000,1499000,639000,899000,392000,392000,392000,1649000,1995000,1407000,1183000,920000,895000,392000,600000,539000,1425000,600000,2819000,1260000,600000,392000,1254000,392000,1349000,2625000,1199000,1679000,954000,539000,1995000,995000,600000,1045000,1045000,1995000,392000,1759000,2349000,1374000,1272000,1614000,1614000,1272000,689000,1055000,1272000,689000,1254000,1045000,600000,1545000,879000,1134000,2196000,1488000,796000,363000,2500000,2500000,1852000,2111000,2111000,2500000,1085000,894000,699000,1992000,1859000,1434000,2500000,623000,1076000,636000,1943000,1553000,1425000,1000000,1800000,392000,1434000,1000000,392000,1260000,895000,1074000,999000,392000,999000,1254000,1254000,2500000,2111000,1194000,855000,600000,600000,1599000,1527000,1260000,2500000,2500000,2500000,392000,1050000,1171000,1759000,1759000,1649000,1171000,1757000,2500000,1757000,851000,916000,2500000,2500000,1592000,1799000,2500000,2500000,2500000,1592000,1800000,1943000,1425000,1254000,1254000,2819000,2500000,2500000,2500000,1500000,2500000,1272000,2019000,1134000,600000,1200000,1464000,1425000,1813000,1425000,1145000,1145000,1757000,1391000,756000,1425000,1085000,1409000,699000,2500000,851000,2111000,2111000,2500000,836000,1464000,1094000,2111000,1464000,797000,1759000,2349000,599000,1399000,1195000,797000,755000,2349000,599000,2500000,1254000,716000,875000,392000,1349000,1349000,1349000,539000,1254000,1425000,1434000,1434000,1254000,763000,1374000,850000,1374000,2500000,1145000,1800000,2297000,1852000,750000,2500000,1995000,1995000,1313000,689000,851000,1995000,1540000,2500000,716000,1194000,1434000,2500000,503000,1992000,2500000,1759000,1199000,600000,523000,1272000,1000000,1000000,1000000,855000,1000000,1000000,1007000,699000,1590000,594000,1434000,600000,1199000,2499000,2111000,1749000,1094000,920000,2500000,774000,1759000,1759000,1045000,1590000,654000,945000,999000,900000,1914000,1171000,1667000,392000,1014000,1914000,1094000,2500000,1649000,392000,1134000,1345000,639000,1439000,1272000],\"sizemode\":\"area\",\"sizeref\":7257.5,\"symbol\":\"circle\"},\"mode\":\"markers\",\"name\":\"C\\u1eeda H\\u00e0ng\",\"orientation\":\"v\",\"showlegend\":true,\"x\":[1903000,975000,909000,1903000,716000,796000,1852000,559000,796000,716000,567000,392000,392000,1903000,1903000,999000,999000,1170000,1170000,600000,1170000,1430000,1422000,975000,945000,796000,1125000,1125000,1125000,1759000,1194000,1624000,1104000,1045000,1045000,1374000,1045000,1045000,1329000,945000,1763000,1763000,1399000,1349000,1240000,1240000,1342000,1852000,1254000,1914000,1149000,1199000,956000,1507000,756000,709000,392000,999000,1350000,392000,876000,1000000,923000,689000,959000,1434000,920000,1254000,999000,1200000,851000,851000,1134000,1183000,639000,1260000,639000,1259000,1254000,639000,1014000,1259000,639000,1059000,1195000,1059000,850000,836000,2819000,1852000,1759000,1170000,680000,1235000,490000,1852000,996000,1852000,2799000,1849000,1192000,1134000,1254000,1254000,1045000,1819000,1235000,904000,1549000,1125000,1299000,904000,1399000,1492000,1759000,392000,1492000,1045000,879000,1125000,1464000,1125000,2111000,2111000,1274000,1274000,2111000,1609000,600000,1749000,1749000,999000,999000,999000,999000,1649000,1045000,1171000,851000,785000,1125000,1350000,1319000,2087000,1903000,1743000,1743000,1170000,1553000,1195000,975000,2204000,1995000,2204000,1374000,1134000,1759000,1240000,746000,709000,746000,1045000,1512000,1074000,1080000,879000,1464000,1260000,636000,2470000,392000,1914000,1171000,1045000,945000,594000,945000,594000,904000,1624000,1903000,1358000,1104000,796000,1358000,975000,716000,975000,1143000,2287000,1240000,1240000,2222000,1249000,2196000,799000,599000,2349000,1033000,1500000,1149000,716000,1499000,639000,1499000,639000,899000,392000,392000,392000,1649000,1995000,1407000,1183000,920000,895000,392000,600000,539000,1425000,600000,2819000,1260000,600000,392000,1254000,392000,1349000,2625000,1199000,1679000,954000,539000,1995000,995000,600000,1045000,1045000,1995000,392000,1759000,2349000,1374000,1272000,1614000,1614000,1272000,689000,1055000,1272000,689000,1254000,1045000,600000,1545000,879000,1134000,2196000,1488000,796000,363000,2500000,2500000,1852000,2111000,2111000,2500000,1085000,894000,699000,1992000,1859000,1434000,2500000,623000,1076000,636000,1943000,1553000,1425000,1000000,1800000,392000,1434000,1000000,392000,1260000,895000,1074000,999000,392000,999000,1254000,1254000,2500000,2111000,1194000,855000,600000,600000,1599000,1527000,1260000,2500000,2500000,2500000,392000,1050000,1171000,1759000,1759000,1649000,1171000,1757000,2500000,1757000,851000,916000,2500000,2500000,1592000,1799000,2500000,2500000,2500000,1592000,1800000,1943000,1425000,1254000,1254000,2819000,2500000,2500000,2500000,1500000,2500000,1272000,2019000,1134000,600000,1200000,1464000,1425000,1813000,1425000,1145000,1145000,1757000,1391000,756000,1425000,1085000,1409000,699000,2500000,851000,2111000,2111000,2500000,836000,1464000,1094000,2111000,1464000,797000,1759000,2349000,599000,1399000,1195000,797000,755000,2349000,599000,2500000,1254000,716000,875000,392000,1349000,1349000,1349000,539000,1254000,1425000,1434000,1434000,1254000,763000,1374000,850000,1374000,2500000,1145000,1800000,2297000,1852000,750000,2500000,1995000,1995000,1313000,689000,851000,1995000,1540000,2500000,716000,1194000,1434000,2500000,503000,1992000,2500000,1759000,1199000,600000,523000,1272000,1000000,1000000,1000000,855000,1000000,1000000,1007000,699000,1590000,594000,1434000,600000,1199000,2499000,2111000,1749000,1094000,920000,2500000,774000,1759000,1759000,1045000,1590000,654000,945000,999000,900000,1914000,1171000,1667000,392000,1014000,1914000,1094000,2500000,1649000,392000,1134000,1345000,639000,1439000,1272000],\"xaxis\":\"x\",\"y\":[1903000,975000,909000,1903000,716000,796000,1852000,559000,796000,716000,567000,392000,392000,1903000,1903000,999000,999000,1170000,1170000,600000,1170000,1430000,1422000,975000,945000,796000,1125000,1125000,1125000,1759000,1194000,1624000,1104000,1045000,1045000,1374000,1045000,1045000,1329000,945000,1763000,1763000,1399000,1349000,1240000,1240000,1342000,1852000,1254000,1914000,1149000,1199000,956000,1507000,756000,709000,392000,999000,1350000,392000,876000,1000000,923000,689000,959000,1434000,920000,1254000,999000,1200000,851000,851000,1134000,1183000,639000,1260000,639000,1259000,1254000,639000,1014000,1259000,639000,1059000,1195000,1059000,850000,836000,2819000,1852000,1759000,1170000,680000,1235000,490000,1852000,996000,1852000,2799000,1849000,1192000,1134000,1254000,1254000,1045000,1819000,1235000,904000,1549000,1125000,1299000,904000,1399000,1492000,1759000,392000,1492000,1045000,879000,1125000,1464000,1125000,2111000,2111000,1274000,1274000,2111000,1609000,600000,1749000,1749000,999000,999000,999000,999000,1649000,1045000,1171000,851000,785000,1125000,1350000,1319000,2087000,1903000,1743000,1743000,1170000,1553000,1195000,975000,2204000,1995000,2204000,1374000,1134000,1759000,1240000,746000,709000,746000,1045000,1512000,1074000,1080000,879000,1464000,1260000,636000,2470000,392000,1914000,1171000,1045000,945000,594000,945000,594000,904000,1624000,1903000,1358000,1104000,796000,1358000,975000,716000,975000,1143000,2287000,1240000,1240000,2222000,1249000,2196000,799000,599000,2349000,1033000,1500000,1149000,716000,1499000,639000,1499000,639000,899000,392000,392000,392000,1649000,1995000,1407000,1183000,920000,895000,392000,600000,539000,1425000,600000,2819000,1260000,600000,392000,1254000,392000,1349000,2625000,1199000,1679000,954000,539000,1995000,995000,600000,1045000,1045000,1995000,392000,1759000,2349000,1374000,1272000,1614000,1614000,1272000,689000,1055000,1272000,689000,1254000,1045000,600000,1545000,879000,1134000,2196000,1488000,796000,363000,2500000,2500000,1852000,2111000,2111000,2500000,1085000,894000,699000,1992000,1859000,1434000,2500000,623000,1076000,636000,1943000,1553000,1425000,1000000,1800000,392000,1434000,1000000,392000,1260000,895000,1074000,999000,392000,999000,1254000,1254000,2500000,2111000,1194000,855000,600000,600000,1599000,1527000,1260000,2500000,2500000,2500000,392000,1050000,1171000,1759000,1759000,1649000,1171000,1757000,2500000,1757000,851000,916000,2500000,2500000,1592000,1799000,2500000,2500000,2500000,1592000,1800000,1943000,1425000,1254000,1254000,2819000,2500000,2500000,2500000,1500000,2500000,1272000,2019000,1134000,600000,1200000,1464000,1425000,1813000,1425000,1145000,1145000,1757000,1391000,756000,1425000,1085000,1409000,699000,2500000,851000,2111000,2111000,2500000,836000,1464000,1094000,2111000,1464000,797000,1759000,2349000,599000,1399000,1195000,797000,755000,2349000,599000,2500000,1254000,716000,875000,392000,1349000,1349000,1349000,539000,1254000,1425000,1434000,1434000,1254000,763000,1374000,850000,1374000,2500000,1145000,1800000,2297000,1852000,750000,2500000,1995000,1995000,1313000,689000,851000,1995000,1540000,2500000,716000,1194000,1434000,2500000,503000,1992000,2500000,1759000,1199000,600000,523000,1272000,1000000,1000000,1000000,855000,1000000,1000000,1007000,699000,1590000,594000,1434000,600000,1199000,2499000,2111000,1749000,1094000,920000,2500000,774000,1759000,1759000,1045000,1590000,654000,945000,999000,900000,1914000,1171000,1667000,392000,1014000,1914000,1094000,2500000,1649000,392000,1134000,1345000,639000,1439000,1272000],\"yaxis\":\"y\",\"type\":\"scatter\"},{\"alignmentgroup\":\"True\",\"bingroup\":\"x\",\"hovertemplate\":\"Onlineline/C\\u1eeda H\\u00e0ng=C\\u1eeda H\\u00e0ng<br>Gi\\u00e1 b\\u00e1n=%{x}<br>count=%{y}<extra></extra>\",\"legendgroup\":\"C\\u1eeda H\\u00e0ng\",\"marker\":{\"color\":\"#EF553B\"},\"name\":\"C\\u1eeda H\\u00e0ng\",\"offsetgroup\":\"C\\u1eeda H\\u00e0ng\",\"opacity\":0.5,\"showlegend\":false,\"x\":[1903000,975000,909000,1903000,716000,796000,1852000,559000,796000,716000,567000,392000,392000,1903000,1903000,999000,999000,1170000,1170000,600000,1170000,1430000,1422000,975000,945000,796000,1125000,1125000,1125000,1759000,1194000,1624000,1104000,1045000,1045000,1374000,1045000,1045000,1329000,945000,1763000,1763000,1399000,1349000,1240000,1240000,1342000,1852000,1254000,1914000,1149000,1199000,956000,1507000,756000,709000,392000,999000,1350000,392000,876000,1000000,923000,689000,959000,1434000,920000,1254000,999000,1200000,851000,851000,1134000,1183000,639000,1260000,639000,1259000,1254000,639000,1014000,1259000,639000,1059000,1195000,1059000,850000,836000,2819000,1852000,1759000,1170000,680000,1235000,490000,1852000,996000,1852000,2799000,1849000,1192000,1134000,1254000,1254000,1045000,1819000,1235000,904000,1549000,1125000,1299000,904000,1399000,1492000,1759000,392000,1492000,1045000,879000,1125000,1464000,1125000,2111000,2111000,1274000,1274000,2111000,1609000,600000,1749000,1749000,999000,999000,999000,999000,1649000,1045000,1171000,851000,785000,1125000,1350000,1319000,2087000,1903000,1743000,1743000,1170000,1553000,1195000,975000,2204000,1995000,2204000,1374000,1134000,1759000,1240000,746000,709000,746000,1045000,1512000,1074000,1080000,879000,1464000,1260000,636000,2470000,392000,1914000,1171000,1045000,945000,594000,945000,594000,904000,1624000,1903000,1358000,1104000,796000,1358000,975000,716000,975000,1143000,2287000,1240000,1240000,2222000,1249000,2196000,799000,599000,2349000,1033000,1500000,1149000,716000,1499000,639000,1499000,639000,899000,392000,392000,392000,1649000,1995000,1407000,1183000,920000,895000,392000,600000,539000,1425000,600000,2819000,1260000,600000,392000,1254000,392000,1349000,2625000,1199000,1679000,954000,539000,1995000,995000,600000,1045000,1045000,1995000,392000,1759000,2349000,1374000,1272000,1614000,1614000,1272000,689000,1055000,1272000,689000,1254000,1045000,600000,1545000,879000,1134000,2196000,1488000,796000,363000,2500000,2500000,1852000,2111000,2111000,2500000,1085000,894000,699000,1992000,1859000,1434000,2500000,623000,1076000,636000,1943000,1553000,1425000,1000000,1800000,392000,1434000,1000000,392000,1260000,895000,1074000,999000,392000,999000,1254000,1254000,2500000,2111000,1194000,855000,600000,600000,1599000,1527000,1260000,2500000,2500000,2500000,392000,1050000,1171000,1759000,1759000,1649000,1171000,1757000,2500000,1757000,851000,916000,2500000,2500000,1592000,1799000,2500000,2500000,2500000,1592000,1800000,1943000,1425000,1254000,1254000,2819000,2500000,2500000,2500000,1500000,2500000,1272000,2019000,1134000,600000,1200000,1464000,1425000,1813000,1425000,1145000,1145000,1757000,1391000,756000,1425000,1085000,1409000,699000,2500000,851000,2111000,2111000,2500000,836000,1464000,1094000,2111000,1464000,797000,1759000,2349000,599000,1399000,1195000,797000,755000,2349000,599000,2500000,1254000,716000,875000,392000,1349000,1349000,1349000,539000,1254000,1425000,1434000,1434000,1254000,763000,1374000,850000,1374000,2500000,1145000,1800000,2297000,1852000,750000,2500000,1995000,1995000,1313000,689000,851000,1995000,1540000,2500000,716000,1194000,1434000,2500000,503000,1992000,2500000,1759000,1199000,600000,523000,1272000,1000000,1000000,1000000,855000,1000000,1000000,1007000,699000,1590000,594000,1434000,600000,1199000,2499000,2111000,1749000,1094000,920000,2500000,774000,1759000,1759000,1045000,1590000,654000,945000,999000,900000,1914000,1171000,1667000,392000,1014000,1914000,1094000,2500000,1649000,392000,1134000,1345000,639000,1439000,1272000],\"xaxis\":\"x3\",\"yaxis\":\"y3\",\"type\":\"histogram\"},{\"alignmentgroup\":\"True\",\"bingroup\":\"y\",\"hovertemplate\":\"Onlineline/C\\u1eeda H\\u00e0ng=C\\u1eeda H\\u00e0ng<br>Gi\\u00e1 g\\u1ed1c=%{y}<br>count=%{x}<extra></extra>\",\"legendgroup\":\"C\\u1eeda H\\u00e0ng\",\"marker\":{\"color\":\"#EF553B\"},\"name\":\"C\\u1eeda H\\u00e0ng\",\"offsetgroup\":\"C\\u1eeda H\\u00e0ng\",\"opacity\":0.5,\"showlegend\":false,\"xaxis\":\"x2\",\"y\":[1903000,975000,909000,1903000,716000,796000,1852000,559000,796000,716000,567000,392000,392000,1903000,1903000,999000,999000,1170000,1170000,600000,1170000,1430000,1422000,975000,945000,796000,1125000,1125000,1125000,1759000,1194000,1624000,1104000,1045000,1045000,1374000,1045000,1045000,1329000,945000,1763000,1763000,1399000,1349000,1240000,1240000,1342000,1852000,1254000,1914000,1149000,1199000,956000,1507000,756000,709000,392000,999000,1350000,392000,876000,1000000,923000,689000,959000,1434000,920000,1254000,999000,1200000,851000,851000,1134000,1183000,639000,1260000,639000,1259000,1254000,639000,1014000,1259000,639000,1059000,1195000,1059000,850000,836000,2819000,1852000,1759000,1170000,680000,1235000,490000,1852000,996000,1852000,2799000,1849000,1192000,1134000,1254000,1254000,1045000,1819000,1235000,904000,1549000,1125000,1299000,904000,1399000,1492000,1759000,392000,1492000,1045000,879000,1125000,1464000,1125000,2111000,2111000,1274000,1274000,2111000,1609000,600000,1749000,1749000,999000,999000,999000,999000,1649000,1045000,1171000,851000,785000,1125000,1350000,1319000,2087000,1903000,1743000,1743000,1170000,1553000,1195000,975000,2204000,1995000,2204000,1374000,1134000,1759000,1240000,746000,709000,746000,1045000,1512000,1074000,1080000,879000,1464000,1260000,636000,2470000,392000,1914000,1171000,1045000,945000,594000,945000,594000,904000,1624000,1903000,1358000,1104000,796000,1358000,975000,716000,975000,1143000,2287000,1240000,1240000,2222000,1249000,2196000,799000,599000,2349000,1033000,1500000,1149000,716000,1499000,639000,1499000,639000,899000,392000,392000,392000,1649000,1995000,1407000,1183000,920000,895000,392000,600000,539000,1425000,600000,2819000,1260000,600000,392000,1254000,392000,1349000,2625000,1199000,1679000,954000,539000,1995000,995000,600000,1045000,1045000,1995000,392000,1759000,2349000,1374000,1272000,1614000,1614000,1272000,689000,1055000,1272000,689000,1254000,1045000,600000,1545000,879000,1134000,2196000,1488000,796000,363000,2500000,2500000,1852000,2111000,2111000,2500000,1085000,894000,699000,1992000,1859000,1434000,2500000,623000,1076000,636000,1943000,1553000,1425000,1000000,1800000,392000,1434000,1000000,392000,1260000,895000,1074000,999000,392000,999000,1254000,1254000,2500000,2111000,1194000,855000,600000,600000,1599000,1527000,1260000,2500000,2500000,2500000,392000,1050000,1171000,1759000,1759000,1649000,1171000,1757000,2500000,1757000,851000,916000,2500000,2500000,1592000,1799000,2500000,2500000,2500000,1592000,1800000,1943000,1425000,1254000,1254000,2819000,2500000,2500000,2500000,1500000,2500000,1272000,2019000,1134000,600000,1200000,1464000,1425000,1813000,1425000,1145000,1145000,1757000,1391000,756000,1425000,1085000,1409000,699000,2500000,851000,2111000,2111000,2500000,836000,1464000,1094000,2111000,1464000,797000,1759000,2349000,599000,1399000,1195000,797000,755000,2349000,599000,2500000,1254000,716000,875000,392000,1349000,1349000,1349000,539000,1254000,1425000,1434000,1434000,1254000,763000,1374000,850000,1374000,2500000,1145000,1800000,2297000,1852000,750000,2500000,1995000,1995000,1313000,689000,851000,1995000,1540000,2500000,716000,1194000,1434000,2500000,503000,1992000,2500000,1759000,1199000,600000,523000,1272000,1000000,1000000,1000000,855000,1000000,1000000,1007000,699000,1590000,594000,1434000,600000,1199000,2499000,2111000,1749000,1094000,920000,2500000,774000,1759000,1759000,1045000,1590000,654000,945000,999000,900000,1914000,1171000,1667000,392000,1014000,1914000,1094000,2500000,1649000,392000,1134000,1345000,639000,1439000,1272000],\"yaxis\":\"y2\",\"type\":\"histogram\"}],                        {\"template\":{\"data\":{\"histogram2dcontour\":[{\"type\":\"histogram2dcontour\",\"colorbar\":{\"outlinewidth\":0,\"ticks\":\"\"},\"colorscale\":[[0.0,\"#0d0887\"],[0.1111111111111111,\"#46039f\"],[0.2222222222222222,\"#7201a8\"],[0.3333333333333333,\"#9c179e\"],[0.4444444444444444,\"#bd3786\"],[0.5555555555555556,\"#d8576b\"],[0.6666666666666666,\"#ed7953\"],[0.7777777777777778,\"#fb9f3a\"],[0.8888888888888888,\"#fdca26\"],[1.0,\"#f0f921\"]]}],\"choropleth\":[{\"type\":\"choropleth\",\"colorbar\":{\"outlinewidth\":0,\"ticks\":\"\"}}],\"histogram2d\":[{\"type\":\"histogram2d\",\"colorbar\":{\"outlinewidth\":0,\"ticks\":\"\"},\"colorscale\":[[0.0,\"#0d0887\"],[0.1111111111111111,\"#46039f\"],[0.2222222222222222,\"#7201a8\"],[0.3333333333333333,\"#9c179e\"],[0.4444444444444444,\"#bd3786\"],[0.5555555555555556,\"#d8576b\"],[0.6666666666666666,\"#ed7953\"],[0.7777777777777778,\"#fb9f3a\"],[0.8888888888888888,\"#fdca26\"],[1.0,\"#f0f921\"]]}],\"heatmap\":[{\"type\":\"heatmap\",\"colorbar\":{\"outlinewidth\":0,\"ticks\":\"\"},\"colorscale\":[[0.0,\"#0d0887\"],[0.1111111111111111,\"#46039f\"],[0.2222222222222222,\"#7201a8\"],[0.3333333333333333,\"#9c179e\"],[0.4444444444444444,\"#bd3786\"],[0.5555555555555556,\"#d8576b\"],[0.6666666666666666,\"#ed7953\"],[0.7777777777777778,\"#fb9f3a\"],[0.8888888888888888,\"#fdca26\"],[1.0,\"#f0f921\"]]}],\"heatmapgl\":[{\"type\":\"heatmapgl\",\"colorbar\":{\"outlinewidth\":0,\"ticks\":\"\"},\"colorscale\":[[0.0,\"#0d0887\"],[0.1111111111111111,\"#46039f\"],[0.2222222222222222,\"#7201a8\"],[0.3333333333333333,\"#9c179e\"],[0.4444444444444444,\"#bd3786\"],[0.5555555555555556,\"#d8576b\"],[0.6666666666666666,\"#ed7953\"],[0.7777777777777778,\"#fb9f3a\"],[0.8888888888888888,\"#fdca26\"],[1.0,\"#f0f921\"]]}],\"contourcarpet\":[{\"type\":\"contourcarpet\",\"colorbar\":{\"outlinewidth\":0,\"ticks\":\"\"}}],\"contour\":[{\"type\":\"contour\",\"colorbar\":{\"outlinewidth\":0,\"ticks\":\"\"},\"colorscale\":[[0.0,\"#0d0887\"],[0.1111111111111111,\"#46039f\"],[0.2222222222222222,\"#7201a8\"],[0.3333333333333333,\"#9c179e\"],[0.4444444444444444,\"#bd3786\"],[0.5555555555555556,\"#d8576b\"],[0.6666666666666666,\"#ed7953\"],[0.7777777777777778,\"#fb9f3a\"],[0.8888888888888888,\"#fdca26\"],[1.0,\"#f0f921\"]]}],\"surface\":[{\"type\":\"surface\",\"colorbar\":{\"outlinewidth\":0,\"ticks\":\"\"},\"colorscale\":[[0.0,\"#0d0887\"],[0.1111111111111111,\"#46039f\"],[0.2222222222222222,\"#7201a8\"],[0.3333333333333333,\"#9c179e\"],[0.4444444444444444,\"#bd3786\"],[0.5555555555555556,\"#d8576b\"],[0.6666666666666666,\"#ed7953\"],[0.7777777777777778,\"#fb9f3a\"],[0.8888888888888888,\"#fdca26\"],[1.0,\"#f0f921\"]]}],\"mesh3d\":[{\"type\":\"mesh3d\",\"colorbar\":{\"outlinewidth\":0,\"ticks\":\"\"}}],\"scatter\":[{\"fillpattern\":{\"fillmode\":\"overlay\",\"size\":10,\"solidity\":0.2},\"type\":\"scatter\"}],\"parcoords\":[{\"type\":\"parcoords\",\"line\":{\"colorbar\":{\"outlinewidth\":0,\"ticks\":\"\"}}}],\"scatterpolargl\":[{\"type\":\"scatterpolargl\",\"marker\":{\"colorbar\":{\"outlinewidth\":0,\"ticks\":\"\"}}}],\"bar\":[{\"error_x\":{\"color\":\"#2a3f5f\"},\"error_y\":{\"color\":\"#2a3f5f\"},\"marker\":{\"line\":{\"color\":\"#E5ECF6\",\"width\":0.5},\"pattern\":{\"fillmode\":\"overlay\",\"size\":10,\"solidity\":0.2}},\"type\":\"bar\"}],\"scattergeo\":[{\"type\":\"scattergeo\",\"marker\":{\"colorbar\":{\"outlinewidth\":0,\"ticks\":\"\"}}}],\"scatterpolar\":[{\"type\":\"scatterpolar\",\"marker\":{\"colorbar\":{\"outlinewidth\":0,\"ticks\":\"\"}}}],\"histogram\":[{\"marker\":{\"pattern\":{\"fillmode\":\"overlay\",\"size\":10,\"solidity\":0.2}},\"type\":\"histogram\"}],\"scattergl\":[{\"type\":\"scattergl\",\"marker\":{\"colorbar\":{\"outlinewidth\":0,\"ticks\":\"\"}}}],\"scatter3d\":[{\"type\":\"scatter3d\",\"line\":{\"colorbar\":{\"outlinewidth\":0,\"ticks\":\"\"}},\"marker\":{\"colorbar\":{\"outlinewidth\":0,\"ticks\":\"\"}}}],\"scattermapbox\":[{\"type\":\"scattermapbox\",\"marker\":{\"colorbar\":{\"outlinewidth\":0,\"ticks\":\"\"}}}],\"scatterternary\":[{\"type\":\"scatterternary\",\"marker\":{\"colorbar\":{\"outlinewidth\":0,\"ticks\":\"\"}}}],\"scattercarpet\":[{\"type\":\"scattercarpet\",\"marker\":{\"colorbar\":{\"outlinewidth\":0,\"ticks\":\"\"}}}],\"carpet\":[{\"aaxis\":{\"endlinecolor\":\"#2a3f5f\",\"gridcolor\":\"white\",\"linecolor\":\"white\",\"minorgridcolor\":\"white\",\"startlinecolor\":\"#2a3f5f\"},\"baxis\":{\"endlinecolor\":\"#2a3f5f\",\"gridcolor\":\"white\",\"linecolor\":\"white\",\"minorgridcolor\":\"white\",\"startlinecolor\":\"#2a3f5f\"},\"type\":\"carpet\"}],\"table\":[{\"cells\":{\"fill\":{\"color\":\"#EBF0F8\"},\"line\":{\"color\":\"white\"}},\"header\":{\"fill\":{\"color\":\"#C8D4E3\"},\"line\":{\"color\":\"white\"}},\"type\":\"table\"}],\"barpolar\":[{\"marker\":{\"line\":{\"color\":\"#E5ECF6\",\"width\":0.5},\"pattern\":{\"fillmode\":\"overlay\",\"size\":10,\"solidity\":0.2}},\"type\":\"barpolar\"}],\"pie\":[{\"automargin\":true,\"type\":\"pie\"}]},\"layout\":{\"autotypenumbers\":\"strict\",\"colorway\":[\"#636efa\",\"#EF553B\",\"#00cc96\",\"#ab63fa\",\"#FFA15A\",\"#19d3f3\",\"#FF6692\",\"#B6E880\",\"#FF97FF\",\"#FECB52\"],\"font\":{\"color\":\"#2a3f5f\"},\"hovermode\":\"closest\",\"hoverlabel\":{\"align\":\"left\"},\"paper_bgcolor\":\"white\",\"plot_bgcolor\":\"#E5ECF6\",\"polar\":{\"bgcolor\":\"#E5ECF6\",\"angularaxis\":{\"gridcolor\":\"white\",\"linecolor\":\"white\",\"ticks\":\"\"},\"radialaxis\":{\"gridcolor\":\"white\",\"linecolor\":\"white\",\"ticks\":\"\"}},\"ternary\":{\"bgcolor\":\"#E5ECF6\",\"aaxis\":{\"gridcolor\":\"white\",\"linecolor\":\"white\",\"ticks\":\"\"},\"baxis\":{\"gridcolor\":\"white\",\"linecolor\":\"white\",\"ticks\":\"\"},\"caxis\":{\"gridcolor\":\"white\",\"linecolor\":\"white\",\"ticks\":\"\"}},\"coloraxis\":{\"colorbar\":{\"outlinewidth\":0,\"ticks\":\"\"}},\"colorscale\":{\"sequential\":[[0.0,\"#0d0887\"],[0.1111111111111111,\"#46039f\"],[0.2222222222222222,\"#7201a8\"],[0.3333333333333333,\"#9c179e\"],[0.4444444444444444,\"#bd3786\"],[0.5555555555555556,\"#d8576b\"],[0.6666666666666666,\"#ed7953\"],[0.7777777777777778,\"#fb9f3a\"],[0.8888888888888888,\"#fdca26\"],[1.0,\"#f0f921\"]],\"sequentialminus\":[[0.0,\"#0d0887\"],[0.1111111111111111,\"#46039f\"],[0.2222222222222222,\"#7201a8\"],[0.3333333333333333,\"#9c179e\"],[0.4444444444444444,\"#bd3786\"],[0.5555555555555556,\"#d8576b\"],[0.6666666666666666,\"#ed7953\"],[0.7777777777777778,\"#fb9f3a\"],[0.8888888888888888,\"#fdca26\"],[1.0,\"#f0f921\"]],\"diverging\":[[0,\"#8e0152\"],[0.1,\"#c51b7d\"],[0.2,\"#de77ae\"],[0.3,\"#f1b6da\"],[0.4,\"#fde0ef\"],[0.5,\"#f7f7f7\"],[0.6,\"#e6f5d0\"],[0.7,\"#b8e186\"],[0.8,\"#7fbc41\"],[0.9,\"#4d9221\"],[1,\"#276419\"]]},\"xaxis\":{\"gridcolor\":\"white\",\"linecolor\":\"white\",\"ticks\":\"\",\"title\":{\"standoff\":15},\"zerolinecolor\":\"white\",\"automargin\":true,\"zerolinewidth\":2},\"yaxis\":{\"gridcolor\":\"white\",\"linecolor\":\"white\",\"ticks\":\"\",\"title\":{\"standoff\":15},\"zerolinecolor\":\"white\",\"automargin\":true,\"zerolinewidth\":2},\"scene\":{\"xaxis\":{\"backgroundcolor\":\"#E5ECF6\",\"gridcolor\":\"white\",\"linecolor\":\"white\",\"showbackground\":true,\"ticks\":\"\",\"zerolinecolor\":\"white\",\"gridwidth\":2},\"yaxis\":{\"backgroundcolor\":\"#E5ECF6\",\"gridcolor\":\"white\",\"linecolor\":\"white\",\"showbackground\":true,\"ticks\":\"\",\"zerolinecolor\":\"white\",\"gridwidth\":2},\"zaxis\":{\"backgroundcolor\":\"#E5ECF6\",\"gridcolor\":\"white\",\"linecolor\":\"white\",\"showbackground\":true,\"ticks\":\"\",\"zerolinecolor\":\"white\",\"gridwidth\":2}},\"shapedefaults\":{\"line\":{\"color\":\"#2a3f5f\"}},\"annotationdefaults\":{\"arrowcolor\":\"#2a3f5f\",\"arrowhead\":0,\"arrowwidth\":1},\"geo\":{\"bgcolor\":\"white\",\"landcolor\":\"#E5ECF6\",\"subunitcolor\":\"white\",\"showland\":true,\"showlakes\":true,\"lakecolor\":\"white\"},\"title\":{\"x\":0.05},\"mapbox\":{\"style\":\"light\"}}},\"xaxis\":{\"anchor\":\"y\",\"domain\":[0.0,0.7363],\"title\":{\"text\":\"Gi\\u00e1 b\\u00e1n\"}},\"yaxis\":{\"anchor\":\"x\",\"domain\":[0.0,0.7326],\"title\":{\"text\":\"Gi\\u00e1 g\\u1ed1c\"}},\"xaxis2\":{\"anchor\":\"y2\",\"domain\":[0.7413,1.0],\"matches\":\"x2\",\"showticklabels\":false,\"showline\":false,\"ticks\":\"\",\"showgrid\":true},\"yaxis2\":{\"anchor\":\"x2\",\"domain\":[0.0,0.7326],\"matches\":\"y\",\"showticklabels\":false,\"showgrid\":true},\"xaxis3\":{\"anchor\":\"y3\",\"domain\":[0.0,0.7363],\"matches\":\"x\",\"showticklabels\":false,\"showgrid\":true},\"yaxis3\":{\"anchor\":\"x3\",\"domain\":[0.7426,1.0],\"matches\":\"y3\",\"showticklabels\":false,\"showline\":false,\"ticks\":\"\",\"showgrid\":true},\"xaxis4\":{\"anchor\":\"y4\",\"domain\":[0.7413,1.0],\"matches\":\"x2\",\"showticklabels\":false,\"showgrid\":true,\"showline\":false,\"ticks\":\"\"},\"yaxis4\":{\"anchor\":\"x4\",\"domain\":[0.7426,1.0],\"matches\":\"y3\",\"showticklabels\":false,\"showline\":false,\"ticks\":\"\",\"showgrid\":true},\"legend\":{\"title\":{\"text\":\"Onlineline/C\\u1eeda H\\u00e0ng\"},\"tracegroupgap\":0,\"itemsizing\":\"constant\"},\"title\":{\"text\":\"T\\u01b0\\u01a1ng quan gi\\u1eefa gi\\u00e1 g\\u1ed1c v\\u00e0 gi\\u00e1 b\\u00e1n\"},\"barmode\":\"overlay\"},                        {\"responsive\": true}                    ).then(function(){\n",
       "                            \n",
       "var gd = document.getElementById('2048a91c-8610-4a5f-95bc-afeaa40cec5d');\n",
       "var x = new MutationObserver(function (mutations, observer) {{\n",
       "        var display = window.getComputedStyle(gd).display;\n",
       "        if (!display || display === 'none') {{\n",
       "            console.log([gd, 'removed!']);\n",
       "            Plotly.purge(gd);\n",
       "            observer.disconnect();\n",
       "        }}\n",
       "}});\n",
       "\n",
       "// Listen for the removal of the full notebook cells\n",
       "var notebookContainer = gd.closest('#notebook-container');\n",
       "if (notebookContainer) {{\n",
       "    x.observe(notebookContainer, {childList: true});\n",
       "}}\n",
       "\n",
       "// Listen for the clearing of the current output cell\n",
       "var outputEl = gd.closest('.output');\n",
       "if (outputEl) {{\n",
       "    x.observe(outputEl, {childList: true});\n",
       "}}\n",
       "\n",
       "                        })                };                });            </script>        </div>"
      ]
     },
     "metadata": {},
     "output_type": "display_data"
    }
   ],
   "source": [
    "# Quetions 5: Cho biết sự tương quan giữa giá gốc và giá bán ra ?\n",
    "ax= px.scatter(df,x= \"Giá bán\",y= \"Giá gốc\",marginal_x='histogram', marginal_y='histogram',size=\"Giá gốc\", size_max=20,\n",
    "              color= \"Onlineline/Cửa Hàng\",title=\"Tương quan giữa giá gốc và giá bán\")\n",
    "ax.show()"
   ]
  },
  {
   "cell_type": "code",
   "execution_count": 30,
   "metadata": {
    "id": "BT_fKBD7AJjK",
    "outputId": "6e9871c0-be0c-4719-8498-0b6cf8c32991"
   },
   "outputs": [
    {
     "name": "stdout",
     "output_type": "stream",
     "text": [
      "Ho Chi Minh    730\n",
      "Binh Phuoc      23\n",
      "Kien Giang       1\n",
      "Name: Tỉnh, dtype: int64\n",
      "TP.HCM - 730\n",
      "Binh Phuoc - 23\n",
      "Kien Giang - 1\n"
     ]
    },
    {
     "data": {
      "image/png": "[encoded data removed]",
      "text/plain": [
       "<Figure size 800x600 with 1 Axes>"
      ]
     },
     "metadata": {},
     "output_type": "display_data"
    },
    {
     "name": "stdout",
     "output_type": "stream",
     "text": [
      "Nhận định: Doanh thu phần lớn là đến từ thành phố Hồ Chí Minh, đứng thứ 2 là Bình Phước,Doanh nghiệp nên cân nhắc có nên tiếp tục kinh doanh ở Kiên Giang hay không\n"
     ]
    }
   ],
   "source": [
    "# Quetions 6: Cho biết doanh thu của cữa hàng theo tỉnh/ thành phố? ?\n",
    "print(df[\"Tỉnh\"].value_counts())\n",
    "\n",
    "plt.figure(dpi=125)\n",
    "sns.countplot(x = 'Tỉnh',data = df)\n",
    "plt.xlabel('Tinh/ ThanhPho')\n",
    "plt.ylabel('Count')\n",
    "plt.title('Which City is most busy?')\n",
    "A,B,C = df[\"Tỉnh\"].value_counts()\n",
    "\n",
    "print('TP.HCM -',A)\n",
    "print('Binh Phuoc -',B)\n",
    "print('Kien Giang -',C)\n",
    "plt.show()\n",
    "print(\"Nhận định: Doanh thu phần lớn là đến từ thành phố Hồ Chí Minh, đứng thứ 2 là Bình Phước,Doanh nghiệp nên cân nhắc có nên tiếp tục kinh doanh ở Kiên Giang hay không\")"
   ]
  },
  {
   "cell_type": "code",
   "execution_count": 31,
   "metadata": {
    "id": "kWpPePhCAJjM",
    "outputId": "955814a6-b82f-4616-9199-2ee226844d52"
   },
   "outputs": [
    {
     "name": "stdout",
     "output_type": "stream",
     "text": [
      "               Phải thu     Đã thu  Số lượng    Giá bán    Giá gốc\n",
      "Tỉnh                                                              \n",
      "Binh Phuoc     40255000   25787000        23   29333000   29333000\n",
      "Ho Chi Minh  1137502000  885223000       730  955035000  955035000\n",
      "Kien Giang      1145000    1145000         1    1145000    1145000\n"
     ]
    },
    {
     "data": {
      "image/png": "[encoded data removed]",
      "text/plain": [
       "<Figure size 640x480 with 1 Axes>"
      ]
     },
     "metadata": {},
     "output_type": "display_data"
    }
   ],
   "source": [
    "print(df.groupby([\"Tỉnh\"]).sum())\n",
    "y = df.groupby([\"Tỉnh\"])[\"Đã thu\"].sum()\n",
    "mylabels = [\"Binh Phuoc\", \"Ho Chi Minh\", \"Kien Giang\"]\n",
    "myexplode = [0.2, 0, 0]\n",
    "\n",
    "plt.pie(y, labels = mylabels, startangle = 90, explode = myexplode, radius=2.5)\n",
    "plt.legend(title = \"Doanh thu theo thành phố:\")\n",
    "plt.show()"
   ]
  },
  {
   "cell_type": "code",
   "execution_count": 32,
   "metadata": {
    "id": "fa67Q0ChAJjN",
    "outputId": "e52cedcd-4cda-4dd5-b349-be37db15a5f6"
   },
   "outputs": [
    {
     "data": {
      "image/png": "[encoded data removed]",
      "text/plain": [
       "<Figure size 1138.88x500 with 1 Axes>"
      ]
     },
     "metadata": {},
     "output_type": "display_data"
    }
   ],
   "source": [
    "# Quetions 7: Phân tích độ ưa chuộng hãng giày/dép theo thành phố ?\n",
    "sns.catplot(x='Nhà sản xuất',y='Giá bán',hue='Tỉnh',kind='swarm',data=df,aspect=2)\n",
    "plt.xlabel('Nhà sản xuất')\n",
    "plt.ylabel('Giá bán')\n",
    "plt.show()"
   ]
  },
  {
   "cell_type": "code",
   "execution_count": 33,
   "metadata": {
    "id": "_HU0-9BbAJjO",
    "outputId": "4b7c727d-0e7d-4b06-c24a-bce087a041ee"
   },
   "outputs": [
    {
     "data": {
      "image/png": "[encoded data removed]",
      "text/plain": [
       "<Figure size 800x600 with 1 Axes>"
      ]
     },
     "metadata": {},
     "output_type": "display_data"
    },
    {
     "name": "stdout",
     "output_type": "stream",
     "text": [
      "- Như ta thấy ở TPHCM khá ưu chuộng hãng Nike và ngược lại ở Bình Phước thì khá ưa chuộng ADIDAS\n"
     ]
    }
   ],
   "source": [
    "plt.figure(dpi=125)\n",
    "sns.countplot(y ='Nhà sản xuất', hue = \"Tỉnh\", data = df) \n",
    "plt.xlabel('Count')\n",
    "plt.ylabel('Nhà sản xuất')\n",
    "plt.show()\n",
    "print(\"- Như ta thấy ở TPHCM khá ưu chuộng hãng Nike và ngược lại ở Bình Phước thì khá ưa chuộng ADIDAS\")"
   ]
  },
  {
   "cell_type": "code",
   "execution_count": 34,
   "metadata": {
    "id": "3j60H7r-AJjR",
    "outputId": "1739dd59-d44b-4ead-f534-058944f4a916"
   },
   "outputs": [
    {
     "data": {
      "application/vnd.plotly.v1+json": {
       "config": {
        "linkText": "Export to plot.ly",
        "plotlyServerURL": "https://plot.ly",
        "showLink": false
       },
       "data": [
        {
         "marker": {
          "color": [
           "aqua",
           "lightgrey",
           "lightgreen",
           "#D0F9B1",
           "khaki",
           "grey"
          ],
          "colorscale": [
           [
            0,
            "rgb(0,0,131)"
           ],
           [
            0.2,
            "rgb(0,60,170)"
           ],
           [
            0.4,
            "rgb(5,255,255)"
           ],
           [
            0.6,
            "rgb(255,255,0)"
           ],
           [
            0.8,
            "rgb(250,0,0)"
           ],
           [
            1,
            "rgb(128,0,0)"
           ]
          ]
         },
         "type": "bar",
         "x": [
          "Giày nam Adidas GALAXY 5 FW5705_7- Xanh Dương",
          "Giày unisex Puma X-Ray 380658_01_8 Trắng",
          "Giày Unisex Adidas ULTRABOOST WEB DNA GY4167_9 Trắng",
          "Giày nam Adidas GALAXY 5 FW5705_8 Xanh Dương",
          "Giày nam Nike Af1/1 DD2429-001-10 Đen"
         ],
         "y": [
          7,
          6,
          5,
          5,
          4
         ]
        }
       ],
       "layout": {
        "template": {
         "data": {
          "bar": [
           {
            "error_x": {
             "color": "#2a3f5f"
            },
            "error_y": {
             "color": "#2a3f5f"
            },
            "marker": {
             "line": {
              "color": "#E5ECF6",
              "width": 0.5
             },
             "pattern": {
              "fillmode": "overlay",
              "size": 10,
              "solidity": 0.2
             }
            },
            "type": "bar"
           }
          ],
          "barpolar": [
           {
            "marker": {
             "line": {
              "color": "#E5ECF6",
              "width": 0.5
             },
             "pattern": {
              "fillmode": "overlay",
              "size": 10,
              "solidity": 0.2
             }
            },
            "type": "barpolar"
           }
          ],
          "carpet": [
           {
            "aaxis": {
             "endlinecolor": "#2a3f5f",
             "gridcolor": "white",
             "linecolor": "white",
             "minorgridcolor": "white",
             "startlinecolor": "#2a3f5f"
            },
            "baxis": {
             "endlinecolor": "#2a3f5f",
             "gridcolor": "white",
             "linecolor": "white",
             "minorgridcolor": "white",
             "startlinecolor": "#2a3f5f"
            },
            "type": "carpet"
           }
          ],
          "choropleth": [
           {
            "colorbar": {
             "outlinewidth": 0,
             "ticks": ""
            },
            "type": "choropleth"
           }
          ],
          "contour": [
           {
            "colorbar": {
             "outlinewidth": 0,
             "ticks": ""
            },
            "colorscale": [
             [
              0,
              "#0d0887"
             ],
             [
              0.1111111111111111,
              "#46039f"
             ],
             [
              0.2222222222222222,
              "#7201a8"
             ],
             [
              0.3333333333333333,
              "#9c179e"
             ],
             [
              0.4444444444444444,
              "#bd3786"
             ],
             [
              0.5555555555555556,
              "#d8576b"
             ],
             [
              0.6666666666666666,
              "#ed7953"
             ],
             [
              0.7777777777777778,
              "#fb9f3a"
             ],
             [
              0.8888888888888888,
              "#fdca26"
             ],
             [
              1,
              "#f0f921"
             ]
            ],
            "type": "contour"
           }
          ],
          "contourcarpet": [
           {
            "colorbar": {
             "outlinewidth": 0,
             "ticks": ""
            },
            "type": "contourcarpet"
           }
          ],
          "heatmap": [
           {
            "colorbar": {
             "outlinewidth": 0,
             "ticks": ""
            },
            "colorscale": [
             [
              0,
              "#0d0887"
             ],
             [
              0.1111111111111111,
              "#46039f"
             ],
             [
              0.2222222222222222,
              "#7201a8"
             ],
             [
              0.3333333333333333,
              "#9c179e"
             ],
             [
              0.4444444444444444,
              "#bd3786"
             ],
             [
              0.5555555555555556,
              "#d8576b"
             ],
             [
              0.6666666666666666,
              "#ed7953"
             ],
             [
              0.7777777777777778,
              "#fb9f3a"
             ],
             [
              0.8888888888888888,
              "#fdca26"
             ],
             [
              1,
              "#f0f921"
             ]
            ],
            "type": "heatmap"
           }
          ],
          "heatmapgl": [
           {
            "colorbar": {
             "outlinewidth": 0,
             "ticks": ""
            },
            "colorscale": [
             [
              0,
              "#0d0887"
             ],
             [
              0.1111111111111111,
              "#46039f"
             ],
             [
              0.2222222222222222,
              "#7201a8"
             ],
             [
              0.3333333333333333,
              "#9c179e"
             ],
             [
              0.4444444444444444,
              "#bd3786"
             ],
             [
              0.5555555555555556,
              "#d8576b"
             ],
             [
              0.6666666666666666,
              "#ed7953"
             ],
             [
              0.7777777777777778,
              "#fb9f3a"
             ],
             [
              0.8888888888888888,
              "#fdca26"
             ],
             [
              1,
              "#f0f921"
             ]
            ],
            "type": "heatmapgl"
           }
          ],
          "histogram": [
           {
            "marker": {
             "pattern": {
              "fillmode": "overlay",
              "size": 10,
              "solidity": 0.2
             }
            },
            "type": "histogram"
           }
          ],
          "histogram2d": [
           {
            "colorbar": {
             "outlinewidth": 0,
             "ticks": ""
            },
            "colorscale": [
             [
              0,
              "#0d0887"
             ],
             [
              0.1111111111111111,
              "#46039f"
             ],
             [
              0.2222222222222222,
              "#7201a8"
             ],
             [
              0.3333333333333333,
              "#9c179e"
             ],
             [
              0.4444444444444444,
              "#bd3786"
             ],
             [
              0.5555555555555556,
              "#d8576b"
             ],
             [
              0.6666666666666666,
              "#ed7953"
             ],
             [
              0.7777777777777778,
              "#fb9f3a"
             ],
             [
              0.8888888888888888,
              "#fdca26"
             ],
             [
              1,
              "#f0f921"
             ]
            ],
            "type": "histogram2d"
           }
          ],
          "histogram2dcontour": [
           {
            "colorbar": {
             "outlinewidth": 0,
             "ticks": ""
            },
            "colorscale": [
             [
              0,
              "#0d0887"
             ],
             [
              0.1111111111111111,
              "#46039f"
             ],
             [
              0.2222222222222222,
              "#7201a8"
             ],
             [
              0.3333333333333333,
              "#9c179e"
             ],
             [
              0.4444444444444444,
              "#bd3786"
             ],
             [
              0.5555555555555556,
              "#d8576b"
             ],
             [
              0.6666666666666666,
              "#ed7953"
             ],
             [
              0.7777777777777778,
              "#fb9f3a"
             ],
             [
              0.8888888888888888,
              "#fdca26"
             ],
             [
              1,
              "#f0f921"
             ]
            ],
            "type": "histogram2dcontour"
           }
          ],
          "mesh3d": [
           {
            "colorbar": {
             "outlinewidth": 0,
             "ticks": ""
            },
            "type": "mesh3d"
           }
          ],
          "parcoords": [
           {
            "line": {
             "colorbar": {
              "outlinewidth": 0,
              "ticks": ""
             }
            },
            "type": "parcoords"
           }
          ],
          "pie": [
           {
            "automargin": true,
            "type": "pie"
           }
          ],
          "scatter": [
           {
            "fillpattern": {
             "fillmode": "overlay",
             "size": 10,
             "solidity": 0.2
            },
            "type": "scatter"
           }
          ],
          "scatter3d": [
           {
            "line": {
             "colorbar": {
              "outlinewidth": 0,
              "ticks": ""
             }
            },
            "marker": {
             "colorbar": {
              "outlinewidth": 0,
              "ticks": ""
             }
            },
            "type": "scatter3d"
           }
          ],
          "scattercarpet": [
           {
            "marker": {
             "colorbar": {
              "outlinewidth": 0,
              "ticks": ""
             }
            },
            "type": "scattercarpet"
           }
          ],
          "scattergeo": [
           {
            "marker": {
             "colorbar": {
              "outlinewidth": 0,
              "ticks": ""
             }
            },
            "type": "scattergeo"
           }
          ],
          "scattergl": [
           {
            "marker": {
             "colorbar": {
              "outlinewidth": 0,
              "ticks": ""
             }
            },
            "type": "scattergl"
           }
          ],
          "scattermapbox": [
           {
            "marker": {
             "colorbar": {
              "outlinewidth": 0,
              "ticks": ""
             }
            },
            "type": "scattermapbox"
           }
          ],
          "scatterpolar": [
           {
            "marker": {
             "colorbar": {
              "outlinewidth": 0,
              "ticks": ""
             }
            },
            "type": "scatterpolar"
           }
          ],
          "scatterpolargl": [
           {
            "marker": {
             "colorbar": {
              "outlinewidth": 0,
              "ticks": ""
             }
            },
            "type": "scatterpolargl"
           }
          ],
          "scatterternary": [
           {
            "marker": {
             "colorbar": {
              "outlinewidth": 0,
              "ticks": ""
             }
            },
            "type": "scatterternary"
           }
          ],
          "surface": [
           {
            "colorbar": {
             "outlinewidth": 0,
             "ticks": ""
            },
            "colorscale": [
             [
              0,
              "#0d0887"
             ],
             [
              0.1111111111111111,
              "#46039f"
             ],
             [
              0.2222222222222222,
              "#7201a8"
             ],
             [
              0.3333333333333333,
              "#9c179e"
             ],
             [
              0.4444444444444444,
              "#bd3786"
             ],
             [
              0.5555555555555556,
              "#d8576b"
             ],
             [
              0.6666666666666666,
              "#ed7953"
             ],
             [
              0.7777777777777778,
              "#fb9f3a"
             ],
             [
              0.8888888888888888,
              "#fdca26"
             ],
             [
              1,
              "#f0f921"
             ]
            ],
            "type": "surface"
           }
          ],
          "table": [
           {
            "cells": {
             "fill": {
              "color": "#EBF0F8"
             },
             "line": {
              "color": "white"
             }
            },
            "header": {
             "fill": {
              "color": "#C8D4E3"
             },
             "line": {
              "color": "white"
             }
            },
            "type": "table"
           }
          ]
         },
         "layout": {
          "annotationdefaults": {
           "arrowcolor": "#2a3f5f",
           "arrowhead": 0,
           "arrowwidth": 1
          },
          "autotypenumbers": "strict",
          "coloraxis": {
           "colorbar": {
            "outlinewidth": 0,
            "ticks": ""
           }
          },
          "colorscale": {
           "diverging": [
            [
             0,
             "#8e0152"
            ],
            [
             0.1,
             "#c51b7d"
            ],
            [
             0.2,
             "#de77ae"
            ],
            [
             0.3,
             "#f1b6da"
            ],
            [
             0.4,
             "#fde0ef"
            ],
            [
             0.5,
             "#f7f7f7"
            ],
            [
             0.6,
             "#e6f5d0"
            ],
            [
             0.7,
             "#b8e186"
            ],
            [
             0.8,
             "#7fbc41"
            ],
            [
             0.9,
             "#4d9221"
            ],
            [
             1,
             "#276419"
            ]
           ],
           "sequential": [
            [
             0,
             "#0d0887"
            ],
            [
             0.1111111111111111,
             "#46039f"
            ],
            [
             0.2222222222222222,
             "#7201a8"
            ],
            [
             0.3333333333333333,
             "#9c179e"
            ],
            [
             0.4444444444444444,
             "#bd3786"
            ],
            [
             0.5555555555555556,
             "#d8576b"
            ],
            [
             0.6666666666666666,
             "#ed7953"
            ],
            [
             0.7777777777777778,
             "#fb9f3a"
            ],
            [
             0.8888888888888888,
             "#fdca26"
            ],
            [
             1,
             "#f0f921"
            ]
           ],
           "sequentialminus": [
            [
             0,
             "#0d0887"
            ],
            [
             0.1111111111111111,
             "#46039f"
            ],
            [
             0.2222222222222222,
             "#7201a8"
            ],
            [
             0.3333333333333333,
             "#9c179e"
            ],
            [
             0.4444444444444444,
             "#bd3786"
            ],
            [
             0.5555555555555556,
             "#d8576b"
            ],
            [
             0.6666666666666666,
             "#ed7953"
            ],
            [
             0.7777777777777778,
             "#fb9f3a"
            ],
            [
             0.8888888888888888,
             "#fdca26"
            ],
            [
             1,
             "#f0f921"
            ]
           ]
          },
          "colorway": [
           "#636efa",
           "#EF553B",
           "#00cc96",
           "#ab63fa",
           "#FFA15A",
           "#19d3f3",
           "#FF6692",
           "#B6E880",
           "#FF97FF",
           "#FECB52"
          ],
          "font": {
           "color": "#2a3f5f"
          },
          "geo": {
           "bgcolor": "white",
           "lakecolor": "white",
           "landcolor": "#E5ECF6",
           "showlakes": true,
           "showland": true,
           "subunitcolor": "white"
          },
          "hoverlabel": {
           "align": "left"
          },
          "hovermode": "closest",
          "mapbox": {
           "style": "light"
          },
          "paper_bgcolor": "white",
          "plot_bgcolor": "#E5ECF6",
          "polar": {
           "angularaxis": {
            "gridcolor": "white",
            "linecolor": "white",
            "ticks": ""
           },
           "bgcolor": "#E5ECF6",
           "radialaxis": {
            "gridcolor": "white",
            "linecolor": "white",
            "ticks": ""
           }
          },
          "scene": {
           "xaxis": {
            "backgroundcolor": "#E5ECF6",
            "gridcolor": "white",
            "gridwidth": 2,
            "linecolor": "white",
            "showbackground": true,
            "ticks": "",
            "zerolinecolor": "white"
           },
           "yaxis": {
            "backgroundcolor": "#E5ECF6",
            "gridcolor": "white",
            "gridwidth": 2,
            "linecolor": "white",
            "showbackground": true,
            "ticks": "",
            "zerolinecolor": "white"
           },
           "zaxis": {
            "backgroundcolor": "#E5ECF6",
            "gridcolor": "white",
            "gridwidth": 2,
            "linecolor": "white",
            "showbackground": true,
            "ticks": "",
            "zerolinecolor": "white"
           }
          },
          "shapedefaults": {
           "line": {
            "color": "#2a3f5f"
           }
          },
          "ternary": {
           "aaxis": {
            "gridcolor": "white",
            "linecolor": "white",
            "ticks": ""
           },
           "baxis": {
            "gridcolor": "white",
            "linecolor": "white",
            "ticks": ""
           },
           "bgcolor": "#E5ECF6",
           "caxis": {
            "gridcolor": "white",
            "linecolor": "white",
            "ticks": ""
           }
          },
          "title": {
           "x": 0.05
          },
          "xaxis": {
           "automargin": true,
           "gridcolor": "white",
           "linecolor": "white",
           "ticks": "",
           "title": {
            "standoff": 15
           },
           "zerolinecolor": "white",
           "zerolinewidth": 2
          },
          "yaxis": {
           "automargin": true,
           "gridcolor": "white",
           "linecolor": "white",
           "ticks": "",
           "title": {
            "standoff": 15
           },
           "zerolinecolor": "white",
           "zerolinewidth": 2
          }
         }
        },
        "title": {
         "text": "Top 5 sản phẩm bán chạy nhất tại cữa hàng"
        }
       }
      },
      "text/html": [
       "<div>                            <div id=\"791b821c-a80e-417f-823e-fcc7558634f0\" class=\"plotly-graph-div\" style=\"height:525px; width:100%;\"></div>            <script type=\"text/javascript\">                require([\"plotly\"], function(Plotly) {                    window.PLOTLYENV=window.PLOTLYENV || {};                                    if (document.getElementById(\"791b821c-a80e-417f-823e-fcc7558634f0\")) {                    Plotly.newPlot(                        \"791b821c-a80e-417f-823e-fcc7558634f0\",                        [{\"marker\":{\"color\":[\"aqua\",\"lightgrey\",\"lightgreen\",\"#D0F9B1\",\"khaki\",\"grey\"],\"colorscale\":[[0.0,\"rgb(0,0,131)\"],[0.2,\"rgb(0,60,170)\"],[0.4,\"rgb(5,255,255)\"],[0.6,\"rgb(255,255,0)\"],[0.8,\"rgb(250,0,0)\"],[1.0,\"rgb(128,0,0)\"]]},\"x\":[\"Gi\\u00e0y nam Adidas GALAXY 5 FW5705_7- Xanh D\\u01b0\\u01a1ng\",\"Gi\\u00e0y unisex Puma X-Ray 380658_01_8 Tr\\u1eafng\",\"Gi\\u00e0y Unisex Adidas ULTRABOOST WEB DNA GY4167_9 Tr\\u1eafng\",\"Gi\\u00e0y nam Adidas GALAXY 5 FW5705_8 Xanh D\\u01b0\\u01a1ng\",\"Gi\\u00e0y nam Nike Af1/1 DD2429-001-10 \\u0110en\"],\"y\":[7,6,5,5,4],\"type\":\"bar\"}],                        {\"template\":{\"data\":{\"barpolar\":[{\"marker\":{\"line\":{\"color\":\"#E5ECF6\",\"width\":0.5},\"pattern\":{\"fillmode\":\"overlay\",\"size\":10,\"solidity\":0.2}},\"type\":\"barpolar\"}],\"bar\":[{\"error_x\":{\"color\":\"#2a3f5f\"},\"error_y\":{\"color\":\"#2a3f5f\"},\"marker\":{\"line\":{\"color\":\"#E5ECF6\",\"width\":0.5},\"pattern\":{\"fillmode\":\"overlay\",\"size\":10,\"solidity\":0.2}},\"type\":\"bar\"}],\"carpet\":[{\"aaxis\":{\"endlinecolor\":\"#2a3f5f\",\"gridcolor\":\"white\",\"linecolor\":\"white\",\"minorgridcolor\":\"white\",\"startlinecolor\":\"#2a3f5f\"},\"baxis\":{\"endlinecolor\":\"#2a3f5f\",\"gridcolor\":\"white\",\"linecolor\":\"white\",\"minorgridcolor\":\"white\",\"startlinecolor\":\"#2a3f5f\"},\"type\":\"carpet\"}],\"choropleth\":[{\"colorbar\":{\"outlinewidth\":0,\"ticks\":\"\"},\"type\":\"choropleth\"}],\"contourcarpet\":[{\"colorbar\":{\"outlinewidth\":0,\"ticks\":\"\"},\"type\":\"contourcarpet\"}],\"contour\":[{\"colorbar\":{\"outlinewidth\":0,\"ticks\":\"\"},\"colorscale\":[[0.0,\"#0d0887\"],[0.1111111111111111,\"#46039f\"],[0.2222222222222222,\"#7201a8\"],[0.3333333333333333,\"#9c179e\"],[0.4444444444444444,\"#bd3786\"],[0.5555555555555556,\"#d8576b\"],[0.6666666666666666,\"#ed7953\"],[0.7777777777777778,\"#fb9f3a\"],[0.8888888888888888,\"#fdca26\"],[1.0,\"#f0f921\"]],\"type\":\"contour\"}],\"heatmapgl\":[{\"colorbar\":{\"outlinewidth\":0,\"ticks\":\"\"},\"colorscale\":[[0.0,\"#0d0887\"],[0.1111111111111111,\"#46039f\"],[0.2222222222222222,\"#7201a8\"],[0.3333333333333333,\"#9c179e\"],[0.4444444444444444,\"#bd3786\"],[0.5555555555555556,\"#d8576b\"],[0.6666666666666666,\"#ed7953\"],[0.7777777777777778,\"#fb9f3a\"],[0.8888888888888888,\"#fdca26\"],[1.0,\"#f0f921\"]],\"type\":\"heatmapgl\"}],\"heatmap\":[{\"colorbar\":{\"outlinewidth\":0,\"ticks\":\"\"},\"colorscale\":[[0.0,\"#0d0887\"],[0.1111111111111111,\"#46039f\"],[0.2222222222222222,\"#7201a8\"],[0.3333333333333333,\"#9c179e\"],[0.4444444444444444,\"#bd3786\"],[0.5555555555555556,\"#d8576b\"],[0.6666666666666666,\"#ed7953\"],[0.7777777777777778,\"#fb9f3a\"],[0.8888888888888888,\"#fdca26\"],[1.0,\"#f0f921\"]],\"type\":\"heatmap\"}],\"histogram2dcontour\":[{\"colorbar\":{\"outlinewidth\":0,\"ticks\":\"\"},\"colorscale\":[[0.0,\"#0d0887\"],[0.1111111111111111,\"#46039f\"],[0.2222222222222222,\"#7201a8\"],[0.3333333333333333,\"#9c179e\"],[0.4444444444444444,\"#bd3786\"],[0.5555555555555556,\"#d8576b\"],[0.6666666666666666,\"#ed7953\"],[0.7777777777777778,\"#fb9f3a\"],[0.8888888888888888,\"#fdca26\"],[1.0,\"#f0f921\"]],\"type\":\"histogram2dcontour\"}],\"histogram2d\":[{\"colorbar\":{\"outlinewidth\":0,\"ticks\":\"\"},\"colorscale\":[[0.0,\"#0d0887\"],[0.1111111111111111,\"#46039f\"],[0.2222222222222222,\"#7201a8\"],[0.3333333333333333,\"#9c179e\"],[0.4444444444444444,\"#bd3786\"],[0.5555555555555556,\"#d8576b\"],[0.6666666666666666,\"#ed7953\"],[0.7777777777777778,\"#fb9f3a\"],[0.8888888888888888,\"#fdca26\"],[1.0,\"#f0f921\"]],\"type\":\"histogram2d\"}],\"histogram\":[{\"marker\":{\"pattern\":{\"fillmode\":\"overlay\",\"size\":10,\"solidity\":0.2}},\"type\":\"histogram\"}],\"mesh3d\":[{\"colorbar\":{\"outlinewidth\":0,\"ticks\":\"\"},\"type\":\"mesh3d\"}],\"parcoords\":[{\"line\":{\"colorbar\":{\"outlinewidth\":0,\"ticks\":\"\"}},\"type\":\"parcoords\"}],\"pie\":[{\"automargin\":true,\"type\":\"pie\"}],\"scatter3d\":[{\"line\":{\"colorbar\":{\"outlinewidth\":0,\"ticks\":\"\"}},\"marker\":{\"colorbar\":{\"outlinewidth\":0,\"ticks\":\"\"}},\"type\":\"scatter3d\"}],\"scattercarpet\":[{\"marker\":{\"colorbar\":{\"outlinewidth\":0,\"ticks\":\"\"}},\"type\":\"scattercarpet\"}],\"scattergeo\":[{\"marker\":{\"colorbar\":{\"outlinewidth\":0,\"ticks\":\"\"}},\"type\":\"scattergeo\"}],\"scattergl\":[{\"marker\":{\"colorbar\":{\"outlinewidth\":0,\"ticks\":\"\"}},\"type\":\"scattergl\"}],\"scattermapbox\":[{\"marker\":{\"colorbar\":{\"outlinewidth\":0,\"ticks\":\"\"}},\"type\":\"scattermapbox\"}],\"scatterpolargl\":[{\"marker\":{\"colorbar\":{\"outlinewidth\":0,\"ticks\":\"\"}},\"type\":\"scatterpolargl\"}],\"scatterpolar\":[{\"marker\":{\"colorbar\":{\"outlinewidth\":0,\"ticks\":\"\"}},\"type\":\"scatterpolar\"}],\"scatter\":[{\"fillpattern\":{\"fillmode\":\"overlay\",\"size\":10,\"solidity\":0.2},\"type\":\"scatter\"}],\"scatterternary\":[{\"marker\":{\"colorbar\":{\"outlinewidth\":0,\"ticks\":\"\"}},\"type\":\"scatterternary\"}],\"surface\":[{\"colorbar\":{\"outlinewidth\":0,\"ticks\":\"\"},\"colorscale\":[[0.0,\"#0d0887\"],[0.1111111111111111,\"#46039f\"],[0.2222222222222222,\"#7201a8\"],[0.3333333333333333,\"#9c179e\"],[0.4444444444444444,\"#bd3786\"],[0.5555555555555556,\"#d8576b\"],[0.6666666666666666,\"#ed7953\"],[0.7777777777777778,\"#fb9f3a\"],[0.8888888888888888,\"#fdca26\"],[1.0,\"#f0f921\"]],\"type\":\"surface\"}],\"table\":[{\"cells\":{\"fill\":{\"color\":\"#EBF0F8\"},\"line\":{\"color\":\"white\"}},\"header\":{\"fill\":{\"color\":\"#C8D4E3\"},\"line\":{\"color\":\"white\"}},\"type\":\"table\"}]},\"layout\":{\"annotationdefaults\":{\"arrowcolor\":\"#2a3f5f\",\"arrowhead\":0,\"arrowwidth\":1},\"autotypenumbers\":\"strict\",\"coloraxis\":{\"colorbar\":{\"outlinewidth\":0,\"ticks\":\"\"}},\"colorscale\":{\"diverging\":[[0,\"#8e0152\"],[0.1,\"#c51b7d\"],[0.2,\"#de77ae\"],[0.3,\"#f1b6da\"],[0.4,\"#fde0ef\"],[0.5,\"#f7f7f7\"],[0.6,\"#e6f5d0\"],[0.7,\"#b8e186\"],[0.8,\"#7fbc41\"],[0.9,\"#4d9221\"],[1,\"#276419\"]],\"sequential\":[[0.0,\"#0d0887\"],[0.1111111111111111,\"#46039f\"],[0.2222222222222222,\"#7201a8\"],[0.3333333333333333,\"#9c179e\"],[0.4444444444444444,\"#bd3786\"],[0.5555555555555556,\"#d8576b\"],[0.6666666666666666,\"#ed7953\"],[0.7777777777777778,\"#fb9f3a\"],[0.8888888888888888,\"#fdca26\"],[1.0,\"#f0f921\"]],\"sequentialminus\":[[0.0,\"#0d0887\"],[0.1111111111111111,\"#46039f\"],[0.2222222222222222,\"#7201a8\"],[0.3333333333333333,\"#9c179e\"],[0.4444444444444444,\"#bd3786\"],[0.5555555555555556,\"#d8576b\"],[0.6666666666666666,\"#ed7953\"],[0.7777777777777778,\"#fb9f3a\"],[0.8888888888888888,\"#fdca26\"],[1.0,\"#f0f921\"]]},\"colorway\":[\"#636efa\",\"#EF553B\",\"#00cc96\",\"#ab63fa\",\"#FFA15A\",\"#19d3f3\",\"#FF6692\",\"#B6E880\",\"#FF97FF\",\"#FECB52\"],\"font\":{\"color\":\"#2a3f5f\"},\"geo\":{\"bgcolor\":\"white\",\"lakecolor\":\"white\",\"landcolor\":\"#E5ECF6\",\"showlakes\":true,\"showland\":true,\"subunitcolor\":\"white\"},\"hoverlabel\":{\"align\":\"left\"},\"hovermode\":\"closest\",\"mapbox\":{\"style\":\"light\"},\"paper_bgcolor\":\"white\",\"plot_bgcolor\":\"#E5ECF6\",\"polar\":{\"angularaxis\":{\"gridcolor\":\"white\",\"linecolor\":\"white\",\"ticks\":\"\"},\"bgcolor\":\"#E5ECF6\",\"radialaxis\":{\"gridcolor\":\"white\",\"linecolor\":\"white\",\"ticks\":\"\"}},\"scene\":{\"xaxis\":{\"backgroundcolor\":\"#E5ECF6\",\"gridcolor\":\"white\",\"gridwidth\":2,\"linecolor\":\"white\",\"showbackground\":true,\"ticks\":\"\",\"zerolinecolor\":\"white\"},\"yaxis\":{\"backgroundcolor\":\"#E5ECF6\",\"gridcolor\":\"white\",\"gridwidth\":2,\"linecolor\":\"white\",\"showbackground\":true,\"ticks\":\"\",\"zerolinecolor\":\"white\"},\"zaxis\":{\"backgroundcolor\":\"#E5ECF6\",\"gridcolor\":\"white\",\"gridwidth\":2,\"linecolor\":\"white\",\"showbackground\":true,\"ticks\":\"\",\"zerolinecolor\":\"white\"}},\"shapedefaults\":{\"line\":{\"color\":\"#2a3f5f\"}},\"ternary\":{\"aaxis\":{\"gridcolor\":\"white\",\"linecolor\":\"white\",\"ticks\":\"\"},\"baxis\":{\"gridcolor\":\"white\",\"linecolor\":\"white\",\"ticks\":\"\"},\"bgcolor\":\"#E5ECF6\",\"caxis\":{\"gridcolor\":\"white\",\"linecolor\":\"white\",\"ticks\":\"\"}},\"title\":{\"x\":0.05},\"xaxis\":{\"automargin\":true,\"gridcolor\":\"white\",\"linecolor\":\"white\",\"ticks\":\"\",\"title\":{\"standoff\":15},\"zerolinecolor\":\"white\",\"zerolinewidth\":2},\"yaxis\":{\"automargin\":true,\"gridcolor\":\"white\",\"linecolor\":\"white\",\"ticks\":\"\",\"title\":{\"standoff\":15},\"zerolinecolor\":\"white\",\"zerolinewidth\":2}}},\"title\":{\"text\":\"Top 5 s\\u1ea3n ph\\u1ea9m b\\u00e1n ch\\u1ea1y nh\\u1ea5t t\\u1ea1i c\\u1eefa h\\u00e0ng\"}},                        {\"responsive\": true}                    ).then(function(){\n",
       "                            \n",
       "var gd = document.getElementById('791b821c-a80e-417f-823e-fcc7558634f0');\n",
       "var x = new MutationObserver(function (mutations, observer) {{\n",
       "        var display = window.getComputedStyle(gd).display;\n",
       "        if (!display || display === 'none') {{\n",
       "            console.log([gd, 'removed!']);\n",
       "            Plotly.purge(gd);\n",
       "            observer.disconnect();\n",
       "        }}\n",
       "}});\n",
       "\n",
       "// Listen for the removal of the full notebook cells\n",
       "var notebookContainer = gd.closest('#notebook-container');\n",
       "if (notebookContainer) {{\n",
       "    x.observe(notebookContainer, {childList: true});\n",
       "}}\n",
       "\n",
       "// Listen for the clearing of the current output cell\n",
       "var outputEl = gd.closest('.output');\n",
       "if (outputEl) {{\n",
       "    x.observe(outputEl, {childList: true});\n",
       "}}\n",
       "\n",
       "                        })                };                });            </script>        </div>"
      ]
     },
     "metadata": {},
     "output_type": "display_data"
    }
   ],
   "source": [
    "# Quetions 8: Cho biết 5 sản phẩm nào được bán chạy nhất cữa hàng ?\n",
    "Q8 = df['Tên sản phẩm'].value_counts()\n",
    "colors = ['aqua', 'lightgrey', 'lightgreen', '#D0F9B1', 'khaki', 'grey']\n",
    "label = Q8.index[:5]\n",
    "size = Q8.values[:5]\n",
    "trace1 = go.Bar(x=label, \n",
    "               y=size, \n",
    "              marker=dict(\n",
    "        color=colors,\n",
    "        colorscale = \"Jet\"))\n",
    "data = [trace1]\n",
    "layout = go.Layout(title='Top 5 sản phẩm bán chạy nhất tại cữa hàng')\n",
    "\n",
    "fig = go.Figure(data=data, layout=layout)\n",
    "py.iplot(fig)\n"
   ]
  },
  {
   "cell_type": "code",
   "execution_count": 35,
   "metadata": {},
   "outputs": [],
   "source": [
    "# Quetions 9: Cho biết Doanh Thu của cữa hàng theo từng ngày dựa vào nhóm hàng đã được bán ra?"
   ]
  },
  {
   "cell_type": "code",
   "execution_count": 36,
   "metadata": {},
   "outputs": [
    {
     "data": {
      "text/html": [
       "<div>\n",
       "<style scoped>\n",
       "    .dataframe tbody tr th:only-of-type {\n",
       "        vertical-align: middle;\n",
       "    }\n",
       "\n",
       "    .dataframe tbody tr th {\n",
       "        vertical-align: top;\n",
       "    }\n",
       "\n",
       "    .dataframe thead th {\n",
       "        text-align: right;\n",
       "    }\n",
       "</style>\n",
       "<table border=\"1\" class=\"dataframe\">\n",
       "  <thead>\n",
       "    <tr style=\"text-align: right;\">\n",
       "      <th></th>\n",
       "      <th>Mã đơn hàng</th>\n",
       "      <th>Hình thức xuất</th>\n",
       "      <th>Ngày tạo</th>\n",
       "      <th>Tên khách hàng</th>\n",
       "      <th>Phải thu</th>\n",
       "      <th>Đã thu</th>\n",
       "      <th>Trạng thái xuất</th>\n",
       "      <th>Trạng thái giao hàng</th>\n",
       "      <th>Trạng thái hủy</th>\n",
       "      <th>Hình thức thanh toán</th>\n",
       "      <th>...</th>\n",
       "      <th>Nhà sản xuất</th>\n",
       "      <th>Trạng thái hồ sơ</th>\n",
       "      <th>Thời gian thu tiền</th>\n",
       "      <th>STT_1</th>\n",
       "      <th>Onlineline/Cửa Hàng</th>\n",
       "      <th>Tỉnh</th>\n",
       "      <th>Nguồn Đặt Hàng</th>\n",
       "      <th>Giá gốc</th>\n",
       "      <th>Dates</th>\n",
       "      <th>Time</th>\n",
       "    </tr>\n",
       "  </thead>\n",
       "  <tbody>\n",
       "    <tr>\n",
       "      <th>0</th>\n",
       "      <td>00014SO22068748119</td>\n",
       "      <td>Xuất bán hàng Online tại siêu thị</td>\n",
       "      <td>2022-06-02 23:26:17</td>\n",
       "      <td>Dương Nhựt Tân</td>\n",
       "      <td>796000</td>\n",
       "      <td>796000</td>\n",
       "      <td>Đã xuất</td>\n",
       "      <td>Đã giao</td>\n",
       "      <td>Chưa hủy</td>\n",
       "      <td>Tiền mặt siêu thị</td>\n",
       "      <td>...</td>\n",
       "      <td>Reebok</td>\n",
       "      <td>1 - Mới</td>\n",
       "      <td>2022-06-05 11:17:25.253000</td>\n",
       "      <td>1</td>\n",
       "      <td>Online</td>\n",
       "      <td>Ho Chi Minh</td>\n",
       "      <td>Nhân Viên Tạo</td>\n",
       "      <td>796000</td>\n",
       "      <td>2022-06-02</td>\n",
       "      <td>23:26:17</td>\n",
       "    </tr>\n",
       "    <tr>\n",
       "      <th>1</th>\n",
       "      <td>10112SO22060011058</td>\n",
       "      <td>Xuất bán hàng tại siêu thị</td>\n",
       "      <td>2022-06-02 14:13:41</td>\n",
       "      <td>Nguyễn Văn Hòa</td>\n",
       "      <td>2878000</td>\n",
       "      <td>2878000</td>\n",
       "      <td>Đã xuất</td>\n",
       "      <td>Đã giao</td>\n",
       "      <td>Chưa hủy</td>\n",
       "      <td>Tiền mặt siêu thị</td>\n",
       "      <td>...</td>\n",
       "      <td>Nike</td>\n",
       "      <td>1 - Mới</td>\n",
       "      <td>2022-06-02 14:14:03.805000</td>\n",
       "      <td>2</td>\n",
       "      <td>Cửa Hàng</td>\n",
       "      <td>Ho Chi Minh</td>\n",
       "      <td>Nhân Viên Tạo</td>\n",
       "      <td>1903000</td>\n",
       "      <td>2022-06-02</td>\n",
       "      <td>14:13:41</td>\n",
       "    </tr>\n",
       "    <tr>\n",
       "      <th>2</th>\n",
       "      <td>10112SO22060011058</td>\n",
       "      <td>Xuất bán hàng tại siêu thị</td>\n",
       "      <td>2022-06-02 14:13:41</td>\n",
       "      <td>Nguyễn Văn Hòa</td>\n",
       "      <td>2878000</td>\n",
       "      <td>2878000</td>\n",
       "      <td>Đã xuất</td>\n",
       "      <td>Đã giao</td>\n",
       "      <td>Chưa hủy</td>\n",
       "      <td>Tiền mặt siêu thị</td>\n",
       "      <td>...</td>\n",
       "      <td>ADIDAS</td>\n",
       "      <td>1 - Mới</td>\n",
       "      <td>2022-06-02 14:14:03.805000</td>\n",
       "      <td>3</td>\n",
       "      <td>Cửa Hàng</td>\n",
       "      <td>Ho Chi Minh</td>\n",
       "      <td>Nhân Viên Tạo</td>\n",
       "      <td>975000</td>\n",
       "      <td>2022-06-02</td>\n",
       "      <td>14:13:41</td>\n",
       "    </tr>\n",
       "    <tr>\n",
       "      <th>3</th>\n",
       "      <td>10145SO22060012035</td>\n",
       "      <td>Xuất bán hàng tại siêu thị</td>\n",
       "      <td>2022-06-02 21:43:13</td>\n",
       "      <td>NGUYỄN TRƯỜNG HẢI</td>\n",
       "      <td>909000</td>\n",
       "      <td>909000</td>\n",
       "      <td>Đã xuất</td>\n",
       "      <td>Đã giao</td>\n",
       "      <td>Chưa hủy</td>\n",
       "      <td>Tiền mặt siêu thị</td>\n",
       "      <td>...</td>\n",
       "      <td>Erke</td>\n",
       "      <td>1 - Mới</td>\n",
       "      <td>2022-06-02 21:45:19</td>\n",
       "      <td>4</td>\n",
       "      <td>Cửa Hàng</td>\n",
       "      <td>Ho Chi Minh</td>\n",
       "      <td>Nhân Viên Tạo</td>\n",
       "      <td>909000</td>\n",
       "      <td>2022-06-02</td>\n",
       "      <td>21:43:13</td>\n",
       "    </tr>\n",
       "    <tr>\n",
       "      <th>4</th>\n",
       "      <td>10112SO22060011066</td>\n",
       "      <td>Xuất bán hàng tại siêu thị</td>\n",
       "      <td>2022-06-02 18:49:54</td>\n",
       "      <td>Nguyễn Chiến Thắng</td>\n",
       "      <td>1903000</td>\n",
       "      <td>1903000</td>\n",
       "      <td>Đã xuất</td>\n",
       "      <td>Đã giao</td>\n",
       "      <td>Chưa hủy</td>\n",
       "      <td>Tiền mặt siêu thị</td>\n",
       "      <td>...</td>\n",
       "      <td>Nike</td>\n",
       "      <td>1 - Mới</td>\n",
       "      <td>2022-06-02 19:22:47.025000</td>\n",
       "      <td>5</td>\n",
       "      <td>Cửa Hàng</td>\n",
       "      <td>Ho Chi Minh</td>\n",
       "      <td>Nhân Viên Tạo</td>\n",
       "      <td>1903000</td>\n",
       "      <td>2022-06-02</td>\n",
       "      <td>18:49:54</td>\n",
       "    </tr>\n",
       "  </tbody>\n",
       "</table>\n",
       "<p>5 rows × 30 columns</p>\n",
       "</div>"
      ],
      "text/plain": [
       "          Mã đơn hàng                     Hình thức xuất            Ngày tạo  \\\n",
       "0  00014SO22068748119  Xuất bán hàng Online tại siêu thị 2022-06-02 23:26:17   \n",
       "1  10112SO22060011058         Xuất bán hàng tại siêu thị 2022-06-02 14:13:41   \n",
       "2  10112SO22060011058         Xuất bán hàng tại siêu thị 2022-06-02 14:13:41   \n",
       "3  10145SO22060012035         Xuất bán hàng tại siêu thị 2022-06-02 21:43:13   \n",
       "4  10112SO22060011066         Xuất bán hàng tại siêu thị 2022-06-02 18:49:54   \n",
       "\n",
       "       Tên khách hàng  Phải thu   Đã thu Trạng thái xuất Trạng thái giao hàng  \\\n",
       "0      Dương Nhựt Tân    796000   796000         Đã xuất              Đã giao   \n",
       "1      Nguyễn Văn Hòa   2878000  2878000         Đã xuất              Đã giao   \n",
       "2      Nguyễn Văn Hòa   2878000  2878000         Đã xuất              Đã giao   \n",
       "3   NGUYỄN TRƯỜNG HẢI    909000   909000         Đã xuất              Đã giao   \n",
       "4  Nguyễn Chiến Thắng   1903000  1903000         Đã xuất              Đã giao   \n",
       "\n",
       "  Trạng thái hủy Hình thức thanh toán  ... Nhà sản xuất Trạng thái hồ sơ  \\\n",
       "0       Chưa hủy    Tiền mặt siêu thị  ...       Reebok          1 - Mới   \n",
       "1       Chưa hủy    Tiền mặt siêu thị  ...         Nike          1 - Mới   \n",
       "2       Chưa hủy    Tiền mặt siêu thị  ...       ADIDAS          1 - Mới   \n",
       "3       Chưa hủy    Tiền mặt siêu thị  ...         Erke          1 - Mới   \n",
       "4       Chưa hủy    Tiền mặt siêu thị  ...         Nike          1 - Mới   \n",
       "\n",
       "           Thời gian thu tiền STT_1 Onlineline/Cửa Hàng         Tỉnh  \\\n",
       "0  2022-06-05 11:17:25.253000     1              Online  Ho Chi Minh   \n",
       "1  2022-06-02 14:14:03.805000     2            Cửa Hàng  Ho Chi Minh   \n",
       "2  2022-06-02 14:14:03.805000     3            Cửa Hàng  Ho Chi Minh   \n",
       "3         2022-06-02 21:45:19     4            Cửa Hàng  Ho Chi Minh   \n",
       "4  2022-06-02 19:22:47.025000     5            Cửa Hàng  Ho Chi Minh   \n",
       "\n",
       "  Nguồn Đặt Hàng  Giá gốc       Dates      Time  \n",
       "0  Nhân Viên Tạo   796000  2022-06-02  23:26:17  \n",
       "1  Nhân Viên Tạo  1903000  2022-06-02  14:13:41  \n",
       "2  Nhân Viên Tạo   975000  2022-06-02  14:13:41  \n",
       "3  Nhân Viên Tạo   909000  2022-06-02  21:43:13  \n",
       "4  Nhân Viên Tạo  1903000  2022-06-02  18:49:54  \n",
       "\n",
       "[5 rows x 30 columns]"
      ]
     },
     "execution_count": 36,
     "metadata": {},
     "output_type": "execute_result"
    }
   ],
   "source": [
    "df['Dates'] = pd.to_datetime(df['Ngày tạo']).dt.date\n",
    "df['Time'] = pd.to_datetime(df['Ngày tạo']).dt.time\n",
    "df.head()"
   ]
  },
  {
   "cell_type": "code",
   "execution_count": 37,
   "metadata": {},
   "outputs": [],
   "source": [
    "df['Dates'] = pd.to_datetime(df['Ngày tạo']).dt.date\n",
    "df['Time'] = pd.to_datetime(df['Ngày tạo']).dt.time"
   ]
  },
  {
   "cell_type": "code",
   "execution_count": 38,
   "metadata": {},
   "outputs": [
    {
     "data": {
      "text/plain": [
       "dtype('O')"
      ]
     },
     "execution_count": 38,
     "metadata": {},
     "output_type": "execute_result"
    }
   ],
   "source": [
    "df.Dates.dtypes"
   ]
  },
  {
   "cell_type": "code",
   "execution_count": 39,
   "metadata": {},
   "outputs": [],
   "source": [
    "df['Dates'] = df['Dates'].astype('string')"
   ]
  },
  {
   "cell_type": "code",
   "execution_count": 40,
   "metadata": {},
   "outputs": [
    {
     "data": {
      "text/plain": [
       "2022-06-04    309\n",
       "2022-06-03    272\n",
       "2022-06-02    173\n",
       "Name: Dates, dtype: Int64"
      ]
     },
     "execution_count": 40,
     "metadata": {},
     "output_type": "execute_result"
    }
   ],
   "source": [
    "df.Dates.value_counts()"
   ]
  },
  {
   "cell_type": "code",
   "execution_count": 41,
   "metadata": {},
   "outputs": [],
   "source": [
    "a = df.loc[df['Dates'] == \"2022-06-02\"]\n",
    "b = df.loc[df['Dates'] == \"2022-06-03\"]\n",
    "c = df.loc[df['Dates'] == \"2022-06-04\"]\n"
   ]
  },
  {
   "cell_type": "code",
   "execution_count": 42,
   "metadata": {},
   "outputs": [
    {
     "data": {
      "application/vnd.plotly.v1+json": {
       "config": {
        "linkText": "Export to plot.ly",
        "plotlyServerURL": "https://plot.ly",
        "showLink": false
       },
       "data": [
        {
         "marker": {
          "color": "red",
          "colorscale": [
           [
            0,
            "rgb(0,0,131)"
           ],
           [
            0.2,
            "rgb(0,60,170)"
           ],
           [
            0.4,
            "rgb(5,255,255)"
           ],
           [
            0.6,
            "rgb(255,255,0)"
           ],
           [
            0.8,
            "rgb(250,0,0)"
           ],
           [
            1,
            "rgb(128,0,0)"
           ]
          ]
         },
         "name": "course",
         "type": "bar",
         "x": [
          "4964 - Giày nam",
          "4965 - Giày nữ",
          "4966 - Giày unisex"
         ],
         "y": [
          78768000,
          72881000,
          24285000
         ]
        }
       ],
       "layout": {
        "template": {
         "data": {
          "bar": [
           {
            "error_x": {
             "color": "#2a3f5f"
            },
            "error_y": {
             "color": "#2a3f5f"
            },
            "marker": {
             "line": {
              "color": "#E5ECF6",
              "width": 0.5
             },
             "pattern": {
              "fillmode": "overlay",
              "size": 10,
              "solidity": 0.2
             }
            },
            "type": "bar"
           }
          ],
          "barpolar": [
           {
            "marker": {
             "line": {
              "color": "#E5ECF6",
              "width": 0.5
             },
             "pattern": {
              "fillmode": "overlay",
              "size": 10,
              "solidity": 0.2
             }
            },
            "type": "barpolar"
           }
          ],
          "carpet": [
           {
            "aaxis": {
             "endlinecolor": "#2a3f5f",
             "gridcolor": "white",
             "linecolor": "white",
             "minorgridcolor": "white",
             "startlinecolor": "#2a3f5f"
            },
            "baxis": {
             "endlinecolor": "#2a3f5f",
             "gridcolor": "white",
             "linecolor": "white",
             "minorgridcolor": "white",
             "startlinecolor": "#2a3f5f"
            },
            "type": "carpet"
           }
          ],
          "choropleth": [
           {
            "colorbar": {
             "outlinewidth": 0,
             "ticks": ""
            },
            "type": "choropleth"
           }
          ],
          "contour": [
           {
            "colorbar": {
             "outlinewidth": 0,
             "ticks": ""
            },
            "colorscale": [
             [
              0,
              "#0d0887"
             ],
             [
              0.1111111111111111,
              "#46039f"
             ],
             [
              0.2222222222222222,
              "#7201a8"
             ],
             [
              0.3333333333333333,
              "#9c179e"
             ],
             [
              0.4444444444444444,
              "#bd3786"
             ],
             [
              0.5555555555555556,
              "#d8576b"
             ],
             [
              0.6666666666666666,
              "#ed7953"
             ],
             [
              0.7777777777777778,
              "#fb9f3a"
             ],
             [
              0.8888888888888888,
              "#fdca26"
             ],
             [
              1,
              "#f0f921"
             ]
            ],
            "type": "contour"
           }
          ],
          "contourcarpet": [
           {
            "colorbar": {
             "outlinewidth": 0,
             "ticks": ""
            },
            "type": "contourcarpet"
           }
          ],
          "heatmap": [
           {
            "colorbar": {
             "outlinewidth": 0,
             "ticks": ""
            },
            "colorscale": [
             [
              0,
              "#0d0887"
             ],
             [
              0.1111111111111111,
              "#46039f"
             ],
             [
              0.2222222222222222,
              "#7201a8"
             ],
             [
              0.3333333333333333,
              "#9c179e"
             ],
             [
              0.4444444444444444,
              "#bd3786"
             ],
             [
              0.5555555555555556,
              "#d8576b"
             ],
             [
              0.6666666666666666,
              "#ed7953"
             ],
             [
              0.7777777777777778,
              "#fb9f3a"
             ],
             [
              0.8888888888888888,
              "#fdca26"
             ],
             [
              1,
              "#f0f921"
             ]
            ],
            "type": "heatmap"
           }
          ],
          "heatmapgl": [
           {
            "colorbar": {
             "outlinewidth": 0,
             "ticks": ""
            },
            "colorscale": [
             [
              0,
              "#0d0887"
             ],
             [
              0.1111111111111111,
              "#46039f"
             ],
             [
              0.2222222222222222,
              "#7201a8"
             ],
             [
              0.3333333333333333,
              "#9c179e"
             ],
             [
              0.4444444444444444,
              "#bd3786"
             ],
             [
              0.5555555555555556,
              "#d8576b"
             ],
             [
              0.6666666666666666,
              "#ed7953"
             ],
             [
              0.7777777777777778,
              "#fb9f3a"
             ],
             [
              0.8888888888888888,
              "#fdca26"
             ],
             [
              1,
              "#f0f921"
             ]
            ],
            "type": "heatmapgl"
           }
          ],
          "histogram": [
           {
            "marker": {
             "pattern": {
              "fillmode": "overlay",
              "size": 10,
              "solidity": 0.2
             }
            },
            "type": "histogram"
           }
          ],
          "histogram2d": [
           {
            "colorbar": {
             "outlinewidth": 0,
             "ticks": ""
            },
            "colorscale": [
             [
              0,
              "#0d0887"
             ],
             [
              0.1111111111111111,
              "#46039f"
             ],
             [
              0.2222222222222222,
              "#7201a8"
             ],
             [
              0.3333333333333333,
              "#9c179e"
             ],
             [
              0.4444444444444444,
              "#bd3786"
             ],
             [
              0.5555555555555556,
              "#d8576b"
             ],
             [
              0.6666666666666666,
              "#ed7953"
             ],
             [
              0.7777777777777778,
              "#fb9f3a"
             ],
             [
              0.8888888888888888,
              "#fdca26"
             ],
             [
              1,
              "#f0f921"
             ]
            ],
            "type": "histogram2d"
           }
          ],
          "histogram2dcontour": [
           {
            "colorbar": {
             "outlinewidth": 0,
             "ticks": ""
            },
            "colorscale": [
             [
              0,
              "#0d0887"
             ],
             [
              0.1111111111111111,
              "#46039f"
             ],
             [
              0.2222222222222222,
              "#7201a8"
             ],
             [
              0.3333333333333333,
              "#9c179e"
             ],
             [
              0.4444444444444444,
              "#bd3786"
             ],
             [
              0.5555555555555556,
              "#d8576b"
             ],
             [
              0.6666666666666666,
              "#ed7953"
             ],
             [
              0.7777777777777778,
              "#fb9f3a"
             ],
             [
              0.8888888888888888,
              "#fdca26"
             ],
             [
              1,
              "#f0f921"
             ]
            ],
            "type": "histogram2dcontour"
           }
          ],
          "mesh3d": [
           {
            "colorbar": {
             "outlinewidth": 0,
             "ticks": ""
            },
            "type": "mesh3d"
           }
          ],
          "parcoords": [
           {
            "line": {
             "colorbar": {
              "outlinewidth": 0,
              "ticks": ""
             }
            },
            "type": "parcoords"
           }
          ],
          "pie": [
           {
            "automargin": true,
            "type": "pie"
           }
          ],
          "scatter": [
           {
            "fillpattern": {
             "fillmode": "overlay",
             "size": 10,
             "solidity": 0.2
            },
            "type": "scatter"
           }
          ],
          "scatter3d": [
           {
            "line": {
             "colorbar": {
              "outlinewidth": 0,
              "ticks": ""
             }
            },
            "marker": {
             "colorbar": {
              "outlinewidth": 0,
              "ticks": ""
             }
            },
            "type": "scatter3d"
           }
          ],
          "scattercarpet": [
           {
            "marker": {
             "colorbar": {
              "outlinewidth": 0,
              "ticks": ""
             }
            },
            "type": "scattercarpet"
           }
          ],
          "scattergeo": [
           {
            "marker": {
             "colorbar": {
              "outlinewidth": 0,
              "ticks": ""
             }
            },
            "type": "scattergeo"
           }
          ],
          "scattergl": [
           {
            "marker": {
             "colorbar": {
              "outlinewidth": 0,
              "ticks": ""
             }
            },
            "type": "scattergl"
           }
          ],
          "scattermapbox": [
           {
            "marker": {
             "colorbar": {
              "outlinewidth": 0,
              "ticks": ""
             }
            },
            "type": "scattermapbox"
           }
          ],
          "scatterpolar": [
           {
            "marker": {
             "colorbar": {
              "outlinewidth": 0,
              "ticks": ""
             }
            },
            "type": "scatterpolar"
           }
          ],
          "scatterpolargl": [
           {
            "marker": {
             "colorbar": {
              "outlinewidth": 0,
              "ticks": ""
             }
            },
            "type": "scatterpolargl"
           }
          ],
          "scatterternary": [
           {
            "marker": {
             "colorbar": {
              "outlinewidth": 0,
              "ticks": ""
             }
            },
            "type": "scatterternary"
           }
          ],
          "surface": [
           {
            "colorbar": {
             "outlinewidth": 0,
             "ticks": ""
            },
            "colorscale": [
             [
              0,
              "#0d0887"
             ],
             [
              0.1111111111111111,
              "#46039f"
             ],
             [
              0.2222222222222222,
              "#7201a8"
             ],
             [
              0.3333333333333333,
              "#9c179e"
             ],
             [
              0.4444444444444444,
              "#bd3786"
             ],
             [
              0.5555555555555556,
              "#d8576b"
             ],
             [
              0.6666666666666666,
              "#ed7953"
             ],
             [
              0.7777777777777778,
              "#fb9f3a"
             ],
             [
              0.8888888888888888,
              "#fdca26"
             ],
             [
              1,
              "#f0f921"
             ]
            ],
            "type": "surface"
           }
          ],
          "table": [
           {
            "cells": {
             "fill": {
              "color": "#EBF0F8"
             },
             "line": {
              "color": "white"
             }
            },
            "header": {
             "fill": {
              "color": "#C8D4E3"
             },
             "line": {
              "color": "white"
             }
            },
            "type": "table"
           }
          ]
         },
         "layout": {
          "annotationdefaults": {
           "arrowcolor": "#2a3f5f",
           "arrowhead": 0,
           "arrowwidth": 1
          },
          "autotypenumbers": "strict",
          "coloraxis": {
           "colorbar": {
            "outlinewidth": 0,
            "ticks": ""
           }
          },
          "colorscale": {
           "diverging": [
            [
             0,
             "#8e0152"
            ],
            [
             0.1,
             "#c51b7d"
            ],
            [
             0.2,
             "#de77ae"
            ],
            [
             0.3,
             "#f1b6da"
            ],
            [
             0.4,
             "#fde0ef"
            ],
            [
             0.5,
             "#f7f7f7"
            ],
            [
             0.6,
             "#e6f5d0"
            ],
            [
             0.7,
             "#b8e186"
            ],
            [
             0.8,
             "#7fbc41"
            ],
            [
             0.9,
             "#4d9221"
            ],
            [
             1,
             "#276419"
            ]
           ],
           "sequential": [
            [
             0,
             "#0d0887"
            ],
            [
             0.1111111111111111,
             "#46039f"
            ],
            [
             0.2222222222222222,
             "#7201a8"
            ],
            [
             0.3333333333333333,
             "#9c179e"
            ],
            [
             0.4444444444444444,
             "#bd3786"
            ],
            [
             0.5555555555555556,
             "#d8576b"
            ],
            [
             0.6666666666666666,
             "#ed7953"
            ],
            [
             0.7777777777777778,
             "#fb9f3a"
            ],
            [
             0.8888888888888888,
             "#fdca26"
            ],
            [
             1,
             "#f0f921"
            ]
           ],
           "sequentialminus": [
            [
             0,
             "#0d0887"
            ],
            [
             0.1111111111111111,
             "#46039f"
            ],
            [
             0.2222222222222222,
             "#7201a8"
            ],
            [
             0.3333333333333333,
             "#9c179e"
            ],
            [
             0.4444444444444444,
             "#bd3786"
            ],
            [
             0.5555555555555556,
             "#d8576b"
            ],
            [
             0.6666666666666666,
             "#ed7953"
            ],
            [
             0.7777777777777778,
             "#fb9f3a"
            ],
            [
             0.8888888888888888,
             "#fdca26"
            ],
            [
             1,
             "#f0f921"
            ]
           ]
          },
          "colorway": [
           "#636efa",
           "#EF553B",
           "#00cc96",
           "#ab63fa",
           "#FFA15A",
           "#19d3f3",
           "#FF6692",
           "#B6E880",
           "#FF97FF",
           "#FECB52"
          ],
          "font": {
           "color": "#2a3f5f"
          },
          "geo": {
           "bgcolor": "white",
           "lakecolor": "white",
           "landcolor": "#E5ECF6",
           "showlakes": true,
           "showland": true,
           "subunitcolor": "white"
          },
          "hoverlabel": {
           "align": "left"
          },
          "hovermode": "closest",
          "mapbox": {
           "style": "light"
          },
          "paper_bgcolor": "white",
          "plot_bgcolor": "#E5ECF6",
          "polar": {
           "angularaxis": {
            "gridcolor": "white",
            "linecolor": "white",
            "ticks": ""
           },
           "bgcolor": "#E5ECF6",
           "radialaxis": {
            "gridcolor": "white",
            "linecolor": "white",
            "ticks": ""
           }
          },
          "scene": {
           "xaxis": {
            "backgroundcolor": "#E5ECF6",
            "gridcolor": "white",
            "gridwidth": 2,
            "linecolor": "white",
            "showbackground": true,
            "ticks": "",
            "zerolinecolor": "white"
           },
           "yaxis": {
            "backgroundcolor": "#E5ECF6",
            "gridcolor": "white",
            "gridwidth": 2,
            "linecolor": "white",
            "showbackground": true,
            "ticks": "",
            "zerolinecolor": "white"
           },
           "zaxis": {
            "backgroundcolor": "#E5ECF6",
            "gridcolor": "white",
            "gridwidth": 2,
            "linecolor": "white",
            "showbackground": true,
            "ticks": "",
            "zerolinecolor": "white"
           }
          },
          "shapedefaults": {
           "line": {
            "color": "#2a3f5f"
           }
          },
          "ternary": {
           "aaxis": {
            "gridcolor": "white",
            "linecolor": "white",
            "ticks": ""
           },
           "baxis": {
            "gridcolor": "white",
            "linecolor": "white",
            "ticks": ""
           },
           "bgcolor": "#E5ECF6",
           "caxis": {
            "gridcolor": "white",
            "linecolor": "white",
            "ticks": ""
           }
          },
          "title": {
           "x": 0.05
          },
          "xaxis": {
           "automargin": true,
           "gridcolor": "white",
           "linecolor": "white",
           "ticks": "",
           "title": {
            "standoff": 15
           },
           "zerolinecolor": "white",
           "zerolinewidth": 2
          },
          "yaxis": {
           "automargin": true,
           "gridcolor": "white",
           "linecolor": "white",
           "ticks": "",
           "title": {
            "standoff": 15
           },
           "zerolinecolor": "white",
           "zerolinewidth": 2
          }
         }
        },
        "title": {
         "text": "Doanh Thu Theo Nhóm Hàng Ngày 2/6/2022"
        },
        "yaxis": {
         "title": {
          "text": "Doanh Thu"
         }
        }
       }
      },
      "text/html": [
       "<div>                            <div id=\"15979663-6587-472e-96e5-33d57dee7979\" class=\"plotly-graph-div\" style=\"height:525px; width:100%;\"></div>            <script type=\"text/javascript\">                require([\"plotly\"], function(Plotly) {                    window.PLOTLYENV=window.PLOTLYENV || {};                                    if (document.getElementById(\"15979663-6587-472e-96e5-33d57dee7979\")) {                    Plotly.newPlot(                        \"15979663-6587-472e-96e5-33d57dee7979\",                        [{\"marker\":{\"color\":\"red\",\"colorscale\":[[0.0,\"rgb(0,0,131)\"],[0.2,\"rgb(0,60,170)\"],[0.4,\"rgb(5,255,255)\"],[0.6,\"rgb(255,255,0)\"],[0.8,\"rgb(250,0,0)\"],[1.0,\"rgb(128,0,0)\"]]},\"name\":\"course\",\"x\":[\"4964 - Gi\\u00e0y nam\",\"4965 - Gi\\u00e0y n\\u1eef\",\"4966 - Gi\\u00e0y unisex\"],\"y\":[78768000,72881000,24285000],\"type\":\"bar\"}],                        {\"template\":{\"data\":{\"barpolar\":[{\"marker\":{\"line\":{\"color\":\"#E5ECF6\",\"width\":0.5},\"pattern\":{\"fillmode\":\"overlay\",\"size\":10,\"solidity\":0.2}},\"type\":\"barpolar\"}],\"bar\":[{\"error_x\":{\"color\":\"#2a3f5f\"},\"error_y\":{\"color\":\"#2a3f5f\"},\"marker\":{\"line\":{\"color\":\"#E5ECF6\",\"width\":0.5},\"pattern\":{\"fillmode\":\"overlay\",\"size\":10,\"solidity\":0.2}},\"type\":\"bar\"}],\"carpet\":[{\"aaxis\":{\"endlinecolor\":\"#2a3f5f\",\"gridcolor\":\"white\",\"linecolor\":\"white\",\"minorgridcolor\":\"white\",\"startlinecolor\":\"#2a3f5f\"},\"baxis\":{\"endlinecolor\":\"#2a3f5f\",\"gridcolor\":\"white\",\"linecolor\":\"white\",\"minorgridcolor\":\"white\",\"startlinecolor\":\"#2a3f5f\"},\"type\":\"carpet\"}],\"choropleth\":[{\"colorbar\":{\"outlinewidth\":0,\"ticks\":\"\"},\"type\":\"choropleth\"}],\"contourcarpet\":[{\"colorbar\":{\"outlinewidth\":0,\"ticks\":\"\"},\"type\":\"contourcarpet\"}],\"contour\":[{\"colorbar\":{\"outlinewidth\":0,\"ticks\":\"\"},\"colorscale\":[[0.0,\"#0d0887\"],[0.1111111111111111,\"#46039f\"],[0.2222222222222222,\"#7201a8\"],[0.3333333333333333,\"#9c179e\"],[0.4444444444444444,\"#bd3786\"],[0.5555555555555556,\"#d8576b\"],[0.6666666666666666,\"#ed7953\"],[0.7777777777777778,\"#fb9f3a\"],[0.8888888888888888,\"#fdca26\"],[1.0,\"#f0f921\"]],\"type\":\"contour\"}],\"heatmapgl\":[{\"colorbar\":{\"outlinewidth\":0,\"ticks\":\"\"},\"colorscale\":[[0.0,\"#0d0887\"],[0.1111111111111111,\"#46039f\"],[0.2222222222222222,\"#7201a8\"],[0.3333333333333333,\"#9c179e\"],[0.4444444444444444,\"#bd3786\"],[0.5555555555555556,\"#d8576b\"],[0.6666666666666666,\"#ed7953\"],[0.7777777777777778,\"#fb9f3a\"],[0.8888888888888888,\"#fdca26\"],[1.0,\"#f0f921\"]],\"type\":\"heatmapgl\"}],\"heatmap\":[{\"colorbar\":{\"outlinewidth\":0,\"ticks\":\"\"},\"colorscale\":[[0.0,\"#0d0887\"],[0.1111111111111111,\"#46039f\"],[0.2222222222222222,\"#7201a8\"],[0.3333333333333333,\"#9c179e\"],[0.4444444444444444,\"#bd3786\"],[0.5555555555555556,\"#d8576b\"],[0.6666666666666666,\"#ed7953\"],[0.7777777777777778,\"#fb9f3a\"],[0.8888888888888888,\"#fdca26\"],[1.0,\"#f0f921\"]],\"type\":\"heatmap\"}],\"histogram2dcontour\":[{\"colorbar\":{\"outlinewidth\":0,\"ticks\":\"\"},\"colorscale\":[[0.0,\"#0d0887\"],[0.1111111111111111,\"#46039f\"],[0.2222222222222222,\"#7201a8\"],[0.3333333333333333,\"#9c179e\"],[0.4444444444444444,\"#bd3786\"],[0.5555555555555556,\"#d8576b\"],[0.6666666666666666,\"#ed7953\"],[0.7777777777777778,\"#fb9f3a\"],[0.8888888888888888,\"#fdca26\"],[1.0,\"#f0f921\"]],\"type\":\"histogram2dcontour\"}],\"histogram2d\":[{\"colorbar\":{\"outlinewidth\":0,\"ticks\":\"\"},\"colorscale\":[[0.0,\"#0d0887\"],[0.1111111111111111,\"#46039f\"],[0.2222222222222222,\"#7201a8\"],[0.3333333333333333,\"#9c179e\"],[0.4444444444444444,\"#bd3786\"],[0.5555555555555556,\"#d8576b\"],[0.6666666666666666,\"#ed7953\"],[0.7777777777777778,\"#fb9f3a\"],[0.8888888888888888,\"#fdca26\"],[1.0,\"#f0f921\"]],\"type\":\"histogram2d\"}],\"histogram\":[{\"marker\":{\"pattern\":{\"fillmode\":\"overlay\",\"size\":10,\"solidity\":0.2}},\"type\":\"histogram\"}],\"mesh3d\":[{\"colorbar\":{\"outlinewidth\":0,\"ticks\":\"\"},\"type\":\"mesh3d\"}],\"parcoords\":[{\"line\":{\"colorbar\":{\"outlinewidth\":0,\"ticks\":\"\"}},\"type\":\"parcoords\"}],\"pie\":[{\"automargin\":true,\"type\":\"pie\"}],\"scatter3d\":[{\"line\":{\"colorbar\":{\"outlinewidth\":0,\"ticks\":\"\"}},\"marker\":{\"colorbar\":{\"outlinewidth\":0,\"ticks\":\"\"}},\"type\":\"scatter3d\"}],\"scattercarpet\":[{\"marker\":{\"colorbar\":{\"outlinewidth\":0,\"ticks\":\"\"}},\"type\":\"scattercarpet\"}],\"scattergeo\":[{\"marker\":{\"colorbar\":{\"outlinewidth\":0,\"ticks\":\"\"}},\"type\":\"scattergeo\"}],\"scattergl\":[{\"marker\":{\"colorbar\":{\"outlinewidth\":0,\"ticks\":\"\"}},\"type\":\"scattergl\"}],\"scattermapbox\":[{\"marker\":{\"colorbar\":{\"outlinewidth\":0,\"ticks\":\"\"}},\"type\":\"scattermapbox\"}],\"scatterpolargl\":[{\"marker\":{\"colorbar\":{\"outlinewidth\":0,\"ticks\":\"\"}},\"type\":\"scatterpolargl\"}],\"scatterpolar\":[{\"marker\":{\"colorbar\":{\"outlinewidth\":0,\"ticks\":\"\"}},\"type\":\"scatterpolar\"}],\"scatter\":[{\"fillpattern\":{\"fillmode\":\"overlay\",\"size\":10,\"solidity\":0.2},\"type\":\"scatter\"}],\"scatterternary\":[{\"marker\":{\"colorbar\":{\"outlinewidth\":0,\"ticks\":\"\"}},\"type\":\"scatterternary\"}],\"surface\":[{\"colorbar\":{\"outlinewidth\":0,\"ticks\":\"\"},\"colorscale\":[[0.0,\"#0d0887\"],[0.1111111111111111,\"#46039f\"],[0.2222222222222222,\"#7201a8\"],[0.3333333333333333,\"#9c179e\"],[0.4444444444444444,\"#bd3786\"],[0.5555555555555556,\"#d8576b\"],[0.6666666666666666,\"#ed7953\"],[0.7777777777777778,\"#fb9f3a\"],[0.8888888888888888,\"#fdca26\"],[1.0,\"#f0f921\"]],\"type\":\"surface\"}],\"table\":[{\"cells\":{\"fill\":{\"color\":\"#EBF0F8\"},\"line\":{\"color\":\"white\"}},\"header\":{\"fill\":{\"color\":\"#C8D4E3\"},\"line\":{\"color\":\"white\"}},\"type\":\"table\"}]},\"layout\":{\"annotationdefaults\":{\"arrowcolor\":\"#2a3f5f\",\"arrowhead\":0,\"arrowwidth\":1},\"autotypenumbers\":\"strict\",\"coloraxis\":{\"colorbar\":{\"outlinewidth\":0,\"ticks\":\"\"}},\"colorscale\":{\"diverging\":[[0,\"#8e0152\"],[0.1,\"#c51b7d\"],[0.2,\"#de77ae\"],[0.3,\"#f1b6da\"],[0.4,\"#fde0ef\"],[0.5,\"#f7f7f7\"],[0.6,\"#e6f5d0\"],[0.7,\"#b8e186\"],[0.8,\"#7fbc41\"],[0.9,\"#4d9221\"],[1,\"#276419\"]],\"sequential\":[[0.0,\"#0d0887\"],[0.1111111111111111,\"#46039f\"],[0.2222222222222222,\"#7201a8\"],[0.3333333333333333,\"#9c179e\"],[0.4444444444444444,\"#bd3786\"],[0.5555555555555556,\"#d8576b\"],[0.6666666666666666,\"#ed7953\"],[0.7777777777777778,\"#fb9f3a\"],[0.8888888888888888,\"#fdca26\"],[1.0,\"#f0f921\"]],\"sequentialminus\":[[0.0,\"#0d0887\"],[0.1111111111111111,\"#46039f\"],[0.2222222222222222,\"#7201a8\"],[0.3333333333333333,\"#9c179e\"],[0.4444444444444444,\"#bd3786\"],[0.5555555555555556,\"#d8576b\"],[0.6666666666666666,\"#ed7953\"],[0.7777777777777778,\"#fb9f3a\"],[0.8888888888888888,\"#fdca26\"],[1.0,\"#f0f921\"]]},\"colorway\":[\"#636efa\",\"#EF553B\",\"#00cc96\",\"#ab63fa\",\"#FFA15A\",\"#19d3f3\",\"#FF6692\",\"#B6E880\",\"#FF97FF\",\"#FECB52\"],\"font\":{\"color\":\"#2a3f5f\"},\"geo\":{\"bgcolor\":\"white\",\"lakecolor\":\"white\",\"landcolor\":\"#E5ECF6\",\"showlakes\":true,\"showland\":true,\"subunitcolor\":\"white\"},\"hoverlabel\":{\"align\":\"left\"},\"hovermode\":\"closest\",\"mapbox\":{\"style\":\"light\"},\"paper_bgcolor\":\"white\",\"plot_bgcolor\":\"#E5ECF6\",\"polar\":{\"angularaxis\":{\"gridcolor\":\"white\",\"linecolor\":\"white\",\"ticks\":\"\"},\"bgcolor\":\"#E5ECF6\",\"radialaxis\":{\"gridcolor\":\"white\",\"linecolor\":\"white\",\"ticks\":\"\"}},\"scene\":{\"xaxis\":{\"backgroundcolor\":\"#E5ECF6\",\"gridcolor\":\"white\",\"gridwidth\":2,\"linecolor\":\"white\",\"showbackground\":true,\"ticks\":\"\",\"zerolinecolor\":\"white\"},\"yaxis\":{\"backgroundcolor\":\"#E5ECF6\",\"gridcolor\":\"white\",\"gridwidth\":2,\"linecolor\":\"white\",\"showbackground\":true,\"ticks\":\"\",\"zerolinecolor\":\"white\"},\"zaxis\":{\"backgroundcolor\":\"#E5ECF6\",\"gridcolor\":\"white\",\"gridwidth\":2,\"linecolor\":\"white\",\"showbackground\":true,\"ticks\":\"\",\"zerolinecolor\":\"white\"}},\"shapedefaults\":{\"line\":{\"color\":\"#2a3f5f\"}},\"ternary\":{\"aaxis\":{\"gridcolor\":\"white\",\"linecolor\":\"white\",\"ticks\":\"\"},\"baxis\":{\"gridcolor\":\"white\",\"linecolor\":\"white\",\"ticks\":\"\"},\"bgcolor\":\"#E5ECF6\",\"caxis\":{\"gridcolor\":\"white\",\"linecolor\":\"white\",\"ticks\":\"\"}},\"title\":{\"x\":0.05},\"xaxis\":{\"automargin\":true,\"gridcolor\":\"white\",\"linecolor\":\"white\",\"ticks\":\"\",\"title\":{\"standoff\":15},\"zerolinecolor\":\"white\",\"zerolinewidth\":2},\"yaxis\":{\"automargin\":true,\"gridcolor\":\"white\",\"linecolor\":\"white\",\"ticks\":\"\",\"title\":{\"standoff\":15},\"zerolinecolor\":\"white\",\"zerolinewidth\":2}}},\"title\":{\"text\":\"Doanh Thu Theo Nh\\u00f3m H\\u00e0ng Ng\\u00e0y 2/6/2022\"},\"yaxis\":{\"title\":{\"text\":\"Doanh Thu\"}}},                        {\"responsive\": true}                    ).then(function(){\n",
       "                            \n",
       "var gd = document.getElementById('15979663-6587-472e-96e5-33d57dee7979');\n",
       "var x = new MutationObserver(function (mutations, observer) {{\n",
       "        var display = window.getComputedStyle(gd).display;\n",
       "        if (!display || display === 'none') {{\n",
       "            console.log([gd, 'removed!']);\n",
       "            Plotly.purge(gd);\n",
       "            observer.disconnect();\n",
       "        }}\n",
       "}});\n",
       "\n",
       "// Listen for the removal of the full notebook cells\n",
       "var notebookContainer = gd.closest('#notebook-container');\n",
       "if (notebookContainer) {{\n",
       "    x.observe(notebookContainer, {childList: true});\n",
       "}}\n",
       "\n",
       "// Listen for the clearing of the current output cell\n",
       "var outputEl = gd.closest('.output');\n",
       "if (outputEl) {{\n",
       "    x.observe(outputEl, {childList: true});\n",
       "}}\n",
       "\n",
       "                        })                };                });            </script>        </div>"
      ]
     },
     "metadata": {},
     "output_type": "display_data"
    },
    {
     "data": {
      "application/vnd.plotly.v1+json": {
       "config": {
        "linkText": "Export to plot.ly",
        "plotlyServerURL": "https://plot.ly",
        "showLink": false
       },
       "data": [
        {
         "marker": {
          "color": "blue",
          "colorscale": [
           [
            0,
            "rgb(0,0,131)"
           ],
           [
            0.2,
            "rgb(0,60,170)"
           ],
           [
            0.4,
            "rgb(5,255,255)"
           ],
           [
            0.6,
            "rgb(255,255,0)"
           ],
           [
            0.8,
            "rgb(250,0,0)"
           ],
           [
            1,
            "rgb(128,0,0)"
           ]
          ]
         },
         "name": "course",
         "type": "bar",
         "x": [
          "4964 - Giày nam",
          "4965 - Giày nữ",
          "4966 - Giày unisex"
         ],
         "y": [
          203150000,
          96613000,
          30419000
         ]
        }
       ],
       "layout": {
        "template": {
         "data": {
          "bar": [
           {
            "error_x": {
             "color": "#2a3f5f"
            },
            "error_y": {
             "color": "#2a3f5f"
            },
            "marker": {
             "line": {
              "color": "#E5ECF6",
              "width": 0.5
             },
             "pattern": {
              "fillmode": "overlay",
              "size": 10,
              "solidity": 0.2
             }
            },
            "type": "bar"
           }
          ],
          "barpolar": [
           {
            "marker": {
             "line": {
              "color": "#E5ECF6",
              "width": 0.5
             },
             "pattern": {
              "fillmode": "overlay",
              "size": 10,
              "solidity": 0.2
             }
            },
            "type": "barpolar"
           }
          ],
          "carpet": [
           {
            "aaxis": {
             "endlinecolor": "#2a3f5f",
             "gridcolor": "white",
             "linecolor": "white",
             "minorgridcolor": "white",
             "startlinecolor": "#2a3f5f"
            },
            "baxis": {
             "endlinecolor": "#2a3f5f",
             "gridcolor": "white",
             "linecolor": "white",
             "minorgridcolor": "white",
             "startlinecolor": "#2a3f5f"
            },
            "type": "carpet"
           }
          ],
          "choropleth": [
           {
            "colorbar": {
             "outlinewidth": 0,
             "ticks": ""
            },
            "type": "choropleth"
           }
          ],
          "contour": [
           {
            "colorbar": {
             "outlinewidth": 0,
             "ticks": ""
            },
            "colorscale": [
             [
              0,
              "#0d0887"
             ],
             [
              0.1111111111111111,
              "#46039f"
             ],
             [
              0.2222222222222222,
              "#7201a8"
             ],
             [
              0.3333333333333333,
              "#9c179e"
             ],
             [
              0.4444444444444444,
              "#bd3786"
             ],
             [
              0.5555555555555556,
              "#d8576b"
             ],
             [
              0.6666666666666666,
              "#ed7953"
             ],
             [
              0.7777777777777778,
              "#fb9f3a"
             ],
             [
              0.8888888888888888,
              "#fdca26"
             ],
             [
              1,
              "#f0f921"
             ]
            ],
            "type": "contour"
           }
          ],
          "contourcarpet": [
           {
            "colorbar": {
             "outlinewidth": 0,
             "ticks": ""
            },
            "type": "contourcarpet"
           }
          ],
          "heatmap": [
           {
            "colorbar": {
             "outlinewidth": 0,
             "ticks": ""
            },
            "colorscale": [
             [
              0,
              "#0d0887"
             ],
             [
              0.1111111111111111,
              "#46039f"
             ],
             [
              0.2222222222222222,
              "#7201a8"
             ],
             [
              0.3333333333333333,
              "#9c179e"
             ],
             [
              0.4444444444444444,
              "#bd3786"
             ],
             [
              0.5555555555555556,
              "#d8576b"
             ],
             [
              0.6666666666666666,
              "#ed7953"
             ],
             [
              0.7777777777777778,
              "#fb9f3a"
             ],
             [
              0.8888888888888888,
              "#fdca26"
             ],
             [
              1,
              "#f0f921"
             ]
            ],
            "type": "heatmap"
           }
          ],
          "heatmapgl": [
           {
            "colorbar": {
             "outlinewidth": 0,
             "ticks": ""
            },
            "colorscale": [
             [
              0,
              "#0d0887"
             ],
             [
              0.1111111111111111,
              "#46039f"
             ],
             [
              0.2222222222222222,
              "#7201a8"
             ],
             [
              0.3333333333333333,
              "#9c179e"
             ],
             [
              0.4444444444444444,
              "#bd3786"
             ],
             [
              0.5555555555555556,
              "#d8576b"
             ],
             [
              0.6666666666666666,
              "#ed7953"
             ],
             [
              0.7777777777777778,
              "#fb9f3a"
             ],
             [
              0.8888888888888888,
              "#fdca26"
             ],
             [
              1,
              "#f0f921"
             ]
            ],
            "type": "heatmapgl"
           }
          ],
          "histogram": [
           {
            "marker": {
             "pattern": {
              "fillmode": "overlay",
              "size": 10,
              "solidity": 0.2
             }
            },
            "type": "histogram"
           }
          ],
          "histogram2d": [
           {
            "colorbar": {
             "outlinewidth": 0,
             "ticks": ""
            },
            "colorscale": [
             [
              0,
              "#0d0887"
             ],
             [
              0.1111111111111111,
              "#46039f"
             ],
             [
              0.2222222222222222,
              "#7201a8"
             ],
             [
              0.3333333333333333,
              "#9c179e"
             ],
             [
              0.4444444444444444,
              "#bd3786"
             ],
             [
              0.5555555555555556,
              "#d8576b"
             ],
             [
              0.6666666666666666,
              "#ed7953"
             ],
             [
              0.7777777777777778,
              "#fb9f3a"
             ],
             [
              0.8888888888888888,
              "#fdca26"
             ],
             [
              1,
              "#f0f921"
             ]
            ],
            "type": "histogram2d"
           }
          ],
          "histogram2dcontour": [
           {
            "colorbar": {
             "outlinewidth": 0,
             "ticks": ""
            },
            "colorscale": [
             [
              0,
              "#0d0887"
             ],
             [
              0.1111111111111111,
              "#46039f"
             ],
             [
              0.2222222222222222,
              "#7201a8"
             ],
             [
              0.3333333333333333,
              "#9c179e"
             ],
             [
              0.4444444444444444,
              "#bd3786"
             ],
             [
              0.5555555555555556,
              "#d8576b"
             ],
             [
              0.6666666666666666,
              "#ed7953"
             ],
             [
              0.7777777777777778,
              "#fb9f3a"
             ],
             [
              0.8888888888888888,
              "#fdca26"
             ],
             [
              1,
              "#f0f921"
             ]
            ],
            "type": "histogram2dcontour"
           }
          ],
          "mesh3d": [
           {
            "colorbar": {
             "outlinewidth": 0,
             "ticks": ""
            },
            "type": "mesh3d"
           }
          ],
          "parcoords": [
           {
            "line": {
             "colorbar": {
              "outlinewidth": 0,
              "ticks": ""
             }
            },
            "type": "parcoords"
           }
          ],
          "pie": [
           {
            "automargin": true,
            "type": "pie"
           }
          ],
          "scatter": [
           {
            "fillpattern": {
             "fillmode": "overlay",
             "size": 10,
             "solidity": 0.2
            },
            "type": "scatter"
           }
          ],
          "scatter3d": [
           {
            "line": {
             "colorbar": {
              "outlinewidth": 0,
              "ticks": ""
             }
            },
            "marker": {
             "colorbar": {
              "outlinewidth": 0,
              "ticks": ""
             }
            },
            "type": "scatter3d"
           }
          ],
          "scattercarpet": [
           {
            "marker": {
             "colorbar": {
              "outlinewidth": 0,
              "ticks": ""
             }
            },
            "type": "scattercarpet"
           }
          ],
          "scattergeo": [
           {
            "marker": {
             "colorbar": {
              "outlinewidth": 0,
              "ticks": ""
             }
            },
            "type": "scattergeo"
           }
          ],
          "scattergl": [
           {
            "marker": {
             "colorbar": {
              "outlinewidth": 0,
              "ticks": ""
             }
            },
            "type": "scattergl"
           }
          ],
          "scattermapbox": [
           {
            "marker": {
             "colorbar": {
              "outlinewidth": 0,
              "ticks": ""
             }
            },
            "type": "scattermapbox"
           }
          ],
          "scatterpolar": [
           {
            "marker": {
             "colorbar": {
              "outlinewidth": 0,
              "ticks": ""
             }
            },
            "type": "scatterpolar"
           }
          ],
          "scatterpolargl": [
           {
            "marker": {
             "colorbar": {
              "outlinewidth": 0,
              "ticks": ""
             }
            },
            "type": "scatterpolargl"
           }
          ],
          "scatterternary": [
           {
            "marker": {
             "colorbar": {
              "outlinewidth": 0,
              "ticks": ""
             }
            },
            "type": "scatterternary"
           }
          ],
          "surface": [
           {
            "colorbar": {
             "outlinewidth": 0,
             "ticks": ""
            },
            "colorscale": [
             [
              0,
              "#0d0887"
             ],
             [
              0.1111111111111111,
              "#46039f"
             ],
             [
              0.2222222222222222,
              "#7201a8"
             ],
             [
              0.3333333333333333,
              "#9c179e"
             ],
             [
              0.4444444444444444,
              "#bd3786"
             ],
             [
              0.5555555555555556,
              "#d8576b"
             ],
             [
              0.6666666666666666,
              "#ed7953"
             ],
             [
              0.7777777777777778,
              "#fb9f3a"
             ],
             [
              0.8888888888888888,
              "#fdca26"
             ],
             [
              1,
              "#f0f921"
             ]
            ],
            "type": "surface"
           }
          ],
          "table": [
           {
            "cells": {
             "fill": {
              "color": "#EBF0F8"
             },
             "line": {
              "color": "white"
             }
            },
            "header": {
             "fill": {
              "color": "#C8D4E3"
             },
             "line": {
              "color": "white"
             }
            },
            "type": "table"
           }
          ]
         },
         "layout": {
          "annotationdefaults": {
           "arrowcolor": "#2a3f5f",
           "arrowhead": 0,
           "arrowwidth": 1
          },
          "autotypenumbers": "strict",
          "coloraxis": {
           "colorbar": {
            "outlinewidth": 0,
            "ticks": ""
           }
          },
          "colorscale": {
           "diverging": [
            [
             0,
             "#8e0152"
            ],
            [
             0.1,
             "#c51b7d"
            ],
            [
             0.2,
             "#de77ae"
            ],
            [
             0.3,
             "#f1b6da"
            ],
            [
             0.4,
             "#fde0ef"
            ],
            [
             0.5,
             "#f7f7f7"
            ],
            [
             0.6,
             "#e6f5d0"
            ],
            [
             0.7,
             "#b8e186"
            ],
            [
             0.8,
             "#7fbc41"
            ],
            [
             0.9,
             "#4d9221"
            ],
            [
             1,
             "#276419"
            ]
           ],
           "sequential": [
            [
             0,
             "#0d0887"
            ],
            [
             0.1111111111111111,
             "#46039f"
            ],
            [
             0.2222222222222222,
             "#7201a8"
            ],
            [
             0.3333333333333333,
             "#9c179e"
            ],
            [
             0.4444444444444444,
             "#bd3786"
            ],
            [
             0.5555555555555556,
             "#d8576b"
            ],
            [
             0.6666666666666666,
             "#ed7953"
            ],
            [
             0.7777777777777778,
             "#fb9f3a"
            ],
            [
             0.8888888888888888,
             "#fdca26"
            ],
            [
             1,
             "#f0f921"
            ]
           ],
           "sequentialminus": [
            [
             0,
             "#0d0887"
            ],
            [
             0.1111111111111111,
             "#46039f"
            ],
            [
             0.2222222222222222,
             "#7201a8"
            ],
            [
             0.3333333333333333,
             "#9c179e"
            ],
            [
             0.4444444444444444,
             "#bd3786"
            ],
            [
             0.5555555555555556,
             "#d8576b"
            ],
            [
             0.6666666666666666,
             "#ed7953"
            ],
            [
             0.7777777777777778,
             "#fb9f3a"
            ],
            [
             0.8888888888888888,
             "#fdca26"
            ],
            [
             1,
             "#f0f921"
            ]
           ]
          },
          "colorway": [
           "#636efa",
           "#EF553B",
           "#00cc96",
           "#ab63fa",
           "#FFA15A",
           "#19d3f3",
           "#FF6692",
           "#B6E880",
           "#FF97FF",
           "#FECB52"
          ],
          "font": {
           "color": "#2a3f5f"
          },
          "geo": {
           "bgcolor": "white",
           "lakecolor": "white",
           "landcolor": "#E5ECF6",
           "showlakes": true,
           "showland": true,
           "subunitcolor": "white"
          },
          "hoverlabel": {
           "align": "left"
          },
          "hovermode": "closest",
          "mapbox": {
           "style": "light"
          },
          "paper_bgcolor": "white",
          "plot_bgcolor": "#E5ECF6",
          "polar": {
           "angularaxis": {
            "gridcolor": "white",
            "linecolor": "white",
            "ticks": ""
           },
           "bgcolor": "#E5ECF6",
           "radialaxis": {
            "gridcolor": "white",
            "linecolor": "white",
            "ticks": ""
           }
          },
          "scene": {
           "xaxis": {
            "backgroundcolor": "#E5ECF6",
            "gridcolor": "white",
            "gridwidth": 2,
            "linecolor": "white",
            "showbackground": true,
            "ticks": "",
            "zerolinecolor": "white"
           },
           "yaxis": {
            "backgroundcolor": "#E5ECF6",
            "gridcolor": "white",
            "gridwidth": 2,
            "linecolor": "white",
            "showbackground": true,
            "ticks": "",
            "zerolinecolor": "white"
           },
           "zaxis": {
            "backgroundcolor": "#E5ECF6",
            "gridcolor": "white",
            "gridwidth": 2,
            "linecolor": "white",
            "showbackground": true,
            "ticks": "",
            "zerolinecolor": "white"
           }
          },
          "shapedefaults": {
           "line": {
            "color": "#2a3f5f"
           }
          },
          "ternary": {
           "aaxis": {
            "gridcolor": "white",
            "linecolor": "white",
            "ticks": ""
           },
           "baxis": {
            "gridcolor": "white",
            "linecolor": "white",
            "ticks": ""
           },
           "bgcolor": "#E5ECF6",
           "caxis": {
            "gridcolor": "white",
            "linecolor": "white",
            "ticks": ""
           }
          },
          "title": {
           "x": 0.05
          },
          "xaxis": {
           "automargin": true,
           "gridcolor": "white",
           "linecolor": "white",
           "ticks": "",
           "title": {
            "standoff": 15
           },
           "zerolinecolor": "white",
           "zerolinewidth": 2
          },
          "yaxis": {
           "automargin": true,
           "gridcolor": "white",
           "linecolor": "white",
           "ticks": "",
           "title": {
            "standoff": 15
           },
           "zerolinecolor": "white",
           "zerolinewidth": 2
          }
         }
        },
        "title": {
         "text": "Doanh Thu Theo Nhóm Hàng Ngày 3/6/2022"
        },
        "yaxis": {
         "title": {
          "text": "Doanh Thu"
         }
        }
       }
      },
      "text/html": [
       "<div>                            <div id=\"38342d01-73ef-4600-a276-aa99cda48893\" class=\"plotly-graph-div\" style=\"height:525px; width:100%;\"></div>            <script type=\"text/javascript\">                require([\"plotly\"], function(Plotly) {                    window.PLOTLYENV=window.PLOTLYENV || {};                                    if (document.getElementById(\"38342d01-73ef-4600-a276-aa99cda48893\")) {                    Plotly.newPlot(                        \"38342d01-73ef-4600-a276-aa99cda48893\",                        [{\"marker\":{\"color\":\"blue\",\"colorscale\":[[0.0,\"rgb(0,0,131)\"],[0.2,\"rgb(0,60,170)\"],[0.4,\"rgb(5,255,255)\"],[0.6,\"rgb(255,255,0)\"],[0.8,\"rgb(250,0,0)\"],[1.0,\"rgb(128,0,0)\"]]},\"name\":\"course\",\"x\":[\"4964 - Gi\\u00e0y nam\",\"4965 - Gi\\u00e0y n\\u1eef\",\"4966 - Gi\\u00e0y unisex\"],\"y\":[203150000,96613000,30419000],\"type\":\"bar\"}],                        {\"template\":{\"data\":{\"barpolar\":[{\"marker\":{\"line\":{\"color\":\"#E5ECF6\",\"width\":0.5},\"pattern\":{\"fillmode\":\"overlay\",\"size\":10,\"solidity\":0.2}},\"type\":\"barpolar\"}],\"bar\":[{\"error_x\":{\"color\":\"#2a3f5f\"},\"error_y\":{\"color\":\"#2a3f5f\"},\"marker\":{\"line\":{\"color\":\"#E5ECF6\",\"width\":0.5},\"pattern\":{\"fillmode\":\"overlay\",\"size\":10,\"solidity\":0.2}},\"type\":\"bar\"}],\"carpet\":[{\"aaxis\":{\"endlinecolor\":\"#2a3f5f\",\"gridcolor\":\"white\",\"linecolor\":\"white\",\"minorgridcolor\":\"white\",\"startlinecolor\":\"#2a3f5f\"},\"baxis\":{\"endlinecolor\":\"#2a3f5f\",\"gridcolor\":\"white\",\"linecolor\":\"white\",\"minorgridcolor\":\"white\",\"startlinecolor\":\"#2a3f5f\"},\"type\":\"carpet\"}],\"choropleth\":[{\"colorbar\":{\"outlinewidth\":0,\"ticks\":\"\"},\"type\":\"choropleth\"}],\"contourcarpet\":[{\"colorbar\":{\"outlinewidth\":0,\"ticks\":\"\"},\"type\":\"contourcarpet\"}],\"contour\":[{\"colorbar\":{\"outlinewidth\":0,\"ticks\":\"\"},\"colorscale\":[[0.0,\"#0d0887\"],[0.1111111111111111,\"#46039f\"],[0.2222222222222222,\"#7201a8\"],[0.3333333333333333,\"#9c179e\"],[0.4444444444444444,\"#bd3786\"],[0.5555555555555556,\"#d8576b\"],[0.6666666666666666,\"#ed7953\"],[0.7777777777777778,\"#fb9f3a\"],[0.8888888888888888,\"#fdca26\"],[1.0,\"#f0f921\"]],\"type\":\"contour\"}],\"heatmapgl\":[{\"colorbar\":{\"outlinewidth\":0,\"ticks\":\"\"},\"colorscale\":[[0.0,\"#0d0887\"],[0.1111111111111111,\"#46039f\"],[0.2222222222222222,\"#7201a8\"],[0.3333333333333333,\"#9c179e\"],[0.4444444444444444,\"#bd3786\"],[0.5555555555555556,\"#d8576b\"],[0.6666666666666666,\"#ed7953\"],[0.7777777777777778,\"#fb9f3a\"],[0.8888888888888888,\"#fdca26\"],[1.0,\"#f0f921\"]],\"type\":\"heatmapgl\"}],\"heatmap\":[{\"colorbar\":{\"outlinewidth\":0,\"ticks\":\"\"},\"colorscale\":[[0.0,\"#0d0887\"],[0.1111111111111111,\"#46039f\"],[0.2222222222222222,\"#7201a8\"],[0.3333333333333333,\"#9c179e\"],[0.4444444444444444,\"#bd3786\"],[0.5555555555555556,\"#d8576b\"],[0.6666666666666666,\"#ed7953\"],[0.7777777777777778,\"#fb9f3a\"],[0.8888888888888888,\"#fdca26\"],[1.0,\"#f0f921\"]],\"type\":\"heatmap\"}],\"histogram2dcontour\":[{\"colorbar\":{\"outlinewidth\":0,\"ticks\":\"\"},\"colorscale\":[[0.0,\"#0d0887\"],[0.1111111111111111,\"#46039f\"],[0.2222222222222222,\"#7201a8\"],[0.3333333333333333,\"#9c179e\"],[0.4444444444444444,\"#bd3786\"],[0.5555555555555556,\"#d8576b\"],[0.6666666666666666,\"#ed7953\"],[0.7777777777777778,\"#fb9f3a\"],[0.8888888888888888,\"#fdca26\"],[1.0,\"#f0f921\"]],\"type\":\"histogram2dcontour\"}],\"histogram2d\":[{\"colorbar\":{\"outlinewidth\":0,\"ticks\":\"\"},\"colorscale\":[[0.0,\"#0d0887\"],[0.1111111111111111,\"#46039f\"],[0.2222222222222222,\"#7201a8\"],[0.3333333333333333,\"#9c179e\"],[0.4444444444444444,\"#bd3786\"],[0.5555555555555556,\"#d8576b\"],[0.6666666666666666,\"#ed7953\"],[0.7777777777777778,\"#fb9f3a\"],[0.8888888888888888,\"#fdca26\"],[1.0,\"#f0f921\"]],\"type\":\"histogram2d\"}],\"histogram\":[{\"marker\":{\"pattern\":{\"fillmode\":\"overlay\",\"size\":10,\"solidity\":0.2}},\"type\":\"histogram\"}],\"mesh3d\":[{\"colorbar\":{\"outlinewidth\":0,\"ticks\":\"\"},\"type\":\"mesh3d\"}],\"parcoords\":[{\"line\":{\"colorbar\":{\"outlinewidth\":0,\"ticks\":\"\"}},\"type\":\"parcoords\"}],\"pie\":[{\"automargin\":true,\"type\":\"pie\"}],\"scatter3d\":[{\"line\":{\"colorbar\":{\"outlinewidth\":0,\"ticks\":\"\"}},\"marker\":{\"colorbar\":{\"outlinewidth\":0,\"ticks\":\"\"}},\"type\":\"scatter3d\"}],\"scattercarpet\":[{\"marker\":{\"colorbar\":{\"outlinewidth\":0,\"ticks\":\"\"}},\"type\":\"scattercarpet\"}],\"scattergeo\":[{\"marker\":{\"colorbar\":{\"outlinewidth\":0,\"ticks\":\"\"}},\"type\":\"scattergeo\"}],\"scattergl\":[{\"marker\":{\"colorbar\":{\"outlinewidth\":0,\"ticks\":\"\"}},\"type\":\"scattergl\"}],\"scattermapbox\":[{\"marker\":{\"colorbar\":{\"outlinewidth\":0,\"ticks\":\"\"}},\"type\":\"scattermapbox\"}],\"scatterpolargl\":[{\"marker\":{\"colorbar\":{\"outlinewidth\":0,\"ticks\":\"\"}},\"type\":\"scatterpolargl\"}],\"scatterpolar\":[{\"marker\":{\"colorbar\":{\"outlinewidth\":0,\"ticks\":\"\"}},\"type\":\"scatterpolar\"}],\"scatter\":[{\"fillpattern\":{\"fillmode\":\"overlay\",\"size\":10,\"solidity\":0.2},\"type\":\"scatter\"}],\"scatterternary\":[{\"marker\":{\"colorbar\":{\"outlinewidth\":0,\"ticks\":\"\"}},\"type\":\"scatterternary\"}],\"surface\":[{\"colorbar\":{\"outlinewidth\":0,\"ticks\":\"\"},\"colorscale\":[[0.0,\"#0d0887\"],[0.1111111111111111,\"#46039f\"],[0.2222222222222222,\"#7201a8\"],[0.3333333333333333,\"#9c179e\"],[0.4444444444444444,\"#bd3786\"],[0.5555555555555556,\"#d8576b\"],[0.6666666666666666,\"#ed7953\"],[0.7777777777777778,\"#fb9f3a\"],[0.8888888888888888,\"#fdca26\"],[1.0,\"#f0f921\"]],\"type\":\"surface\"}],\"table\":[{\"cells\":{\"fill\":{\"color\":\"#EBF0F8\"},\"line\":{\"color\":\"white\"}},\"header\":{\"fill\":{\"color\":\"#C8D4E3\"},\"line\":{\"color\":\"white\"}},\"type\":\"table\"}]},\"layout\":{\"annotationdefaults\":{\"arrowcolor\":\"#2a3f5f\",\"arrowhead\":0,\"arrowwidth\":1},\"autotypenumbers\":\"strict\",\"coloraxis\":{\"colorbar\":{\"outlinewidth\":0,\"ticks\":\"\"}},\"colorscale\":{\"diverging\":[[0,\"#8e0152\"],[0.1,\"#c51b7d\"],[0.2,\"#de77ae\"],[0.3,\"#f1b6da\"],[0.4,\"#fde0ef\"],[0.5,\"#f7f7f7\"],[0.6,\"#e6f5d0\"],[0.7,\"#b8e186\"],[0.8,\"#7fbc41\"],[0.9,\"#4d9221\"],[1,\"#276419\"]],\"sequential\":[[0.0,\"#0d0887\"],[0.1111111111111111,\"#46039f\"],[0.2222222222222222,\"#7201a8\"],[0.3333333333333333,\"#9c179e\"],[0.4444444444444444,\"#bd3786\"],[0.5555555555555556,\"#d8576b\"],[0.6666666666666666,\"#ed7953\"],[0.7777777777777778,\"#fb9f3a\"],[0.8888888888888888,\"#fdca26\"],[1.0,\"#f0f921\"]],\"sequentialminus\":[[0.0,\"#0d0887\"],[0.1111111111111111,\"#46039f\"],[0.2222222222222222,\"#7201a8\"],[0.3333333333333333,\"#9c179e\"],[0.4444444444444444,\"#bd3786\"],[0.5555555555555556,\"#d8576b\"],[0.6666666666666666,\"#ed7953\"],[0.7777777777777778,\"#fb9f3a\"],[0.8888888888888888,\"#fdca26\"],[1.0,\"#f0f921\"]]},\"colorway\":[\"#636efa\",\"#EF553B\",\"#00cc96\",\"#ab63fa\",\"#FFA15A\",\"#19d3f3\",\"#FF6692\",\"#B6E880\",\"#FF97FF\",\"#FECB52\"],\"font\":{\"color\":\"#2a3f5f\"},\"geo\":{\"bgcolor\":\"white\",\"lakecolor\":\"white\",\"landcolor\":\"#E5ECF6\",\"showlakes\":true,\"showland\":true,\"subunitcolor\":\"white\"},\"hoverlabel\":{\"align\":\"left\"},\"hovermode\":\"closest\",\"mapbox\":{\"style\":\"light\"},\"paper_bgcolor\":\"white\",\"plot_bgcolor\":\"#E5ECF6\",\"polar\":{\"angularaxis\":{\"gridcolor\":\"white\",\"linecolor\":\"white\",\"ticks\":\"\"},\"bgcolor\":\"#E5ECF6\",\"radialaxis\":{\"gridcolor\":\"white\",\"linecolor\":\"white\",\"ticks\":\"\"}},\"scene\":{\"xaxis\":{\"backgroundcolor\":\"#E5ECF6\",\"gridcolor\":\"white\",\"gridwidth\":2,\"linecolor\":\"white\",\"showbackground\":true,\"ticks\":\"\",\"zerolinecolor\":\"white\"},\"yaxis\":{\"backgroundcolor\":\"#E5ECF6\",\"gridcolor\":\"white\",\"gridwidth\":2,\"linecolor\":\"white\",\"showbackground\":true,\"ticks\":\"\",\"zerolinecolor\":\"white\"},\"zaxis\":{\"backgroundcolor\":\"#E5ECF6\",\"gridcolor\":\"white\",\"gridwidth\":2,\"linecolor\":\"white\",\"showbackground\":true,\"ticks\":\"\",\"zerolinecolor\":\"white\"}},\"shapedefaults\":{\"line\":{\"color\":\"#2a3f5f\"}},\"ternary\":{\"aaxis\":{\"gridcolor\":\"white\",\"linecolor\":\"white\",\"ticks\":\"\"},\"baxis\":{\"gridcolor\":\"white\",\"linecolor\":\"white\",\"ticks\":\"\"},\"bgcolor\":\"#E5ECF6\",\"caxis\":{\"gridcolor\":\"white\",\"linecolor\":\"white\",\"ticks\":\"\"}},\"title\":{\"x\":0.05},\"xaxis\":{\"automargin\":true,\"gridcolor\":\"white\",\"linecolor\":\"white\",\"ticks\":\"\",\"title\":{\"standoff\":15},\"zerolinecolor\":\"white\",\"zerolinewidth\":2},\"yaxis\":{\"automargin\":true,\"gridcolor\":\"white\",\"linecolor\":\"white\",\"ticks\":\"\",\"title\":{\"standoff\":15},\"zerolinecolor\":\"white\",\"zerolinewidth\":2}}},\"title\":{\"text\":\"Doanh Thu Theo Nh\\u00f3m H\\u00e0ng Ng\\u00e0y 3/6/2022\"},\"yaxis\":{\"title\":{\"text\":\"Doanh Thu\"}}},                        {\"responsive\": true}                    ).then(function(){\n",
       "                            \n",
       "var gd = document.getElementById('38342d01-73ef-4600-a276-aa99cda48893');\n",
       "var x = new MutationObserver(function (mutations, observer) {{\n",
       "        var display = window.getComputedStyle(gd).display;\n",
       "        if (!display || display === 'none') {{\n",
       "            console.log([gd, 'removed!']);\n",
       "            Plotly.purge(gd);\n",
       "            observer.disconnect();\n",
       "        }}\n",
       "}});\n",
       "\n",
       "// Listen for the removal of the full notebook cells\n",
       "var notebookContainer = gd.closest('#notebook-container');\n",
       "if (notebookContainer) {{\n",
       "    x.observe(notebookContainer, {childList: true});\n",
       "}}\n",
       "\n",
       "// Listen for the clearing of the current output cell\n",
       "var outputEl = gd.closest('.output');\n",
       "if (outputEl) {{\n",
       "    x.observe(outputEl, {childList: true});\n",
       "}}\n",
       "\n",
       "                        })                };                });            </script>        </div>"
      ]
     },
     "metadata": {},
     "output_type": "display_data"
    },
    {
     "data": {
      "application/vnd.plotly.v1+json": {
       "config": {
        "linkText": "Export to plot.ly",
        "plotlyServerURL": "https://plot.ly",
        "showLink": false
       },
       "data": [
        {
         "marker": {
          "color": "green",
          "colorscale": [
           [
            0,
            "rgb(0,0,131)"
           ],
           [
            0.2,
            "rgb(0,60,170)"
           ],
           [
            0.4,
            "rgb(5,255,255)"
           ],
           [
            0.6,
            "rgb(255,255,0)"
           ],
           [
            0.8,
            "rgb(250,0,0)"
           ],
           [
            1,
            "rgb(128,0,0)"
           ]
          ]
         },
         "name": "course",
         "type": "bar",
         "x": [
          "4964 - Giày nam",
          "4965 - Giày nữ",
          "4966 - Giày unisex",
          "4981 - Dép Unisex"
         ],
         "y": [
          216646000,
          120012000,
          66955000,
          2426000
         ]
        }
       ],
       "layout": {
        "template": {
         "data": {
          "bar": [
           {
            "error_x": {
             "color": "#2a3f5f"
            },
            "error_y": {
             "color": "#2a3f5f"
            },
            "marker": {
             "line": {
              "color": "#E5ECF6",
              "width": 0.5
             },
             "pattern": {
              "fillmode": "overlay",
              "size": 10,
              "solidity": 0.2
             }
            },
            "type": "bar"
           }
          ],
          "barpolar": [
           {
            "marker": {
             "line": {
              "color": "#E5ECF6",
              "width": 0.5
             },
             "pattern": {
              "fillmode": "overlay",
              "size": 10,
              "solidity": 0.2
             }
            },
            "type": "barpolar"
           }
          ],
          "carpet": [
           {
            "aaxis": {
             "endlinecolor": "#2a3f5f",
             "gridcolor": "white",
             "linecolor": "white",
             "minorgridcolor": "white",
             "startlinecolor": "#2a3f5f"
            },
            "baxis": {
             "endlinecolor": "#2a3f5f",
             "gridcolor": "white",
             "linecolor": "white",
             "minorgridcolor": "white",
             "startlinecolor": "#2a3f5f"
            },
            "type": "carpet"
           }
          ],
          "choropleth": [
           {
            "colorbar": {
             "outlinewidth": 0,
             "ticks": ""
            },
            "type": "choropleth"
           }
          ],
          "contour": [
           {
            "colorbar": {
             "outlinewidth": 0,
             "ticks": ""
            },
            "colorscale": [
             [
              0,
              "#0d0887"
             ],
             [
              0.1111111111111111,
              "#46039f"
             ],
             [
              0.2222222222222222,
              "#7201a8"
             ],
             [
              0.3333333333333333,
              "#9c179e"
             ],
             [
              0.4444444444444444,
              "#bd3786"
             ],
             [
              0.5555555555555556,
              "#d8576b"
             ],
             [
              0.6666666666666666,
              "#ed7953"
             ],
             [
              0.7777777777777778,
              "#fb9f3a"
             ],
             [
              0.8888888888888888,
              "#fdca26"
             ],
             [
              1,
              "#f0f921"
             ]
            ],
            "type": "contour"
           }
          ],
          "contourcarpet": [
           {
            "colorbar": {
             "outlinewidth": 0,
             "ticks": ""
            },
            "type": "contourcarpet"
           }
          ],
          "heatmap": [
           {
            "colorbar": {
             "outlinewidth": 0,
             "ticks": ""
            },
            "colorscale": [
             [
              0,
              "#0d0887"
             ],
             [
              0.1111111111111111,
              "#46039f"
             ],
             [
              0.2222222222222222,
              "#7201a8"
             ],
             [
              0.3333333333333333,
              "#9c179e"
             ],
             [
              0.4444444444444444,
              "#bd3786"
             ],
             [
              0.5555555555555556,
              "#d8576b"
             ],
             [
              0.6666666666666666,
              "#ed7953"
             ],
             [
              0.7777777777777778,
              "#fb9f3a"
             ],
             [
              0.8888888888888888,
              "#fdca26"
             ],
             [
              1,
              "#f0f921"
             ]
            ],
            "type": "heatmap"
           }
          ],
          "heatmapgl": [
           {
            "colorbar": {
             "outlinewidth": 0,
             "ticks": ""
            },
            "colorscale": [
             [
              0,
              "#0d0887"
             ],
             [
              0.1111111111111111,
              "#46039f"
             ],
             [
              0.2222222222222222,
              "#7201a8"
             ],
             [
              0.3333333333333333,
              "#9c179e"
             ],
             [
              0.4444444444444444,
              "#bd3786"
             ],
             [
              0.5555555555555556,
              "#d8576b"
             ],
             [
              0.6666666666666666,
              "#ed7953"
             ],
             [
              0.7777777777777778,
              "#fb9f3a"
             ],
             [
              0.8888888888888888,
              "#fdca26"
             ],
             [
              1,
              "#f0f921"
             ]
            ],
            "type": "heatmapgl"
           }
          ],
          "histogram": [
           {
            "marker": {
             "pattern": {
              "fillmode": "overlay",
              "size": 10,
              "solidity": 0.2
             }
            },
            "type": "histogram"
           }
          ],
          "histogram2d": [
           {
            "colorbar": {
             "outlinewidth": 0,
             "ticks": ""
            },
            "colorscale": [
             [
              0,
              "#0d0887"
             ],
             [
              0.1111111111111111,
              "#46039f"
             ],
             [
              0.2222222222222222,
              "#7201a8"
             ],
             [
              0.3333333333333333,
              "#9c179e"
             ],
             [
              0.4444444444444444,
              "#bd3786"
             ],
             [
              0.5555555555555556,
              "#d8576b"
             ],
             [
              0.6666666666666666,
              "#ed7953"
             ],
             [
              0.7777777777777778,
              "#fb9f3a"
             ],
             [
              0.8888888888888888,
              "#fdca26"
             ],
             [
              1,
              "#f0f921"
             ]
            ],
            "type": "histogram2d"
           }
          ],
          "histogram2dcontour": [
           {
            "colorbar": {
             "outlinewidth": 0,
             "ticks": ""
            },
            "colorscale": [
             [
              0,
              "#0d0887"
             ],
             [
              0.1111111111111111,
              "#46039f"
             ],
             [
              0.2222222222222222,
              "#7201a8"
             ],
             [
              0.3333333333333333,
              "#9c179e"
             ],
             [
              0.4444444444444444,
              "#bd3786"
             ],
             [
              0.5555555555555556,
              "#d8576b"
             ],
             [
              0.6666666666666666,
              "#ed7953"
             ],
             [
              0.7777777777777778,
              "#fb9f3a"
             ],
             [
              0.8888888888888888,
              "#fdca26"
             ],
             [
              1,
              "#f0f921"
             ]
            ],
            "type": "histogram2dcontour"
           }
          ],
          "mesh3d": [
           {
            "colorbar": {
             "outlinewidth": 0,
             "ticks": ""
            },
            "type": "mesh3d"
           }
          ],
          "parcoords": [
           {
            "line": {
             "colorbar": {
              "outlinewidth": 0,
              "ticks": ""
             }
            },
            "type": "parcoords"
           }
          ],
          "pie": [
           {
            "automargin": true,
            "type": "pie"
           }
          ],
          "scatter": [
           {
            "fillpattern": {
             "fillmode": "overlay",
             "size": 10,
             "solidity": 0.2
            },
            "type": "scatter"
           }
          ],
          "scatter3d": [
           {
            "line": {
             "colorbar": {
              "outlinewidth": 0,
              "ticks": ""
             }
            },
            "marker": {
             "colorbar": {
              "outlinewidth": 0,
              "ticks": ""
             }
            },
            "type": "scatter3d"
           }
          ],
          "scattercarpet": [
           {
            "marker": {
             "colorbar": {
              "outlinewidth": 0,
              "ticks": ""
             }
            },
            "type": "scattercarpet"
           }
          ],
          "scattergeo": [
           {
            "marker": {
             "colorbar": {
              "outlinewidth": 0,
              "ticks": ""
             }
            },
            "type": "scattergeo"
           }
          ],
          "scattergl": [
           {
            "marker": {
             "colorbar": {
              "outlinewidth": 0,
              "ticks": ""
             }
            },
            "type": "scattergl"
           }
          ],
          "scattermapbox": [
           {
            "marker": {
             "colorbar": {
              "outlinewidth": 0,
              "ticks": ""
             }
            },
            "type": "scattermapbox"
           }
          ],
          "scatterpolar": [
           {
            "marker": {
             "colorbar": {
              "outlinewidth": 0,
              "ticks": ""
             }
            },
            "type": "scatterpolar"
           }
          ],
          "scatterpolargl": [
           {
            "marker": {
             "colorbar": {
              "outlinewidth": 0,
              "ticks": ""
             }
            },
            "type": "scatterpolargl"
           }
          ],
          "scatterternary": [
           {
            "marker": {
             "colorbar": {
              "outlinewidth": 0,
              "ticks": ""
             }
            },
            "type": "scatterternary"
           }
          ],
          "surface": [
           {
            "colorbar": {
             "outlinewidth": 0,
             "ticks": ""
            },
            "colorscale": [
             [
              0,
              "#0d0887"
             ],
             [
              0.1111111111111111,
              "#46039f"
             ],
             [
              0.2222222222222222,
              "#7201a8"
             ],
             [
              0.3333333333333333,
              "#9c179e"
             ],
             [
              0.4444444444444444,
              "#bd3786"
             ],
             [
              0.5555555555555556,
              "#d8576b"
             ],
             [
              0.6666666666666666,
              "#ed7953"
             ],
             [
              0.7777777777777778,
              "#fb9f3a"
             ],
             [
              0.8888888888888888,
              "#fdca26"
             ],
             [
              1,
              "#f0f921"
             ]
            ],
            "type": "surface"
           }
          ],
          "table": [
           {
            "cells": {
             "fill": {
              "color": "#EBF0F8"
             },
             "line": {
              "color": "white"
             }
            },
            "header": {
             "fill": {
              "color": "#C8D4E3"
             },
             "line": {
              "color": "white"
             }
            },
            "type": "table"
           }
          ]
         },
         "layout": {
          "annotationdefaults": {
           "arrowcolor": "#2a3f5f",
           "arrowhead": 0,
           "arrowwidth": 1
          },
          "autotypenumbers": "strict",
          "coloraxis": {
           "colorbar": {
            "outlinewidth": 0,
            "ticks": ""
           }
          },
          "colorscale": {
           "diverging": [
            [
             0,
             "#8e0152"
            ],
            [
             0.1,
             "#c51b7d"
            ],
            [
             0.2,
             "#de77ae"
            ],
            [
             0.3,
             "#f1b6da"
            ],
            [
             0.4,
             "#fde0ef"
            ],
            [
             0.5,
             "#f7f7f7"
            ],
            [
             0.6,
             "#e6f5d0"
            ],
            [
             0.7,
             "#b8e186"
            ],
            [
             0.8,
             "#7fbc41"
            ],
            [
             0.9,
             "#4d9221"
            ],
            [
             1,
             "#276419"
            ]
           ],
           "sequential": [
            [
             0,
             "#0d0887"
            ],
            [
             0.1111111111111111,
             "#46039f"
            ],
            [
             0.2222222222222222,
             "#7201a8"
            ],
            [
             0.3333333333333333,
             "#9c179e"
            ],
            [
             0.4444444444444444,
             "#bd3786"
            ],
            [
             0.5555555555555556,
             "#d8576b"
            ],
            [
             0.6666666666666666,
             "#ed7953"
            ],
            [
             0.7777777777777778,
             "#fb9f3a"
            ],
            [
             0.8888888888888888,
             "#fdca26"
            ],
            [
             1,
             "#f0f921"
            ]
           ],
           "sequentialminus": [
            [
             0,
             "#0d0887"
            ],
            [
             0.1111111111111111,
             "#46039f"
            ],
            [
             0.2222222222222222,
             "#7201a8"
            ],
            [
             0.3333333333333333,
             "#9c179e"
            ],
            [
             0.4444444444444444,
             "#bd3786"
            ],
            [
             0.5555555555555556,
             "#d8576b"
            ],
            [
             0.6666666666666666,
             "#ed7953"
            ],
            [
             0.7777777777777778,
             "#fb9f3a"
            ],
            [
             0.8888888888888888,
             "#fdca26"
            ],
            [
             1,
             "#f0f921"
            ]
           ]
          },
          "colorway": [
           "#636efa",
           "#EF553B",
           "#00cc96",
           "#ab63fa",
           "#FFA15A",
           "#19d3f3",
           "#FF6692",
           "#B6E880",
           "#FF97FF",
           "#FECB52"
          ],
          "font": {
           "color": "#2a3f5f"
          },
          "geo": {
           "bgcolor": "white",
           "lakecolor": "white",
           "landcolor": "#E5ECF6",
           "showlakes": true,
           "showland": true,
           "subunitcolor": "white"
          },
          "hoverlabel": {
           "align": "left"
          },
          "hovermode": "closest",
          "mapbox": {
           "style": "light"
          },
          "paper_bgcolor": "white",
          "plot_bgcolor": "#E5ECF6",
          "polar": {
           "angularaxis": {
            "gridcolor": "white",
            "linecolor": "white",
            "ticks": ""
           },
           "bgcolor": "#E5ECF6",
           "radialaxis": {
            "gridcolor": "white",
            "linecolor": "white",
            "ticks": ""
           }
          },
          "scene": {
           "xaxis": {
            "backgroundcolor": "#E5ECF6",
            "gridcolor": "white",
            "gridwidth": 2,
            "linecolor": "white",
            "showbackground": true,
            "ticks": "",
            "zerolinecolor": "white"
           },
           "yaxis": {
            "backgroundcolor": "#E5ECF6",
            "gridcolor": "white",
            "gridwidth": 2,
            "linecolor": "white",
            "showbackground": true,
            "ticks": "",
            "zerolinecolor": "white"
           },
           "zaxis": {
            "backgroundcolor": "#E5ECF6",
            "gridcolor": "white",
            "gridwidth": 2,
            "linecolor": "white",
            "showbackground": true,
            "ticks": "",
            "zerolinecolor": "white"
           }
          },
          "shapedefaults": {
           "line": {
            "color": "#2a3f5f"
           }
          },
          "ternary": {
           "aaxis": {
            "gridcolor": "white",
            "linecolor": "white",
            "ticks": ""
           },
           "baxis": {
            "gridcolor": "white",
            "linecolor": "white",
            "ticks": ""
           },
           "bgcolor": "#E5ECF6",
           "caxis": {
            "gridcolor": "white",
            "linecolor": "white",
            "ticks": ""
           }
          },
          "title": {
           "x": 0.05
          },
          "xaxis": {
           "automargin": true,
           "gridcolor": "white",
           "linecolor": "white",
           "ticks": "",
           "title": {
            "standoff": 15
           },
           "zerolinecolor": "white",
           "zerolinewidth": 2
          },
          "yaxis": {
           "automargin": true,
           "gridcolor": "white",
           "linecolor": "white",
           "ticks": "",
           "title": {
            "standoff": 15
           },
           "zerolinecolor": "white",
           "zerolinewidth": 2
          }
         }
        },
        "title": {
         "text": "Doanh Thu Theo Nhóm Hàng Ngày 4/6/2022"
        },
        "yaxis": {
         "title": {
          "text": "Doanh Thu"
         }
        }
       }
      },
      "text/html": [
       "<div>                            <div id=\"2ea878ae-59c8-4590-91ce-6d8337352fe1\" class=\"plotly-graph-div\" style=\"height:525px; width:100%;\"></div>            <script type=\"text/javascript\">                require([\"plotly\"], function(Plotly) {                    window.PLOTLYENV=window.PLOTLYENV || {};                                    if (document.getElementById(\"2ea878ae-59c8-4590-91ce-6d8337352fe1\")) {                    Plotly.newPlot(                        \"2ea878ae-59c8-4590-91ce-6d8337352fe1\",                        [{\"marker\":{\"color\":\"green\",\"colorscale\":[[0.0,\"rgb(0,0,131)\"],[0.2,\"rgb(0,60,170)\"],[0.4,\"rgb(5,255,255)\"],[0.6,\"rgb(255,255,0)\"],[0.8,\"rgb(250,0,0)\"],[1.0,\"rgb(128,0,0)\"]]},\"name\":\"course\",\"x\":[\"4964 - Gi\\u00e0y nam\",\"4965 - Gi\\u00e0y n\\u1eef\",\"4966 - Gi\\u00e0y unisex\",\"4981 - D\\u00e9p Unisex\"],\"y\":[216646000,120012000,66955000,2426000],\"type\":\"bar\"}],                        {\"template\":{\"data\":{\"barpolar\":[{\"marker\":{\"line\":{\"color\":\"#E5ECF6\",\"width\":0.5},\"pattern\":{\"fillmode\":\"overlay\",\"size\":10,\"solidity\":0.2}},\"type\":\"barpolar\"}],\"bar\":[{\"error_x\":{\"color\":\"#2a3f5f\"},\"error_y\":{\"color\":\"#2a3f5f\"},\"marker\":{\"line\":{\"color\":\"#E5ECF6\",\"width\":0.5},\"pattern\":{\"fillmode\":\"overlay\",\"size\":10,\"solidity\":0.2}},\"type\":\"bar\"}],\"carpet\":[{\"aaxis\":{\"endlinecolor\":\"#2a3f5f\",\"gridcolor\":\"white\",\"linecolor\":\"white\",\"minorgridcolor\":\"white\",\"startlinecolor\":\"#2a3f5f\"},\"baxis\":{\"endlinecolor\":\"#2a3f5f\",\"gridcolor\":\"white\",\"linecolor\":\"white\",\"minorgridcolor\":\"white\",\"startlinecolor\":\"#2a3f5f\"},\"type\":\"carpet\"}],\"choropleth\":[{\"colorbar\":{\"outlinewidth\":0,\"ticks\":\"\"},\"type\":\"choropleth\"}],\"contourcarpet\":[{\"colorbar\":{\"outlinewidth\":0,\"ticks\":\"\"},\"type\":\"contourcarpet\"}],\"contour\":[{\"colorbar\":{\"outlinewidth\":0,\"ticks\":\"\"},\"colorscale\":[[0.0,\"#0d0887\"],[0.1111111111111111,\"#46039f\"],[0.2222222222222222,\"#7201a8\"],[0.3333333333333333,\"#9c179e\"],[0.4444444444444444,\"#bd3786\"],[0.5555555555555556,\"#d8576b\"],[0.6666666666666666,\"#ed7953\"],[0.7777777777777778,\"#fb9f3a\"],[0.8888888888888888,\"#fdca26\"],[1.0,\"#f0f921\"]],\"type\":\"contour\"}],\"heatmapgl\":[{\"colorbar\":{\"outlinewidth\":0,\"ticks\":\"\"},\"colorscale\":[[0.0,\"#0d0887\"],[0.1111111111111111,\"#46039f\"],[0.2222222222222222,\"#7201a8\"],[0.3333333333333333,\"#9c179e\"],[0.4444444444444444,\"#bd3786\"],[0.5555555555555556,\"#d8576b\"],[0.6666666666666666,\"#ed7953\"],[0.7777777777777778,\"#fb9f3a\"],[0.8888888888888888,\"#fdca26\"],[1.0,\"#f0f921\"]],\"type\":\"heatmapgl\"}],\"heatmap\":[{\"colorbar\":{\"outlinewidth\":0,\"ticks\":\"\"},\"colorscale\":[[0.0,\"#0d0887\"],[0.1111111111111111,\"#46039f\"],[0.2222222222222222,\"#7201a8\"],[0.3333333333333333,\"#9c179e\"],[0.4444444444444444,\"#bd3786\"],[0.5555555555555556,\"#d8576b\"],[0.6666666666666666,\"#ed7953\"],[0.7777777777777778,\"#fb9f3a\"],[0.8888888888888888,\"#fdca26\"],[1.0,\"#f0f921\"]],\"type\":\"heatmap\"}],\"histogram2dcontour\":[{\"colorbar\":{\"outlinewidth\":0,\"ticks\":\"\"},\"colorscale\":[[0.0,\"#0d0887\"],[0.1111111111111111,\"#46039f\"],[0.2222222222222222,\"#7201a8\"],[0.3333333333333333,\"#9c179e\"],[0.4444444444444444,\"#bd3786\"],[0.5555555555555556,\"#d8576b\"],[0.6666666666666666,\"#ed7953\"],[0.7777777777777778,\"#fb9f3a\"],[0.8888888888888888,\"#fdca26\"],[1.0,\"#f0f921\"]],\"type\":\"histogram2dcontour\"}],\"histogram2d\":[{\"colorbar\":{\"outlinewidth\":0,\"ticks\":\"\"},\"colorscale\":[[0.0,\"#0d0887\"],[0.1111111111111111,\"#46039f\"],[0.2222222222222222,\"#7201a8\"],[0.3333333333333333,\"#9c179e\"],[0.4444444444444444,\"#bd3786\"],[0.5555555555555556,\"#d8576b\"],[0.6666666666666666,\"#ed7953\"],[0.7777777777777778,\"#fb9f3a\"],[0.8888888888888888,\"#fdca26\"],[1.0,\"#f0f921\"]],\"type\":\"histogram2d\"}],\"histogram\":[{\"marker\":{\"pattern\":{\"fillmode\":\"overlay\",\"size\":10,\"solidity\":0.2}},\"type\":\"histogram\"}],\"mesh3d\":[{\"colorbar\":{\"outlinewidth\":0,\"ticks\":\"\"},\"type\":\"mesh3d\"}],\"parcoords\":[{\"line\":{\"colorbar\":{\"outlinewidth\":0,\"ticks\":\"\"}},\"type\":\"parcoords\"}],\"pie\":[{\"automargin\":true,\"type\":\"pie\"}],\"scatter3d\":[{\"line\":{\"colorbar\":{\"outlinewidth\":0,\"ticks\":\"\"}},\"marker\":{\"colorbar\":{\"outlinewidth\":0,\"ticks\":\"\"}},\"type\":\"scatter3d\"}],\"scattercarpet\":[{\"marker\":{\"colorbar\":{\"outlinewidth\":0,\"ticks\":\"\"}},\"type\":\"scattercarpet\"}],\"scattergeo\":[{\"marker\":{\"colorbar\":{\"outlinewidth\":0,\"ticks\":\"\"}},\"type\":\"scattergeo\"}],\"scattergl\":[{\"marker\":{\"colorbar\":{\"outlinewidth\":0,\"ticks\":\"\"}},\"type\":\"scattergl\"}],\"scattermapbox\":[{\"marker\":{\"colorbar\":{\"outlinewidth\":0,\"ticks\":\"\"}},\"type\":\"scattermapbox\"}],\"scatterpolargl\":[{\"marker\":{\"colorbar\":{\"outlinewidth\":0,\"ticks\":\"\"}},\"type\":\"scatterpolargl\"}],\"scatterpolar\":[{\"marker\":{\"colorbar\":{\"outlinewidth\":0,\"ticks\":\"\"}},\"type\":\"scatterpolar\"}],\"scatter\":[{\"fillpattern\":{\"fillmode\":\"overlay\",\"size\":10,\"solidity\":0.2},\"type\":\"scatter\"}],\"scatterternary\":[{\"marker\":{\"colorbar\":{\"outlinewidth\":0,\"ticks\":\"\"}},\"type\":\"scatterternary\"}],\"surface\":[{\"colorbar\":{\"outlinewidth\":0,\"ticks\":\"\"},\"colorscale\":[[0.0,\"#0d0887\"],[0.1111111111111111,\"#46039f\"],[0.2222222222222222,\"#7201a8\"],[0.3333333333333333,\"#9c179e\"],[0.4444444444444444,\"#bd3786\"],[0.5555555555555556,\"#d8576b\"],[0.6666666666666666,\"#ed7953\"],[0.7777777777777778,\"#fb9f3a\"],[0.8888888888888888,\"#fdca26\"],[1.0,\"#f0f921\"]],\"type\":\"surface\"}],\"table\":[{\"cells\":{\"fill\":{\"color\":\"#EBF0F8\"},\"line\":{\"color\":\"white\"}},\"header\":{\"fill\":{\"color\":\"#C8D4E3\"},\"line\":{\"color\":\"white\"}},\"type\":\"table\"}]},\"layout\":{\"annotationdefaults\":{\"arrowcolor\":\"#2a3f5f\",\"arrowhead\":0,\"arrowwidth\":1},\"autotypenumbers\":\"strict\",\"coloraxis\":{\"colorbar\":{\"outlinewidth\":0,\"ticks\":\"\"}},\"colorscale\":{\"diverging\":[[0,\"#8e0152\"],[0.1,\"#c51b7d\"],[0.2,\"#de77ae\"],[0.3,\"#f1b6da\"],[0.4,\"#fde0ef\"],[0.5,\"#f7f7f7\"],[0.6,\"#e6f5d0\"],[0.7,\"#b8e186\"],[0.8,\"#7fbc41\"],[0.9,\"#4d9221\"],[1,\"#276419\"]],\"sequential\":[[0.0,\"#0d0887\"],[0.1111111111111111,\"#46039f\"],[0.2222222222222222,\"#7201a8\"],[0.3333333333333333,\"#9c179e\"],[0.4444444444444444,\"#bd3786\"],[0.5555555555555556,\"#d8576b\"],[0.6666666666666666,\"#ed7953\"],[0.7777777777777778,\"#fb9f3a\"],[0.8888888888888888,\"#fdca26\"],[1.0,\"#f0f921\"]],\"sequentialminus\":[[0.0,\"#0d0887\"],[0.1111111111111111,\"#46039f\"],[0.2222222222222222,\"#7201a8\"],[0.3333333333333333,\"#9c179e\"],[0.4444444444444444,\"#bd3786\"],[0.5555555555555556,\"#d8576b\"],[0.6666666666666666,\"#ed7953\"],[0.7777777777777778,\"#fb9f3a\"],[0.8888888888888888,\"#fdca26\"],[1.0,\"#f0f921\"]]},\"colorway\":[\"#636efa\",\"#EF553B\",\"#00cc96\",\"#ab63fa\",\"#FFA15A\",\"#19d3f3\",\"#FF6692\",\"#B6E880\",\"#FF97FF\",\"#FECB52\"],\"font\":{\"color\":\"#2a3f5f\"},\"geo\":{\"bgcolor\":\"white\",\"lakecolor\":\"white\",\"landcolor\":\"#E5ECF6\",\"showlakes\":true,\"showland\":true,\"subunitcolor\":\"white\"},\"hoverlabel\":{\"align\":\"left\"},\"hovermode\":\"closest\",\"mapbox\":{\"style\":\"light\"},\"paper_bgcolor\":\"white\",\"plot_bgcolor\":\"#E5ECF6\",\"polar\":{\"angularaxis\":{\"gridcolor\":\"white\",\"linecolor\":\"white\",\"ticks\":\"\"},\"bgcolor\":\"#E5ECF6\",\"radialaxis\":{\"gridcolor\":\"white\",\"linecolor\":\"white\",\"ticks\":\"\"}},\"scene\":{\"xaxis\":{\"backgroundcolor\":\"#E5ECF6\",\"gridcolor\":\"white\",\"gridwidth\":2,\"linecolor\":\"white\",\"showbackground\":true,\"ticks\":\"\",\"zerolinecolor\":\"white\"},\"yaxis\":{\"backgroundcolor\":\"#E5ECF6\",\"gridcolor\":\"white\",\"gridwidth\":2,\"linecolor\":\"white\",\"showbackground\":true,\"ticks\":\"\",\"zerolinecolor\":\"white\"},\"zaxis\":{\"backgroundcolor\":\"#E5ECF6\",\"gridcolor\":\"white\",\"gridwidth\":2,\"linecolor\":\"white\",\"showbackground\":true,\"ticks\":\"\",\"zerolinecolor\":\"white\"}},\"shapedefaults\":{\"line\":{\"color\":\"#2a3f5f\"}},\"ternary\":{\"aaxis\":{\"gridcolor\":\"white\",\"linecolor\":\"white\",\"ticks\":\"\"},\"baxis\":{\"gridcolor\":\"white\",\"linecolor\":\"white\",\"ticks\":\"\"},\"bgcolor\":\"#E5ECF6\",\"caxis\":{\"gridcolor\":\"white\",\"linecolor\":\"white\",\"ticks\":\"\"}},\"title\":{\"x\":0.05},\"xaxis\":{\"automargin\":true,\"gridcolor\":\"white\",\"linecolor\":\"white\",\"ticks\":\"\",\"title\":{\"standoff\":15},\"zerolinecolor\":\"white\",\"zerolinewidth\":2},\"yaxis\":{\"automargin\":true,\"gridcolor\":\"white\",\"linecolor\":\"white\",\"ticks\":\"\",\"title\":{\"standoff\":15},\"zerolinecolor\":\"white\",\"zerolinewidth\":2}}},\"title\":{\"text\":\"Doanh Thu Theo Nh\\u00f3m H\\u00e0ng Ng\\u00e0y 4/6/2022\"},\"yaxis\":{\"title\":{\"text\":\"Doanh Thu\"}}},                        {\"responsive\": true}                    ).then(function(){\n",
       "                            \n",
       "var gd = document.getElementById('2ea878ae-59c8-4590-91ce-6d8337352fe1');\n",
       "var x = new MutationObserver(function (mutations, observer) {{\n",
       "        var display = window.getComputedStyle(gd).display;\n",
       "        if (!display || display === 'none') {{\n",
       "            console.log([gd, 'removed!']);\n",
       "            Plotly.purge(gd);\n",
       "            observer.disconnect();\n",
       "        }}\n",
       "}});\n",
       "\n",
       "// Listen for the removal of the full notebook cells\n",
       "var notebookContainer = gd.closest('#notebook-container');\n",
       "if (notebookContainer) {{\n",
       "    x.observe(notebookContainer, {childList: true});\n",
       "}}\n",
       "\n",
       "// Listen for the clearing of the current output cell\n",
       "var outputEl = gd.closest('.output');\n",
       "if (outputEl) {{\n",
       "    x.observe(outputEl, {childList: true});\n",
       "}}\n",
       "\n",
       "                        })                };                });            </script>        </div>"
      ]
     },
     "metadata": {},
     "output_type": "display_data"
    }
   ],
   "source": [
    "trace = go.Bar(\n",
    "    x=a['Đã thu'].groupby(a['Nhóm hàng']).sum().index,\n",
    "    y=a['Đã thu'].groupby(a['Nhóm hàng']).sum().values,\n",
    "    name='course',\n",
    "    marker=dict(\n",
    "        color='red',\n",
    "        colorscale = \"Jet\"))\n",
    "data = [trace]\n",
    "layout = go.Layout(\n",
    "    title='Doanh Thu Theo Nhóm Hàng Ngày 2/6/2022', \n",
    "    yaxis = dict(title = 'Doanh Thu')\n",
    ")\n",
    "\n",
    "fig = go.Figure(data=data, layout=layout)\n",
    "py.iplot(fig)\n",
    "\n",
    "trace1 = go.Bar(\n",
    "    x=b['Đã thu'].groupby(b['Nhóm hàng']).sum().index,\n",
    "    y=b['Đã thu'].groupby(b['Nhóm hàng']).sum().values,\n",
    "    name='course',\n",
    "    marker=dict(\n",
    "        color='blue',\n",
    "        colorscale = \"Jet\"))\n",
    "data1 = [trace1]\n",
    "layout1 = go.Layout(\n",
    "    title='Doanh Thu Theo Nhóm Hàng Ngày 3/6/2022', \n",
    "    yaxis = dict(title = 'Doanh Thu')\n",
    ")\n",
    "\n",
    "fig1 = go.Figure(data=data1, layout=layout1)\n",
    "py.iplot(fig1)\n",
    "\n",
    "\n",
    "trace2 = go.Bar(\n",
    "    x=c['Đã thu'].groupby(c['Nhóm hàng']).sum().index,\n",
    "    y=c['Đã thu'].groupby(c['Nhóm hàng']).sum().values,\n",
    "    name='course',\n",
    "    marker=dict(\n",
    "        color='green',\n",
    "        colorscale = \"Jet\"))\n",
    "data2 = [trace2]\n",
    "layout2 = go.Layout(\n",
    "    title='Doanh Thu Theo Nhóm Hàng Ngày 4/6/2022', \n",
    "    yaxis = dict(title = 'Doanh Thu')\n",
    ")\n",
    "\n",
    "fig2 = go.Figure(data=data2, layout=layout2)\n",
    "py.iplot(fig2)"
   ]
  },
  {
   "cell_type": "code",
   "execution_count": 43,
   "metadata": {},
   "outputs": [
    {
     "data": {
      "text/plain": [
       "Mã đơn hàng                     object\n",
       "Hình thức xuất                  object\n",
       "Ngày tạo                datetime64[ns]\n",
       "Tên khách hàng                  object\n",
       "Phải thu                         int64\n",
       "Đã thu                           int64\n",
       "Trạng thái xuất                 object\n",
       "Trạng thái giao hàng            object\n",
       "Trạng thái hủy                  object\n",
       "Hình thức thanh toán            object\n",
       "Hình thức giao hàng             object\n",
       "Tạo từ                          object\n",
       "Thời gian hẹn giao      datetime64[ns]\n",
       "Ngày xuất hàng                  object\n",
       "Siêu thị xuất                   object\n",
       "Mã sản phẩm                   category\n",
       "Tên sản phẩm                    object\n",
       "Số lượng                         int64\n",
       "Giá bán                          int64\n",
       "Nhóm hàng                       object\n",
       "Nhà sản xuất                    object\n",
       "Trạng thái hồ sơ                object\n",
       "Thời gian thu tiền              object\n",
       "STT_1                         category\n",
       "Onlineline/Cửa Hàng             object\n",
       "Tỉnh                            object\n",
       "Nguồn Đặt Hàng                  object\n",
       "Giá gốc                          int64\n",
       "Dates                           string\n",
       "Time                            object\n",
       "dtype: object"
      ]
     },
     "execution_count": 43,
     "metadata": {},
     "output_type": "execute_result"
    }
   ],
   "source": [
    "# Quetions 10: Cho biết siêu thị có doanh thu cao nhất trong 3 ngày ?\n",
    "df.dtypes"
   ]
  },
  {
   "cell_type": "code",
   "execution_count": 44,
   "metadata": {},
   "outputs": [],
   "source": [
    "Q10 = df['Đã thu'].groupby(df['Siêu thị xuất']).sum().sort_values()"
   ]
  },
  {
   "cell_type": "code",
   "execution_count": 45,
   "metadata": {},
   "outputs": [
    {
     "data": {
      "application/vnd.plotly.v1+json": {
       "config": {
        "linkText": "Export to plot.ly",
        "plotlyServerURL": "https://plot.ly",
        "showLink": false
       },
       "data": [
        {
         "marker": {
          "color": "green",
          "colorscale": [
           [
            0,
            "rgb(0,0,131)"
           ],
           [
            0.2,
            "rgb(0,60,170)"
           ],
           [
            0.4,
            "rgb(5,255,255)"
           ],
           [
            0.6,
            "rgb(255,255,0)"
           ],
           [
            0.8,
            "rgb(250,0,0)"
           ],
           [
            1,
            "rgb(128,0,0)"
           ]
          ]
         },
         "name": "course",
         "type": "bar",
         "x": [
          "ĐMS_KGI_CTH - Giục Tượng",
          "AVS_BPH_DXO - 1050 Phú Riềng Đỏ",
          "AVS_HCM_TDU - 160A Nguyễn Thị Định",
          "AVS_HCM_TDU - 42 Trần Não",
          "AVS_HCM_BTA - 111 Nguyễn Thị Tú",
          "AVS_HCM_GVA - 527D Phan Văn Trị",
          "AVS_HCM_TDU - 255 Đỗ Xuân Hợp",
          "AVS_HCM_Q12 - 52 Nguyễn Ảnh Thủ",
          "AVS_HCM_BTH - 173 Xô Viết Nghệ Tĩnh",
          "AVS_HCM_Q08 - 496 Dương Bá Trạc",
          "AVS_HCM_BTA - 262 Lê Văn Quới"
         ],
         "y": [
          1145000,
          25787000,
          58553000,
          62530000,
          77577000,
          81196000,
          105201000,
          106286000,
          116587000,
          129364000,
          147929000
         ]
        }
       ],
       "layout": {
        "template": {
         "data": {
          "bar": [
           {
            "error_x": {
             "color": "#2a3f5f"
            },
            "error_y": {
             "color": "#2a3f5f"
            },
            "marker": {
             "line": {
              "color": "#E5ECF6",
              "width": 0.5
             },
             "pattern": {
              "fillmode": "overlay",
              "size": 10,
              "solidity": 0.2
             }
            },
            "type": "bar"
           }
          ],
          "barpolar": [
           {
            "marker": {
             "line": {
              "color": "#E5ECF6",
              "width": 0.5
             },
             "pattern": {
              "fillmode": "overlay",
              "size": 10,
              "solidity": 0.2
             }
            },
            "type": "barpolar"
           }
          ],
          "carpet": [
           {
            "aaxis": {
             "endlinecolor": "#2a3f5f",
             "gridcolor": "white",
             "linecolor": "white",
             "minorgridcolor": "white",
             "startlinecolor": "#2a3f5f"
            },
            "baxis": {
             "endlinecolor": "#2a3f5f",
             "gridcolor": "white",
             "linecolor": "white",
             "minorgridcolor": "white",
             "startlinecolor": "#2a3f5f"
            },
            "type": "carpet"
           }
          ],
          "choropleth": [
           {
            "colorbar": {
             "outlinewidth": 0,
             "ticks": ""
            },
            "type": "choropleth"
           }
          ],
          "contour": [
           {
            "colorbar": {
             "outlinewidth": 0,
             "ticks": ""
            },
            "colorscale": [
             [
              0,
              "#0d0887"
             ],
             [
              0.1111111111111111,
              "#46039f"
             ],
             [
              0.2222222222222222,
              "#7201a8"
             ],
             [
              0.3333333333333333,
              "#9c179e"
             ],
             [
              0.4444444444444444,
              "#bd3786"
             ],
             [
              0.5555555555555556,
              "#d8576b"
             ],
             [
              0.6666666666666666,
              "#ed7953"
             ],
             [
              0.7777777777777778,
              "#fb9f3a"
             ],
             [
              0.8888888888888888,
              "#fdca26"
             ],
             [
              1,
              "#f0f921"
             ]
            ],
            "type": "contour"
           }
          ],
          "contourcarpet": [
           {
            "colorbar": {
             "outlinewidth": 0,
             "ticks": ""
            },
            "type": "contourcarpet"
           }
          ],
          "heatmap": [
           {
            "colorbar": {
             "outlinewidth": 0,
             "ticks": ""
            },
            "colorscale": [
             [
              0,
              "#0d0887"
             ],
             [
              0.1111111111111111,
              "#46039f"
             ],
             [
              0.2222222222222222,
              "#7201a8"
             ],
             [
              0.3333333333333333,
              "#9c179e"
             ],
             [
              0.4444444444444444,
              "#bd3786"
             ],
             [
              0.5555555555555556,
              "#d8576b"
             ],
             [
              0.6666666666666666,
              "#ed7953"
             ],
             [
              0.7777777777777778,
              "#fb9f3a"
             ],
             [
              0.8888888888888888,
              "#fdca26"
             ],
             [
              1,
              "#f0f921"
             ]
            ],
            "type": "heatmap"
           }
          ],
          "heatmapgl": [
           {
            "colorbar": {
             "outlinewidth": 0,
             "ticks": ""
            },
            "colorscale": [
             [
              0,
              "#0d0887"
             ],
             [
              0.1111111111111111,
              "#46039f"
             ],
             [
              0.2222222222222222,
              "#7201a8"
             ],
             [
              0.3333333333333333,
              "#9c179e"
             ],
             [
              0.4444444444444444,
              "#bd3786"
             ],
             [
              0.5555555555555556,
              "#d8576b"
             ],
             [
              0.6666666666666666,
              "#ed7953"
             ],
             [
              0.7777777777777778,
              "#fb9f3a"
             ],
             [
              0.8888888888888888,
              "#fdca26"
             ],
             [
              1,
              "#f0f921"
             ]
            ],
            "type": "heatmapgl"
           }
          ],
          "histogram": [
           {
            "marker": {
             "pattern": {
              "fillmode": "overlay",
              "size": 10,
              "solidity": 0.2
             }
            },
            "type": "histogram"
           }
          ],
          "histogram2d": [
           {
            "colorbar": {
             "outlinewidth": 0,
             "ticks": ""
            },
            "colorscale": [
             [
              0,
              "#0d0887"
             ],
             [
              0.1111111111111111,
              "#46039f"
             ],
             [
              0.2222222222222222,
              "#7201a8"
             ],
             [
              0.3333333333333333,
              "#9c179e"
             ],
             [
              0.4444444444444444,
              "#bd3786"
             ],
             [
              0.5555555555555556,
              "#d8576b"
             ],
             [
              0.6666666666666666,
              "#ed7953"
             ],
             [
              0.7777777777777778,
              "#fb9f3a"
             ],
             [
              0.8888888888888888,
              "#fdca26"
             ],
             [
              1,
              "#f0f921"
             ]
            ],
            "type": "histogram2d"
           }
          ],
          "histogram2dcontour": [
           {
            "colorbar": {
             "outlinewidth": 0,
             "ticks": ""
            },
            "colorscale": [
             [
              0,
              "#0d0887"
             ],
             [
              0.1111111111111111,
              "#46039f"
             ],
             [
              0.2222222222222222,
              "#7201a8"
             ],
             [
              0.3333333333333333,
              "#9c179e"
             ],
             [
              0.4444444444444444,
              "#bd3786"
             ],
             [
              0.5555555555555556,
              "#d8576b"
             ],
             [
              0.6666666666666666,
              "#ed7953"
             ],
             [
              0.7777777777777778,
              "#fb9f3a"
             ],
             [
              0.8888888888888888,
              "#fdca26"
             ],
             [
              1,
              "#f0f921"
             ]
            ],
            "type": "histogram2dcontour"
           }
          ],
          "mesh3d": [
           {
            "colorbar": {
             "outlinewidth": 0,
             "ticks": ""
            },
            "type": "mesh3d"
           }
          ],
          "parcoords": [
           {
            "line": {
             "colorbar": {
              "outlinewidth": 0,
              "ticks": ""
             }
            },
            "type": "parcoords"
           }
          ],
          "pie": [
           {
            "automargin": true,
            "type": "pie"
           }
          ],
          "scatter": [
           {
            "fillpattern": {
             "fillmode": "overlay",
             "size": 10,
             "solidity": 0.2
            },
            "type": "scatter"
           }
          ],
          "scatter3d": [
           {
            "line": {
             "colorbar": {
              "outlinewidth": 0,
              "ticks": ""
             }
            },
            "marker": {
             "colorbar": {
              "outlinewidth": 0,
              "ticks": ""
             }
            },
            "type": "scatter3d"
           }
          ],
          "scattercarpet": [
           {
            "marker": {
             "colorbar": {
              "outlinewidth": 0,
              "ticks": ""
             }
            },
            "type": "scattercarpet"
           }
          ],
          "scattergeo": [
           {
            "marker": {
             "colorbar": {
              "outlinewidth": 0,
              "ticks": ""
             }
            },
            "type": "scattergeo"
           }
          ],
          "scattergl": [
           {
            "marker": {
             "colorbar": {
              "outlinewidth": 0,
              "ticks": ""
             }
            },
            "type": "scattergl"
           }
          ],
          "scattermapbox": [
           {
            "marker": {
             "colorbar": {
              "outlinewidth": 0,
              "ticks": ""
             }
            },
            "type": "scattermapbox"
           }
          ],
          "scatterpolar": [
           {
            "marker": {
             "colorbar": {
              "outlinewidth": 0,
              "ticks": ""
             }
            },
            "type": "scatterpolar"
           }
          ],
          "scatterpolargl": [
           {
            "marker": {
             "colorbar": {
              "outlinewidth": 0,
              "ticks": ""
             }
            },
            "type": "scatterpolargl"
           }
          ],
          "scatterternary": [
           {
            "marker": {
             "colorbar": {
              "outlinewidth": 0,
              "ticks": ""
             }
            },
            "type": "scatterternary"
           }
          ],
          "surface": [
           {
            "colorbar": {
             "outlinewidth": 0,
             "ticks": ""
            },
            "colorscale": [
             [
              0,
              "#0d0887"
             ],
             [
              0.1111111111111111,
              "#46039f"
             ],
             [
              0.2222222222222222,
              "#7201a8"
             ],
             [
              0.3333333333333333,
              "#9c179e"
             ],
             [
              0.4444444444444444,
              "#bd3786"
             ],
             [
              0.5555555555555556,
              "#d8576b"
             ],
             [
              0.6666666666666666,
              "#ed7953"
             ],
             [
              0.7777777777777778,
              "#fb9f3a"
             ],
             [
              0.8888888888888888,
              "#fdca26"
             ],
             [
              1,
              "#f0f921"
             ]
            ],
            "type": "surface"
           }
          ],
          "table": [
           {
            "cells": {
             "fill": {
              "color": "#EBF0F8"
             },
             "line": {
              "color": "white"
             }
            },
            "header": {
             "fill": {
              "color": "#C8D4E3"
             },
             "line": {
              "color": "white"
             }
            },
            "type": "table"
           }
          ]
         },
         "layout": {
          "annotationdefaults": {
           "arrowcolor": "#2a3f5f",
           "arrowhead": 0,
           "arrowwidth": 1
          },
          "autotypenumbers": "strict",
          "coloraxis": {
           "colorbar": {
            "outlinewidth": 0,
            "ticks": ""
           }
          },
          "colorscale": {
           "diverging": [
            [
             0,
             "#8e0152"
            ],
            [
             0.1,
             "#c51b7d"
            ],
            [
             0.2,
             "#de77ae"
            ],
            [
             0.3,
             "#f1b6da"
            ],
            [
             0.4,
             "#fde0ef"
            ],
            [
             0.5,
             "#f7f7f7"
            ],
            [
             0.6,
             "#e6f5d0"
            ],
            [
             0.7,
             "#b8e186"
            ],
            [
             0.8,
             "#7fbc41"
            ],
            [
             0.9,
             "#4d9221"
            ],
            [
             1,
             "#276419"
            ]
           ],
           "sequential": [
            [
             0,
             "#0d0887"
            ],
            [
             0.1111111111111111,
             "#46039f"
            ],
            [
             0.2222222222222222,
             "#7201a8"
            ],
            [
             0.3333333333333333,
             "#9c179e"
            ],
            [
             0.4444444444444444,
             "#bd3786"
            ],
            [
             0.5555555555555556,
             "#d8576b"
            ],
            [
             0.6666666666666666,
             "#ed7953"
            ],
            [
             0.7777777777777778,
             "#fb9f3a"
            ],
            [
             0.8888888888888888,
             "#fdca26"
            ],
            [
             1,
             "#f0f921"
            ]
           ],
           "sequentialminus": [
            [
             0,
             "#0d0887"
            ],
            [
             0.1111111111111111,
             "#46039f"
            ],
            [
             0.2222222222222222,
             "#7201a8"
            ],
            [
             0.3333333333333333,
             "#9c179e"
            ],
            [
             0.4444444444444444,
             "#bd3786"
            ],
            [
             0.5555555555555556,
             "#d8576b"
            ],
            [
             0.6666666666666666,
             "#ed7953"
            ],
            [
             0.7777777777777778,
             "#fb9f3a"
            ],
            [
             0.8888888888888888,
             "#fdca26"
            ],
            [
             1,
             "#f0f921"
            ]
           ]
          },
          "colorway": [
           "#636efa",
           "#EF553B",
           "#00cc96",
           "#ab63fa",
           "#FFA15A",
           "#19d3f3",
           "#FF6692",
           "#B6E880",
           "#FF97FF",
           "#FECB52"
          ],
          "font": {
           "color": "#2a3f5f"
          },
          "geo": {
           "bgcolor": "white",
           "lakecolor": "white",
           "landcolor": "#E5ECF6",
           "showlakes": true,
           "showland": true,
           "subunitcolor": "white"
          },
          "hoverlabel": {
           "align": "left"
          },
          "hovermode": "closest",
          "mapbox": {
           "style": "light"
          },
          "paper_bgcolor": "white",
          "plot_bgcolor": "#E5ECF6",
          "polar": {
           "angularaxis": {
            "gridcolor": "white",
            "linecolor": "white",
            "ticks": ""
           },
           "bgcolor": "#E5ECF6",
           "radialaxis": {
            "gridcolor": "white",
            "linecolor": "white",
            "ticks": ""
           }
          },
          "scene": {
           "xaxis": {
            "backgroundcolor": "#E5ECF6",
            "gridcolor": "white",
            "gridwidth": 2,
            "linecolor": "white",
            "showbackground": true,
            "ticks": "",
            "zerolinecolor": "white"
           },
           "yaxis": {
            "backgroundcolor": "#E5ECF6",
            "gridcolor": "white",
            "gridwidth": 2,
            "linecolor": "white",
            "showbackground": true,
            "ticks": "",
            "zerolinecolor": "white"
           },
           "zaxis": {
            "backgroundcolor": "#E5ECF6",
            "gridcolor": "white",
            "gridwidth": 2,
            "linecolor": "white",
            "showbackground": true,
            "ticks": "",
            "zerolinecolor": "white"
           }
          },
          "shapedefaults": {
           "line": {
            "color": "#2a3f5f"
           }
          },
          "ternary": {
           "aaxis": {
            "gridcolor": "white",
            "linecolor": "white",
            "ticks": ""
           },
           "baxis": {
            "gridcolor": "white",
            "linecolor": "white",
            "ticks": ""
           },
           "bgcolor": "#E5ECF6",
           "caxis": {
            "gridcolor": "white",
            "linecolor": "white",
            "ticks": ""
           }
          },
          "title": {
           "x": 0.05
          },
          "xaxis": {
           "automargin": true,
           "gridcolor": "white",
           "linecolor": "white",
           "ticks": "",
           "title": {
            "standoff": 15
           },
           "zerolinecolor": "white",
           "zerolinewidth": 2
          },
          "yaxis": {
           "automargin": true,
           "gridcolor": "white",
           "linecolor": "white",
           "ticks": "",
           "title": {
            "standoff": 15
           },
           "zerolinecolor": "white",
           "zerolinewidth": 2
          }
         }
        },
        "title": {
         "text": "Doanh Thu Theo "
        },
        "yaxis": {
         "title": {
          "text": "Siêu thị có doanh thu cao nhất trong 3 ngày"
         }
        }
       }
      },
      "text/html": [
       "<div>                            <div id=\"a0a4e24c-e8fb-4ba6-9fc9-686bb0342fd7\" class=\"plotly-graph-div\" style=\"height:525px; width:100%;\"></div>            <script type=\"text/javascript\">                require([\"plotly\"], function(Plotly) {                    window.PLOTLYENV=window.PLOTLYENV || {};                                    if (document.getElementById(\"a0a4e24c-e8fb-4ba6-9fc9-686bb0342fd7\")) {                    Plotly.newPlot(                        \"a0a4e24c-e8fb-4ba6-9fc9-686bb0342fd7\",                        [{\"marker\":{\"color\":\"green\",\"colorscale\":[[0.0,\"rgb(0,0,131)\"],[0.2,\"rgb(0,60,170)\"],[0.4,\"rgb(5,255,255)\"],[0.6,\"rgb(255,255,0)\"],[0.8,\"rgb(250,0,0)\"],[1.0,\"rgb(128,0,0)\"]]},\"name\":\"course\",\"x\":[\"\\u0110MS_KGI_CTH - Gi\\u1ee5c T\\u01b0\\u1ee3ng\",\"AVS_BPH_DXO - 1050 Ph\\u00fa Ri\\u1ec1ng \\u0110\\u1ecf\",\"AVS_HCM_TDU - 160A Nguy\\u1ec5n Th\\u1ecb \\u0110\\u1ecbnh\",\"AVS_HCM_TDU - 42 Tr\\u1ea7n N\\u00e3o\",\"AVS_HCM_BTA - 111 Nguy\\u1ec5n Th\\u1ecb T\\u00fa\",\"AVS_HCM_GVA - 527D Phan V\\u0103n Tr\\u1ecb\",\"AVS_HCM_TDU - 255 \\u0110\\u1ed7 Xu\\u00e2n H\\u1ee3p\",\"AVS_HCM_Q12 - 52 Nguy\\u1ec5n \\u1ea2nh Th\\u1ee7\",\"AVS_HCM_BTH - 173 X\\u00f4 Vi\\u1ebft Ngh\\u1ec7 T\\u0129nh\",\"AVS_HCM_Q08 - 496 D\\u01b0\\u01a1ng B\\u00e1 Tr\\u1ea1c\",\"AVS_HCM_BTA - 262 L\\u00ea V\\u0103n Qu\\u1edbi\"],\"y\":[1145000,25787000,58553000,62530000,77577000,81196000,105201000,106286000,116587000,129364000,147929000],\"type\":\"bar\"}],                        {\"template\":{\"data\":{\"barpolar\":[{\"marker\":{\"line\":{\"color\":\"#E5ECF6\",\"width\":0.5},\"pattern\":{\"fillmode\":\"overlay\",\"size\":10,\"solidity\":0.2}},\"type\":\"barpolar\"}],\"bar\":[{\"error_x\":{\"color\":\"#2a3f5f\"},\"error_y\":{\"color\":\"#2a3f5f\"},\"marker\":{\"line\":{\"color\":\"#E5ECF6\",\"width\":0.5},\"pattern\":{\"fillmode\":\"overlay\",\"size\":10,\"solidity\":0.2}},\"type\":\"bar\"}],\"carpet\":[{\"aaxis\":{\"endlinecolor\":\"#2a3f5f\",\"gridcolor\":\"white\",\"linecolor\":\"white\",\"minorgridcolor\":\"white\",\"startlinecolor\":\"#2a3f5f\"},\"baxis\":{\"endlinecolor\":\"#2a3f5f\",\"gridcolor\":\"white\",\"linecolor\":\"white\",\"minorgridcolor\":\"white\",\"startlinecolor\":\"#2a3f5f\"},\"type\":\"carpet\"}],\"choropleth\":[{\"colorbar\":{\"outlinewidth\":0,\"ticks\":\"\"},\"type\":\"choropleth\"}],\"contourcarpet\":[{\"colorbar\":{\"outlinewidth\":0,\"ticks\":\"\"},\"type\":\"contourcarpet\"}],\"contour\":[{\"colorbar\":{\"outlinewidth\":0,\"ticks\":\"\"},\"colorscale\":[[0.0,\"#0d0887\"],[0.1111111111111111,\"#46039f\"],[0.2222222222222222,\"#7201a8\"],[0.3333333333333333,\"#9c179e\"],[0.4444444444444444,\"#bd3786\"],[0.5555555555555556,\"#d8576b\"],[0.6666666666666666,\"#ed7953\"],[0.7777777777777778,\"#fb9f3a\"],[0.8888888888888888,\"#fdca26\"],[1.0,\"#f0f921\"]],\"type\":\"contour\"}],\"heatmapgl\":[{\"colorbar\":{\"outlinewidth\":0,\"ticks\":\"\"},\"colorscale\":[[0.0,\"#0d0887\"],[0.1111111111111111,\"#46039f\"],[0.2222222222222222,\"#7201a8\"],[0.3333333333333333,\"#9c179e\"],[0.4444444444444444,\"#bd3786\"],[0.5555555555555556,\"#d8576b\"],[0.6666666666666666,\"#ed7953\"],[0.7777777777777778,\"#fb9f3a\"],[0.8888888888888888,\"#fdca26\"],[1.0,\"#f0f921\"]],\"type\":\"heatmapgl\"}],\"heatmap\":[{\"colorbar\":{\"outlinewidth\":0,\"ticks\":\"\"},\"colorscale\":[[0.0,\"#0d0887\"],[0.1111111111111111,\"#46039f\"],[0.2222222222222222,\"#7201a8\"],[0.3333333333333333,\"#9c179e\"],[0.4444444444444444,\"#bd3786\"],[0.5555555555555556,\"#d8576b\"],[0.6666666666666666,\"#ed7953\"],[0.7777777777777778,\"#fb9f3a\"],[0.8888888888888888,\"#fdca26\"],[1.0,\"#f0f921\"]],\"type\":\"heatmap\"}],\"histogram2dcontour\":[{\"colorbar\":{\"outlinewidth\":0,\"ticks\":\"\"},\"colorscale\":[[0.0,\"#0d0887\"],[0.1111111111111111,\"#46039f\"],[0.2222222222222222,\"#7201a8\"],[0.3333333333333333,\"#9c179e\"],[0.4444444444444444,\"#bd3786\"],[0.5555555555555556,\"#d8576b\"],[0.6666666666666666,\"#ed7953\"],[0.7777777777777778,\"#fb9f3a\"],[0.8888888888888888,\"#fdca26\"],[1.0,\"#f0f921\"]],\"type\":\"histogram2dcontour\"}],\"histogram2d\":[{\"colorbar\":{\"outlinewidth\":0,\"ticks\":\"\"},\"colorscale\":[[0.0,\"#0d0887\"],[0.1111111111111111,\"#46039f\"],[0.2222222222222222,\"#7201a8\"],[0.3333333333333333,\"#9c179e\"],[0.4444444444444444,\"#bd3786\"],[0.5555555555555556,\"#d8576b\"],[0.6666666666666666,\"#ed7953\"],[0.7777777777777778,\"#fb9f3a\"],[0.8888888888888888,\"#fdca26\"],[1.0,\"#f0f921\"]],\"type\":\"histogram2d\"}],\"histogram\":[{\"marker\":{\"pattern\":{\"fillmode\":\"overlay\",\"size\":10,\"solidity\":0.2}},\"type\":\"histogram\"}],\"mesh3d\":[{\"colorbar\":{\"outlinewidth\":0,\"ticks\":\"\"},\"type\":\"mesh3d\"}],\"parcoords\":[{\"line\":{\"colorbar\":{\"outlinewidth\":0,\"ticks\":\"\"}},\"type\":\"parcoords\"}],\"pie\":[{\"automargin\":true,\"type\":\"pie\"}],\"scatter3d\":[{\"line\":{\"colorbar\":{\"outlinewidth\":0,\"ticks\":\"\"}},\"marker\":{\"colorbar\":{\"outlinewidth\":0,\"ticks\":\"\"}},\"type\":\"scatter3d\"}],\"scattercarpet\":[{\"marker\":{\"colorbar\":{\"outlinewidth\":0,\"ticks\":\"\"}},\"type\":\"scattercarpet\"}],\"scattergeo\":[{\"marker\":{\"colorbar\":{\"outlinewidth\":0,\"ticks\":\"\"}},\"type\":\"scattergeo\"}],\"scattergl\":[{\"marker\":{\"colorbar\":{\"outlinewidth\":0,\"ticks\":\"\"}},\"type\":\"scattergl\"}],\"scattermapbox\":[{\"marker\":{\"colorbar\":{\"outlinewidth\":0,\"ticks\":\"\"}},\"type\":\"scattermapbox\"}],\"scatterpolargl\":[{\"marker\":{\"colorbar\":{\"outlinewidth\":0,\"ticks\":\"\"}},\"type\":\"scatterpolargl\"}],\"scatterpolar\":[{\"marker\":{\"colorbar\":{\"outlinewidth\":0,\"ticks\":\"\"}},\"type\":\"scatterpolar\"}],\"scatter\":[{\"fillpattern\":{\"fillmode\":\"overlay\",\"size\":10,\"solidity\":0.2},\"type\":\"scatter\"}],\"scatterternary\":[{\"marker\":{\"colorbar\":{\"outlinewidth\":0,\"ticks\":\"\"}},\"type\":\"scatterternary\"}],\"surface\":[{\"colorbar\":{\"outlinewidth\":0,\"ticks\":\"\"},\"colorscale\":[[0.0,\"#0d0887\"],[0.1111111111111111,\"#46039f\"],[0.2222222222222222,\"#7201a8\"],[0.3333333333333333,\"#9c179e\"],[0.4444444444444444,\"#bd3786\"],[0.5555555555555556,\"#d8576b\"],[0.6666666666666666,\"#ed7953\"],[0.7777777777777778,\"#fb9f3a\"],[0.8888888888888888,\"#fdca26\"],[1.0,\"#f0f921\"]],\"type\":\"surface\"}],\"table\":[{\"cells\":{\"fill\":{\"color\":\"#EBF0F8\"},\"line\":{\"color\":\"white\"}},\"header\":{\"fill\":{\"color\":\"#C8D4E3\"},\"line\":{\"color\":\"white\"}},\"type\":\"table\"}]},\"layout\":{\"annotationdefaults\":{\"arrowcolor\":\"#2a3f5f\",\"arrowhead\":0,\"arrowwidth\":1},\"autotypenumbers\":\"strict\",\"coloraxis\":{\"colorbar\":{\"outlinewidth\":0,\"ticks\":\"\"}},\"colorscale\":{\"diverging\":[[0,\"#8e0152\"],[0.1,\"#c51b7d\"],[0.2,\"#de77ae\"],[0.3,\"#f1b6da\"],[0.4,\"#fde0ef\"],[0.5,\"#f7f7f7\"],[0.6,\"#e6f5d0\"],[0.7,\"#b8e186\"],[0.8,\"#7fbc41\"],[0.9,\"#4d9221\"],[1,\"#276419\"]],\"sequential\":[[0.0,\"#0d0887\"],[0.1111111111111111,\"#46039f\"],[0.2222222222222222,\"#7201a8\"],[0.3333333333333333,\"#9c179e\"],[0.4444444444444444,\"#bd3786\"],[0.5555555555555556,\"#d8576b\"],[0.6666666666666666,\"#ed7953\"],[0.7777777777777778,\"#fb9f3a\"],[0.8888888888888888,\"#fdca26\"],[1.0,\"#f0f921\"]],\"sequentialminus\":[[0.0,\"#0d0887\"],[0.1111111111111111,\"#46039f\"],[0.2222222222222222,\"#7201a8\"],[0.3333333333333333,\"#9c179e\"],[0.4444444444444444,\"#bd3786\"],[0.5555555555555556,\"#d8576b\"],[0.6666666666666666,\"#ed7953\"],[0.7777777777777778,\"#fb9f3a\"],[0.8888888888888888,\"#fdca26\"],[1.0,\"#f0f921\"]]},\"colorway\":[\"#636efa\",\"#EF553B\",\"#00cc96\",\"#ab63fa\",\"#FFA15A\",\"#19d3f3\",\"#FF6692\",\"#B6E880\",\"#FF97FF\",\"#FECB52\"],\"font\":{\"color\":\"#2a3f5f\"},\"geo\":{\"bgcolor\":\"white\",\"lakecolor\":\"white\",\"landcolor\":\"#E5ECF6\",\"showlakes\":true,\"showland\":true,\"subunitcolor\":\"white\"},\"hoverlabel\":{\"align\":\"left\"},\"hovermode\":\"closest\",\"mapbox\":{\"style\":\"light\"},\"paper_bgcolor\":\"white\",\"plot_bgcolor\":\"#E5ECF6\",\"polar\":{\"angularaxis\":{\"gridcolor\":\"white\",\"linecolor\":\"white\",\"ticks\":\"\"},\"bgcolor\":\"#E5ECF6\",\"radialaxis\":{\"gridcolor\":\"white\",\"linecolor\":\"white\",\"ticks\":\"\"}},\"scene\":{\"xaxis\":{\"backgroundcolor\":\"#E5ECF6\",\"gridcolor\":\"white\",\"gridwidth\":2,\"linecolor\":\"white\",\"showbackground\":true,\"ticks\":\"\",\"zerolinecolor\":\"white\"},\"yaxis\":{\"backgroundcolor\":\"#E5ECF6\",\"gridcolor\":\"white\",\"gridwidth\":2,\"linecolor\":\"white\",\"showbackground\":true,\"ticks\":\"\",\"zerolinecolor\":\"white\"},\"zaxis\":{\"backgroundcolor\":\"#E5ECF6\",\"gridcolor\":\"white\",\"gridwidth\":2,\"linecolor\":\"white\",\"showbackground\":true,\"ticks\":\"\",\"zerolinecolor\":\"white\"}},\"shapedefaults\":{\"line\":{\"color\":\"#2a3f5f\"}},\"ternary\":{\"aaxis\":{\"gridcolor\":\"white\",\"linecolor\":\"white\",\"ticks\":\"\"},\"baxis\":{\"gridcolor\":\"white\",\"linecolor\":\"white\",\"ticks\":\"\"},\"bgcolor\":\"#E5ECF6\",\"caxis\":{\"gridcolor\":\"white\",\"linecolor\":\"white\",\"ticks\":\"\"}},\"title\":{\"x\":0.05},\"xaxis\":{\"automargin\":true,\"gridcolor\":\"white\",\"linecolor\":\"white\",\"ticks\":\"\",\"title\":{\"standoff\":15},\"zerolinecolor\":\"white\",\"zerolinewidth\":2},\"yaxis\":{\"automargin\":true,\"gridcolor\":\"white\",\"linecolor\":\"white\",\"ticks\":\"\",\"title\":{\"standoff\":15},\"zerolinecolor\":\"white\",\"zerolinewidth\":2}}},\"title\":{\"text\":\"Doanh Thu Theo \"},\"yaxis\":{\"title\":{\"text\":\"Si\\u00eau th\\u1ecb c\\u00f3 doanh thu cao nh\\u1ea5t trong 3 ng\\u00e0y\"}}},                        {\"responsive\": true}                    ).then(function(){\n",
       "                            \n",
       "var gd = document.getElementById('a0a4e24c-e8fb-4ba6-9fc9-686bb0342fd7');\n",
       "var x = new MutationObserver(function (mutations, observer) {{\n",
       "        var display = window.getComputedStyle(gd).display;\n",
       "        if (!display || display === 'none') {{\n",
       "            console.log([gd, 'removed!']);\n",
       "            Plotly.purge(gd);\n",
       "            observer.disconnect();\n",
       "        }}\n",
       "}});\n",
       "\n",
       "// Listen for the removal of the full notebook cells\n",
       "var notebookContainer = gd.closest('#notebook-container');\n",
       "if (notebookContainer) {{\n",
       "    x.observe(notebookContainer, {childList: true});\n",
       "}}\n",
       "\n",
       "// Listen for the clearing of the current output cell\n",
       "var outputEl = gd.closest('.output');\n",
       "if (outputEl) {{\n",
       "    x.observe(outputEl, {childList: true});\n",
       "}}\n",
       "\n",
       "                        })                };                });            </script>        </div>"
      ]
     },
     "metadata": {},
     "output_type": "display_data"
    }
   ],
   "source": [
    "trace = go.Bar(\n",
    "    x=Q10.index,\n",
    "    y=Q10.values,\n",
    "    name='course',\n",
    "    marker=dict(\n",
    "        color='green',\n",
    "        colorscale = \"Jet\"))\n",
    "data = [trace]\n",
    "layout = go.Layout(\n",
    "    title='Doanh Thu Theo ', \n",
    "    yaxis = dict(title = 'Siêu thị có doanh thu cao nhất trong 3 ngày')\n",
    ")\n",
    "\n",
    "fig = go.Figure(data=data, layout=layout)\n",
    "py.iplot(fig)"
   ]
  },
  {
   "cell_type": "markdown",
   "metadata": {
    "id": "fDlUqXmBAJjS"
   },
   "source": [
    "# 4) Xây dựng dashboard"
   ]
  },
  {
   "cell_type": "code",
   "execution_count": 46,
   "metadata": {},
   "outputs": [],
   "source": [
    "# Import thư viện cần thiêt\n",
    "import dash \n",
    "import dash_bootstrap_components as dbc\n",
    "from dash import dcc, html, callback\n",
    "from dash.dependencies import Input, Output, State\n",
    "from dash_bootstrap_templates import load_figure_template\n",
    "from datetime import date\n",
    "import pandas as pd\n",
    "import plotly.express as px\n",
    "import plotly.graph_objects as go\n",
    "import plotly.offline as py"
   ]
  },
  {
   "cell_type": "code",
   "execution_count": 47,
   "metadata": {},
   "outputs": [],
   "source": [
    "app = dash.Dash(__name__, external_stylesheets=[dbc.themes.VAPOR,dbc.icons.BOOTSTRAP])\n",
    "load_figure_template('VAPOR')"
   ]
  },
  {
   "cell_type": "code",
   "execution_count": 48,
   "metadata": {},
   "outputs": [],
   "source": [
    "#Pie chart\n",
    "colors = ['aqua','lightgreen']\n",
    "label = df[\"Nhóm hàng\"].value_counts().index\n",
    "size = df[\"Nhóm hàng\"].value_counts().values\n",
    "trace = go.Pie(labels=label, \n",
    "               values=size,\n",
    "               marker=dict(colors=colors))\n",
    "data = [trace]\n",
    "layout = go.Layout()\n",
    "fig = go.Figure(data=data, layout=layout)\n",
    "\n",
    "#Top 5 chart\n",
    "colors = ['aqua', 'lightgrey', 'lightgreen', '#D0F9B1', 'khaki', 'grey']\n",
    "Q2 = df['Nhà sản xuất'].value_counts()\n",
    "label = Q2.index[:5]\n",
    "size = Q2.values[:5]\n",
    "trace1 = go.Bar(x=label, \n",
    "               y=size, \n",
    "              marker=dict(\n",
    "        color=colors,\n",
    "        colorscale = \"Jet\"))\n",
    "data = [trace1]\n",
    "fig1 = go.Figure(data=data, layout=layout)\n",
    "\n",
    "#Doang Thu Chart\n",
    "colors_dt = ['#ffa600', '#ff6361', '#bc5090','#58508d']\n",
    "df['Dates'] = pd.to_datetime(df['Ngày tạo']).dt.date\n",
    "df['Time'] = pd.to_datetime(df['Ngày tạo']).dt.time\n",
    "df['Dates'] = df['Dates'].astype('string')\n",
    "a = df.loc[df['Dates'] == \"2022-06-02\"]\n",
    "b = df.loc[df['Dates'] == \"2022-06-03\"]\n",
    "c = df.loc[df['Dates'] == \"2022-06-04\"]\n",
    "\n",
    "trace = go.Bar(\n",
    "    x=a['Đã thu'].groupby(a['Nhóm hàng']).sum().index,\n",
    "    y=a['Đã thu'].groupby(a['Nhóm hàng']).sum().values,\n",
    "    name='course',\n",
    "    marker=dict(\n",
    "        color=colors_dt,\n",
    "        colorscale = \"Jet\"))\n",
    "data = [trace]\n",
    "layout = go.Layout(\n",
    "    title='Doanh Thu Theo Nhóm Hàng Ngày 4/6/2022', \n",
    "    yaxis = dict(title = 'Doanh Thu (TRIỆU VND)')\n",
    ")\n",
    "fig_ngay2 = go.Figure(data=data,layout=layout)\n",
    "\n",
    "trace1 = go.Bar(\n",
    "    x=b['Đã thu'].groupby(b['Nhóm hàng']).sum().index,\n",
    "    y=b['Đã thu'].groupby(b['Nhóm hàng']).sum().values,\n",
    "    name='course',\n",
    "    marker=dict(\n",
    "        color=colors_dt,\n",
    "        colorscale = \"Jet\"))\n",
    "data1 = [trace1]\n",
    "layout1 = go.Layout(\n",
    "    title='Doanh Thu Theo Nhóm Hàng Ngày 3/6/2022', \n",
    "    yaxis = dict(title = 'Doanh Thu (TRIỆU VND)')\n",
    ")\n",
    "fig_ngay3 = go.Figure(data=data1, layout=layout1)\n",
    "\n",
    "trace2 = go.Bar(\n",
    "    x=c['Đã thu'].groupby(c['Nhóm hàng']).sum().index,\n",
    "    y=c['Đã thu'].groupby(c['Nhóm hàng']).sum().values,\n",
    "    name='course',\n",
    "    marker=dict(\n",
    "        color=colors_dt,\n",
    "        colorscale = \"Jet\"))\n",
    "data2 = [trace2]\n",
    "layout2 = go.Layout(\n",
    "    title='Doanh Thu Theo Nhóm Hàng Ngày 4/6/2022', \n",
    "    yaxis = dict(title = 'Doanh Thu (TRIỆU VND)')\n",
    ")\n",
    "fig_ngay4 = go.Figure(data=data2, layout=layout2)\n",
    "\n",
    "#Doanh Thu Siêu Thị\n",
    "colors_st = ['#003f5c','#58508d','#bc5090','#ff6361','#ffa600','#00876c','#6aaa96','#aecdc2','#f1f1f1','#f0b8b8','#e67f83','#d43d51']\n",
    "Q10 = df['Đã thu'].groupby(df['Siêu thị xuất']).sum().sort_values()\n",
    "trace3 = go.Bar(\n",
    "    x=Q10.index,\n",
    "    y=Q10.values,\n",
    "    name='course',\n",
    "    marker=dict(\n",
    "        color= colors_st,\n",
    "        colorscale = \"Jet\"))\n",
    "data3 = [trace3]\n",
    "layout = go.Layout(\n",
    "    yaxis = dict(title = 'Doanh Thu (TRIỆU VNĐ)')\n",
    ")\n",
    "fig_sieuthi = go.Figure(data=data3, layout=layout)\n"
   ]
  },
  {
   "cell_type": "code",
   "execution_count": 49,
   "metadata": {},
   "outputs": [],
   "source": [
    "app.layout = html.Div([\n",
    "    #Header\n",
    "    html.Div([\n",
    "        html.H2(\"Doanh Số Bán Hàng Của Cửa Hàng AVA\"),\n",
    "        html.Img(src=\"/assets/stock-icon.png\")\n",
    "    ], className=\"banner\"),\n",
    "    \n",
    "    #Body\n",
    "    html.Div([\n",
    "        html.Label(['Chọn Ngày:'],style = {'font-weight': 'bold','font-size': 25,'padding-top': '8px'}),\n",
    "        dcc.Dropdown(\n",
    "                id=\"dates\",\n",
    "                options = [\n",
    "                    {'label': '02/06/2022', 'value': 1}, \n",
    "                    {'label': '03/06/2022', 'value': 2},\n",
    "                    {'label': '04/06/2022', 'value': 3},\n",
    "                ],\n",
    "                value='02/06/2022',\n",
    "                placeholder = \"02/06/2022\",\n",
    "                multi=False,\n",
    "                clearable=False,\n",
    "            ),\n",
    "        dcc.Graph(id='doanh_thu_chart'),\n",
    "        html.Label(['Doanh Thu Các Siêu Thị Trong 3 ngày'],style = {'font-weight': 'bold','font-size': 25,'padding-top': '15px'}),\n",
    "        dcc.Graph(id=\"sieuthi\",figure = fig_sieuthi),\n",
    "    ],className=\"rightcontainer\"),\n",
    "    html.Div([\n",
    "        html.Label(['Tổng Quan Thông Tin Đơn Hàng:'],style = {'font-weight': 'bold','font-size': 25,'font-size': 25,'padding-top': '15px'}),\n",
    "        html.Div([\n",
    "            dcc.Dropdown(\n",
    "                id='my_dropdown',\n",
    "                options=[\n",
    "                        {'label': 'Siêu thị xuất', 'value': 'Siêu thị xuất'}, \n",
    "                        {'label': 'Hình thức xuất', 'value': 'Hình thức xuất'},\n",
    "                        {'label': 'Hình thức giao hàng', 'value': 'Hình thức giao hàng'},\n",
    "                        {'label': 'Hình thức thanh toán', 'value': 'Hình thức thanh toán'},\n",
    "                        {'label': 'Onlineline/Cửa Hàng', 'value': 'Onlineline/Cửa Hàng'},\n",
    "                        {'label': 'Nguồn Đặt Hàng', 'value': 'Nguồn Đặt Hàng'},\n",
    "                        {'label': 'Tỉnh', 'value': 'Tỉnh'},\n",
    "                        {'label': 'Tạo từ', 'value': 'Tạo từ'},\n",
    "                ],\n",
    "                value='Siêu thị xuất',\n",
    "                multi=False,\n",
    "                clearable=False,\n",
    "            ),\n",
    "        ],style={\"width\": \"35%\"}),\n",
    "        \n",
    "        html.Div([\n",
    "            dcc.Graph(id='the_graph')\n",
    "        ],className=\"container\"), \n",
    "        \n",
    "        html.Div([\n",
    "            html.Label(['Top 5 Nhà Sản Xuất Được Ưu Chuộng Nhất'],style = {'font-weight': 'bold','font-size': 25,'padding-top': '15px'}),\n",
    "            dcc.Graph(id=\"2\",figure= fig1)\n",
    "        ],className=\"top5\")\n",
    "    ],className=\"six columns\"),\n",
    "])\n",
    "\n",
    "#Callback\n",
    "@app.callback(\n",
    "    Output(component_id='doanh_thu_chart', component_property='figure'), \n",
    "    [Input(component_id='dates',component_property= 'value')]\n",
    ")\n",
    "\n",
    "def update_graph(dates):\n",
    "    if dates == 3:\n",
    "        return fig_ngay4\n",
    "    elif dates == 2:\n",
    "        return fig_ngay3\n",
    "    else: \n",
    "        return fig_ngay2\n",
    "\n",
    "@app.callback(\n",
    "    Output(component_id='the_graph', component_property='figure'),\n",
    "    [Input(component_id='my_dropdown', component_property='value')]\n",
    ")\n",
    "\n",
    "def update_graph(my_dropdown):\n",
    "    dff = df\n",
    "\n",
    "    piechart=px.pie(\n",
    "            data_frame=dff,\n",
    "            names=my_dropdown,\n",
    "            )\n",
    "\n",
    "    return (piechart)"
   ]
  },
  {
   "cell_type": "code",
   "execution_count": 50,
   "metadata": {},
   "outputs": [
    {
     "name": "stdout",
     "output_type": "stream",
     "text": [
      "Dash is running on http://127.0.0.1:8050/\n",
      "\n",
      " * Serving Flask app \"__main__\" (lazy loading)\n",
      " * Environment: production\n",
      "\u001b[31m   WARNING: This is a development server. Do not use it in a production deployment.\u001b[0m\n",
      "\u001b[2m   Use a production WSGI server instead.\u001b[0m\n",
      " * Debug mode: on\n"
     ]
    }
   ],
   "source": [
    "if __name__ == '__main__':\n",
    "    app.run_server(debug=True, use_reloader=False) "
   ]
  },
  {
   "cell_type": "code",
   "execution_count": null,
   "metadata": {},
   "outputs": [],
   "source": []
  }
 ],
 "metadata": {
  "colab": {
   "provenance": []
  },
  "kernelspec": {
   "display_name": "Python 3 (ipykernel)",
   "language": "python",
   "name": "python3"
  },
  "language_info": {
   "codemirror_mode": {
    "name": "ipython",
    "version": 3
   },
   "file_extension": ".py",
   "mimetype": "text/x-python",
   "name": "python",
   "nbconvert_exporter": "python",
   "pygments_lexer": "ipython3",
   "version": "3.9.13"
  },
  "vscode": {
   "interpreter": {
    "hash": "5951e350517f67bd9f71e3ee99293a990f7d3b635fd583d356ddaae05dc8dcbc"
   }
  }
 },
 "nbformat": 4,
 "nbformat_minor": 1
}
